{
 "cells": [
  {
   "cell_type": "markdown",
   "metadata": {},
   "source": [
    "## Import doctor review dataset and gender dataset"
   ]
  },
  {
   "cell_type": "code",
   "execution_count": 1,
   "metadata": {},
   "outputs": [],
   "source": [
    "import pandas as pd\n",
    "import matplotlib.pyplot as plt\n",
    "import seaborn as sns\n",
    "import numpy as np"
   ]
  },
  {
   "cell_type": "code",
   "execution_count": 2,
   "metadata": {},
   "outputs": [],
   "source": [
    "path = \"/Users/chongchen/Desktop/19Fall RA/data/generated_data/Internal Medicine Review.csv\"\n",
    "review_im = pd.read_csv(path, index_col = 0)"
   ]
  },
  {
   "cell_type": "code",
   "execution_count": 3,
   "metadata": {
    "scrolled": true
   },
   "outputs": [
    {
     "data": {
      "text/html": [
       "<div>\n",
       "<style scoped>\n",
       "    .dataframe tbody tr th:only-of-type {\n",
       "        vertical-align: middle;\n",
       "    }\n",
       "\n",
       "    .dataframe tbody tr th {\n",
       "        vertical-align: top;\n",
       "    }\n",
       "\n",
       "    .dataframe thead th {\n",
       "        text-align: right;\n",
       "    }\n",
       "</style>\n",
       "<table border=\"1\" class=\"dataframe\">\n",
       "  <thead>\n",
       "    <tr style=\"text-align: right;\">\n",
       "      <th></th>\n",
       "      <th>Review</th>\n",
       "      <th>hp_id</th>\n",
       "      <th>gender</th>\n",
       "      <th>hasorder</th>\n",
       "      <th>lower</th>\n",
       "      <th>no_digits</th>\n",
       "      <th>no_punctuation</th>\n",
       "      <th>words</th>\n",
       "    </tr>\n",
       "  </thead>\n",
       "  <tbody>\n",
       "    <tr>\n",
       "      <th>0</th>\n",
       "      <td>satisfactory but would not recommend coldness,...</td>\n",
       "      <td>19713</td>\n",
       "      <td>F</td>\n",
       "      <td>0</td>\n",
       "      <td>satisfactory but would not recommend coldness,...</td>\n",
       "      <td>satisfactory but would not recommend coldness,...</td>\n",
       "      <td>satisfactory but would not recommend coldness ...</td>\n",
       "      <td>['satisfactory', 'recommend', 'coldness', 'sol...</td>\n",
       "    </tr>\n",
       "    <tr>\n",
       "      <th>1</th>\n",
       "      <td>Although Dr. Merlo does not appear to have an...</td>\n",
       "      <td>19713</td>\n",
       "      <td>F</td>\n",
       "      <td>0</td>\n",
       "      <td>although dr. merlo does not appear to have an...</td>\n",
       "      <td>although dr. merlo does not appear to have an...</td>\n",
       "      <td>although dr  merlo does not appear to have an...</td>\n",
       "      <td>['although', 'dr', 'merlo', 'appear', 'office'...</td>\n",
       "    </tr>\n",
       "    <tr>\n",
       "      <th>2</th>\n",
       "      <td>took my daughter for problems, never examined...</td>\n",
       "      <td>19713</td>\n",
       "      <td>F</td>\n",
       "      <td>0</td>\n",
       "      <td>took my daughter for problems, never examined...</td>\n",
       "      <td>took my daughter for problems, never examined...</td>\n",
       "      <td>took my daughter for problems  never examined...</td>\n",
       "      <td>['took', 'daughter', 'problems', 'never', 'exa...</td>\n",
       "    </tr>\n",
       "    <tr>\n",
       "      <th>3</th>\n",
       "      <td>Yes, Dr. Merlot can be rude and arrogant, but...</td>\n",
       "      <td>19713</td>\n",
       "      <td>F</td>\n",
       "      <td>0</td>\n",
       "      <td>yes, dr. merlot can be rude and arrogant, but...</td>\n",
       "      <td>yes, dr. merlot can be rude and arrogant, but...</td>\n",
       "      <td>yes  dr  merlot can be rude and arrogant  but...</td>\n",
       "      <td>['yes', 'dr', 'merlot', 'rude', 'arrogant', 'o...</td>\n",
       "    </tr>\n",
       "    <tr>\n",
       "      <th>4</th>\n",
       "      <td>I called to make and appointment and a woman ...</td>\n",
       "      <td>19713</td>\n",
       "      <td>F</td>\n",
       "      <td>0</td>\n",
       "      <td>i called to make and appointment and a woman ...</td>\n",
       "      <td>i called to make and appointment and a woman ...</td>\n",
       "      <td>i called to make and appointment and a woman ...</td>\n",
       "      <td>['called', 'make', 'appointment', 'woman', 'ca...</td>\n",
       "    </tr>\n",
       "  </tbody>\n",
       "</table>\n",
       "</div>"
      ],
      "text/plain": [
       "                                              Review  hp_id gender  hasorder  \\\n",
       "0  satisfactory but would not recommend coldness,...  19713      F         0   \n",
       "1   Although Dr. Merlo does not appear to have an...  19713      F         0   \n",
       "2   took my daughter for problems, never examined...  19713      F         0   \n",
       "3   Yes, Dr. Merlot can be rude and arrogant, but...  19713      F         0   \n",
       "4   I called to make and appointment and a woman ...  19713      F         0   \n",
       "\n",
       "                                               lower  \\\n",
       "0  satisfactory but would not recommend coldness,...   \n",
       "1   although dr. merlo does not appear to have an...   \n",
       "2   took my daughter for problems, never examined...   \n",
       "3   yes, dr. merlot can be rude and arrogant, but...   \n",
       "4   i called to make and appointment and a woman ...   \n",
       "\n",
       "                                           no_digits  \\\n",
       "0  satisfactory but would not recommend coldness,...   \n",
       "1   although dr. merlo does not appear to have an...   \n",
       "2   took my daughter for problems, never examined...   \n",
       "3   yes, dr. merlot can be rude and arrogant, but...   \n",
       "4   i called to make and appointment and a woman ...   \n",
       "\n",
       "                                      no_punctuation  \\\n",
       "0  satisfactory but would not recommend coldness ...   \n",
       "1   although dr  merlo does not appear to have an...   \n",
       "2   took my daughter for problems  never examined...   \n",
       "3   yes  dr  merlot can be rude and arrogant  but...   \n",
       "4   i called to make and appointment and a woman ...   \n",
       "\n",
       "                                               words  \n",
       "0  ['satisfactory', 'recommend', 'coldness', 'sol...  \n",
       "1  ['although', 'dr', 'merlo', 'appear', 'office'...  \n",
       "2  ['took', 'daughter', 'problems', 'never', 'exa...  \n",
       "3  ['yes', 'dr', 'merlot', 'rude', 'arrogant', 'o...  \n",
       "4  ['called', 'make', 'appointment', 'woman', 'ca...  "
      ]
     },
     "execution_count": 3,
     "metadata": {},
     "output_type": "execute_result"
    }
   ],
   "source": [
    "review_im.head()"
   ]
  },
  {
   "cell_type": "code",
   "execution_count": 4,
   "metadata": {},
   "outputs": [],
   "source": [
    "# drop records without review\n",
    "review_im.drop(review_im[review_im['Review'] == ' '].index, inplace = True)\n",
    "review_im.reset_index(inplace = True, drop = True)"
   ]
  },
  {
   "cell_type": "code",
   "execution_count": 5,
   "metadata": {},
   "outputs": [
    {
     "data": {
      "text/plain": [
       "\"['satisfactory', 'recommend', 'coldness', 'solo', 'helpfulness', 'limited', 'office', 'staff', 'isolation', 'diagnosis', 'solo']\""
      ]
     },
     "execution_count": 5,
     "metadata": {},
     "output_type": "execute_result"
    }
   ],
   "source": [
    "review_im['words'][0]"
   ]
  },
  {
   "cell_type": "code",
   "execution_count": 6,
   "metadata": {},
   "outputs": [],
   "source": [
    "import ast\n",
    "review_im['words'] = review_im['words'].map(lambda x: ast.literal_eval(x))"
   ]
  },
  {
   "cell_type": "code",
   "execution_count": 7,
   "metadata": {},
   "outputs": [
    {
     "data": {
      "text/plain": [
       "['satisfactory',\n",
       " 'recommend',\n",
       " 'coldness',\n",
       " 'solo',\n",
       " 'helpfulness',\n",
       " 'limited',\n",
       " 'office',\n",
       " 'staff',\n",
       " 'isolation',\n",
       " 'diagnosis',\n",
       " 'solo']"
      ]
     },
     "execution_count": 7,
     "metadata": {},
     "output_type": "execute_result"
    }
   ],
   "source": [
    "review_im['words'][0]"
   ]
  },
  {
   "cell_type": "code",
   "execution_count": 8,
   "metadata": {
    "scrolled": true
   },
   "outputs": [
    {
     "data": {
      "text/html": [
       "<div>\n",
       "<style scoped>\n",
       "    .dataframe tbody tr th:only-of-type {\n",
       "        vertical-align: middle;\n",
       "    }\n",
       "\n",
       "    .dataframe tbody tr th {\n",
       "        vertical-align: top;\n",
       "    }\n",
       "\n",
       "    .dataframe thead th {\n",
       "        text-align: right;\n",
       "    }\n",
       "</style>\n",
       "<table border=\"1\" class=\"dataframe\">\n",
       "  <thead>\n",
       "    <tr style=\"text-align: right;\">\n",
       "      <th></th>\n",
       "      <th>Review</th>\n",
       "      <th>hp_id</th>\n",
       "      <th>gender</th>\n",
       "      <th>hasorder</th>\n",
       "      <th>lower</th>\n",
       "      <th>no_digits</th>\n",
       "      <th>no_punctuation</th>\n",
       "      <th>words</th>\n",
       "    </tr>\n",
       "  </thead>\n",
       "  <tbody>\n",
       "    <tr>\n",
       "      <th>0</th>\n",
       "      <td>satisfactory but would not recommend coldness,...</td>\n",
       "      <td>19713</td>\n",
       "      <td>F</td>\n",
       "      <td>0</td>\n",
       "      <td>satisfactory but would not recommend coldness,...</td>\n",
       "      <td>satisfactory but would not recommend coldness,...</td>\n",
       "      <td>satisfactory but would not recommend coldness ...</td>\n",
       "      <td>[satisfactory, recommend, coldness, solo, help...</td>\n",
       "    </tr>\n",
       "    <tr>\n",
       "      <th>1</th>\n",
       "      <td>Although Dr. Merlo does not appear to have an...</td>\n",
       "      <td>19713</td>\n",
       "      <td>F</td>\n",
       "      <td>0</td>\n",
       "      <td>although dr. merlo does not appear to have an...</td>\n",
       "      <td>although dr. merlo does not appear to have an...</td>\n",
       "      <td>although dr  merlo does not appear to have an...</td>\n",
       "      <td>[although, dr, merlo, appear, office, staff, m...</td>\n",
       "    </tr>\n",
       "    <tr>\n",
       "      <th>2</th>\n",
       "      <td>took my daughter for problems, never examined...</td>\n",
       "      <td>19713</td>\n",
       "      <td>F</td>\n",
       "      <td>0</td>\n",
       "      <td>took my daughter for problems, never examined...</td>\n",
       "      <td>took my daughter for problems, never examined...</td>\n",
       "      <td>took my daughter for problems  never examined...</td>\n",
       "      <td>[took, daughter, problems, never, examined, un...</td>\n",
       "    </tr>\n",
       "    <tr>\n",
       "      <th>3</th>\n",
       "      <td>Yes, Dr. Merlot can be rude and arrogant, but...</td>\n",
       "      <td>19713</td>\n",
       "      <td>F</td>\n",
       "      <td>0</td>\n",
       "      <td>yes, dr. merlot can be rude and arrogant, but...</td>\n",
       "      <td>yes, dr. merlot can be rude and arrogant, but...</td>\n",
       "      <td>yes  dr  merlot can be rude and arrogant  but...</td>\n",
       "      <td>[yes, dr, merlot, rude, arrogant, one, gastroe...</td>\n",
       "    </tr>\n",
       "    <tr>\n",
       "      <th>4</th>\n",
       "      <td>I called to make and appointment and a woman ...</td>\n",
       "      <td>19713</td>\n",
       "      <td>F</td>\n",
       "      <td>0</td>\n",
       "      <td>i called to make and appointment and a woman ...</td>\n",
       "      <td>i called to make and appointment and a woman ...</td>\n",
       "      <td>i called to make and appointment and a woman ...</td>\n",
       "      <td>[called, make, appointment, woman, calling, ma...</td>\n",
       "    </tr>\n",
       "  </tbody>\n",
       "</table>\n",
       "</div>"
      ],
      "text/plain": [
       "                                              Review  hp_id gender  hasorder  \\\n",
       "0  satisfactory but would not recommend coldness,...  19713      F         0   \n",
       "1   Although Dr. Merlo does not appear to have an...  19713      F         0   \n",
       "2   took my daughter for problems, never examined...  19713      F         0   \n",
       "3   Yes, Dr. Merlot can be rude and arrogant, but...  19713      F         0   \n",
       "4   I called to make and appointment and a woman ...  19713      F         0   \n",
       "\n",
       "                                               lower  \\\n",
       "0  satisfactory but would not recommend coldness,...   \n",
       "1   although dr. merlo does not appear to have an...   \n",
       "2   took my daughter for problems, never examined...   \n",
       "3   yes, dr. merlot can be rude and arrogant, but...   \n",
       "4   i called to make and appointment and a woman ...   \n",
       "\n",
       "                                           no_digits  \\\n",
       "0  satisfactory but would not recommend coldness,...   \n",
       "1   although dr. merlo does not appear to have an...   \n",
       "2   took my daughter for problems, never examined...   \n",
       "3   yes, dr. merlot can be rude and arrogant, but...   \n",
       "4   i called to make and appointment and a woman ...   \n",
       "\n",
       "                                      no_punctuation  \\\n",
       "0  satisfactory but would not recommend coldness ...   \n",
       "1   although dr  merlo does not appear to have an...   \n",
       "2   took my daughter for problems  never examined...   \n",
       "3   yes  dr  merlot can be rude and arrogant  but...   \n",
       "4   i called to make and appointment and a woman ...   \n",
       "\n",
       "                                               words  \n",
       "0  [satisfactory, recommend, coldness, solo, help...  \n",
       "1  [although, dr, merlo, appear, office, staff, m...  \n",
       "2  [took, daughter, problems, never, examined, un...  \n",
       "3  [yes, dr, merlot, rude, arrogant, one, gastroe...  \n",
       "4  [called, make, appointment, woman, calling, ma...  "
      ]
     },
     "execution_count": 8,
     "metadata": {},
     "output_type": "execute_result"
    }
   ],
   "source": [
    "review_im.head()"
   ]
  },
  {
   "cell_type": "markdown",
   "metadata": {},
   "source": [
    "#### Add lable to the review based on gender & sanction"
   ]
  },
  {
   "cell_type": "code",
   "execution_count": 16,
   "metadata": {},
   "outputs": [],
   "source": [
    "review_im['label']=0"
   ]
  },
  {
   "cell_type": "code",
   "execution_count": 27,
   "metadata": {},
   "outputs": [],
   "source": [
    "review_im['label'][np.logical_and(review_im['gender']=='F',review_im['hasorder']==0)] = 'F0'"
   ]
  },
  {
   "cell_type": "code",
   "execution_count": 28,
   "metadata": {},
   "outputs": [],
   "source": [
    "review_im['label'][np.logical_and(review_im['gender']=='M',review_im['hasorder']==0)] = 'M0'"
   ]
  },
  {
   "cell_type": "code",
   "execution_count": 29,
   "metadata": {},
   "outputs": [],
   "source": [
    "review_im['label'][np.logical_and(review_im['gender']=='F',review_im['hasorder']==1)] = 'F1'"
   ]
  },
  {
   "cell_type": "code",
   "execution_count": 30,
   "metadata": {},
   "outputs": [],
   "source": [
    "review_im['label'][np.logical_and(review_im['gender']=='M',review_im['hasorder']==1)] = 'M1'"
   ]
  },
  {
   "cell_type": "code",
   "execution_count": 31,
   "metadata": {},
   "outputs": [
    {
     "data": {
      "text/html": [
       "<div>\n",
       "<style scoped>\n",
       "    .dataframe tbody tr th:only-of-type {\n",
       "        vertical-align: middle;\n",
       "    }\n",
       "\n",
       "    .dataframe tbody tr th {\n",
       "        vertical-align: top;\n",
       "    }\n",
       "\n",
       "    .dataframe thead th {\n",
       "        text-align: right;\n",
       "    }\n",
       "</style>\n",
       "<table border=\"1\" class=\"dataframe\">\n",
       "  <thead>\n",
       "    <tr style=\"text-align: right;\">\n",
       "      <th></th>\n",
       "      <th>Review</th>\n",
       "      <th>hp_id</th>\n",
       "      <th>gender</th>\n",
       "      <th>hasorder</th>\n",
       "      <th>lower</th>\n",
       "      <th>no_digits</th>\n",
       "      <th>no_punctuation</th>\n",
       "      <th>words</th>\n",
       "      <th>label</th>\n",
       "    </tr>\n",
       "  </thead>\n",
       "  <tbody>\n",
       "    <tr>\n",
       "      <th>0</th>\n",
       "      <td>satisfactory but would not recommend coldness,...</td>\n",
       "      <td>19713</td>\n",
       "      <td>F</td>\n",
       "      <td>0</td>\n",
       "      <td>satisfactory but would not recommend coldness,...</td>\n",
       "      <td>satisfactory but would not recommend coldness,...</td>\n",
       "      <td>satisfactory but would not recommend coldness ...</td>\n",
       "      <td>[satisfactory, recommend, coldness, solo, help...</td>\n",
       "      <td>F0</td>\n",
       "    </tr>\n",
       "    <tr>\n",
       "      <th>1</th>\n",
       "      <td>Although Dr. Merlo does not appear to have an...</td>\n",
       "      <td>19713</td>\n",
       "      <td>F</td>\n",
       "      <td>0</td>\n",
       "      <td>although dr. merlo does not appear to have an...</td>\n",
       "      <td>although dr. merlo does not appear to have an...</td>\n",
       "      <td>although dr  merlo does not appear to have an...</td>\n",
       "      <td>[although, dr, merlo, appear, office, staff, m...</td>\n",
       "      <td>F0</td>\n",
       "    </tr>\n",
       "    <tr>\n",
       "      <th>2</th>\n",
       "      <td>took my daughter for problems, never examined...</td>\n",
       "      <td>19713</td>\n",
       "      <td>F</td>\n",
       "      <td>0</td>\n",
       "      <td>took my daughter for problems, never examined...</td>\n",
       "      <td>took my daughter for problems, never examined...</td>\n",
       "      <td>took my daughter for problems  never examined...</td>\n",
       "      <td>[took, daughter, problems, never, examined, un...</td>\n",
       "      <td>F0</td>\n",
       "    </tr>\n",
       "    <tr>\n",
       "      <th>3</th>\n",
       "      <td>Yes, Dr. Merlot can be rude and arrogant, but...</td>\n",
       "      <td>19713</td>\n",
       "      <td>F</td>\n",
       "      <td>0</td>\n",
       "      <td>yes, dr. merlot can be rude and arrogant, but...</td>\n",
       "      <td>yes, dr. merlot can be rude and arrogant, but...</td>\n",
       "      <td>yes  dr  merlot can be rude and arrogant  but...</td>\n",
       "      <td>[yes, dr, merlot, rude, arrogant, one, gastroe...</td>\n",
       "      <td>F0</td>\n",
       "    </tr>\n",
       "    <tr>\n",
       "      <th>4</th>\n",
       "      <td>I called to make and appointment and a woman ...</td>\n",
       "      <td>19713</td>\n",
       "      <td>F</td>\n",
       "      <td>0</td>\n",
       "      <td>i called to make and appointment and a woman ...</td>\n",
       "      <td>i called to make and appointment and a woman ...</td>\n",
       "      <td>i called to make and appointment and a woman ...</td>\n",
       "      <td>[called, make, appointment, woman, calling, ma...</td>\n",
       "      <td>F0</td>\n",
       "    </tr>\n",
       "    <tr>\n",
       "      <th>5</th>\n",
       "      <td>I, unfortunately,treated with Dr.Merlo severa...</td>\n",
       "      <td>19713</td>\n",
       "      <td>F</td>\n",
       "      <td>0</td>\n",
       "      <td>i, unfortunately,treated with dr.merlo severa...</td>\n",
       "      <td>i, unfortunately,treated with dr.merlo severa...</td>\n",
       "      <td>i  unfortunately treated with dr merlo severa...</td>\n",
       "      <td>[unfortunately, treated, dr, merlo, several, y...</td>\n",
       "      <td>F0</td>\n",
       "    </tr>\n",
       "    <tr>\n",
       "      <th>6</th>\n",
       "      <td>I can't tell you if she's a good or bad docto...</td>\n",
       "      <td>19713</td>\n",
       "      <td>F</td>\n",
       "      <td>0</td>\n",
       "      <td>i can't tell you if she's a good or bad docto...</td>\n",
       "      <td>i can't tell you if she's a good or bad docto...</td>\n",
       "      <td>i can t tell you if she s a good or bad docto...</td>\n",
       "      <td>[tell, good, bad, doctor, anything, prove, one...</td>\n",
       "      <td>F0</td>\n",
       "    </tr>\n",
       "    <tr>\n",
       "      <th>7</th>\n",
       "      <td>Yesterday my partner had an upper endoscopy d...</td>\n",
       "      <td>19713</td>\n",
       "      <td>F</td>\n",
       "      <td>0</td>\n",
       "      <td>yesterday my partner had an upper endoscopy d...</td>\n",
       "      <td>yesterday my partner had an upper endoscopy d...</td>\n",
       "      <td>yesterday my partner had an upper endoscopy d...</td>\n",
       "      <td>[yesterday, partner, upper, endoscopy, done, d...</td>\n",
       "      <td>F0</td>\n",
       "    </tr>\n",
       "    <tr>\n",
       "      <th>8</th>\n",
       "      <td>Very arrogant and rude. Went in with a previo...</td>\n",
       "      <td>19713</td>\n",
       "      <td>F</td>\n",
       "      <td>0</td>\n",
       "      <td>very arrogant and rude. went in with a previo...</td>\n",
       "      <td>very arrogant and rude. went in with a previo...</td>\n",
       "      <td>very arrogant and rude  went in with a previo...</td>\n",
       "      <td>[arrogant, rude, went, previously, diagnosed, ...</td>\n",
       "      <td>F0</td>\n",
       "    </tr>\n",
       "    <tr>\n",
       "      <th>9</th>\n",
       "      <td>She files insurance for me even though I have...</td>\n",
       "      <td>19713</td>\n",
       "      <td>F</td>\n",
       "      <td>0</td>\n",
       "      <td>she files insurance for me even though i have...</td>\n",
       "      <td>she files insurance for me even though i have...</td>\n",
       "      <td>she files insurance for me even though i have...</td>\n",
       "      <td>[files, insurance, even, though, traditional, ...</td>\n",
       "      <td>F0</td>\n",
       "    </tr>\n",
       "    <tr>\n",
       "      <th>10</th>\n",
       "      <td>After scheduling 2 appts. (for a husband and ...</td>\n",
       "      <td>19713</td>\n",
       "      <td>F</td>\n",
       "      <td>0</td>\n",
       "      <td>after scheduling 2 appts. (for a husband and ...</td>\n",
       "      <td>after scheduling  appts. (for a husband and w...</td>\n",
       "      <td>after scheduling  appts   for a husband and w...</td>\n",
       "      <td>[scheduling, appts, husband, wife, immediate, ...</td>\n",
       "      <td>F0</td>\n",
       "    </tr>\n",
       "    <tr>\n",
       "      <th>11</th>\n",
       "      <td>I have been going to Dr. Mittleman for the pas...</td>\n",
       "      <td>587845</td>\n",
       "      <td>M</td>\n",
       "      <td>0</td>\n",
       "      <td>i have been going to dr. mittleman for the pas...</td>\n",
       "      <td>i have been going to dr. mittleman for the pas...</td>\n",
       "      <td>i have been going to dr  mittleman for the pas...</td>\n",
       "      <td>[going, dr, mittleman, past, years, caring, at...</td>\n",
       "      <td>M0</td>\n",
       "    </tr>\n",
       "    <tr>\n",
       "      <th>12</th>\n",
       "      <td>Dr. Mittleman is friendly, non-threatening, n...</td>\n",
       "      <td>587845</td>\n",
       "      <td>M</td>\n",
       "      <td>0</td>\n",
       "      <td>dr. mittleman is friendly, non-threatening, n...</td>\n",
       "      <td>dr. mittleman is friendly, non-threatening, n...</td>\n",
       "      <td>dr  mittleman is friendly  non threatening  n...</td>\n",
       "      <td>[dr, mittleman, friendly, non, threatening, ne...</td>\n",
       "      <td>M0</td>\n",
       "    </tr>\n",
       "    <tr>\n",
       "      <th>13</th>\n",
       "      <td>Dr. Mittleman has been my primary physician f...</td>\n",
       "      <td>587845</td>\n",
       "      <td>M</td>\n",
       "      <td>0</td>\n",
       "      <td>dr. mittleman has been my primary physician f...</td>\n",
       "      <td>dr. mittleman has been my primary physician f...</td>\n",
       "      <td>dr  mittleman has been my primary physician f...</td>\n",
       "      <td>[dr, mittleman, primary, physician, many, year...</td>\n",
       "      <td>M0</td>\n",
       "    </tr>\n",
       "    <tr>\n",
       "      <th>14</th>\n",
       "      <td>I've been Dr. Mittleman for years. He's very ...</td>\n",
       "      <td>587845</td>\n",
       "      <td>M</td>\n",
       "      <td>0</td>\n",
       "      <td>i've been dr. mittleman for years. he's very ...</td>\n",
       "      <td>i've been dr. mittleman for years. he's very ...</td>\n",
       "      <td>i ve been dr  mittleman for years  he s very ...</td>\n",
       "      <td>[dr, mittleman, years, attentive, patients, al...</td>\n",
       "      <td>M0</td>\n",
       "    </tr>\n",
       "    <tr>\n",
       "      <th>15</th>\n",
       "      <td>This man had the patience of a saint when he ...</td>\n",
       "      <td>587845</td>\n",
       "      <td>M</td>\n",
       "      <td>0</td>\n",
       "      <td>this man had the patience of a saint when he ...</td>\n",
       "      <td>this man had the patience of a saint when he ...</td>\n",
       "      <td>this man had the patience of a saint when he ...</td>\n",
       "      <td>[man, patience, saint, took, care, wife, amp, ...</td>\n",
       "      <td>M0</td>\n",
       "    </tr>\n",
       "    <tr>\n",
       "      <th>16</th>\n",
       "      <td>Very poor. I took my uncle to him and he was ...</td>\n",
       "      <td>587845</td>\n",
       "      <td>M</td>\n",
       "      <td>0</td>\n",
       "      <td>very poor. i took my uncle to him and he was ...</td>\n",
       "      <td>very poor. i took my uncle to him and he was ...</td>\n",
       "      <td>very poor  i took my uncle to him and he was ...</td>\n",
       "      <td>[poor, took, uncle, rude, short, completely, u...</td>\n",
       "      <td>M0</td>\n",
       "    </tr>\n",
       "    <tr>\n",
       "      <th>17</th>\n",
       "      <td>Very caring and helpful! I had a BMI of 41 an...</td>\n",
       "      <td>587845</td>\n",
       "      <td>M</td>\n",
       "      <td>0</td>\n",
       "      <td>very caring and helpful! i had a bmi of 41 an...</td>\n",
       "      <td>very caring and helpful! i had a bmi of  and ...</td>\n",
       "      <td>very caring and helpful  i had a bmi of  and ...</td>\n",
       "      <td>[caring, helpful, bmi, jump, throat, weight, a...</td>\n",
       "      <td>M0</td>\n",
       "    </tr>\n",
       "    <tr>\n",
       "      <th>18</th>\n",
       "      <td>Dr. Mittleman never makes you feel rushed and...</td>\n",
       "      <td>587845</td>\n",
       "      <td>M</td>\n",
       "      <td>0</td>\n",
       "      <td>dr. mittleman never makes you feel rushed and...</td>\n",
       "      <td>dr. mittleman never makes you feel rushed and...</td>\n",
       "      <td>dr  mittleman never makes you feel rushed and...</td>\n",
       "      <td>[dr, mittleman, never, makes, feel, rushed, tr...</td>\n",
       "      <td>M0</td>\n",
       "    </tr>\n",
       "    <tr>\n",
       "      <th>19</th>\n",
       "      <td>Dr Mittleman is an excellent MD. He is caring...</td>\n",
       "      <td>587845</td>\n",
       "      <td>M</td>\n",
       "      <td>0</td>\n",
       "      <td>dr mittleman is an excellent md. he is caring...</td>\n",
       "      <td>dr mittleman is an excellent md. he is caring...</td>\n",
       "      <td>dr mittleman is an excellent md  he is caring...</td>\n",
       "      <td>[dr, mittleman, excellent, md, caring, compass...</td>\n",
       "      <td>M0</td>\n",
       "    </tr>\n",
       "    <tr>\n",
       "      <th>20</th>\n",
       "      <td>What I like most about Dr. Brandies is that sh...</td>\n",
       "      <td>1026482</td>\n",
       "      <td>F</td>\n",
       "      <td>0</td>\n",
       "      <td>what i like most about dr. brandies is that sh...</td>\n",
       "      <td>what i like most about dr. brandies is that sh...</td>\n",
       "      <td>what i like most about dr  brandies is that sh...</td>\n",
       "      <td>[dr, brandies, jump, treating, every, ache, am...</td>\n",
       "      <td>F0</td>\n",
       "    </tr>\n",
       "    <tr>\n",
       "      <th>21</th>\n",
       "      <td>I've used Dr. Brandies as my doctor for over ...</td>\n",
       "      <td>1026482</td>\n",
       "      <td>F</td>\n",
       "      <td>0</td>\n",
       "      <td>i've used dr. brandies as my doctor for over ...</td>\n",
       "      <td>i've used dr. brandies as my doctor for over ...</td>\n",
       "      <td>i ve used dr  brandies as my doctor for over ...</td>\n",
       "      <td>[used, dr, brandies, doctor, years, knowledgea...</td>\n",
       "      <td>F0</td>\n",
       "    </tr>\n",
       "    <tr>\n",
       "      <th>22</th>\n",
       "      <td>I did not find her compassionate at all; in f...</td>\n",
       "      <td>1026482</td>\n",
       "      <td>F</td>\n",
       "      <td>0</td>\n",
       "      <td>i did not find her compassionate at all; in f...</td>\n",
       "      <td>i did not find her compassionate at all; in f...</td>\n",
       "      <td>i did not find her compassionate at all  in f...</td>\n",
       "      <td>[find, compassionate, fact, judgmental, rude, ...</td>\n",
       "      <td>F0</td>\n",
       "    </tr>\n",
       "    <tr>\n",
       "      <th>23</th>\n",
       "      <td>Excellent doctor with a great 'bedside manner...</td>\n",
       "      <td>1026482</td>\n",
       "      <td>F</td>\n",
       "      <td>0</td>\n",
       "      <td>excellent doctor with a great 'bedside manner...</td>\n",
       "      <td>excellent doctor with a great 'bedside manner...</td>\n",
       "      <td>excellent doctor with a great  bedside manner...</td>\n",
       "      <td>[excellent, doctor, great, bedside, manner, pa...</td>\n",
       "      <td>F0</td>\n",
       "    </tr>\n",
       "    <tr>\n",
       "      <th>24</th>\n",
       "      <td>I love Dr. Brandies! She truly is a great doc...</td>\n",
       "      <td>1026482</td>\n",
       "      <td>F</td>\n",
       "      <td>0</td>\n",
       "      <td>i love dr. brandies! she truly is a great doc...</td>\n",
       "      <td>i love dr. brandies! she truly is a great doc...</td>\n",
       "      <td>i love dr  brandies  she truly is a great doc...</td>\n",
       "      <td>[love, dr, brandies, truly, great, doctor, lis...</td>\n",
       "      <td>F0</td>\n",
       "    </tr>\n",
       "    <tr>\n",
       "      <th>25</th>\n",
       "      <td>I can't say enough good things about Dr. Bran...</td>\n",
       "      <td>1026482</td>\n",
       "      <td>F</td>\n",
       "      <td>0</td>\n",
       "      <td>i can't say enough good things about dr. bran...</td>\n",
       "      <td>i can't say enough good things about dr. bran...</td>\n",
       "      <td>i can t say enough good things about dr  bran...</td>\n",
       "      <td>[say, enough, good, things, dr, brandies, comp...</td>\n",
       "      <td>F0</td>\n",
       "    </tr>\n",
       "    <tr>\n",
       "      <th>26</th>\n",
       "      <td>Dr. Brandies always takes the time to listen ...</td>\n",
       "      <td>1026482</td>\n",
       "      <td>F</td>\n",
       "      <td>0</td>\n",
       "      <td>dr. brandies always takes the time to listen ...</td>\n",
       "      <td>dr. brandies always takes the time to listen ...</td>\n",
       "      <td>dr  brandies always takes the time to listen ...</td>\n",
       "      <td>[dr, brandies, always, takes, time, listen, pr...</td>\n",
       "      <td>F0</td>\n",
       "    </tr>\n",
       "    <tr>\n",
       "      <th>27</th>\n",
       "      <td>Dr Brandies is very thoughtful. She listens t...</td>\n",
       "      <td>1026482</td>\n",
       "      <td>F</td>\n",
       "      <td>0</td>\n",
       "      <td>dr brandies is very thoughtful. she listens t...</td>\n",
       "      <td>dr brandies is very thoughtful. she listens t...</td>\n",
       "      <td>dr brandies is very thoughtful  she listens t...</td>\n",
       "      <td>[dr, brandies, thoughtful, listens, everything...</td>\n",
       "      <td>F0</td>\n",
       "    </tr>\n",
       "    <tr>\n",
       "      <th>28</th>\n",
       "      <td>Dr. Brandies is a dedicated physician who lis...</td>\n",
       "      <td>1026482</td>\n",
       "      <td>F</td>\n",
       "      <td>0</td>\n",
       "      <td>dr. brandies is a dedicated physician who lis...</td>\n",
       "      <td>dr. brandies is a dedicated physician who lis...</td>\n",
       "      <td>dr  brandies is a dedicated physician who lis...</td>\n",
       "      <td>[dr, brandies, dedicated, physician, listens, ...</td>\n",
       "      <td>F0</td>\n",
       "    </tr>\n",
       "    <tr>\n",
       "      <th>29</th>\n",
       "      <td>It is ocassionally hard to get an appointment...</td>\n",
       "      <td>1026482</td>\n",
       "      <td>F</td>\n",
       "      <td>0</td>\n",
       "      <td>it is ocassionally hard to get an appointment...</td>\n",
       "      <td>it is ocassionally hard to get an appointment...</td>\n",
       "      <td>it is ocassionally hard to get an appointment...</td>\n",
       "      <td>[ocassionally, hard, appointment, doctor, prac...</td>\n",
       "      <td>F0</td>\n",
       "    </tr>\n",
       "    <tr>\n",
       "      <th>...</th>\n",
       "      <td>...</td>\n",
       "      <td>...</td>\n",
       "      <td>...</td>\n",
       "      <td>...</td>\n",
       "      <td>...</td>\n",
       "      <td>...</td>\n",
       "      <td>...</td>\n",
       "      <td>...</td>\n",
       "      <td>...</td>\n",
       "    </tr>\n",
       "    <tr>\n",
       "      <th>87845</th>\n",
       "      <td>My first experience with this doctor was when ...</td>\n",
       "      <td>188148</td>\n",
       "      <td>M</td>\n",
       "      <td>0</td>\n",
       "      <td>my first experience with this doctor was when ...</td>\n",
       "      <td>my first experience with this doctor was when ...</td>\n",
       "      <td>my first experience with this doctor was when ...</td>\n",
       "      <td>[first, experience, doctor, arrived, urgent, c...</td>\n",
       "      <td>M0</td>\n",
       "    </tr>\n",
       "    <tr>\n",
       "      <th>87846</th>\n",
       "      <td>This doctor is perpetually in a languid mood....</td>\n",
       "      <td>188148</td>\n",
       "      <td>M</td>\n",
       "      <td>0</td>\n",
       "      <td>this doctor is perpetually in a languid mood....</td>\n",
       "      <td>this doctor is perpetually in a languid mood....</td>\n",
       "      <td>this doctor is perpetually in a languid mood ...</td>\n",
       "      <td>[doctor, perpetually, languid, mood, treats, p...</td>\n",
       "      <td>M0</td>\n",
       "    </tr>\n",
       "    <tr>\n",
       "      <th>87847</th>\n",
       "      <td>Very Attentive</td>\n",
       "      <td>1239152</td>\n",
       "      <td>M</td>\n",
       "      <td>0</td>\n",
       "      <td>very attentive</td>\n",
       "      <td>very attentive</td>\n",
       "      <td>very attentive</td>\n",
       "      <td>[attentive]</td>\n",
       "      <td>M0</td>\n",
       "    </tr>\n",
       "    <tr>\n",
       "      <th>87848</th>\n",
       "      <td>An excellent physician. A good diagnostician. ...</td>\n",
       "      <td>879980</td>\n",
       "      <td>M</td>\n",
       "      <td>0</td>\n",
       "      <td>an excellent physician. a good diagnostician. ...</td>\n",
       "      <td>an excellent physician. a good diagnostician. ...</td>\n",
       "      <td>an excellent physician  a good diagnostician  ...</td>\n",
       "      <td>[excellent, physician, good, diagnostician, ca...</td>\n",
       "      <td>M0</td>\n",
       "    </tr>\n",
       "    <tr>\n",
       "      <th>87849</th>\n",
       "      <td>always booked and very hard to get an appoint...</td>\n",
       "      <td>879980</td>\n",
       "      <td>M</td>\n",
       "      <td>0</td>\n",
       "      <td>always booked and very hard to get an appoint...</td>\n",
       "      <td>always booked and very hard to get an appoint...</td>\n",
       "      <td>always booked and very hard to get an appoint...</td>\n",
       "      <td>[always, booked, hard, appointment]</td>\n",
       "      <td>M0</td>\n",
       "    </tr>\n",
       "    <tr>\n",
       "      <th>87850</th>\n",
       "      <td>I found him to be very thorough and smart and...</td>\n",
       "      <td>879980</td>\n",
       "      <td>M</td>\n",
       "      <td>0</td>\n",
       "      <td>i found him to be very thorough and smart and...</td>\n",
       "      <td>i found him to be very thorough and smart and...</td>\n",
       "      <td>i found him to be very thorough and smart and...</td>\n",
       "      <td>[found, thorough, smart, responsive, diagnosed...</td>\n",
       "      <td>M0</td>\n",
       "    </tr>\n",
       "    <tr>\n",
       "      <th>87851</th>\n",
       "      <td>I found him thorough and caring and he is gre...</td>\n",
       "      <td>879980</td>\n",
       "      <td>M</td>\n",
       "      <td>0</td>\n",
       "      <td>i found him thorough and caring and he is gre...</td>\n",
       "      <td>i found him thorough and caring and he is gre...</td>\n",
       "      <td>i found him thorough and caring and he is gre...</td>\n",
       "      <td>[found, thorough, caring, great, following, pa...</td>\n",
       "      <td>M0</td>\n",
       "    </tr>\n",
       "    <tr>\n",
       "      <th>87852</th>\n",
       "      <td>Excellent doctor, in terms of skill, knowledge...</td>\n",
       "      <td>1336864</td>\n",
       "      <td>M</td>\n",
       "      <td>0</td>\n",
       "      <td>excellent doctor, in terms of skill, knowledge...</td>\n",
       "      <td>excellent doctor, in terms of skill, knowledge...</td>\n",
       "      <td>excellent doctor  in terms of skill  knowledge...</td>\n",
       "      <td>[excellent, doctor, terms, skill, knowledge, b...</td>\n",
       "      <td>M0</td>\n",
       "    </tr>\n",
       "    <tr>\n",
       "      <th>87853</th>\n",
       "      <td>This doctor was unable to complete the colonos...</td>\n",
       "      <td>868723</td>\n",
       "      <td>M</td>\n",
       "      <td>0</td>\n",
       "      <td>this doctor was unable to complete the colonos...</td>\n",
       "      <td>this doctor was unable to complete the colonos...</td>\n",
       "      <td>this doctor was unable to complete the colonos...</td>\n",
       "      <td>[doctor, unable, complete, colonoscopy, amount...</td>\n",
       "      <td>M0</td>\n",
       "    </tr>\n",
       "    <tr>\n",
       "      <th>87854</th>\n",
       "      <td></td>\n",
       "      <td>868723</td>\n",
       "      <td>M</td>\n",
       "      <td>0</td>\n",
       "      <td></td>\n",
       "      <td></td>\n",
       "      <td></td>\n",
       "      <td>[]</td>\n",
       "      <td>M0</td>\n",
       "    </tr>\n",
       "    <tr>\n",
       "      <th>87855</th>\n",
       "      <td>best all time Dr. She takes care of my mother ...</td>\n",
       "      <td>711194</td>\n",
       "      <td>F</td>\n",
       "      <td>0</td>\n",
       "      <td>best all time dr. she takes care of my mother ...</td>\n",
       "      <td>best all time dr. she takes care of my mother ...</td>\n",
       "      <td>best all time dr  she takes care of my mother ...</td>\n",
       "      <td>[best, time, dr, takes, care, mother, law, dau...</td>\n",
       "      <td>F0</td>\n",
       "    </tr>\n",
       "    <tr>\n",
       "      <th>87856</th>\n",
       "      <td>I have been going to her for over 12 years. s...</td>\n",
       "      <td>711194</td>\n",
       "      <td>F</td>\n",
       "      <td>0</td>\n",
       "      <td>i have been going to her for over 12 years. s...</td>\n",
       "      <td>i have been going to her for over  years. she...</td>\n",
       "      <td>i have been going to her for over  years  she...</td>\n",
       "      <td>[going, years, one, professional, caring, doct...</td>\n",
       "      <td>F0</td>\n",
       "    </tr>\n",
       "    <tr>\n",
       "      <th>87857</th>\n",
       "      <td>My whole family had been going to see her for...</td>\n",
       "      <td>711194</td>\n",
       "      <td>F</td>\n",
       "      <td>0</td>\n",
       "      <td>my whole family had been going to see her for...</td>\n",
       "      <td>my whole family had been going to see her for...</td>\n",
       "      <td>my whole family had been going to see her for...</td>\n",
       "      <td>[whole, family, going, see, years, gotten, bad...</td>\n",
       "      <td>F0</td>\n",
       "    </tr>\n",
       "    <tr>\n",
       "      <th>87858</th>\n",
       "      <td>Exquisite diagnostician! Dr. Myaing was the li...</td>\n",
       "      <td>211646</td>\n",
       "      <td>M</td>\n",
       "      <td>0</td>\n",
       "      <td>exquisite diagnostician! dr. myaing was the li...</td>\n",
       "      <td>exquisite diagnostician! dr. myaing was the li...</td>\n",
       "      <td>exquisite diagnostician  dr  myaing was the li...</td>\n",
       "      <td>[exquisite, diagnostician, dr, myaing, lirst, ...</td>\n",
       "      <td>M0</td>\n",
       "    </tr>\n",
       "    <tr>\n",
       "      <th>87859</th>\n",
       "      <td>I have always found Dr. Myaing to be extremel...</td>\n",
       "      <td>211646</td>\n",
       "      <td>M</td>\n",
       "      <td>0</td>\n",
       "      <td>i have always found dr. myaing to be extremel...</td>\n",
       "      <td>i have always found dr. myaing to be extremel...</td>\n",
       "      <td>i have always found dr  myaing to be extremel...</td>\n",
       "      <td>[always, found, dr, myaing, extremely, thoroug...</td>\n",
       "      <td>M0</td>\n",
       "    </tr>\n",
       "    <tr>\n",
       "      <th>87860</th>\n",
       "      <td>Dr. Rickles is helpful, informative and consid...</td>\n",
       "      <td>9685</td>\n",
       "      <td>M</td>\n",
       "      <td>0</td>\n",
       "      <td>dr. rickles is helpful, informative and consid...</td>\n",
       "      <td>dr. rickles is helpful, informative and consid...</td>\n",
       "      <td>dr  rickles is helpful  informative and consid...</td>\n",
       "      <td>[dr, rickles, helpful, informative, considerat...</td>\n",
       "      <td>M0</td>\n",
       "    </tr>\n",
       "    <tr>\n",
       "      <th>87861</th>\n",
       "      <td>Dr. Rickles is very caring and knowledgeable....</td>\n",
       "      <td>9685</td>\n",
       "      <td>M</td>\n",
       "      <td>0</td>\n",
       "      <td>dr. rickles is very caring and knowledgeable....</td>\n",
       "      <td>dr. rickles is very caring and knowledgeable....</td>\n",
       "      <td>dr  rickles is very caring and knowledgeable ...</td>\n",
       "      <td>[dr, rickles, caring, knowledgeable, conversan...</td>\n",
       "      <td>M0</td>\n",
       "    </tr>\n",
       "    <tr>\n",
       "      <th>87862</th>\n",
       "      <td>Very knowledgeable; warm and sympathetic. I u...</td>\n",
       "      <td>9685</td>\n",
       "      <td>M</td>\n",
       "      <td>0</td>\n",
       "      <td>very knowledgeable; warm and sympathetic. i u...</td>\n",
       "      <td>very knowledgeable; warm and sympathetic. i u...</td>\n",
       "      <td>very knowledgeable  warm and sympathetic  i u...</td>\n",
       "      <td>[knowledgeable, warm, sympathetic, used, go, a...</td>\n",
       "      <td>M0</td>\n",
       "    </tr>\n",
       "    <tr>\n",
       "      <th>87863</th>\n",
       "      <td>A kind and caring doctor. Extremely knowledge...</td>\n",
       "      <td>9685</td>\n",
       "      <td>M</td>\n",
       "      <td>0</td>\n",
       "      <td>a kind and caring doctor. extremely knowledge...</td>\n",
       "      <td>a kind and caring doctor. extremely knowledge...</td>\n",
       "      <td>a kind and caring doctor  extremely knowledge...</td>\n",
       "      <td>[kind, caring, doctor, extremely, knowledgeable]</td>\n",
       "      <td>M0</td>\n",
       "    </tr>\n",
       "    <tr>\n",
       "      <th>87864</th>\n",
       "      <td>blamed me (the patient) for the dambing diffi...</td>\n",
       "      <td>9685</td>\n",
       "      <td>M</td>\n",
       "      <td>0</td>\n",
       "      <td>blamed me (the patient) for the dambing diffi...</td>\n",
       "      <td>blamed me (the patient) for the dambing diffi...</td>\n",
       "      <td>blamed me  the patient  for the dambing diffi...</td>\n",
       "      <td>[blamed, patient, dambing, difficulty, getting...</td>\n",
       "      <td>M0</td>\n",
       "    </tr>\n",
       "    <tr>\n",
       "      <th>87865</th>\n",
       "      <td>I was very disappointed with this doctor. He s...</td>\n",
       "      <td>1036394</td>\n",
       "      <td>M</td>\n",
       "      <td>0</td>\n",
       "      <td>i was very disappointed with this doctor. he s...</td>\n",
       "      <td>i was very disappointed with this doctor. he s...</td>\n",
       "      <td>i was very disappointed with this doctor  he s...</td>\n",
       "      <td>[disappointed, doctor, seemed, aloof, conversa...</td>\n",
       "      <td>M0</td>\n",
       "    </tr>\n",
       "    <tr>\n",
       "      <th>87866</th>\n",
       "      <td>Above average. Some room for improvement.</td>\n",
       "      <td>425150</td>\n",
       "      <td>M</td>\n",
       "      <td>0</td>\n",
       "      <td>above average. some room for improvement.</td>\n",
       "      <td>above average. some room for improvement.</td>\n",
       "      <td>above average  some room for improvement</td>\n",
       "      <td>[average, room, improvement]</td>\n",
       "      <td>M0</td>\n",
       "    </tr>\n",
       "    <tr>\n",
       "      <th>87867</th>\n",
       "      <td>Saw him several times for liver disease -- he'...</td>\n",
       "      <td>818326</td>\n",
       "      <td>M</td>\n",
       "      <td>0</td>\n",
       "      <td>saw him several times for liver disease -- he'...</td>\n",
       "      <td>saw him several times for liver disease -- he'...</td>\n",
       "      <td>saw him several times for liver disease    he ...</td>\n",
       "      <td>[saw, several, times, liver, disease, affable,...</td>\n",
       "      <td>M0</td>\n",
       "    </tr>\n",
       "    <tr>\n",
       "      <th>87868</th>\n",
       "      <td>Thoughtful and understanding. He is intereste...</td>\n",
       "      <td>818326</td>\n",
       "      <td>M</td>\n",
       "      <td>0</td>\n",
       "      <td>thoughtful and understanding. he is intereste...</td>\n",
       "      <td>thoughtful and understanding. he is intereste...</td>\n",
       "      <td>thoughtful and understanding  he is intereste...</td>\n",
       "      <td>[thoughtful, understanding, interested, proble...</td>\n",
       "      <td>M0</td>\n",
       "    </tr>\n",
       "    <tr>\n",
       "      <th>87869</th>\n",
       "      <td>dr. Foster has been excellent, she has hapled ...</td>\n",
       "      <td>1049044</td>\n",
       "      <td>F</td>\n",
       "      <td>0</td>\n",
       "      <td>dr. foster has been excellent, she has hapled ...</td>\n",
       "      <td>dr. foster has been excellent, she has hapled ...</td>\n",
       "      <td>dr  foster has been excellent  she has hapled ...</td>\n",
       "      <td>[dr, foster, excellent, hapled, diagnosed, alo...</td>\n",
       "      <td>F0</td>\n",
       "    </tr>\n",
       "    <tr>\n",
       "      <th>87870</th>\n",
       "      <td>This doctor is just flaky. Dr. Foster, just s...</td>\n",
       "      <td>1049044</td>\n",
       "      <td>F</td>\n",
       "      <td>0</td>\n",
       "      <td>this doctor is just flaky. dr. foster, just s...</td>\n",
       "      <td>this doctor is just flaky. dr. foster, just s...</td>\n",
       "      <td>this doctor is just flaky  dr  foster  just s...</td>\n",
       "      <td>[doctor, flaky, dr, foster, seems, care, work,...</td>\n",
       "      <td>F0</td>\n",
       "    </tr>\n",
       "    <tr>\n",
       "      <th>87871</th>\n",
       "      <td>DO NOT GO TO DR. ERNIA FOSTER. She perforated...</td>\n",
       "      <td>1049044</td>\n",
       "      <td>F</td>\n",
       "      <td>0</td>\n",
       "      <td>do not go to dr. ernia foster. she perforated...</td>\n",
       "      <td>do not go to dr. ernia foster. she perforated...</td>\n",
       "      <td>do not go to dr  ernia foster  she perforated...</td>\n",
       "      <td>[go, dr, ernia, foster, perforated, colon]</td>\n",
       "      <td>F0</td>\n",
       "    </tr>\n",
       "    <tr>\n",
       "      <th>87872</th>\n",
       "      <td>Dr. Davis is a very caring physician. She is n...</td>\n",
       "      <td>1132315</td>\n",
       "      <td>F</td>\n",
       "      <td>0</td>\n",
       "      <td>dr. davis is a very caring physician. she is n...</td>\n",
       "      <td>dr. davis is a very caring physician. she is n...</td>\n",
       "      <td>dr  davis is a very caring physician  she is n...</td>\n",
       "      <td>[dr, davis, caring, physician, quick, write, s...</td>\n",
       "      <td>F0</td>\n",
       "    </tr>\n",
       "    <tr>\n",
       "      <th>87873</th>\n",
       "      <td>I found it sad that Dr. Charlyce Davis will n...</td>\n",
       "      <td>1132315</td>\n",
       "      <td>F</td>\n",
       "      <td>0</td>\n",
       "      <td>i found it sad that dr. charlyce davis will n...</td>\n",
       "      <td>i found it sad that dr. charlyce davis will n...</td>\n",
       "      <td>i found it sad that dr  charlyce davis will n...</td>\n",
       "      <td>[found, sad, dr, charlyce, davis, accept, new,...</td>\n",
       "      <td>F0</td>\n",
       "    </tr>\n",
       "    <tr>\n",
       "      <th>87874</th>\n",
       "      <td>The times she is running behind you are promp...</td>\n",
       "      <td>1132315</td>\n",
       "      <td>F</td>\n",
       "      <td>0</td>\n",
       "      <td>the times she is running behind you are promp...</td>\n",
       "      <td>the times she is running behind you are promp...</td>\n",
       "      <td>the times she is running behind you are promp...</td>\n",
       "      <td>[times, running, behind, promptly, notified, a...</td>\n",
       "      <td>F0</td>\n",
       "    </tr>\n",
       "  </tbody>\n",
       "</table>\n",
       "<p>87875 rows × 9 columns</p>\n",
       "</div>"
      ],
      "text/plain": [
       "                                                  Review    hp_id gender  \\\n",
       "0      satisfactory but would not recommend coldness,...    19713      F   \n",
       "1       Although Dr. Merlo does not appear to have an...    19713      F   \n",
       "2       took my daughter for problems, never examined...    19713      F   \n",
       "3       Yes, Dr. Merlot can be rude and arrogant, but...    19713      F   \n",
       "4       I called to make and appointment and a woman ...    19713      F   \n",
       "5       I, unfortunately,treated with Dr.Merlo severa...    19713      F   \n",
       "6       I can't tell you if she's a good or bad docto...    19713      F   \n",
       "7       Yesterday my partner had an upper endoscopy d...    19713      F   \n",
       "8       Very arrogant and rude. Went in with a previo...    19713      F   \n",
       "9       She files insurance for me even though I have...    19713      F   \n",
       "10      After scheduling 2 appts. (for a husband and ...    19713      F   \n",
       "11     I have been going to Dr. Mittleman for the pas...   587845      M   \n",
       "12      Dr. Mittleman is friendly, non-threatening, n...   587845      M   \n",
       "13      Dr. Mittleman has been my primary physician f...   587845      M   \n",
       "14      I've been Dr. Mittleman for years. He's very ...   587845      M   \n",
       "15      This man had the patience of a saint when he ...   587845      M   \n",
       "16      Very poor. I took my uncle to him and he was ...   587845      M   \n",
       "17      Very caring and helpful! I had a BMI of 41 an...   587845      M   \n",
       "18      Dr. Mittleman never makes you feel rushed and...   587845      M   \n",
       "19      Dr Mittleman is an excellent MD. He is caring...   587845      M   \n",
       "20     What I like most about Dr. Brandies is that sh...  1026482      F   \n",
       "21      I've used Dr. Brandies as my doctor for over ...  1026482      F   \n",
       "22      I did not find her compassionate at all; in f...  1026482      F   \n",
       "23      Excellent doctor with a great 'bedside manner...  1026482      F   \n",
       "24      I love Dr. Brandies! She truly is a great doc...  1026482      F   \n",
       "25      I can't say enough good things about Dr. Bran...  1026482      F   \n",
       "26      Dr. Brandies always takes the time to listen ...  1026482      F   \n",
       "27      Dr Brandies is very thoughtful. She listens t...  1026482      F   \n",
       "28      Dr. Brandies is a dedicated physician who lis...  1026482      F   \n",
       "29      It is ocassionally hard to get an appointment...  1026482      F   \n",
       "...                                                  ...      ...    ...   \n",
       "87845  My first experience with this doctor was when ...   188148      M   \n",
       "87846   This doctor is perpetually in a languid mood....   188148      M   \n",
       "87847                                    Very Attentive   1239152      M   \n",
       "87848  An excellent physician. A good diagnostician. ...   879980      M   \n",
       "87849   always booked and very hard to get an appoint...   879980      M   \n",
       "87850   I found him to be very thorough and smart and...   879980      M   \n",
       "87851   I found him thorough and caring and he is gre...   879980      M   \n",
       "87852  Excellent doctor, in terms of skill, knowledge...  1336864      M   \n",
       "87853  This doctor was unable to complete the colonos...   868723      M   \n",
       "87854                                                      868723      M   \n",
       "87855  best all time Dr. She takes care of my mother ...   711194      F   \n",
       "87856   I have been going to her for over 12 years. s...   711194      F   \n",
       "87857   My whole family had been going to see her for...   711194      F   \n",
       "87858  Exquisite diagnostician! Dr. Myaing was the li...   211646      M   \n",
       "87859   I have always found Dr. Myaing to be extremel...   211646      M   \n",
       "87860  Dr. Rickles is helpful, informative and consid...     9685      M   \n",
       "87861   Dr. Rickles is very caring and knowledgeable....     9685      M   \n",
       "87862   Very knowledgeable; warm and sympathetic. I u...     9685      M   \n",
       "87863   A kind and caring doctor. Extremely knowledge...     9685      M   \n",
       "87864   blamed me (the patient) for the dambing diffi...     9685      M   \n",
       "87865  I was very disappointed with this doctor. He s...  1036394      M   \n",
       "87866         Above average. Some room for improvement.    425150      M   \n",
       "87867  Saw him several times for liver disease -- he'...   818326      M   \n",
       "87868   Thoughtful and understanding. He is intereste...   818326      M   \n",
       "87869  dr. Foster has been excellent, she has hapled ...  1049044      F   \n",
       "87870   This doctor is just flaky. Dr. Foster, just s...  1049044      F   \n",
       "87871   DO NOT GO TO DR. ERNIA FOSTER. She perforated...  1049044      F   \n",
       "87872  Dr. Davis is a very caring physician. She is n...  1132315      F   \n",
       "87873   I found it sad that Dr. Charlyce Davis will n...  1132315      F   \n",
       "87874   The times she is running behind you are promp...  1132315      F   \n",
       "\n",
       "       hasorder                                              lower  \\\n",
       "0             0  satisfactory but would not recommend coldness,...   \n",
       "1             0   although dr. merlo does not appear to have an...   \n",
       "2             0   took my daughter for problems, never examined...   \n",
       "3             0   yes, dr. merlot can be rude and arrogant, but...   \n",
       "4             0   i called to make and appointment and a woman ...   \n",
       "5             0   i, unfortunately,treated with dr.merlo severa...   \n",
       "6             0   i can't tell you if she's a good or bad docto...   \n",
       "7             0   yesterday my partner had an upper endoscopy d...   \n",
       "8             0   very arrogant and rude. went in with a previo...   \n",
       "9             0   she files insurance for me even though i have...   \n",
       "10            0   after scheduling 2 appts. (for a husband and ...   \n",
       "11            0  i have been going to dr. mittleman for the pas...   \n",
       "12            0   dr. mittleman is friendly, non-threatening, n...   \n",
       "13            0   dr. mittleman has been my primary physician f...   \n",
       "14            0   i've been dr. mittleman for years. he's very ...   \n",
       "15            0   this man had the patience of a saint when he ...   \n",
       "16            0   very poor. i took my uncle to him and he was ...   \n",
       "17            0   very caring and helpful! i had a bmi of 41 an...   \n",
       "18            0   dr. mittleman never makes you feel rushed and...   \n",
       "19            0   dr mittleman is an excellent md. he is caring...   \n",
       "20            0  what i like most about dr. brandies is that sh...   \n",
       "21            0   i've used dr. brandies as my doctor for over ...   \n",
       "22            0   i did not find her compassionate at all; in f...   \n",
       "23            0   excellent doctor with a great 'bedside manner...   \n",
       "24            0   i love dr. brandies! she truly is a great doc...   \n",
       "25            0   i can't say enough good things about dr. bran...   \n",
       "26            0   dr. brandies always takes the time to listen ...   \n",
       "27            0   dr brandies is very thoughtful. she listens t...   \n",
       "28            0   dr. brandies is a dedicated physician who lis...   \n",
       "29            0   it is ocassionally hard to get an appointment...   \n",
       "...         ...                                                ...   \n",
       "87845         0  my first experience with this doctor was when ...   \n",
       "87846         0   this doctor is perpetually in a languid mood....   \n",
       "87847         0                                    very attentive    \n",
       "87848         0  an excellent physician. a good diagnostician. ...   \n",
       "87849         0   always booked and very hard to get an appoint...   \n",
       "87850         0   i found him to be very thorough and smart and...   \n",
       "87851         0   i found him thorough and caring and he is gre...   \n",
       "87852         0  excellent doctor, in terms of skill, knowledge...   \n",
       "87853         0  this doctor was unable to complete the colonos...   \n",
       "87854         0                                                      \n",
       "87855         0  best all time dr. she takes care of my mother ...   \n",
       "87856         0   i have been going to her for over 12 years. s...   \n",
       "87857         0   my whole family had been going to see her for...   \n",
       "87858         0  exquisite diagnostician! dr. myaing was the li...   \n",
       "87859         0   i have always found dr. myaing to be extremel...   \n",
       "87860         0  dr. rickles is helpful, informative and consid...   \n",
       "87861         0   dr. rickles is very caring and knowledgeable....   \n",
       "87862         0   very knowledgeable; warm and sympathetic. i u...   \n",
       "87863         0   a kind and caring doctor. extremely knowledge...   \n",
       "87864         0   blamed me (the patient) for the dambing diffi...   \n",
       "87865         0  i was very disappointed with this doctor. he s...   \n",
       "87866         0         above average. some room for improvement.    \n",
       "87867         0  saw him several times for liver disease -- he'...   \n",
       "87868         0   thoughtful and understanding. he is intereste...   \n",
       "87869         0  dr. foster has been excellent, she has hapled ...   \n",
       "87870         0   this doctor is just flaky. dr. foster, just s...   \n",
       "87871         0   do not go to dr. ernia foster. she perforated...   \n",
       "87872         0  dr. davis is a very caring physician. she is n...   \n",
       "87873         0   i found it sad that dr. charlyce davis will n...   \n",
       "87874         0   the times she is running behind you are promp...   \n",
       "\n",
       "                                               no_digits  \\\n",
       "0      satisfactory but would not recommend coldness,...   \n",
       "1       although dr. merlo does not appear to have an...   \n",
       "2       took my daughter for problems, never examined...   \n",
       "3       yes, dr. merlot can be rude and arrogant, but...   \n",
       "4       i called to make and appointment and a woman ...   \n",
       "5       i, unfortunately,treated with dr.merlo severa...   \n",
       "6       i can't tell you if she's a good or bad docto...   \n",
       "7       yesterday my partner had an upper endoscopy d...   \n",
       "8       very arrogant and rude. went in with a previo...   \n",
       "9       she files insurance for me even though i have...   \n",
       "10      after scheduling  appts. (for a husband and w...   \n",
       "11     i have been going to dr. mittleman for the pas...   \n",
       "12      dr. mittleman is friendly, non-threatening, n...   \n",
       "13      dr. mittleman has been my primary physician f...   \n",
       "14      i've been dr. mittleman for years. he's very ...   \n",
       "15      this man had the patience of a saint when he ...   \n",
       "16      very poor. i took my uncle to him and he was ...   \n",
       "17      very caring and helpful! i had a bmi of  and ...   \n",
       "18      dr. mittleman never makes you feel rushed and...   \n",
       "19      dr mittleman is an excellent md. he is caring...   \n",
       "20     what i like most about dr. brandies is that sh...   \n",
       "21      i've used dr. brandies as my doctor for over ...   \n",
       "22      i did not find her compassionate at all; in f...   \n",
       "23      excellent doctor with a great 'bedside manner...   \n",
       "24      i love dr. brandies! she truly is a great doc...   \n",
       "25      i can't say enough good things about dr. bran...   \n",
       "26      dr. brandies always takes the time to listen ...   \n",
       "27      dr brandies is very thoughtful. she listens t...   \n",
       "28      dr. brandies is a dedicated physician who lis...   \n",
       "29      it is ocassionally hard to get an appointment...   \n",
       "...                                                  ...   \n",
       "87845  my first experience with this doctor was when ...   \n",
       "87846   this doctor is perpetually in a languid mood....   \n",
       "87847                                    very attentive    \n",
       "87848  an excellent physician. a good diagnostician. ...   \n",
       "87849   always booked and very hard to get an appoint...   \n",
       "87850   i found him to be very thorough and smart and...   \n",
       "87851   i found him thorough and caring and he is gre...   \n",
       "87852  excellent doctor, in terms of skill, knowledge...   \n",
       "87853  this doctor was unable to complete the colonos...   \n",
       "87854                                                      \n",
       "87855  best all time dr. she takes care of my mother ...   \n",
       "87856   i have been going to her for over  years. she...   \n",
       "87857   my whole family had been going to see her for...   \n",
       "87858  exquisite diagnostician! dr. myaing was the li...   \n",
       "87859   i have always found dr. myaing to be extremel...   \n",
       "87860  dr. rickles is helpful, informative and consid...   \n",
       "87861   dr. rickles is very caring and knowledgeable....   \n",
       "87862   very knowledgeable; warm and sympathetic. i u...   \n",
       "87863   a kind and caring doctor. extremely knowledge...   \n",
       "87864   blamed me (the patient) for the dambing diffi...   \n",
       "87865  i was very disappointed with this doctor. he s...   \n",
       "87866         above average. some room for improvement.    \n",
       "87867  saw him several times for liver disease -- he'...   \n",
       "87868   thoughtful and understanding. he is intereste...   \n",
       "87869  dr. foster has been excellent, she has hapled ...   \n",
       "87870   this doctor is just flaky. dr. foster, just s...   \n",
       "87871   do not go to dr. ernia foster. she perforated...   \n",
       "87872  dr. davis is a very caring physician. she is n...   \n",
       "87873   i found it sad that dr. charlyce davis will n...   \n",
       "87874   the times she is running behind you are promp...   \n",
       "\n",
       "                                          no_punctuation  \\\n",
       "0      satisfactory but would not recommend coldness ...   \n",
       "1       although dr  merlo does not appear to have an...   \n",
       "2       took my daughter for problems  never examined...   \n",
       "3       yes  dr  merlot can be rude and arrogant  but...   \n",
       "4       i called to make and appointment and a woman ...   \n",
       "5       i  unfortunately treated with dr merlo severa...   \n",
       "6       i can t tell you if she s a good or bad docto...   \n",
       "7       yesterday my partner had an upper endoscopy d...   \n",
       "8       very arrogant and rude  went in with a previo...   \n",
       "9       she files insurance for me even though i have...   \n",
       "10      after scheduling  appts   for a husband and w...   \n",
       "11     i have been going to dr  mittleman for the pas...   \n",
       "12      dr  mittleman is friendly  non threatening  n...   \n",
       "13      dr  mittleman has been my primary physician f...   \n",
       "14      i ve been dr  mittleman for years  he s very ...   \n",
       "15      this man had the patience of a saint when he ...   \n",
       "16      very poor  i took my uncle to him and he was ...   \n",
       "17      very caring and helpful  i had a bmi of  and ...   \n",
       "18      dr  mittleman never makes you feel rushed and...   \n",
       "19      dr mittleman is an excellent md  he is caring...   \n",
       "20     what i like most about dr  brandies is that sh...   \n",
       "21      i ve used dr  brandies as my doctor for over ...   \n",
       "22      i did not find her compassionate at all  in f...   \n",
       "23      excellent doctor with a great  bedside manner...   \n",
       "24      i love dr  brandies  she truly is a great doc...   \n",
       "25      i can t say enough good things about dr  bran...   \n",
       "26      dr  brandies always takes the time to listen ...   \n",
       "27      dr brandies is very thoughtful  she listens t...   \n",
       "28      dr  brandies is a dedicated physician who lis...   \n",
       "29      it is ocassionally hard to get an appointment...   \n",
       "...                                                  ...   \n",
       "87845  my first experience with this doctor was when ...   \n",
       "87846   this doctor is perpetually in a languid mood ...   \n",
       "87847                                    very attentive    \n",
       "87848  an excellent physician  a good diagnostician  ...   \n",
       "87849   always booked and very hard to get an appoint...   \n",
       "87850   i found him to be very thorough and smart and...   \n",
       "87851   i found him thorough and caring and he is gre...   \n",
       "87852  excellent doctor  in terms of skill  knowledge...   \n",
       "87853  this doctor was unable to complete the colonos...   \n",
       "87854                                                      \n",
       "87855  best all time dr  she takes care of my mother ...   \n",
       "87856   i have been going to her for over  years  she...   \n",
       "87857   my whole family had been going to see her for...   \n",
       "87858  exquisite diagnostician  dr  myaing was the li...   \n",
       "87859   i have always found dr  myaing to be extremel...   \n",
       "87860  dr  rickles is helpful  informative and consid...   \n",
       "87861   dr  rickles is very caring and knowledgeable ...   \n",
       "87862   very knowledgeable  warm and sympathetic  i u...   \n",
       "87863   a kind and caring doctor  extremely knowledge...   \n",
       "87864   blamed me  the patient  for the dambing diffi...   \n",
       "87865  i was very disappointed with this doctor  he s...   \n",
       "87866         above average  some room for improvement     \n",
       "87867  saw him several times for liver disease    he ...   \n",
       "87868   thoughtful and understanding  he is intereste...   \n",
       "87869  dr  foster has been excellent  she has hapled ...   \n",
       "87870   this doctor is just flaky  dr  foster  just s...   \n",
       "87871   do not go to dr  ernia foster  she perforated...   \n",
       "87872  dr  davis is a very caring physician  she is n...   \n",
       "87873   i found it sad that dr  charlyce davis will n...   \n",
       "87874   the times she is running behind you are promp...   \n",
       "\n",
       "                                                   words label  \n",
       "0      [satisfactory, recommend, coldness, solo, help...    F0  \n",
       "1      [although, dr, merlo, appear, office, staff, m...    F0  \n",
       "2      [took, daughter, problems, never, examined, un...    F0  \n",
       "3      [yes, dr, merlot, rude, arrogant, one, gastroe...    F0  \n",
       "4      [called, make, appointment, woman, calling, ma...    F0  \n",
       "5      [unfortunately, treated, dr, merlo, several, y...    F0  \n",
       "6      [tell, good, bad, doctor, anything, prove, one...    F0  \n",
       "7      [yesterday, partner, upper, endoscopy, done, d...    F0  \n",
       "8      [arrogant, rude, went, previously, diagnosed, ...    F0  \n",
       "9      [files, insurance, even, though, traditional, ...    F0  \n",
       "10     [scheduling, appts, husband, wife, immediate, ...    F0  \n",
       "11     [going, dr, mittleman, past, years, caring, at...    M0  \n",
       "12     [dr, mittleman, friendly, non, threatening, ne...    M0  \n",
       "13     [dr, mittleman, primary, physician, many, year...    M0  \n",
       "14     [dr, mittleman, years, attentive, patients, al...    M0  \n",
       "15     [man, patience, saint, took, care, wife, amp, ...    M0  \n",
       "16     [poor, took, uncle, rude, short, completely, u...    M0  \n",
       "17     [caring, helpful, bmi, jump, throat, weight, a...    M0  \n",
       "18     [dr, mittleman, never, makes, feel, rushed, tr...    M0  \n",
       "19     [dr, mittleman, excellent, md, caring, compass...    M0  \n",
       "20     [dr, brandies, jump, treating, every, ache, am...    F0  \n",
       "21     [used, dr, brandies, doctor, years, knowledgea...    F0  \n",
       "22     [find, compassionate, fact, judgmental, rude, ...    F0  \n",
       "23     [excellent, doctor, great, bedside, manner, pa...    F0  \n",
       "24     [love, dr, brandies, truly, great, doctor, lis...    F0  \n",
       "25     [say, enough, good, things, dr, brandies, comp...    F0  \n",
       "26     [dr, brandies, always, takes, time, listen, pr...    F0  \n",
       "27     [dr, brandies, thoughtful, listens, everything...    F0  \n",
       "28     [dr, brandies, dedicated, physician, listens, ...    F0  \n",
       "29     [ocassionally, hard, appointment, doctor, prac...    F0  \n",
       "...                                                  ...   ...  \n",
       "87845  [first, experience, doctor, arrived, urgent, c...    M0  \n",
       "87846  [doctor, perpetually, languid, mood, treats, p...    M0  \n",
       "87847                                        [attentive]    M0  \n",
       "87848  [excellent, physician, good, diagnostician, ca...    M0  \n",
       "87849                [always, booked, hard, appointment]    M0  \n",
       "87850  [found, thorough, smart, responsive, diagnosed...    M0  \n",
       "87851  [found, thorough, caring, great, following, pa...    M0  \n",
       "87852  [excellent, doctor, terms, skill, knowledge, b...    M0  \n",
       "87853  [doctor, unable, complete, colonoscopy, amount...    M0  \n",
       "87854                                                 []    M0  \n",
       "87855  [best, time, dr, takes, care, mother, law, dau...    F0  \n",
       "87856  [going, years, one, professional, caring, doct...    F0  \n",
       "87857  [whole, family, going, see, years, gotten, bad...    F0  \n",
       "87858  [exquisite, diagnostician, dr, myaing, lirst, ...    M0  \n",
       "87859  [always, found, dr, myaing, extremely, thoroug...    M0  \n",
       "87860  [dr, rickles, helpful, informative, considerat...    M0  \n",
       "87861  [dr, rickles, caring, knowledgeable, conversan...    M0  \n",
       "87862  [knowledgeable, warm, sympathetic, used, go, a...    M0  \n",
       "87863   [kind, caring, doctor, extremely, knowledgeable]    M0  \n",
       "87864  [blamed, patient, dambing, difficulty, getting...    M0  \n",
       "87865  [disappointed, doctor, seemed, aloof, conversa...    M0  \n",
       "87866                       [average, room, improvement]    M0  \n",
       "87867  [saw, several, times, liver, disease, affable,...    M0  \n",
       "87868  [thoughtful, understanding, interested, proble...    M0  \n",
       "87869  [dr, foster, excellent, hapled, diagnosed, alo...    F0  \n",
       "87870  [doctor, flaky, dr, foster, seems, care, work,...    F0  \n",
       "87871         [go, dr, ernia, foster, perforated, colon]    F0  \n",
       "87872  [dr, davis, caring, physician, quick, write, s...    F0  \n",
       "87873  [found, sad, dr, charlyce, davis, accept, new,...    F0  \n",
       "87874  [times, running, behind, promptly, notified, a...    F0  \n",
       "\n",
       "[87875 rows x 9 columns]"
      ]
     },
     "execution_count": 31,
     "metadata": {},
     "output_type": "execute_result"
    }
   ],
   "source": [
    "review_im"
   ]
  },
  {
   "cell_type": "code",
   "execution_count": null,
   "metadata": {},
   "outputs": [],
   "source": []
  },
  {
   "cell_type": "code",
   "execution_count": 9,
   "metadata": {},
   "outputs": [],
   "source": [
    "from gensim.models import Word2Vec"
   ]
  },
  {
   "cell_type": "code",
   "execution_count": 10,
   "metadata": {},
   "outputs": [],
   "source": [
    "# preparing corpus\n",
    "documents = list(review_im['words'])"
   ]
  },
  {
   "cell_type": "code",
   "execution_count": 11,
   "metadata": {},
   "outputs": [],
   "source": [
    "import numpy as np"
   ]
  },
  {
   "cell_type": "code",
   "execution_count": 12,
   "metadata": {},
   "outputs": [
    {
     "data": {
      "text/plain": [
       "23.603743954480798"
      ]
     },
     "execution_count": 12,
     "metadata": {},
     "output_type": "execute_result"
    }
   ],
   "source": [
    "np.mean([len(i) for i in documents])"
   ]
  },
  {
   "cell_type": "code",
   "execution_count": 13,
   "metadata": {},
   "outputs": [
    {
     "data": {
      "text/plain": [
       "143"
      ]
     },
     "execution_count": 13,
     "metadata": {},
     "output_type": "execute_result"
    }
   ],
   "source": [
    "max([len(i) for i in documents])"
   ]
  },
  {
   "cell_type": "code",
   "execution_count": 14,
   "metadata": {},
   "outputs": [
    {
     "data": {
      "text/plain": [
       "0"
      ]
     },
     "execution_count": 14,
     "metadata": {},
     "output_type": "execute_result"
    }
   ],
   "source": [
    "min([len(i) for i in documents])"
   ]
  },
  {
   "cell_type": "code",
   "execution_count": 29,
   "metadata": {},
   "outputs": [
    {
     "data": {
      "image/png": "[encoded data removed]",
      "text/plain": [
       "<Figure size 432x288 with 1 Axes>"
      ]
     },
     "metadata": {
      "needs_background": "light"
     },
     "output_type": "display_data"
    }
   ],
   "source": [
    "plt.hist([len(i) for i in documents], bins = 20, color = '0.25');\n",
    "plt.title('Review Length (number of words)');\n",
    "plt.xlabel('Number of words');\n",
    "plt.ylabel('Counts');"
   ]
  },
  {
   "cell_type": "code",
   "execution_count": 24,
   "metadata": {},
   "outputs": [
    {
     "data": {
      "text/plain": [
       "23.603743954480798"
      ]
     },
     "execution_count": 24,
     "metadata": {},
     "output_type": "execute_result"
    }
   ],
   "source": [
    "np.mean([len(i) for i in documents])"
   ]
  },
  {
   "cell_type": "code",
   "execution_count": 25,
   "metadata": {},
   "outputs": [
    {
     "data": {
      "text/plain": [
       "143"
      ]
     },
     "execution_count": 25,
     "metadata": {},
     "output_type": "execute_result"
    }
   ],
   "source": [
    "np.max([len(i) for i in documents])"
   ]
  },
  {
   "cell_type": "code",
   "execution_count": 26,
   "metadata": {},
   "outputs": [
    {
     "data": {
      "text/plain": [
       "0"
      ]
     },
     "execution_count": 26,
     "metadata": {},
     "output_type": "execute_result"
    }
   ],
   "source": [
    "np.min([len(i) for i in documents])"
   ]
  },
  {
   "cell_type": "code",
   "execution_count": null,
   "metadata": {},
   "outputs": [],
   "source": [
    "# sentences=None, size=100, alpha=0.025, window=5, min_count=5, max_vocab_size=None, \n",
    "# sample=0.001, seed=1, workers=3, min_alpha=0.0001, sg=0, hs=0, negative=5, ns_exponent=0.75, cbow_mean=1, \n",
    "# hashfxn=<built-in function hash>, iter=5, null_word=0, trim_rule=None, sorted_vocab=1, \n",
    "# batch_words=10000, compute_loss=False, callbacks=(), max_final_vocab=None"
   ]
  },
  {
   "cell_type": "markdown",
   "metadata": {},
   "source": [
    "### Hyperparameter setting 1"
   ]
  },
  {
   "cell_type": "code",
   "execution_count": 79,
   "metadata": {},
   "outputs": [
    {
     "data": {
      "text/plain": [
       "(166350369, 207417900)"
      ]
     },
     "execution_count": 79,
     "metadata": {},
     "output_type": "execute_result"
    }
   ],
   "source": [
    "w2v = Word2Vec(size=300,window=30,min_count=30,workers=4,hs=0, negative=7)\n",
    "w2v.build_vocab(documents)\n",
    "w2v.train(documents, total_examples=w2v.corpus_count,epochs=100)"
   ]
  },
  {
   "cell_type": "code",
   "execution_count": 80,
   "metadata": {},
   "outputs": [],
   "source": [
    "w2v.save(\"w2v_1.model\")"
   ]
  },
  {
   "cell_type": "code",
   "execution_count": 81,
   "metadata": {},
   "outputs": [],
   "source": [
    "w2v_1= Word2Vec.load(\"w2v_1.model\")"
   ]
  },
  {
   "cell_type": "code",
   "execution_count": 82,
   "metadata": {},
   "outputs": [
    {
     "data": {
      "text/plain": [
       "[('doctor', 0.45916932821273804),\n",
       " ('physician', 0.33714205026626587),\n",
       " ('always', 0.2492298185825348),\n",
       " ('doctors', 0.2401164174079895),\n",
       " ('internist', 0.23528248071670532),\n",
       " ('wonderful', 0.23021069169044495),\n",
       " ('cardiologist', 0.22314128279685974),\n",
       " ('rheumatologist', 0.2222317010164261),\n",
       " ('recently', 0.22099417448043823),\n",
       " ('ago', 0.2200728952884674)]"
      ]
     },
     "execution_count": 82,
     "metadata": {},
     "output_type": "execute_result"
    }
   ],
   "source": [
    "w2v_1.wv.most_similar(positive=[\"dr\"])"
   ]
  },
  {
   "cell_type": "code",
   "execution_count": 83,
   "metadata": {},
   "outputs": [
    {
     "data": {
      "text/plain": [
       "[('great', 0.6361227035522461),\n",
       " ('excellent', 0.5709502696990967),\n",
       " ('amazing', 0.5621974468231201),\n",
       " ('fantastic', 0.5557445287704468),\n",
       " ('best', 0.4370362460613251),\n",
       " ('outstanding', 0.43186086416244507),\n",
       " ('kind', 0.429627001285553),\n",
       " ('love', 0.42594581842422485),\n",
       " ('awesome', 0.3962565064430237),\n",
       " ('caring', 0.3905869722366333)]"
      ]
     },
     "execution_count": 83,
     "metadata": {},
     "output_type": "execute_result"
    }
   ],
   "source": [
    "w2v_1.wv.most_similar(positive=[\"wonderful\"])"
   ]
  },
  {
   "cell_type": "code",
   "execution_count": 84,
   "metadata": {},
   "outputs": [
    {
     "data": {
      "text/plain": [
       "[('knowledgable', 0.8639764189720154),\n",
       " ('knowlegable', 0.4975564479827881),\n",
       " ('knowlegeable', 0.4936981797218323),\n",
       " ('intelligent', 0.46479690074920654),\n",
       " ('competent', 0.4060893654823303),\n",
       " ('knowledgeble', 0.3753508925437927),\n",
       " ('smart', 0.3406170904636383),\n",
       " ('informative', 0.3226452171802521),\n",
       " ('knowledge', 0.3130270838737488),\n",
       " ('knowledable', 0.2818285822868347)]"
      ]
     },
     "execution_count": 84,
     "metadata": {},
     "output_type": "execute_result"
    }
   ],
   "source": [
    "w2v_1.wv.most_similar(positive=[\"knowledgeable\"])"
   ]
  },
  {
   "cell_type": "code",
   "execution_count": 85,
   "metadata": {},
   "outputs": [
    {
     "data": {
      "text/plain": [
       "[('compassionate', 0.40445759892463684),\n",
       " ('kind', 0.4009045958518982),\n",
       " ('wonderful', 0.3905869722366333),\n",
       " ('best', 0.37096530199050903),\n",
       " ('excellent', 0.35342130064964294),\n",
       " ('amazing', 0.3525526821613312),\n",
       " ('cares', 0.3460041880607605),\n",
       " ('dedicated', 0.3346731662750244),\n",
       " ('always', 0.3220123052597046),\n",
       " ('outstanding', 0.30643635988235474)]"
      ]
     },
     "execution_count": 85,
     "metadata": {},
     "output_type": "execute_result"
    }
   ],
   "source": [
    "w2v_1.wv.most_similar(positive=[\"caring\"])"
   ]
  },
  {
   "cell_type": "code",
   "execution_count": 86,
   "metadata": {
    "scrolled": true
   },
   "outputs": [
    {
     "data": {
      "text/plain": [
       "[('unprofessional', 0.4293363094329834),\n",
       " ('unfriendly', 0.4199191927909851),\n",
       " ('rudest', 0.4091644883155823),\n",
       " ('awful', 0.3667820692062378),\n",
       " ('horrible', 0.36254388093948364),\n",
       " ('nasty', 0.35845163464546204),\n",
       " ('office', 0.32227760553359985),\n",
       " ('incompetent', 0.30878907442092896),\n",
       " ('worst', 0.3026098608970642),\n",
       " ('unhelpful', 0.3024693727493286)]"
      ]
     },
     "execution_count": 86,
     "metadata": {},
     "output_type": "execute_result"
    }
   ],
   "source": [
    "w2v_1.wv.most_similar(positive=[\"rude\"])"
   ]
  },
  {
   "cell_type": "code",
   "execution_count": 116,
   "metadata": {},
   "outputs": [
    {
     "data": {
      "text/plain": [
       "[('rude', 0.4293363690376282),\n",
       " ('worst', 0.3758218288421631),\n",
       " ('incompetent', 0.3755025267601013),\n",
       " ('unhelpful', 0.34632599353790283),\n",
       " ('disrespectful', 0.3126639127731323),\n",
       " ('poor', 0.30223900079727173),\n",
       " ('nasty', 0.3002842664718628),\n",
       " ('horrible', 0.2993791103363037),\n",
       " ('office', 0.29850995540618896),\n",
       " ('inappropriate', 0.2938278019428253)]"
      ]
     },
     "execution_count": 116,
     "metadata": {},
     "output_type": "execute_result"
    }
   ],
   "source": [
    "w2v_1.wv.most_similar(positive=[\"unprofessional\"])"
   ]
  },
  {
   "cell_type": "code",
   "execution_count": 113,
   "metadata": {},
   "outputs": [
    {
     "data": {
      "text/plain": [
       "[('receptionist', 0.4538799524307251),\n",
       " ('office', 0.4468477666378021),\n",
       " ('manager', 0.42484891414642334),\n",
       " ('nurses', 0.386435329914093),\n",
       " ('receptionists', 0.36470848321914673),\n",
       " ('girls', 0.31627127528190613),\n",
       " ('staffs', 0.3086164593696594),\n",
       " ('personnel', 0.30408576130867004),\n",
       " ('employees', 0.2974265515804291),\n",
       " ('nurse', 0.28877168893814087)]"
      ]
     },
     "execution_count": 113,
     "metadata": {},
     "output_type": "execute_result"
    }
   ],
   "source": [
    "w2v_1.wv.most_similar(positive=[\"staff\"])"
   ]
  },
  {
   "cell_type": "markdown",
   "metadata": {},
   "source": [
    "### Hyperparameter setting 2 ( decrease window size from 30 to 20, holding the rest of the parameters constant)"
   ]
  },
  {
   "cell_type": "code",
   "execution_count": 87,
   "metadata": {},
   "outputs": [
    {
     "data": {
      "text/plain": [
       "(166346723, 207417900)"
      ]
     },
     "execution_count": 87,
     "metadata": {},
     "output_type": "execute_result"
    }
   ],
   "source": [
    "w2v = Word2Vec(size=300,window=20,min_count=30,workers=4,hs=0, negative=7)\n",
    "w2v.build_vocab(documents)\n",
    "w2v.train(documents, total_examples=w2v.corpus_count,epochs=100)"
   ]
  },
  {
   "cell_type": "code",
   "execution_count": 88,
   "metadata": {},
   "outputs": [],
   "source": [
    "w2v.save(\"w2v_2.model\")"
   ]
  },
  {
   "cell_type": "code",
   "execution_count": 89,
   "metadata": {},
   "outputs": [],
   "source": [
    "w2v_2= Word2Vec.load(\"w2v_2.model\")"
   ]
  },
  {
   "cell_type": "code",
   "execution_count": 90,
   "metadata": {},
   "outputs": [
    {
     "data": {
      "text/plain": [
       "[('doctor', 0.499885618686676),\n",
       " ('physician', 0.35943397879600525),\n",
       " ('caring', 0.27351146936416626),\n",
       " ('wonderful', 0.2715435326099396),\n",
       " ('doctors', 0.27112939953804016),\n",
       " ('internist', 0.26683175563812256),\n",
       " ('attentive', 0.24752208590507507),\n",
       " ('years', 0.24271419644355774),\n",
       " ('always', 0.23127396404743195),\n",
       " ('md', 0.2300117462873459)]"
      ]
     },
     "execution_count": 90,
     "metadata": {},
     "output_type": "execute_result"
    }
   ],
   "source": [
    "w2v_2.wv.most_similar(positive=[\"dr\"])"
   ]
  },
  {
   "cell_type": "code",
   "execution_count": 91,
   "metadata": {},
   "outputs": [
    {
     "data": {
      "text/plain": [
       "[('great', 0.6676573753356934),\n",
       " ('fantastic', 0.6039437651634216),\n",
       " ('amazing', 0.5864121317863464),\n",
       " ('excellent', 0.5819053649902344),\n",
       " ('outstanding', 0.4711351990699768),\n",
       " ('love', 0.4596397578716278),\n",
       " ('awesome', 0.45512598752975464),\n",
       " ('best', 0.44739729166030884),\n",
       " ('kind', 0.43495920300483704),\n",
       " ('caring', 0.40091031789779663)]"
      ]
     },
     "execution_count": 91,
     "metadata": {},
     "output_type": "execute_result"
    }
   ],
   "source": [
    "w2v_2.wv.most_similar(positive=[\"wonderful\"])"
   ]
  },
  {
   "cell_type": "code",
   "execution_count": 92,
   "metadata": {},
   "outputs": [
    {
     "data": {
      "text/plain": [
       "[('knowledgable', 0.872672438621521),\n",
       " ('knowlegeable', 0.5337325930595398),\n",
       " ('knowlegable', 0.5008127689361572),\n",
       " ('intelligent', 0.49439045786857605),\n",
       " ('competent', 0.4410247206687927),\n",
       " ('knowledgeble', 0.4326866567134857),\n",
       " ('smart', 0.372468501329422),\n",
       " ('informative', 0.33169686794281006),\n",
       " ('knowledge', 0.3290414810180664),\n",
       " ('always', 0.31108731031417847)]"
      ]
     },
     "execution_count": 92,
     "metadata": {},
     "output_type": "execute_result"
    }
   ],
   "source": [
    "w2v_2.wv.most_similar(positive=[\"knowledgeable\"])"
   ]
  },
  {
   "cell_type": "code",
   "execution_count": 93,
   "metadata": {
    "scrolled": true
   },
   "outputs": [
    {
     "data": {
      "text/plain": [
       "[('compassionate', 0.45195484161376953),\n",
       " ('kind', 0.439325213432312),\n",
       " ('wonderful', 0.400910347700119),\n",
       " ('excellent', 0.39074063301086426),\n",
       " ('best', 0.37418651580810547),\n",
       " ('cares', 0.3703380823135376),\n",
       " ('amazing', 0.3685465455055237),\n",
       " ('personable', 0.35715487599372864),\n",
       " ('outstanding', 0.3332512378692627),\n",
       " ('always', 0.3301669657230377)]"
      ]
     },
     "execution_count": 93,
     "metadata": {},
     "output_type": "execute_result"
    }
   ],
   "source": [
    "w2v_2.wv.most_similar(positive=[\"caring\"])"
   ]
  },
  {
   "cell_type": "code",
   "execution_count": 94,
   "metadata": {
    "scrolled": true
   },
   "outputs": [
    {
     "data": {
      "text/plain": [
       "[('unfriendly', 0.4604812264442444),\n",
       " ('unprofessional', 0.46043726801872253),\n",
       " ('rudest', 0.4293581247329712),\n",
       " ('nasty', 0.4158737063407898),\n",
       " ('horrible', 0.38154932856559753),\n",
       " ('awful', 0.3784559667110443),\n",
       " ('cold', 0.34814268350601196),\n",
       " ('incompetent', 0.3295789361000061),\n",
       " ('office', 0.3293423354625702),\n",
       " ('worst', 0.325403094291687)]"
      ]
     },
     "execution_count": 94,
     "metadata": {},
     "output_type": "execute_result"
    }
   ],
   "source": [
    "w2v_2.wv.most_similar(positive=[\"rude\"])"
   ]
  },
  {
   "cell_type": "code",
   "execution_count": 115,
   "metadata": {},
   "outputs": [
    {
     "data": {
      "text/plain": [
       "[('rude', 0.46043726801872253),\n",
       " ('incompetent', 0.37825608253479004),\n",
       " ('worst', 0.36913442611694336),\n",
       " ('unhelpful', 0.3389741778373718),\n",
       " ('horrible', 0.3248497247695923),\n",
       " ('hung', 0.31699997186660767),\n",
       " ('disrespectful', 0.30897754430770874),\n",
       " ('arrogant', 0.3069496750831604),\n",
       " ('inappropriate', 0.30423203110694885),\n",
       " ('unacceptable', 0.3038337826728821)]"
      ]
     },
     "execution_count": 115,
     "metadata": {},
     "output_type": "execute_result"
    }
   ],
   "source": [
    "w2v_2.wv.most_similar(positive=[\"unprofessional\"])"
   ]
  },
  {
   "cell_type": "code",
   "execution_count": 112,
   "metadata": {},
   "outputs": [
    {
     "data": {
      "text/plain": [
       "[('receptionist', 0.47950059175491333),\n",
       " ('office', 0.44798043370246887),\n",
       " ('manager', 0.42761117219924927),\n",
       " ('nurses', 0.426509827375412),\n",
       " ('receptionists', 0.3992658257484436),\n",
       " ('employees', 0.3421250581741333),\n",
       " ('staffs', 0.3243516683578491),\n",
       " ('girls', 0.3224979043006897),\n",
       " ('assistants', 0.31105226278305054),\n",
       " ('unorganized', 0.3098085820674896)]"
      ]
     },
     "execution_count": 112,
     "metadata": {},
     "output_type": "execute_result"
    }
   ],
   "source": [
    "w2v_2.wv.most_similar(positive=[\"staff\"])"
   ]
  },
  {
   "cell_type": "markdown",
   "metadata": {},
   "source": [
    "### Hyperparameter setting 3 ( increase window size to 40, holding the rest of the parameters constant)"
   ]
  },
  {
   "cell_type": "code",
   "execution_count": 95,
   "metadata": {},
   "outputs": [
    {
     "data": {
      "text/plain": [
       "(166356147, 207417900)"
      ]
     },
     "execution_count": 95,
     "metadata": {},
     "output_type": "execute_result"
    }
   ],
   "source": [
    "w2v = Word2Vec(size=300,window=40,min_count=30,workers=4,hs=0, negative=7)\n",
    "w2v.build_vocab(documents)\n",
    "w2v.train(documents, total_examples=w2v.corpus_count,epochs=100)"
   ]
  },
  {
   "cell_type": "code",
   "execution_count": 96,
   "metadata": {},
   "outputs": [],
   "source": [
    "w2v.save(\"w2v_3.model\")"
   ]
  },
  {
   "cell_type": "code",
   "execution_count": 97,
   "metadata": {},
   "outputs": [],
   "source": [
    "w2v_3= Word2Vec.load(\"w2v_3.model\")"
   ]
  },
  {
   "cell_type": "code",
   "execution_count": 98,
   "metadata": {},
   "outputs": [
    {
     "data": {
      "text/plain": [
       "[('doctor', 0.42630183696746826),\n",
       " ('physician', 0.31893548369407654),\n",
       " ('doctors', 0.2616861164569855),\n",
       " ('grateful', 0.24166131019592285),\n",
       " ('always', 0.2322029173374176),\n",
       " ('drs', 0.2282935380935669),\n",
       " ('wonderful', 0.2188992202281952),\n",
       " ('immediately', 0.21527288854122162),\n",
       " ('internist', 0.208210289478302),\n",
       " ('years', 0.206084743142128)]"
      ]
     },
     "execution_count": 98,
     "metadata": {},
     "output_type": "execute_result"
    }
   ],
   "source": [
    "w2v_3.wv.most_similar(positive=[\"dr\"])"
   ]
  },
  {
   "cell_type": "code",
   "execution_count": 99,
   "metadata": {},
   "outputs": [
    {
     "data": {
      "text/plain": [
       "[('great', 0.6171221733093262),\n",
       " ('amazing', 0.5562236309051514),\n",
       " ('excellent', 0.5461385846138),\n",
       " ('fantastic', 0.538554310798645),\n",
       " ('best', 0.43518808484077454),\n",
       " ('love', 0.41388916969299316),\n",
       " ('outstanding', 0.40590786933898926),\n",
       " ('awesome', 0.4016324579715729),\n",
       " ('kind', 0.39836710691452026),\n",
       " ('caring', 0.3855302631855011)]"
      ]
     },
     "execution_count": 99,
     "metadata": {},
     "output_type": "execute_result"
    }
   ],
   "source": [
    "w2v_3.wv.most_similar(positive=[\"wonderful\"])"
   ]
  },
  {
   "cell_type": "code",
   "execution_count": 100,
   "metadata": {},
   "outputs": [
    {
     "data": {
      "text/plain": [
       "[('knowledgable', 0.8495000004768372),\n",
       " ('knowlegeable', 0.450377881526947),\n",
       " ('knowlegable', 0.4472546875476837),\n",
       " ('intelligent', 0.4406425356864929),\n",
       " ('competent', 0.3907619118690491),\n",
       " ('knowledgeble', 0.3601892590522766),\n",
       " ('smart', 0.32877317070961),\n",
       " ('informative', 0.3192101716995239),\n",
       " ('knowledge', 0.30176621675491333),\n",
       " ('always', 0.2606216073036194)]"
      ]
     },
     "execution_count": 100,
     "metadata": {},
     "output_type": "execute_result"
    }
   ],
   "source": [
    "w2v_3.wv.most_similar(positive=[\"knowledgeable\"])"
   ]
  },
  {
   "cell_type": "code",
   "execution_count": 101,
   "metadata": {},
   "outputs": [
    {
     "data": {
      "text/plain": [
       "[('wonderful', 0.3855302631855011),\n",
       " ('compassionate', 0.3853279948234558),\n",
       " ('kind', 0.3682704269886017),\n",
       " ('best', 0.3529529571533203),\n",
       " ('always', 0.3463168144226074),\n",
       " ('cares', 0.33644816279411316),\n",
       " ('excellent', 0.3299354910850525),\n",
       " ('amazing', 0.3298393189907074),\n",
       " ('outstanding', 0.289012610912323),\n",
       " ('dedicated', 0.2821180820465088)]"
      ]
     },
     "execution_count": 101,
     "metadata": {},
     "output_type": "execute_result"
    }
   ],
   "source": [
    "w2v_3.wv.most_similar(positive=[\"caring\"])"
   ]
  },
  {
   "cell_type": "code",
   "execution_count": 102,
   "metadata": {
    "scrolled": true
   },
   "outputs": [
    {
     "data": {
      "text/plain": [
       "[('unprofessional', 0.4077616333961487),\n",
       " ('rudest', 0.38368290662765503),\n",
       " ('awful', 0.3594316244125366),\n",
       " ('nasty', 0.34824907779693604),\n",
       " ('unfriendly', 0.3460191786289215),\n",
       " ('horrible', 0.3386519253253937),\n",
       " ('office', 0.30691030621528625),\n",
       " ('worst', 0.29962262511253357),\n",
       " ('unhelpful', 0.2923283278942108),\n",
       " ('told', 0.2854226231575012)]"
      ]
     },
     "execution_count": 102,
     "metadata": {},
     "output_type": "execute_result"
    }
   ],
   "source": [
    "w2v_3.wv.most_similar(positive=[\"rude\"])"
   ]
  },
  {
   "cell_type": "code",
   "execution_count": 114,
   "metadata": {},
   "outputs": [
    {
     "data": {
      "text/plain": [
       "[('rude', 0.4077616333961487),\n",
       " ('worst', 0.3490385413169861),\n",
       " ('incompetent', 0.3211132884025574),\n",
       " ('office', 0.3169613182544708),\n",
       " ('disrespectful', 0.3127964735031128),\n",
       " ('inappropriate', 0.296947717666626),\n",
       " ('horrible', 0.2877311110496521),\n",
       " ('unhelpful', 0.2872677445411682),\n",
       " ('nasty', 0.28635454177856445),\n",
       " ('poor', 0.2732802629470825)]"
      ]
     },
     "execution_count": 114,
     "metadata": {},
     "output_type": "execute_result"
    }
   ],
   "source": [
    "w2v_3.wv.most_similar(positive=[\"unprofessional\"])"
   ]
  },
  {
   "cell_type": "code",
   "execution_count": 111,
   "metadata": {},
   "outputs": [
    {
     "data": {
      "text/plain": [
       "[('office', 0.4596254825592041),\n",
       " ('receptionist', 0.4453253149986267),\n",
       " ('manager', 0.41683048009872437),\n",
       " ('nurses', 0.3822271525859833),\n",
       " ('receptionists', 0.347592294216156),\n",
       " ('service', 0.3028676509857178),\n",
       " ('staffs', 0.3011287748813629),\n",
       " ('employees', 0.297333300113678),\n",
       " ('billing', 0.29284152388572693),\n",
       " ('girls', 0.2866860330104828)]"
      ]
     },
     "execution_count": 111,
     "metadata": {},
     "output_type": "execute_result"
    }
   ],
   "source": [
    "w2v_3.wv.most_similar(positive=[\"staff\"])"
   ]
  },
  {
   "cell_type": "markdown",
   "metadata": {},
   "source": [
    "### Hyperparameter setting 4 ( change the window size to 35, holding the rest of the parameters constant)"
   ]
  },
  {
   "cell_type": "code",
   "execution_count": 72,
   "metadata": {},
   "outputs": [
    {
     "data": {
      "text/plain": [
       "(166354457, 207417900)"
      ]
     },
     "execution_count": 72,
     "metadata": {},
     "output_type": "execute_result"
    }
   ],
   "source": [
    "w2v = Word2Vec(size=300,window=35,min_count=30,workers=4,hs=0, negative=7)\n",
    "w2v.build_vocab(documents)\n",
    "w2v.train(documents, total_examples=w2v.corpus_count,epochs=100)"
   ]
  },
  {
   "cell_type": "code",
   "execution_count": 78,
   "metadata": {},
   "outputs": [],
   "source": [
    "w2v.save(\"w2v_4.model\")"
   ]
  },
  {
   "cell_type": "code",
   "execution_count": 103,
   "metadata": {},
   "outputs": [],
   "source": [
    "w2v_4= Word2Vec.load(\"w2v_4.model\")"
   ]
  },
  {
   "cell_type": "code",
   "execution_count": 104,
   "metadata": {},
   "outputs": [
    {
     "data": {
      "text/plain": [
       "[('doctor', 0.4137003421783447),\n",
       " ('physician', 0.3113670349121094),\n",
       " ('always', 0.2740619480609894),\n",
       " ('doctors', 0.25287771224975586),\n",
       " ('recently', 0.23316174745559692),\n",
       " ('wonderful', 0.22798559069633484),\n",
       " ('internist', 0.22430753707885742),\n",
       " ('happy', 0.22162382304668427),\n",
       " ('attentive', 0.21890303492546082),\n",
       " ('pleased', 0.21853145956993103)]"
      ]
     },
     "execution_count": 104,
     "metadata": {},
     "output_type": "execute_result"
    }
   ],
   "source": [
    "w2v_4.wv.most_similar(positive=[\"dr\"])"
   ]
  },
  {
   "cell_type": "code",
   "execution_count": 105,
   "metadata": {},
   "outputs": [
    {
     "data": {
      "text/plain": [
       "[('great', 0.6200506687164307),\n",
       " ('fantastic', 0.5493857860565186),\n",
       " ('excellent', 0.5458062291145325),\n",
       " ('amazing', 0.5314452052116394),\n",
       " ('best', 0.438632607460022),\n",
       " ('kind', 0.4210386276245117),\n",
       " ('outstanding', 0.4168912172317505),\n",
       " ('awesome', 0.41104668378829956),\n",
       " ('love', 0.408115953207016),\n",
       " ('caring', 0.388559490442276)]"
      ]
     },
     "execution_count": 105,
     "metadata": {},
     "output_type": "execute_result"
    }
   ],
   "source": [
    "w2v_4.wv.most_similar(positive=[\"wonderful\"])"
   ]
  },
  {
   "cell_type": "code",
   "execution_count": 106,
   "metadata": {},
   "outputs": [
    {
     "data": {
      "text/plain": [
       "[('knowledgable', 0.8596457242965698),\n",
       " ('knowlegeable', 0.483573317527771),\n",
       " ('knowlegable', 0.47059398889541626),\n",
       " ('intelligent', 0.43237441778182983),\n",
       " ('competent', 0.39518097043037415),\n",
       " ('knowledgeble', 0.38079333305358887),\n",
       " ('smart', 0.3555871248245239),\n",
       " ('knowledge', 0.29687124490737915),\n",
       " ('always', 0.28782323002815247),\n",
       " ('informative', 0.2796274423599243)]"
      ]
     },
     "execution_count": 106,
     "metadata": {},
     "output_type": "execute_result"
    }
   ],
   "source": [
    "w2v_4.wv.most_similar(positive=[\"knowledgeable\"])"
   ]
  },
  {
   "cell_type": "code",
   "execution_count": 107,
   "metadata": {},
   "outputs": [
    {
     "data": {
      "text/plain": [
       "[('kind', 0.41506582498550415),\n",
       " ('compassionate', 0.3977191150188446),\n",
       " ('wonderful', 0.388559490442276),\n",
       " ('best', 0.36833930015563965),\n",
       " ('excellent', 0.3447863459587097),\n",
       " ('amazing', 0.34190112352371216),\n",
       " ('cares', 0.3362942337989807),\n",
       " ('always', 0.3321238160133362),\n",
       " ('dedicated', 0.30629539489746094),\n",
       " ('personable', 0.30174383521080017)]"
      ]
     },
     "execution_count": 107,
     "metadata": {},
     "output_type": "execute_result"
    }
   ],
   "source": [
    "w2v_4.wv.most_similar(positive=[\"caring\"])"
   ]
  },
  {
   "cell_type": "code",
   "execution_count": 108,
   "metadata": {},
   "outputs": [
    {
     "data": {
      "text/plain": [
       "[('unprofessional', 0.4353541135787964),\n",
       " ('unfriendly', 0.40955424308776855),\n",
       " ('rudest', 0.4000231623649597),\n",
       " ('awful', 0.36272478103637695),\n",
       " ('nasty', 0.3527188301086426),\n",
       " ('horrible', 0.34923985600471497),\n",
       " ('office', 0.3192899227142334),\n",
       " ('rudely', 0.3074188530445099),\n",
       " ('cold', 0.2972487807273865),\n",
       " ('unhelpful', 0.2953112721443176)]"
      ]
     },
     "execution_count": 108,
     "metadata": {},
     "output_type": "execute_result"
    }
   ],
   "source": [
    "w2v_4.wv.most_similar(positive=[\"rude\"])"
   ]
  },
  {
   "cell_type": "code",
   "execution_count": 109,
   "metadata": {},
   "outputs": [
    {
     "data": {
      "text/plain": [
       "[('rude', 0.4353541135787964),\n",
       " ('worst', 0.3636912703514099),\n",
       " ('incompetent', 0.33620721101760864),\n",
       " ('office', 0.3111066222190857),\n",
       " ('nasty', 0.3103058934211731),\n",
       " ('horrible', 0.31019556522369385),\n",
       " ('poor', 0.309330552816391),\n",
       " ('unhelpful', 0.29595911502838135),\n",
       " ('disrespectful', 0.29430824518203735),\n",
       " ('unacceptable', 0.29147595167160034)]"
      ]
     },
     "execution_count": 109,
     "metadata": {},
     "output_type": "execute_result"
    }
   ],
   "source": [
    "w2v_4.wv.most_similar(positive=[\"unprofessional\"])"
   ]
  },
  {
   "cell_type": "code",
   "execution_count": 110,
   "metadata": {},
   "outputs": [
    {
     "data": {
      "text/plain": [
       "[('office', 0.4611814022064209),\n",
       " ('receptionist', 0.4251977205276489),\n",
       " ('manager', 0.4200279116630554),\n",
       " ('nurses', 0.3813477158546448),\n",
       " ('receptionists', 0.3339008688926697),\n",
       " ('employees', 0.3162460923194885),\n",
       " ('personnel', 0.2974974513053894),\n",
       " ('staffs', 0.296334445476532),\n",
       " ('girls', 0.29333484172821045),\n",
       " ('service', 0.29294687509536743)]"
      ]
     },
     "execution_count": 110,
     "metadata": {},
     "output_type": "execute_result"
    }
   ],
   "source": [
    "w2v_4.wv.most_similar(positive=[\"staff\"])"
   ]
  },
  {
   "cell_type": "markdown",
   "metadata": {},
   "source": [
    "### Run Doc2vec - gender"
   ]
  },
  {
   "cell_type": "code",
   "execution_count": 32,
   "metadata": {},
   "outputs": [
    {
     "data": {
      "text/plain": [
       "'satisfactory'"
      ]
     },
     "execution_count": 32,
     "metadata": {},
     "output_type": "execute_result"
    }
   ],
   "source": [
    "documents[0][0]"
   ]
  },
  {
   "cell_type": "code",
   "execution_count": 33,
   "metadata": {},
   "outputs": [],
   "source": [
    "gender = list(review_im['gender'])\n",
    "hasorder = list(review_im['hasorder'])"
   ]
  },
  {
   "cell_type": "code",
   "execution_count": 34,
   "metadata": {},
   "outputs": [
    {
     "data": {
      "text/plain": [
       "(87875, 87875, 87875)"
      ]
     },
     "execution_count": 34,
     "metadata": {},
     "output_type": "execute_result"
    }
   ],
   "source": [
    "len(documents),len(gender),len(hasorder)"
   ]
  },
  {
   "cell_type": "code",
   "execution_count": 123,
   "metadata": {},
   "outputs": [],
   "source": [
    "# Tag document\n",
    "import gensim\n",
    "docs = [] # each review/row is a tagged document.\n",
    "for i in range(len(documents)):\n",
    "    docs.append(gensim.models.doc2vec.TaggedDocument(documents[i], [gender[i]]))"
   ]
  },
  {
   "cell_type": "code",
   "execution_count": 124,
   "metadata": {},
   "outputs": [
    {
     "data": {
      "text/plain": [
       "TaggedDocument(words=['satisfactory', 'recommend', 'coldness', 'solo', 'helpfulness', 'limited', 'office', 'staff', 'isolation', 'diagnosis', 'solo'], tags=['F'])"
      ]
     },
     "execution_count": 124,
     "metadata": {},
     "output_type": "execute_result"
    }
   ],
   "source": [
    "docs[0]"
   ]
  },
  {
   "cell_type": "code",
   "execution_count": 125,
   "metadata": {},
   "outputs": [],
   "source": [
    "docs_for_vocab = [] \n",
    "for i in docs:\n",
    "    docs_for_vocab.append(i)"
   ]
  },
  {
   "cell_type": "code",
   "execution_count": 41,
   "metadata": {},
   "outputs": [],
   "source": [
    "from gensim.models.doc2vec import Doc2Vec, TaggedDocument\n",
    "import gensim\n",
    "import multiprocessing"
   ]
  },
  {
   "cell_type": "code",
   "execution_count": 133,
   "metadata": {},
   "outputs": [],
   "source": [
    "model = Doc2Vec(dm=0, window=30,vector_size=300,min_count=30,epochs=100,workers=4,\n",
    "               hs=0,negative=7,dbow_words=1,dm_concat=1)\n",
    "model.build_vocab(docs_for_vocab)\n",
    "model.train(documents = docs,total_examples=model.corpus_count,epochs=100)"
   ]
  },
  {
   "cell_type": "code",
   "execution_count": 134,
   "metadata": {},
   "outputs": [],
   "source": [
    "model.save(\"d2v_g1.model\")"
   ]
  },
  {
   "cell_type": "code",
   "execution_count": 49,
   "metadata": {},
   "outputs": [],
   "source": [
    "d2v_g1= Doc2Vec.load(\"d2v_g1.model\")"
   ]
  },
  {
   "cell_type": "code",
   "execution_count": 52,
   "metadata": {},
   "outputs": [
    {
     "data": {
      "text/plain": [
       "[('dr', 0.7431488633155823),\n",
       " ('doctor', 0.7271621227264404),\n",
       " ('caring', 0.6368781328201294),\n",
       " ('staff', 0.6312354803085327),\n",
       " ('office', 0.6301532983779907),\n",
       " ('extremely', 0.629963755607605),\n",
       " ('time', 0.6232239007949829),\n",
       " ('really', 0.6171454787254333),\n",
       " ('knowledgeable', 0.6163986921310425),\n",
       " ('always', 0.6149625778198242),\n",
       " ('patient', 0.6130982637405396),\n",
       " ('never', 0.6121476888656616),\n",
       " ('kind', 0.610569179058075),\n",
       " ('see', 0.6052374839782715),\n",
       " ('friendly', 0.5981082916259766),\n",
       " ('helpful', 0.5978922843933105),\n",
       " ('thorough', 0.5870985984802246),\n",
       " ('going', 0.5819225311279297),\n",
       " ('professional', 0.5779584050178528),\n",
       " ('well', 0.5746647119522095),\n",
       " ('one', 0.5737192630767822),\n",
       " ('good', 0.5691540837287903),\n",
       " ('patients', 0.565822958946228),\n",
       " ('compassionate', 0.5642505884170532),\n",
       " ('personable', 0.561754584312439),\n",
       " ('seen', 0.5613508224487305),\n",
       " ('think', 0.5581833124160767),\n",
       " ('great', 0.5574188828468323),\n",
       " ('attentive', 0.5564973950386047),\n",
       " ('concerns', 0.5551470518112183),\n",
       " ('seeing', 0.551384449005127),\n",
       " ('person', 0.548750638961792),\n",
       " ('know', 0.5450577139854431),\n",
       " ('even', 0.5443200469017029),\n",
       " ('actually', 0.5398331880569458),\n",
       " ('go', 0.5386463403701782),\n",
       " ('wonderful', 0.5380950570106506),\n",
       " ('find', 0.5375157594680786),\n",
       " ('recommend', 0.5363624691963196),\n",
       " ('found', 0.5351822376251221),\n",
       " ('work', 0.5334018468856812),\n",
       " ('doctors', 0.5326710939407349),\n",
       " ('physician', 0.5322355031967163),\n",
       " ('understanding', 0.5275819897651672),\n",
       " ('feel', 0.5239994525909424),\n",
       " ('highly', 0.5234348177909851),\n",
       " ('care', 0.5219600796699524),\n",
       " ('takes', 0.5218997597694397),\n",
       " ('many', 0.5216515064239502),\n",
       " ('knowledgable', 0.5144848227500916),\n",
       " ('excellent', 0.5137115716934204),\n",
       " ('say', 0.5116659998893738),\n",
       " ('first', 0.5058455467224121),\n",
       " ('answers', 0.5056135654449463),\n",
       " ('nurse', 0.5055434107780457),\n",
       " ('talk', 0.5055410265922546),\n",
       " ('love', 0.5049452781677246),\n",
       " ('best', 0.503525972366333),\n",
       " ('need', 0.5033479928970337),\n",
       " ('questions', 0.501903772354126),\n",
       " ('rush', 0.5008451342582703),\n",
       " ('much', 0.5005139708518982),\n",
       " ('wait', 0.49951159954071045),\n",
       " ('long', 0.4982221722602844),\n",
       " ('health', 0.4981022775173187),\n",
       " ('years', 0.49756932258605957),\n",
       " ('important', 0.4975481331348419),\n",
       " ('happy', 0.4969469904899597),\n",
       " ('issues', 0.49420279264450073),\n",
       " ('way', 0.49324285984039307),\n",
       " ('makes', 0.4924282431602478),\n",
       " ('listen', 0.4922063648700714),\n",
       " ('listens', 0.4896649718284607),\n",
       " ('anyone', 0.4895325005054474),\n",
       " ('seems', 0.48902928829193115),\n",
       " ('competent', 0.48892301321029663),\n",
       " ('times', 0.4884604513645172),\n",
       " ('concerned', 0.4874793589115143),\n",
       " ('manner', 0.4871993660926819),\n",
       " ('back', 0.4869266748428345),\n",
       " ('truly', 0.4867843985557556),\n",
       " ('needs', 0.48630648851394653),\n",
       " ('needed', 0.48583611845970154),\n",
       " ('punctual', 0.4856724739074707),\n",
       " ('take', 0.4842112362384796),\n",
       " ('appointment', 0.48349112272262573),\n",
       " ('pleasant', 0.4828939139842987),\n",
       " ('last', 0.4822140038013458),\n",
       " ('problems', 0.4821995496749878),\n",
       " ('smart', 0.4820987582206726),\n",
       " ('everything', 0.4808916449546814),\n",
       " ('nice', 0.47971218824386597),\n",
       " ('follow', 0.47921502590179443),\n",
       " ('sometimes', 0.47787994146347046),\n",
       " ('everyone', 0.47676247358322144),\n",
       " ('lot', 0.4764578342437744),\n",
       " ('past', 0.47562259435653687),\n",
       " ('looking', 0.474172443151474),\n",
       " ('intelligent', 0.47415968775749207),\n",
       " ('almost', 0.47402992844581604),\n",
       " ('listener', 0.4737008213996887),\n",
       " ('gives', 0.47325998544692993),\n",
       " ('better', 0.4732244908809662),\n",
       " ('things', 0.47256383299827576),\n",
       " ('experience', 0.47201621532440186),\n",
       " ('medical', 0.4706067740917206),\n",
       " ('bedside', 0.4705362319946289),\n",
       " ('still', 0.4698784053325653),\n",
       " ('gone', 0.4688286781311035),\n",
       " ('appointments', 0.46831265091896057),\n",
       " ('polite', 0.46779677271842957),\n",
       " ('every', 0.4671304225921631),\n",
       " ('rushed', 0.46711403131484985),\n",
       " ('help', 0.46702829003334045),\n",
       " ('anything', 0.4666627049446106),\n",
       " ('warm', 0.46662637591362),\n",
       " ('make', 0.4651567339897156),\n",
       " ('may', 0.4641304016113281),\n",
       " ('ask', 0.46391957998275757),\n",
       " ('cares', 0.4638427495956421),\n",
       " ('wish', 0.46297091245651245),\n",
       " ('far', 0.4626336991786957),\n",
       " ('problem', 0.4621134400367737),\n",
       " ('primary', 0.46045446395874023),\n",
       " ('little', 0.4576888680458069),\n",
       " ('getting', 0.45584702491760254),\n",
       " ('tell', 0.4557412564754486),\n",
       " ('easy', 0.45537692308425903),\n",
       " ('feeling', 0.45426300168037415),\n",
       " ('practice', 0.4535640478134155),\n",
       " ('got', 0.4529220461845398),\n",
       " ('someone', 0.4522130489349365),\n",
       " ('usually', 0.4518089294433594),\n",
       " ('new', 0.4511040449142456),\n",
       " ('empathetic', 0.4507320523262024),\n",
       " ('internist', 0.4505290687084198),\n",
       " ('though', 0.45046380162239075),\n",
       " ('others', 0.4503129720687866),\n",
       " ('knows', 0.45009779930114746),\n",
       " ('visit', 0.4498993158340454),\n",
       " ('thoughtful', 0.4497963786125183),\n",
       " ('personality', 0.4487941563129425),\n",
       " ('right', 0.44803744554519653),\n",
       " ('visits', 0.44800934195518494),\n",
       " ('spends', 0.44782522320747375),\n",
       " ('responsive', 0.4473118185997009),\n",
       " ('give', 0.44676294922828674),\n",
       " ('considerate', 0.44651076197624207),\n",
       " ('spend', 0.44453203678131104),\n",
       " ('answer', 0.4424680769443512),\n",
       " ('another', 0.44216325879096985),\n",
       " ('overall', 0.4409269690513611),\n",
       " ('definitely', 0.4406548738479614),\n",
       " ('went', 0.4402996301651001),\n",
       " ('busy', 0.4399228096008301),\n",
       " ('come', 0.4395257532596588),\n",
       " ('respectful', 0.4392116069793701),\n",
       " ('something', 0.439195454120636),\n",
       " ('efficient', 0.4388554096221924),\n",
       " ('waited', 0.4384772777557373),\n",
       " ('phone', 0.4382482171058655),\n",
       " ('rude', 0.43660885095596313),\n",
       " ('enough', 0.4364032745361328),\n",
       " ('treatment', 0.43626493215560913),\n",
       " ('hard', 0.4351717233657837),\n",
       " ('want', 0.4350375533103943),\n",
       " ('yet', 0.43494218587875366),\n",
       " ('believe', 0.434684157371521),\n",
       " ('woman', 0.4346400499343872),\n",
       " ('results', 0.4342072308063507),\n",
       " ('often', 0.43214690685272217),\n",
       " ('people', 0.4318852424621582),\n",
       " ('although', 0.4317494034767151),\n",
       " ('diagnosis', 0.4316926598548889),\n",
       " ('genuinely', 0.4301437437534332),\n",
       " ('follows', 0.4301256537437439),\n",
       " ('thing', 0.43010029196739197),\n",
       " ('glad', 0.4295884668827057),\n",
       " ('current', 0.4284670948982239),\n",
       " ('several', 0.42815059423446655),\n",
       " ('willing', 0.4275340437889099),\n",
       " ('understand', 0.42753103375434875),\n",
       " ('made', 0.4259207844734192),\n",
       " ('thought', 0.4257758557796478),\n",
       " ('finally', 0.4252980351448059),\n",
       " ('rushes', 0.4242396354675293),\n",
       " ('receptionist', 0.42418843507766724),\n",
       " ('calls', 0.4238986372947693),\n",
       " ('personal', 0.42384281754493713),\n",
       " ('took', 0.4237314462661743),\n",
       " ('minutes', 0.42337650060653687),\n",
       " ('assistant', 0.42276275157928467),\n",
       " ('call', 0.42235466837882996),\n",
       " ('pcp', 0.42225968837738037),\n",
       " ('trust', 0.4219920039176941),\n",
       " ('works', 0.42147213220596313),\n",
       " ('return', 0.419837087392807),\n",
       " ('recommended', 0.4198245704174042),\n",
       " ('front', 0.4193781614303589),\n",
       " ('taking', 0.41819465160369873),\n",
       " ('listening', 0.4181937873363495),\n",
       " ('personally', 0.417996883392334),\n",
       " ('changed', 0.41752398014068604),\n",
       " ('referred', 0.4172172546386719),\n",
       " ('making', 0.4170296788215637),\n",
       " ('around', 0.41695910692214966),\n",
       " ('courteous', 0.4164694547653198),\n",
       " ('saw', 0.4158325493335724),\n",
       " ('sure', 0.41554662585258484),\n",
       " ('treats', 0.41548675298690796),\n",
       " ('seem', 0.41485080122947693),\n",
       " ('issue', 0.41437017917633057),\n",
       " ('bad', 0.41435539722442627),\n",
       " ('thoroughly', 0.41353917121887207),\n",
       " ('fantastic', 0.4125618040561676),\n",
       " ('met', 0.41244447231292725),\n",
       " ('incredibly', 0.41232824325561523),\n",
       " ('especially', 0.4121466279029846),\n",
       " ('md', 0.4119377136230469),\n",
       " ('physical', 0.41174769401550293),\n",
       " ('wants', 0.4112299978733063),\n",
       " ('attitude', 0.4111640751361847),\n",
       " ('without', 0.41077467799186707),\n",
       " ('pleased', 0.4107447862625122),\n",
       " ('leave', 0.4106826186180115),\n",
       " ('family', 0.4106371998786926),\n",
       " ('diagnostician', 0.4106086492538452),\n",
       " ('hour', 0.41036152839660645),\n",
       " ('field', 0.4103103280067444),\n",
       " ('totally', 0.41023868322372437),\n",
       " ('explains', 0.41008153557777405),\n",
       " ('least', 0.40960991382598877),\n",
       " ('two', 0.40952497720718384),\n",
       " ('called', 0.40935128927230835),\n",
       " ('amp', 0.40930676460266113),\n",
       " ('real', 0.40892285108566284),\n",
       " ('completely', 0.4082932770252228),\n",
       " ('waiting', 0.4082659184932709),\n",
       " ('explain', 0.4078240990638733),\n",
       " ('knowledge', 0.40773025155067444),\n",
       " ('quite', 0.40744704008102417),\n",
       " ('left', 0.40670543909072876),\n",
       " ('day', 0.40665745735168457),\n",
       " ('supportive', 0.40639549493789673),\n",
       " ('continue', 0.4057956337928772),\n",
       " ('detail', 0.405723512172699),\n",
       " ('endocrinologist', 0.40493249893188477),\n",
       " ('tests', 0.40469974279403687),\n",
       " ('doc', 0.4041813015937805),\n",
       " ('able', 0.404001384973526),\n",
       " ('absolutely', 0.4038477838039398),\n",
       " ('felt', 0.403761625289917),\n",
       " ('given', 0.40335318446159363),\n",
       " ('deal', 0.40303751826286316),\n",
       " ('concern', 0.4029970169067383),\n",
       " ('asks', 0.40297937393188477),\n",
       " ('difficult', 0.4016166925430298),\n",
       " ('etc', 0.40140417218208313),\n",
       " ('helped', 0.40132880210876465),\n",
       " ('experienced', 0.4013097286224365),\n",
       " ('informative', 0.40059810876846313),\n",
       " ('talking', 0.40034568309783936),\n",
       " ('longer', 0.4000513553619385),\n",
       " ('awesome', 0.39965587854385376),\n",
       " ('returns', 0.3992558717727661),\n",
       " ('hurry', 0.39917051792144775),\n",
       " ('year', 0.3991241455078125),\n",
       " ('interested', 0.39904236793518066),\n",
       " ('previous', 0.39887794852256775),\n",
       " ('worth', 0.3987298905849457),\n",
       " ('spent', 0.39868825674057007),\n",
       " ('approachable', 0.3984949588775635),\n",
       " ('manners', 0.3983459770679474),\n",
       " ('recently', 0.3982343077659607),\n",
       " ('lab', 0.39725327491760254),\n",
       " ('less', 0.3970866799354553),\n",
       " ('generally', 0.39697784185409546),\n",
       " ('try', 0.3967399299144745),\n",
       " ('appt', 0.39586228132247925),\n",
       " ('amazing', 0.3957371413707733),\n",
       " ('insurance', 0.39554843306541443),\n",
       " ('might', 0.394853413105011),\n",
       " ('keep', 0.3943304419517517),\n",
       " ('quick', 0.3940277695655823),\n",
       " ('quickly', 0.39352330565452576),\n",
       " ('short', 0.3934042155742645),\n",
       " ('came', 0.3929975926876068),\n",
       " ('attention', 0.39279282093048096),\n",
       " ('check', 0.39181381464004517),\n",
       " ('top', 0.3917408585548401),\n",
       " ('working', 0.39126673340797424),\n",
       " ('different', 0.3911823034286499),\n",
       " ('wrong', 0.3908717632293701),\n",
       " ('demeanor', 0.39081624150276184),\n",
       " ('goes', 0.3899289667606354),\n",
       " ('gave', 0.38992083072662354),\n",
       " ('promptly', 0.38921958208084106),\n",
       " ('comments', 0.3887362778186798),\n",
       " ('unfriendly', 0.3884063959121704),\n",
       " ('change', 0.3882337808609009),\n",
       " ('pa', 0.3879649043083191),\n",
       " ('full', 0.3878503441810608),\n",
       " ('fact', 0.387837678194046),\n",
       " ('history', 0.38764652609825134),\n",
       " ('moved', 0.38752007484436035),\n",
       " ('look', 0.38718244433403015),\n",
       " ('must', 0.3869667649269104),\n",
       " ('super', 0.3869129419326782),\n",
       " ('matter', 0.38682204484939575),\n",
       " ('simply', 0.38654807209968567),\n",
       " ('lucky', 0.38650625944137573),\n",
       " ('physicians', 0.3864695429801941),\n",
       " ('hours', 0.3861478567123413),\n",
       " ('trying', 0.38603073358535767),\n",
       " ('done', 0.38566067814826965),\n",
       " ('comes', 0.385545015335083),\n",
       " ('rushing', 0.3851078450679779),\n",
       " ('respect', 0.38454556465148926),\n",
       " ('either', 0.3843737840652466),\n",
       " ('bit', 0.3843382000923157),\n",
       " ('refer', 0.38416874408721924),\n",
       " ('available', 0.38381338119506836),\n",
       " ('received', 0.38359570503234863),\n",
       " ('medicine', 0.38353216648101807),\n",
       " ('detailed', 0.38333484530448914),\n",
       " ('stuff', 0.38297712802886963),\n",
       " ('answered', 0.3828493058681488),\n",
       " ('specialist', 0.38271263241767883),\n",
       " ('gets', 0.38242971897125244),\n",
       " ('job', 0.38226014375686646),\n",
       " ('area', 0.3821427822113037),\n",
       " ('talks', 0.38174259662628174),\n",
       " ('skills', 0.3814697265625),\n",
       " ('yes', 0.3814519941806793),\n",
       " ('half', 0.38124144077301025),\n",
       " ('asking', 0.38106852769851685),\n",
       " ('taken', 0.3809141218662262),\n",
       " ('necessary', 0.3807038962841034),\n",
       " ('whole', 0.37975502014160156),\n",
       " ('encountered', 0.3794446885585785),\n",
       " ('plan', 0.37922292947769165),\n",
       " ('next', 0.3787389099597931),\n",
       " ('symptoms', 0.37839311361312866),\n",
       " ('cold', 0.37798529863357544),\n",
       " ('shows', 0.3775922656059265),\n",
       " ('schedule', 0.37730279564857483),\n",
       " ('individual', 0.3769845962524414),\n",
       " ('information', 0.3768133223056793),\n",
       " ('listened', 0.37678980827331543),\n",
       " ('practitioner', 0.37675780057907104),\n",
       " ('ago', 0.37637561559677124),\n",
       " ('nothing', 0.37612006068229675),\n",
       " ('twice', 0.37610143423080444),\n",
       " ('comfortable', 0.3759846091270447),\n",
       " ('dealing', 0.37594813108444214),\n",
       " ('service', 0.3759195804595947),\n",
       " ('number', 0.37545445561408997),\n",
       " ('instead', 0.3754312992095947),\n",
       " ('test', 0.3753134608268738),\n",
       " ('agree', 0.3746589422225952),\n",
       " ('possible', 0.37448951601982117),\n",
       " ('referrals', 0.3742884695529938),\n",
       " ('plus', 0.3737618327140808),\n",
       " ('exam', 0.3735683262348175),\n",
       " ('late', 0.37346792221069336),\n",
       " ('run', 0.37341976165771484),\n",
       " ('entire', 0.37341469526290894),\n",
       " ('lady', 0.37333470582962036),\n",
       " ('prompt', 0.3733276128768921),\n",
       " ('provides', 0.37315571308135986),\n",
       " ('dedicated', 0.3729950487613678),\n",
       " ('negative', 0.3725012540817261),\n",
       " ('probably', 0.37249886989593506),\n",
       " ('switched', 0.3723406195640564),\n",
       " ('clearly', 0.37218594551086426),\n",
       " ('desk', 0.3720109760761261),\n",
       " ('complaints', 0.3718024492263794),\n",
       " ('prescriptions', 0.3717397451400757),\n",
       " ('life', 0.37155336141586304),\n",
       " ('lost', 0.3708260655403137),\n",
       " ('date', 0.3706962466239929),\n",
       " ('wanted', 0.370544970035553),\n",
       " ('genuine', 0.3701190948486328),\n",
       " ('disappointed', 0.36993342638015747),\n",
       " ('earth', 0.3698654770851135),\n",
       " ('man', 0.36970993876457214),\n",
       " ('honest', 0.3695225119590759),\n",
       " ('rather', 0.36906909942626953),\n",
       " ('discuss', 0.36865270137786865),\n",
       " ('mind', 0.3681589961051941),\n",
       " ('horrible', 0.36781585216522217),\n",
       " ('address', 0.367777019739151),\n",
       " ('sense', 0.36772674322128296),\n",
       " ('young', 0.36735600233078003),\n",
       " ('carefully', 0.3667384088039398),\n",
       " ('sees', 0.36647215485572815),\n",
       " ('sweet', 0.3659505248069763),\n",
       " ('treated', 0.36588793992996216),\n",
       " ('appreciate', 0.365853488445282),\n",
       " ('week', 0.36547693610191345),\n",
       " ('reason', 0.36532729864120483),\n",
       " ('average', 0.36489337682724),\n",
       " ('remembers', 0.36476534605026245),\n",
       " ('helping', 0.364540696144104),\n",
       " ('options', 0.3638022541999817),\n",
       " ('part', 0.36360764503479004),\n",
       " ('rarely', 0.3635978698730469),\n",
       " ('three', 0.36319655179977417),\n",
       " ('question', 0.3631191849708557),\n",
       " ('started', 0.3631132245063782),\n",
       " ('known', 0.3630591630935669),\n",
       " ('hands', 0.36303210258483887),\n",
       " ('couple', 0.36295199394226074),\n",
       " ('human', 0.3628348410129547),\n",
       " ('rare', 0.362589955329895),\n",
       " ('whatever', 0.36237168312072754),\n",
       " ('prescription', 0.36232295632362366),\n",
       " ('running', 0.3614092469215393),\n",
       " ('looks', 0.3603193163871765),\n",
       " ('terrible', 0.36010098457336426),\n",
       " ('finding', 0.35986727476119995),\n",
       " ('order', 0.35985201597213745),\n",
       " ('calling', 0.359781950712204),\n",
       " ('read', 0.35951244831085205),\n",
       " ('proactive', 0.35902881622314453),\n",
       " ('knowlegeable', 0.3589811325073242),\n",
       " ('today', 0.35891813039779663),\n",
       " ('sick', 0.35888075828552246),\n",
       " ('diabetes', 0.35827961564064026),\n",
       " ('impressed', 0.3577694296836853),\n",
       " ('provider', 0.3575882315635681),\n",
       " ('true', 0.35755032300949097),\n",
       " ('appropriate', 0.3575294613838196),\n",
       " ('beyond', 0.35724472999572754),\n",
       " ('treat', 0.35720038414001465),\n",
       " ('illness', 0.3570399284362793),\n",
       " ('bright', 0.35694774985313416),\n",
       " ('already', 0.35643064975738525),\n",
       " ('understands', 0.356288343667984),\n",
       " ('used', 0.3561364412307739),\n",
       " ('treating', 0.3561249077320099),\n",
       " ('room', 0.3559654951095581),\n",
       " ('unfortunately', 0.35589152574539185),\n",
       " ('seemed', 0.3556984066963196),\n",
       " ('condition', 0.35561829805374146),\n",
       " ('us', 0.35559535026550293),\n",
       " ('lots', 0.3555259704589844),\n",
       " ('sensitive', 0.35530388355255127),\n",
       " ('point', 0.3545668125152588),\n",
       " ('thinks', 0.35441073775291443),\n",
       " ('fine', 0.3539949953556061),\n",
       " ('approach', 0.3539677858352661),\n",
       " ('rheumatologist', 0.3539165258407593),\n",
       " ('tries', 0.35383176803588867),\n",
       " ('runs', 0.3537236452102661),\n",
       " ('surprised', 0.35367220640182495),\n",
       " ('examination', 0.35365813970565796),\n",
       " ('specialists', 0.35353758931159973),\n",
       " ('unprofessional', 0.35319840908050537),\n",
       " ('bottom', 0.3529697060585022),\n",
       " ('away', 0.3528808355331421),\n",
       " ('complaint', 0.35280224680900574),\n",
       " ('knowlegable', 0.3527992367744446),\n",
       " ('keeps', 0.35278522968292236),\n",
       " ('outstanding', 0.3525923490524292),\n",
       " ('plenty', 0.35244300961494446),\n",
       " ('thyroid', 0.35238975286483765),\n",
       " ('old', 0.35228556394577026),\n",
       " ('reasons', 0.35200202465057373),\n",
       " ('months', 0.3519595265388489),\n",
       " ('diagnosed', 0.3518450856208801),\n",
       " ('appts', 0.3516963720321655),\n",
       " ('door', 0.3509690463542938),\n",
       " ('asked', 0.3508642315864563),\n",
       " ('addressed', 0.35017460584640503),\n",
       " ('use', 0.3501696288585663),\n",
       " ('addition', 0.34971874952316284),\n",
       " ('mean', 0.34963545203208923),\n",
       " ('compassion', 0.3495532274246216),\n",
       " ('condescending', 0.3494342863559723),\n",
       " ('due', 0.3488510251045227),\n",
       " ('research', 0.34858226776123047),\n",
       " ('nurses', 0.34840184450149536),\n",
       " ('behind', 0.348259836435318),\n",
       " ('general', 0.3477097153663635),\n",
       " ('hear', 0.34748727083206177),\n",
       " ('experiences', 0.3472243547439575),\n",
       " ('regarding', 0.34686607122421265),\n",
       " ('friends', 0.34675467014312744),\n",
       " ('quality', 0.3466532230377197),\n",
       " ('turned', 0.3465557098388672),\n",
       " ('terrific', 0.3461014926433563),\n",
       " ('days', 0.34594613313674927),\n",
       " ('explaining', 0.34530019760131836),\n",
       " ('funny', 0.34511542320251465),\n",
       " ('confidence', 0.34483975172042847),\n",
       " ('cared', 0.3447718024253845),\n",
       " ('friend', 0.3445253372192383),\n",
       " ('side', 0.34439176321029663),\n",
       " ('refers', 0.34438812732696533)]"
      ]
     },
     "execution_count": 52,
     "metadata": {},
     "output_type": "execute_result"
    }
   ],
   "source": [
    "d2v_g1.wv.most_similar(positive = [d2v_g1.docvecs['F']],topn=500)"
   ]
  },
  {
   "cell_type": "code",
   "execution_count": 51,
   "metadata": {
    "scrolled": true
   },
   "outputs": [
    {
     "data": {
      "text/plain": [
       "[('dr', 0.7431488633155823),\n",
       " ('doctor', 0.7271621227264404),\n",
       " ('caring', 0.6368781328201294),\n",
       " ('staff', 0.6312354803085327),\n",
       " ('office', 0.6301532983779907),\n",
       " ('extremely', 0.629963755607605),\n",
       " ('time', 0.6232239007949829),\n",
       " ('really', 0.6171454787254333),\n",
       " ('knowledgeable', 0.6163986921310425),\n",
       " ('always', 0.6149625778198242),\n",
       " ('patient', 0.6130982637405396),\n",
       " ('never', 0.6121476888656616),\n",
       " ('kind', 0.610569179058075),\n",
       " ('see', 0.6052374839782715),\n",
       " ('friendly', 0.5981082916259766),\n",
       " ('helpful', 0.5978922843933105),\n",
       " ('thorough', 0.5870985984802246),\n",
       " ('going', 0.5819225311279297),\n",
       " ('professional', 0.5779584050178528),\n",
       " ('well', 0.5746647119522095),\n",
       " ('one', 0.5737192630767822),\n",
       " ('good', 0.5691540837287903),\n",
       " ('patients', 0.565822958946228),\n",
       " ('compassionate', 0.5642505884170532),\n",
       " ('personable', 0.561754584312439),\n",
       " ('seen', 0.5613508224487305),\n",
       " ('think', 0.5581833124160767),\n",
       " ('great', 0.5574188828468323),\n",
       " ('attentive', 0.5564973950386047),\n",
       " ('concerns', 0.5551470518112183),\n",
       " ('seeing', 0.551384449005127),\n",
       " ('person', 0.548750638961792),\n",
       " ('know', 0.5450577139854431),\n",
       " ('even', 0.5443200469017029),\n",
       " ('actually', 0.5398331880569458),\n",
       " ('go', 0.5386463403701782),\n",
       " ('wonderful', 0.5380950570106506),\n",
       " ('find', 0.5375157594680786),\n",
       " ('recommend', 0.5363624691963196),\n",
       " ('found', 0.5351822376251221),\n",
       " ('work', 0.5334018468856812),\n",
       " ('doctors', 0.5326710939407349),\n",
       " ('physician', 0.5322355031967163),\n",
       " ('understanding', 0.5275819897651672),\n",
       " ('feel', 0.5239994525909424),\n",
       " ('highly', 0.5234348177909851),\n",
       " ('care', 0.5219600796699524),\n",
       " ('takes', 0.5218997597694397),\n",
       " ('many', 0.5216515064239502),\n",
       " ('knowledgable', 0.5144848227500916),\n",
       " ('excellent', 0.5137115716934204),\n",
       " ('say', 0.5116659998893738),\n",
       " ('first', 0.5058455467224121),\n",
       " ('answers', 0.5056135654449463),\n",
       " ('nurse', 0.5055434107780457),\n",
       " ('talk', 0.5055410265922546),\n",
       " ('love', 0.5049452781677246),\n",
       " ('best', 0.503525972366333),\n",
       " ('need', 0.5033479928970337),\n",
       " ('questions', 0.501903772354126),\n",
       " ('rush', 0.5008451342582703),\n",
       " ('much', 0.5005139708518982),\n",
       " ('wait', 0.49951159954071045),\n",
       " ('long', 0.4982221722602844),\n",
       " ('health', 0.4981022775173187),\n",
       " ('years', 0.49756932258605957),\n",
       " ('important', 0.4975481331348419),\n",
       " ('happy', 0.4969469904899597),\n",
       " ('issues', 0.49420279264450073),\n",
       " ('way', 0.49324285984039307),\n",
       " ('makes', 0.4924282431602478),\n",
       " ('listen', 0.4922063648700714),\n",
       " ('listens', 0.4896649718284607),\n",
       " ('anyone', 0.4895325005054474),\n",
       " ('seems', 0.48902928829193115),\n",
       " ('competent', 0.48892301321029663),\n",
       " ('times', 0.4884604513645172),\n",
       " ('concerned', 0.4874793589115143),\n",
       " ('manner', 0.4871993660926819),\n",
       " ('back', 0.4869266748428345),\n",
       " ('truly', 0.4867843985557556),\n",
       " ('needs', 0.48630648851394653),\n",
       " ('needed', 0.48583611845970154),\n",
       " ('punctual', 0.4856724739074707),\n",
       " ('take', 0.4842112362384796),\n",
       " ('appointment', 0.48349112272262573),\n",
       " ('pleasant', 0.4828939139842987),\n",
       " ('last', 0.4822140038013458),\n",
       " ('problems', 0.4821995496749878),\n",
       " ('smart', 0.4820987582206726),\n",
       " ('everything', 0.4808916449546814),\n",
       " ('nice', 0.47971218824386597),\n",
       " ('follow', 0.47921502590179443),\n",
       " ('sometimes', 0.47787994146347046),\n",
       " ('everyone', 0.47676247358322144),\n",
       " ('lot', 0.4764578342437744),\n",
       " ('past', 0.47562259435653687),\n",
       " ('looking', 0.474172443151474),\n",
       " ('intelligent', 0.47415968775749207),\n",
       " ('almost', 0.47402992844581604)]"
      ]
     },
     "execution_count": 51,
     "metadata": {},
     "output_type": "execute_result"
    }
   ],
   "source": [
    "d2v_g1.wv.most_similar(positive = [d2v_g1.docvecs['F']],topn=100)"
   ]
  },
  {
   "cell_type": "code",
   "execution_count": 53,
   "metadata": {
    "scrolled": true
   },
   "outputs": [
    {
     "data": {
      "text/plain": [
       "[('dr', 0.8281524181365967),\n",
       " ('doctor', 0.8166409134864807),\n",
       " ('kind', 0.7272549271583557),\n",
       " ('patient', 0.7099394202232361),\n",
       " ('caring', 0.7075568437576294),\n",
       " ('extremely', 0.6939889788627625),\n",
       " ('great', 0.6927266120910645),\n",
       " ('well', 0.6783657073974609),\n",
       " ('good', 0.6746696829795837),\n",
       " ('one', 0.6743701696395874),\n",
       " ('time', 0.6675636768341064),\n",
       " ('helpful', 0.6650533676147461),\n",
       " ('knowledgeable', 0.6624915599822998),\n",
       " ('professional', 0.661713719367981),\n",
       " ('excellent', 0.6578822135925293),\n",
       " ('staff', 0.6504886150360107),\n",
       " ('compassionate', 0.6467208862304688),\n",
       " ('never', 0.6451191306114197),\n",
       " ('really', 0.6367144584655762),\n",
       " ('patients', 0.636133074760437),\n",
       " ('wonderful', 0.6330146193504333),\n",
       " ('personable', 0.6284362077713013),\n",
       " ('always', 0.6224740743637085),\n",
       " ('recommend', 0.6212443709373474),\n",
       " ('physician', 0.6206147074699402),\n",
       " ('office', 0.6183151006698608),\n",
       " ('man', 0.613883376121521),\n",
       " ('found', 0.6128324270248413),\n",
       " ('know', 0.6113676428794861),\n",
       " ('go', 0.6110764145851135),\n",
       " ('friendly', 0.6090145111083984),\n",
       " ('see', 0.6050238013267517),\n",
       " ('care', 0.6040083169937134),\n",
       " ('going', 0.5991884469985962),\n",
       " ('person', 0.596441388130188),\n",
       " ('manner', 0.5960737466812134),\n",
       " ('knowledgable', 0.593792736530304),\n",
       " ('think', 0.5931624174118042),\n",
       " ('highly', 0.5924740433692932),\n",
       " ('best', 0.5885543823242188),\n",
       " ('nice', 0.5880426168441772),\n",
       " ('thorough', 0.5870373845100403),\n",
       " ('years', 0.5832208395004272),\n",
       " ('bedside', 0.5818173885345459),\n",
       " ('intelligent', 0.5817306041717529),\n",
       " ('everything', 0.5770293474197388),\n",
       " ('doctors', 0.5769978761672974),\n",
       " ('even', 0.5751056671142578),\n",
       " ('way', 0.5747212171554565),\n",
       " ('find', 0.5738717317581177),\n",
       " ('family', 0.5701314210891724),\n",
       " ('seen', 0.5694665312767029),\n",
       " ('need', 0.5646841526031494),\n",
       " ('smart', 0.5642058253288269),\n",
       " ('many', 0.5611343383789062),\n",
       " ('anyone', 0.5609306693077087),\n",
       " ('problem', 0.5589860677719116),\n",
       " ('truly', 0.5589622259140015),\n",
       " ('talk', 0.5563048720359802),\n",
       " ('much', 0.5556811690330505),\n",
       " ('takes', 0.5526549816131592),\n",
       " ('attentive', 0.5506203174591064),\n",
       " ('understanding', 0.549859881401062),\n",
       " ('pleasant', 0.5481472015380859),\n",
       " ('say', 0.5476529598236084),\n",
       " ('concerned', 0.5475624799728394),\n",
       " ('guy', 0.5442987680435181),\n",
       " ('competent', 0.5433228015899658),\n",
       " ('met', 0.5394421815872192),\n",
       " ('feel', 0.5385856032371521),\n",
       " ('polite', 0.5379957556724548),\n",
       " ('better', 0.5378050208091736),\n",
       " ('earth', 0.5367997288703918),\n",
       " ('needed', 0.5366182923316956),\n",
       " ('actually', 0.536278247833252),\n",
       " ('questions', 0.5351871848106384),\n",
       " ('first', 0.534690260887146),\n",
       " ('still', 0.5346764326095581),\n",
       " ('informative', 0.5346553325653076),\n",
       " ('knows', 0.5344384908676147),\n",
       " ('every', 0.5312214493751526),\n",
       " ('everyone', 0.5307334065437317),\n",
       " ('personality', 0.5302778482437134),\n",
       " ('problems', 0.5284222960472107),\n",
       " ('another', 0.5268130898475647),\n",
       " ('seeing', 0.526776909828186),\n",
       " ('punctual', 0.526624321937561),\n",
       " ('recommended', 0.5242524147033691),\n",
       " ('help', 0.5236226320266724),\n",
       " ('concerns', 0.5220416784286499),\n",
       " ('back', 0.521744966506958),\n",
       " ('listens', 0.521660566329956),\n",
       " ('answers', 0.5213561058044434),\n",
       " ('went', 0.5212607979774475),\n",
       " ('treatment', 0.5199664831161499),\n",
       " ('considerate', 0.5187766551971436),\n",
       " ('may', 0.5164834856987),\n",
       " ('listen', 0.5164487361907959),\n",
       " ('take', 0.5164300203323364),\n",
       " ('almost', 0.5160258412361145),\n",
       " ('field', 0.5141831636428833),\n",
       " ('believe', 0.5127437114715576),\n",
       " ('several', 0.512377142906189),\n",
       " ('took', 0.5119110345840454),\n",
       " ('anything', 0.5117586851119995),\n",
       " ('cares', 0.51065993309021),\n",
       " ('happy', 0.5103452205657959),\n",
       " ('answer', 0.5097531080245972),\n",
       " ('far', 0.5085411667823792),\n",
       " ('trust', 0.5075058341026306),\n",
       " ('love', 0.5064196586608887),\n",
       " ('want', 0.506415069103241),\n",
       " ('got', 0.5063552856445312),\n",
       " ('needs', 0.5049965977668762),\n",
       " ('courteous', 0.5047607421875),\n",
       " ('awesome', 0.5037964582443237),\n",
       " ('understand', 0.5036094784736633),\n",
       " ('around', 0.5035532712936401),\n",
       " ('times', 0.5029604434967041),\n",
       " ('medical', 0.5015085935592651),\n",
       " ('experience', 0.5000748038291931),\n",
       " ('doc', 0.4999620318412781),\n",
       " ('diagnostician', 0.4995844066143036),\n",
       " ('life', 0.4984265863895416),\n",
       " ('things', 0.4980356693267822),\n",
       " ('right', 0.4979177713394165),\n",
       " ('seems', 0.4961686432361603),\n",
       " ('husband', 0.4957478940486908),\n",
       " ('treated', 0.49478140473365784),\n",
       " ('give', 0.4941087067127228),\n",
       " ('little', 0.4937328100204468),\n",
       " ('makes', 0.4935351610183716),\n",
       " ('explain', 0.4928661584854126),\n",
       " ('used', 0.4914664328098297),\n",
       " ('ask', 0.4912987947463989),\n",
       " ('saw', 0.49125248193740845),\n",
       " ('lot', 0.4904423654079437),\n",
       " ('follow', 0.4894285202026367),\n",
       " ('diagnosis', 0.48933157324790955),\n",
       " ('work', 0.48907116055488586),\n",
       " ('skilled', 0.48894166946411133),\n",
       " ('although', 0.48843151330947876),\n",
       " ('thoughtful', 0.48735764622688293),\n",
       " ('sense', 0.4873216152191162),\n",
       " ('nurse', 0.48717454075813293),\n",
       " ('easy', 0.48707786202430725),\n",
       " ('enough', 0.48598235845565796),\n",
       " ('listener', 0.48591190576553345),\n",
       " ('condition', 0.48546743392944336),\n",
       " ('tell', 0.4853056073188782),\n",
       " ('rush', 0.48457974195480347),\n",
       " ('make', 0.4838526248931885),\n",
       " ('respectful', 0.4828492999076843),\n",
       " ('past', 0.48278114199638367),\n",
       " ('long', 0.4826165437698364),\n",
       " ('without', 0.4824174642562866),\n",
       " ('top', 0.4823605418205261),\n",
       " ('others', 0.4822179079055786),\n",
       " ('knowledge', 0.48183107376098633),\n",
       " ('people', 0.48028695583343506),\n",
       " ('wait', 0.47956353425979614),\n",
       " ('warm', 0.4787852168083191),\n",
       " ('nurses', 0.4786403775215149),\n",
       " ('probably', 0.47849413752555847),\n",
       " ('treats', 0.4779195487499237),\n",
       " ('getting', 0.4764188528060913),\n",
       " ('nothing', 0.47640129923820496),\n",
       " ('manners', 0.474948525428772),\n",
       " ('approachable', 0.4746147394180298),\n",
       " ('rushed', 0.4742039442062378),\n",
       " ('taken', 0.4739101529121399),\n",
       " ('though', 0.47339099645614624),\n",
       " ('efficient', 0.4732508063316345),\n",
       " ('quite', 0.47293221950531006),\n",
       " ('health', 0.472051203250885),\n",
       " ('respect', 0.47184860706329346),\n",
       " ('day', 0.4710381031036377),\n",
       " ('absolutely', 0.4699903130531311),\n",
       " ('definitely', 0.4698866009712219),\n",
       " ('done', 0.46964287757873535),\n",
       " ('gentle', 0.4695403575897217),\n",
       " ('busy', 0.46938276290893555),\n",
       " ('gone', 0.46934694051742554),\n",
       " ('hospital', 0.46924126148223877),\n",
       " ('sure', 0.46901607513427734),\n",
       " ('dedicated', 0.46766188740730286),\n",
       " ('treat', 0.466903418302536),\n",
       " ('medicine', 0.46668246388435364),\n",
       " ('yet', 0.4665299654006958),\n",
       " ('saved', 0.46562659740448),\n",
       " ('possible', 0.4655835032463074),\n",
       " ('thought', 0.4655653238296509),\n",
       " ('ago', 0.4651891589164734),\n",
       " ('amazing', 0.4642842710018158),\n",
       " ('genuinely', 0.46334800124168396),\n",
       " ('come', 0.4624119699001312),\n",
       " ('brilliant', 0.46206337213516235),\n",
       " ('available', 0.46185311675071716),\n",
       " ('treating', 0.46178632974624634),\n",
       " ('opinion', 0.4616875648498535),\n",
       " ('necessary', 0.46150529384613037),\n",
       " ('procedures', 0.4608989953994751),\n",
       " ('important', 0.4608624279499054),\n",
       " ('referred', 0.4608096480369568),\n",
       " ('detail', 0.4607383608818054),\n",
       " ('internist', 0.4599308371543884),\n",
       " ('wish', 0.4590383768081665),\n",
       " ('entire', 0.4587301015853882),\n",
       " ('comfortable', 0.45842787623405457),\n",
       " ('able', 0.4581988453865051),\n",
       " ('humor', 0.4575790762901306),\n",
       " ('matter', 0.4572828412055969),\n",
       " ('outstanding', 0.4569091200828552),\n",
       " ('use', 0.45659947395324707),\n",
       " ('call', 0.45628535747528076),\n",
       " ('new', 0.4561091661453247),\n",
       " ('two', 0.45589303970336914),\n",
       " ('gives', 0.45587652921676636),\n",
       " ('looking', 0.45552441477775574),\n",
       " ('visits', 0.45538824796676636),\n",
       " ('practice', 0.4552171230316162),\n",
       " ('spends', 0.45521149039268494),\n",
       " ('last', 0.45507577061653137),\n",
       " ('hands', 0.45503246784210205),\n",
       " ('job', 0.4544638395309448),\n",
       " ('issues', 0.45438849925994873),\n",
       " ('us', 0.4542507529258728),\n",
       " ('sometimes', 0.45304861664772034),\n",
       " ('known', 0.4525051414966583),\n",
       " ('cardiologist', 0.4523020088672638),\n",
       " ('gave', 0.4521781802177429),\n",
       " ('primary', 0.4518718123435974),\n",
       " ('bad', 0.45089080929756165),\n",
       " ('fantastic', 0.45077943801879883),\n",
       " ('put', 0.450173020362854),\n",
       " ('helped', 0.4501432180404663),\n",
       " ('wrong', 0.449935644865036),\n",
       " ('calls', 0.44871485233306885),\n",
       " ('made', 0.4486771821975708),\n",
       " ('works', 0.4477001428604126),\n",
       " ('amp', 0.4464825391769409),\n",
       " ('glad', 0.4459840953350067),\n",
       " ('visit', 0.4457501769065857),\n",
       " ('explains', 0.44551146030426025),\n",
       " ('honest', 0.44538772106170654),\n",
       " ('members', 0.44508644938468933),\n",
       " ('came', 0.44435423612594604),\n",
       " ('goes', 0.4442898631095886),\n",
       " ('deal', 0.44347846508026123),\n",
       " ('diagnosed', 0.4433358311653137),\n",
       " ('human', 0.44323986768722534),\n",
       " ('overall', 0.44212496280670166),\n",
       " ('least', 0.4417741596698761),\n",
       " ('willing', 0.44074225425720215),\n",
       " ('prompt', 0.44049906730651855),\n",
       " ('phone', 0.4402207136154175),\n",
       " ('clearly', 0.43862631916999817),\n",
       " ('knowlegable', 0.43840569257736206),\n",
       " ('talking', 0.437431275844574),\n",
       " ('young', 0.43722355365753174),\n",
       " ('real', 0.4368915557861328),\n",
       " ('attitude', 0.4367484450340271),\n",
       " ('someone', 0.4366287887096405),\n",
       " ('case', 0.43655645847320557),\n",
       " ('demeanor', 0.4365077316761017),\n",
       " ('completely', 0.43642544746398926),\n",
       " ('old', 0.4361457824707031),\n",
       " ('physicians', 0.43551039695739746),\n",
       " ('stuff', 0.4354410767555237),\n",
       " ('friend', 0.4353727698326111),\n",
       " ('try', 0.43525058031082153),\n",
       " ('whole', 0.4351113438606262),\n",
       " ('heart', 0.4349037706851959),\n",
       " ('wife', 0.43482545018196106),\n",
       " ('area', 0.43468302488327026),\n",
       " ('look', 0.43466854095458984),\n",
       " ('funny', 0.43436095118522644),\n",
       " ('sincere', 0.4340134859085083),\n",
       " ('fine', 0.433419793844223),\n",
       " ('thanks', 0.4330582022666931),\n",
       " ('recomend', 0.4330032467842102),\n",
       " ('answered', 0.43294572830200195),\n",
       " ('wants', 0.432065486907959),\n",
       " ('date', 0.43201887607574463),\n",
       " ('taking', 0.4316455125808716),\n",
       " ('talks', 0.4314839243888855),\n",
       " ('hours', 0.43144792318344116),\n",
       " ('empathetic', 0.43136298656463623),\n",
       " ('terrific', 0.4311624765396118),\n",
       " ('full', 0.43093177676200867),\n",
       " ('reason', 0.43055105209350586),\n",
       " ('beyond', 0.429778516292572),\n",
       " ('year', 0.42888161540031433),\n",
       " ('something', 0.4287778437137604),\n",
       " ('keep', 0.42869025468826294),\n",
       " ('totally', 0.4284798800945282),\n",
       " ('thank', 0.4283478260040283),\n",
       " ('interested', 0.4282897114753723),\n",
       " ('thing', 0.42796945571899414),\n",
       " ('tests', 0.42791223526000977),\n",
       " ('appointment', 0.42777442932128906),\n",
       " ('bed', 0.42766621708869934),\n",
       " ('rude', 0.42739859223365784),\n",
       " ('worth', 0.42696598172187805),\n",
       " ('friends', 0.4268395006656647),\n",
       " ('god', 0.42681217193603516),\n",
       " ('personally', 0.4266742467880249),\n",
       " ('recently', 0.42653191089630127),\n",
       " ('felt', 0.4264068007469177),\n",
       " ('thoroughly', 0.4261099100112915),\n",
       " ('treatments', 0.4255978763103485),\n",
       " ('genuine', 0.42555248737335205),\n",
       " ('returns', 0.4250515401363373),\n",
       " ('true', 0.4248799979686737),\n",
       " ('quickly', 0.4248161315917969),\n",
       " ('md', 0.42453432083129883),\n",
       " ('making', 0.42425206303596497),\n",
       " ('responsive', 0.4241873621940613),\n",
       " ('worked', 0.42403435707092285),\n",
       " ('working', 0.4239904284477234),\n",
       " ('options', 0.42377233505249023),\n",
       " ('plus', 0.4235524535179138),\n",
       " ('superb', 0.42329713702201843),\n",
       " ('extra', 0.4231647253036499),\n",
       " ('confidence', 0.4224010109901428),\n",
       " ('performed', 0.4221409559249878),\n",
       " ('usually', 0.4221094250679016),\n",
       " ('hard', 0.4220973551273346),\n",
       " ('knew', 0.42163991928100586),\n",
       " ('three', 0.4210134744644165),\n",
       " ('experienced', 0.4209977388381958),\n",
       " ('quick', 0.42081642150878906),\n",
       " ('concern', 0.42059147357940674),\n",
       " ('sweet', 0.4201776385307312),\n",
       " ('mind', 0.41979169845581055),\n",
       " ('continue', 0.41971200704574585),\n",
       " ('world', 0.419380247592926),\n",
       " ('fact', 0.4186609983444214),\n",
       " ('bright', 0.4171512722969055),\n",
       " ('confident', 0.4163145422935486),\n",
       " ('either', 0.41608643531799316),\n",
       " ('next', 0.41607770323753357),\n",
       " ('short', 0.41581276059150696),\n",
       " ('super', 0.41563689708709717),\n",
       " ('waiting', 0.41557255387306213),\n",
       " ('along', 0.4154931902885437),\n",
       " ('sent', 0.4148336946964264),\n",
       " ('rather', 0.41474035382270813),\n",
       " ('called', 0.4144521653652191),\n",
       " ('given', 0.41400277614593506),\n",
       " ('minutes', 0.4139643907546997),\n",
       " ('said', 0.41347604990005493),\n",
       " ('home', 0.4134232997894287),\n",
       " ('refer', 0.4131828248500824),\n",
       " ('appointments', 0.41312962770462036),\n",
       " ('especially', 0.41293030977249146),\n",
       " ('check', 0.412904292345047),\n",
       " ('complaints', 0.4127013385295868),\n",
       " ('finally', 0.4125402569770813),\n",
       " ('immediately', 0.41226834058761597),\n",
       " ('days', 0.4120650589466095),\n",
       " ('ease', 0.41155046224594116),\n",
       " ('comes', 0.41132405400276184),\n",
       " ('different', 0.41123107075691223),\n",
       " ('skills', 0.41105765104293823),\n",
       " ('asked', 0.41104835271835327),\n",
       " ('cared', 0.41097891330718994),\n",
       " ('gets', 0.410886287689209),\n",
       " ('bit', 0.4106371998786926),\n",
       " ('spent', 0.4103574752807617),\n",
       " ('pleased', 0.4092976748943329),\n",
       " ('promptly', 0.40922874212265015),\n",
       " ('hurry', 0.4091481864452362),\n",
       " ('listened', 0.40854111313819885),\n",
       " ('lucky', 0.4083822965621948),\n",
       " ('situation', 0.4082094132900238),\n",
       " ('encountered', 0.40806636214256287),\n",
       " ('let', 0.4079001545906067),\n",
       " ('exceptional', 0.4077686071395874),\n",
       " ('whatever', 0.407619833946228),\n",
       " ('yrs', 0.40756756067276),\n",
       " ('point', 0.4070894718170166),\n",
       " ('results', 0.4068569242954254),\n",
       " ('explaining', 0.4063561260700226),\n",
       " ('leave', 0.40613090991973877),\n",
       " ('specialty', 0.4056587219238281),\n",
       " ('individual', 0.40552863478660583),\n",
       " ('front', 0.40519794821739197),\n",
       " ('follows', 0.40512531995773315),\n",
       " ('away', 0.405068576335907),\n",
       " ('might', 0.40506696701049805),\n",
       " ('specialists', 0.40444743633270264),\n",
       " ('arrogant', 0.4042189121246338),\n",
       " ('surgery', 0.40410566329956055),\n",
       " ('seem', 0.4038446247577667),\n",
       " ('rate', 0.4032984972000122),\n",
       " ('carefully', 0.40225180983543396),\n",
       " ('disease', 0.4018280506134033),\n",
       " ('rare', 0.4015207290649414),\n",
       " ('feeling', 0.4015096127986908),\n",
       " ('often', 0.40135157108306885),\n",
       " ('changed', 0.400745689868927),\n",
       " ('personal', 0.400600403547287),\n",
       " ('yes', 0.4003528952598572),\n",
       " ('within', 0.400307834148407),\n",
       " ('due', 0.40012019872665405),\n",
       " ('unfortunately', 0.4000312387943268),\n",
       " ('keeps', 0.3998792767524719),\n",
       " ('diagnosing', 0.3998674750328064),\n",
       " ('plan', 0.3997573256492615),\n",
       " ('complete', 0.3994406461715698),\n",
       " ('room', 0.39891940355300903),\n",
       " ('diagnose', 0.39876478910446167),\n",
       " ('test', 0.3986542820930481),\n",
       " ('return', 0.3983984887599945),\n",
       " ('longer', 0.3983857035636902),\n",
       " ('side', 0.39833641052246094),\n",
       " ('terms', 0.39817291498184204),\n",
       " ('simply', 0.3979240655899048),\n",
       " ('helping', 0.39767104387283325),\n",
       " ('agree', 0.3971481919288635),\n",
       " ('specialist', 0.39713260531425476),\n",
       " ('difficult', 0.3971141278743744),\n",
       " ('alot', 0.3970854580402374),\n",
       " ('current', 0.3970266580581665),\n",
       " ('emergency', 0.3969848155975342),\n",
       " ('compassion', 0.39697426557540894),\n",
       " ('issue', 0.3969408869743347),\n",
       " ('careful', 0.3965080976486206),\n",
       " ('received', 0.39617547392845154),\n",
       " ('spend', 0.39594435691833496),\n",
       " ('symptoms', 0.3958019018173218),\n",
       " ('rushes', 0.3953033983707428),\n",
       " ('less', 0.3952234387397766),\n",
       " ('using', 0.3952072262763977),\n",
       " ('regarding', 0.3951399326324463),\n",
       " ('research', 0.3948768675327301),\n",
       " ('insurance', 0.3946493864059448),\n",
       " ('impressed', 0.39444947242736816),\n",
       " ('question', 0.393856406211853),\n",
       " ('number', 0.39379897713661194),\n",
       " ('must', 0.3937920331954956),\n",
       " ('knowlegeable', 0.3935600519180298),\n",
       " ('hope', 0.3932276964187622),\n",
       " ('clinic', 0.3931688666343689),\n",
       " ('etc', 0.3931571841239929),\n",
       " ('medications', 0.39280325174331665),\n",
       " ('shows', 0.39271682500839233),\n",
       " ('incredibly', 0.39265912771224976),\n",
       " ('latest', 0.3918953835964203),\n",
       " ('money', 0.3917606472969055),\n",
       " ('advice', 0.3916214406490326),\n",
       " ('educated', 0.39146652817726135),\n",
       " ('regular', 0.3905765414237976),\n",
       " ('quality', 0.3894384503364563),\n",
       " ('conditions', 0.3893963098526001),\n",
       " ('fully', 0.3893722891807556),\n",
       " ('sick', 0.38874930143356323),\n",
       " ('diagnostic', 0.3886335790157318),\n",
       " ('couple', 0.38829922676086426),\n",
       " ('serious', 0.38788753747940063),\n",
       " ('open', 0.3878386318683624),\n",
       " ('addition', 0.38774895668029785),\n",
       " ('mother', 0.3866058886051178),\n",
       " ('internal', 0.38599252700805664),\n",
       " ('reccomend', 0.3859822154045105),\n",
       " ('interest', 0.3856256604194641),\n",
       " ('service', 0.385148286819458),\n",
       " ('giving', 0.3851158618927002),\n",
       " ('asks', 0.3848823010921478),\n",
       " ('second', 0.38488054275512695),\n",
       " ('left', 0.3842597007751465),\n",
       " ('late', 0.38369983434677124),\n",
       " ('send', 0.38332778215408325),\n",
       " ('instead', 0.38296860456466675),\n",
       " ('months', 0.38275402784347534),\n",
       " ('run', 0.38232916593551636),\n",
       " ('reassuring', 0.38231754302978516),\n",
       " ('speak', 0.3818663954734802),\n",
       " ('pleasure', 0.38133445382118225),\n",
       " ('hour', 0.3812462389469147),\n",
       " ('detailed', 0.3809923529624939),\n",
       " ('liked', 0.3805040717124939),\n",
       " ('told', 0.38022568821907043),\n",
       " ('words', 0.3801952600479126),\n",
       " ('ten', 0.3796982169151306),\n",
       " ('trying', 0.3796181082725525),\n",
       " ('stay', 0.3793903589248657),\n",
       " ('provides', 0.37919527292251587),\n",
       " ('sees', 0.37912362813949585),\n",
       " ('testing', 0.37906670570373535),\n",
       " ('profession', 0.3784359097480774),\n",
       " ('clear', 0.3781770169734955),\n",
       " ('previous', 0.3772684931755066),\n",
       " ('lots', 0.3767092823982239),\n",
       " ('approach', 0.3764825165271759),\n",
       " ('satisfied', 0.37603282928466797),\n",
       " ('waited', 0.37589091062545776),\n",
       " ('type', 0.37551936507225037),\n",
       " ('returned', 0.3753662705421448)]"
      ]
     },
     "execution_count": 53,
     "metadata": {},
     "output_type": "execute_result"
    }
   ],
   "source": [
    "d2v_g1.wv.most_similar(positive = [d2v_g1.docvecs['M']],topn=500)"
   ]
  },
  {
   "cell_type": "markdown",
   "metadata": {},
   "source": [
    "### Run Doc2vec - gender & sanction"
   ]
  },
  {
   "cell_type": "code",
   "execution_count": 144,
   "metadata": {},
   "outputs": [],
   "source": [
    "# Tag document\n",
    "import gensim\n",
    "docs_gs = [] # each review/row is a tagged document.\n",
    "for i in range(len(documents)):\n",
    "    docs_gs.append(gensim.models.doc2vec.TaggedDocument(documents[i],  [hasorder[i],gender[i]]))"
   ]
  },
  {
   "cell_type": "code",
   "execution_count": 145,
   "metadata": {},
   "outputs": [
    {
     "data": {
      "text/plain": [
       "TaggedDocument(words=['satisfactory', 'recommend', 'coldness', 'solo', 'helpfulness', 'limited', 'office', 'staff', 'isolation', 'diagnosis', 'solo'], tags=[0, 'F'])"
      ]
     },
     "execution_count": 145,
     "metadata": {},
     "output_type": "execute_result"
    }
   ],
   "source": [
    "docs_gs[0]"
   ]
  },
  {
   "cell_type": "code",
   "execution_count": 146,
   "metadata": {},
   "outputs": [],
   "source": [
    "docs_for_vocab_gs = [] \n",
    "for i in docs_gs:\n",
    "    docs_for_vocab_gs.append(i)"
   ]
  },
  {
   "cell_type": "code",
   "execution_count": 147,
   "metadata": {},
   "outputs": [],
   "source": [
    "model_gs = Doc2Vec(dm=0, window=30,vector_size=300,min_count=30,epochs=100,workers=4,\n",
    "               hs=0,negative=7,dbow_words=1,dm_concat=1)\n",
    "model_gs.build_vocab(docs_for_vocab_gs)\n",
    "model_gs.train(documents = docs_gs,total_examples=model_gs.corpus_count,epochs=100)"
   ]
  },
  {
   "cell_type": "code",
   "execution_count": 148,
   "metadata": {},
   "outputs": [],
   "source": [
    "model_gs.save(\"d2v_gs1.model\")"
   ]
  },
  {
   "cell_type": "code",
   "execution_count": 54,
   "metadata": {},
   "outputs": [],
   "source": [
    "d2v_gs1= Doc2Vec.load(\"d2v_gs1.model\")"
   ]
  },
  {
   "cell_type": "code",
   "execution_count": 55,
   "metadata": {},
   "outputs": [
    {
     "data": {
      "text/plain": [
       "[('dr', 0.8382483124732971),\n",
       " ('doctor', 0.8094700574874878),\n",
       " ('caring', 0.7179374694824219),\n",
       " ('patient', 0.7118537425994873),\n",
       " ('kind', 0.7015848159790039),\n",
       " ('extremely', 0.6905013918876648),\n",
       " ('time', 0.6878834366798401),\n",
       " ('staff', 0.6851698756217957),\n",
       " ('knowledgeable', 0.6844163537025452),\n",
       " ('always', 0.6755608320236206),\n",
       " ('never', 0.6683287620544434),\n",
       " ('really', 0.6661325097084045),\n",
       " ('office', 0.6633327007293701),\n",
       " ('helpful', 0.6618456840515137),\n",
       " ('great', 0.6505095362663269)]"
      ]
     },
     "execution_count": 55,
     "metadata": {},
     "output_type": "execute_result"
    }
   ],
   "source": [
    "d2v_gs1.wv.most_similar(positive = [d2v_gs1.docvecs[0],d2v_gs1.docvecs['F']],topn=15)"
   ]
  },
  {
   "cell_type": "code",
   "execution_count": 56,
   "metadata": {},
   "outputs": [
    {
     "data": {
      "text/plain": [
       "[('dr', 0.8472877740859985),\n",
       " ('doctor', 0.8312726020812988),\n",
       " ('patient', 0.7375615835189819),\n",
       " ('caring', 0.7362607717514038),\n",
       " ('kind', 0.7360689640045166),\n",
       " ('great', 0.7048937082290649),\n",
       " ('extremely', 0.70399010181427),\n",
       " ('knowledgeable', 0.6948617100715637),\n",
       " ('good', 0.6827594041824341),\n",
       " ('time', 0.6805500984191895),\n",
       " ('professional', 0.679201066493988),\n",
       " ('one', 0.6737104654312134),\n",
       " ('staff', 0.6704651713371277),\n",
       " ('excellent', 0.6696045398712158),\n",
       " ('always', 0.6638321876525879)]"
      ]
     },
     "execution_count": 56,
     "metadata": {},
     "output_type": "execute_result"
    }
   ],
   "source": [
    "d2v_gs1.wv.most_similar(positive = [d2v_gs1.docvecs[0],d2v_gs1.docvecs['M']],topn=15)"
   ]
  },
  {
   "cell_type": "code",
   "execution_count": 57,
   "metadata": {
    "scrolled": true
   },
   "outputs": [
    {
     "data": {
      "text/plain": [
       "[('doctor', 0.5625770092010498),\n",
       " ('dr', 0.5559017658233643),\n",
       " ('always', 0.5051372647285461),\n",
       " ('staff', 0.4993571639060974),\n",
       " ('office', 0.48801589012145996),\n",
       " ('caring', 0.48241108655929565),\n",
       " ('never', 0.47603607177734375),\n",
       " ('time', 0.4671357274055481),\n",
       " ('kind', 0.4612017869949341),\n",
       " ('patient', 0.46081849932670593),\n",
       " ('one', 0.46024295687675476),\n",
       " ('see', 0.4597282111644745),\n",
       " ('well', 0.45818468928337097),\n",
       " ('patients', 0.45670783519744873),\n",
       " ('helpful', 0.4463525414466858)]"
      ]
     },
     "execution_count": 57,
     "metadata": {},
     "output_type": "execute_result"
    }
   ],
   "source": [
    "d2v_gs1.wv.most_similar(positive = [d2v_gs1.docvecs[1],d2v_gs1.docvecs['F']],topn=15)"
   ]
  },
  {
   "cell_type": "code",
   "execution_count": 58,
   "metadata": {},
   "outputs": [
    {
     "data": {
      "text/plain": [
       "[('doctor', 0.5625770092010498),\n",
       " ('dr', 0.5559017658233643),\n",
       " ('always', 0.5051372647285461),\n",
       " ('staff', 0.4993571639060974),\n",
       " ('office', 0.48801589012145996),\n",
       " ('caring', 0.48241108655929565),\n",
       " ('never', 0.47603607177734375),\n",
       " ('time', 0.4671357274055481),\n",
       " ('kind', 0.4612017869949341),\n",
       " ('patient', 0.46081849932670593),\n",
       " ('one', 0.46024295687675476),\n",
       " ('see', 0.4597282111644745),\n",
       " ('well', 0.45818468928337097),\n",
       " ('patients', 0.45670783519744873),\n",
       " ('helpful', 0.4463525414466858),\n",
       " ('really', 0.44581717252731323),\n",
       " ('care', 0.440998375415802),\n",
       " ('friendly', 0.43865716457366943),\n",
       " ('health', 0.4283149838447571),\n",
       " ('attentive', 0.4279366731643677),\n",
       " ('wonderful', 0.42672255635261536),\n",
       " ('found', 0.4221644401550293),\n",
       " ('compassionate', 0.42198508977890015),\n",
       " ('person', 0.4210626780986786),\n",
       " ('takes', 0.41938433051109314),\n",
       " ('knowledgeable', 0.41884100437164307),\n",
       " ('good', 0.41766059398651123),\n",
       " ('extremely', 0.41695132851600647),\n",
       " ('dube', 0.4167664349079132),\n",
       " ('wait', 0.4164515733718872),\n",
       " ('seeing', 0.4151301681995392),\n",
       " ('great', 0.4134679436683655),\n",
       " ('even', 0.4128780663013458),\n",
       " ('past', 0.4124216139316559),\n",
       " ('think', 0.41228681802749634),\n",
       " ('love', 0.4121933579444885),\n",
       " ('many', 0.4060289263725281),\n",
       " ('almost', 0.40334033966064453),\n",
       " ('take', 0.40126290917396545),\n",
       " ('going', 0.40114545822143555),\n",
       " ('understanding', 0.4008612632751465),\n",
       " ('professional', 0.40042656660079956),\n",
       " ('medical', 0.39775341749191284),\n",
       " ('know', 0.3975326120853424),\n",
       " ('actually', 0.3962029218673706),\n",
       " ('much', 0.3949631452560425),\n",
       " ('campbell', 0.3930463194847107),\n",
       " ('help', 0.3929370641708374),\n",
       " ('long', 0.3926326036453247),\n",
       " ('polite', 0.39077234268188477)]"
      ]
     },
     "execution_count": 58,
     "metadata": {},
     "output_type": "execute_result"
    }
   ],
   "source": [
    "d2v_gs1.wv.most_similar(positive = [d2v_gs1.docvecs[1],d2v_gs1.docvecs['F']],topn=50)"
   ]
  },
  {
   "cell_type": "code",
   "execution_count": 59,
   "metadata": {},
   "outputs": [
    {
     "data": {
      "text/plain": [
       "[('doctor', 0.5769614577293396),\n",
       " ('dr', 0.5612245202064514),\n",
       " ('always', 0.49770617485046387),\n",
       " ('caring', 0.49418675899505615),\n",
       " ('staff', 0.489698588848114),\n",
       " ('kind', 0.483650267124176),\n",
       " ('well', 0.4821067154407501),\n",
       " ('patient', 0.4772361218929291),\n",
       " ('one', 0.4758063554763794),\n",
       " ('office', 0.4652448296546936),\n",
       " ('patients', 0.4650103449821472),\n",
       " ('never', 0.4641687870025635),\n",
       " ('time', 0.461802214384079),\n",
       " ('care', 0.45553481578826904),\n",
       " ('great', 0.44906601309776306)]"
      ]
     },
     "execution_count": 59,
     "metadata": {},
     "output_type": "execute_result"
    }
   ],
   "source": [
    "d2v_gs1.wv.most_similar(positive = [d2v_gs1.docvecs[1],d2v_gs1.docvecs['M']],topn=15)"
   ]
  },
  {
   "cell_type": "code",
   "execution_count": 60,
   "metadata": {},
   "outputs": [
    {
     "data": {
      "text/plain": [
       "[('dr', 0.8538498878479004),\n",
       " ('doctor', 0.832461416721344),\n",
       " ('patient', 0.7403160929679871),\n",
       " ('caring', 0.7391586303710938),\n",
       " ('kind', 0.7352221608161926),\n",
       " ('extremely', 0.7071716785430908),\n",
       " ('knowledgeable', 0.6993880271911621),\n",
       " ('great', 0.6979334354400635),\n",
       " ('time', 0.6920329928398132),\n",
       " ('good', 0.6822013854980469),\n",
       " ('staff', 0.6806690692901611),\n",
       " ('professional', 0.6767474412918091),\n",
       " ('always', 0.6750561594963074),\n",
       " ('one', 0.6736839413642883),\n",
       " ('helpful', 0.6690742373466492)]"
      ]
     },
     "execution_count": 60,
     "metadata": {},
     "output_type": "execute_result"
    }
   ],
   "source": [
    "d2v_gs1.wv.most_similar(positive = [d2v_gs1.docvecs[0]],topn=15)"
   ]
  },
  {
   "cell_type": "code",
   "execution_count": 61,
   "metadata": {},
   "outputs": [
    {
     "data": {
      "text/plain": [
       "[('dube', 0.39721789956092834),\n",
       " ('campbell', 0.3843143582344055),\n",
       " ('doctor', 0.3577578663825989),\n",
       " ('always', 0.33449411392211914),\n",
       " ('dr', 0.3343508243560791),\n",
       " ('staff', 0.32169395685195923),\n",
       " ('office', 0.31142789125442505),\n",
       " ('well', 0.3097817301750183),\n",
       " ('ill', 0.3081333637237549),\n",
       " ('hrs', 0.3058217465877533),\n",
       " ('rarely', 0.30576738715171814),\n",
       " ('never', 0.300335168838501),\n",
       " ('one', 0.2994637191295624),\n",
       " ('care', 0.29857611656188965),\n",
       " ('caring', 0.2972704768180847)]"
      ]
     },
     "execution_count": 61,
     "metadata": {},
     "output_type": "execute_result"
    }
   ],
   "source": [
    "d2v_gs1.wv.most_similar(positive = [d2v_gs1.docvecs[1]],topn=15)"
   ]
  },
  {
   "cell_type": "code",
   "execution_count": 62,
   "metadata": {},
   "outputs": [
    {
     "data": {
      "text/plain": [
       "[('dr', 0.7437809705734253),\n",
       " ('doctor', 0.7114667892456055),\n",
       " ('caring', 0.6303064823150635),\n",
       " ('staff', 0.6227116584777832),\n",
       " ('patient', 0.6186176538467407),\n",
       " ('time', 0.6177635192871094),\n",
       " ('office', 0.6148641109466553),\n",
       " ('always', 0.610614538192749),\n",
       " ('extremely', 0.6094182729721069),\n",
       " ('never', 0.6071034669876099),\n",
       " ('knowledgeable', 0.6053750514984131),\n",
       " ('kind', 0.604915976524353),\n",
       " ('really', 0.6020890474319458),\n",
       " ('see', 0.5960661768913269),\n",
       " ('helpful', 0.591611921787262)]"
      ]
     },
     "execution_count": 62,
     "metadata": {},
     "output_type": "execute_result"
    }
   ],
   "source": [
    "d2v_gs1.wv.most_similar(positive = [d2v_gs1.docvecs['F']],topn=15)"
   ]
  },
  {
   "cell_type": "code",
   "execution_count": 167,
   "metadata": {
    "scrolled": true
   },
   "outputs": [
    {
     "data": {
      "text/plain": [
       "[('dr', 0.8217996954917908),\n",
       " ('doctor', 0.8113111853599548),\n",
       " ('kind', 0.720219075679779),\n",
       " ('patient', 0.7182170152664185),\n",
       " ('caring', 0.7168076634407043),\n",
       " ('great', 0.6956250667572021),\n",
       " ('extremely', 0.6849950551986694),\n",
       " ('knowledgeable', 0.6747809648513794),\n",
       " ('good', 0.6678390502929688),\n",
       " ('professional', 0.6661829948425293),\n",
       " ('excellent', 0.6639824509620667),\n",
       " ('one', 0.6584840416908264),\n",
       " ('time', 0.6541075706481934),\n",
       " ('well', 0.6520220041275024),\n",
       " ('staff', 0.6454800963401794)]"
      ]
     },
     "execution_count": 167,
     "metadata": {},
     "output_type": "execute_result"
    }
   ],
   "source": [
    "d2v_gs1.wv.most_similar(positive = [d2v_gs1.docvecs['M']],topn=15)"
   ]
  },
  {
   "cell_type": "markdown",
   "metadata": {},
   "source": [
    "### Run Doc2vec - gender & sanction (downsampling)"
   ]
  },
  {
   "cell_type": "code",
   "execution_count": 191,
   "metadata": {},
   "outputs": [],
   "source": [
    "#1000 sanction male/female reviews and 1000 not sanction male/female reviews\n",
    "import random\n",
    "repeat = {}\n",
    "indices = []\n",
    "batch = []\n",
    "draw = 1000\n",
    "sf_candidates = list(review_im[np.logical_and(review_im['hasorder']==1, review_im['gender']=='F')].index)\n",
    "sm_candidates = list(review_im[np.logical_and(review_im['hasorder']==1, review_im['gender']=='M')].index)\n",
    "nsf_candidates = list(review_im[np.logical_and(review_im['hasorder']==0, review_im['gender']=='F')].index)\n",
    "nsm_candidates = list(review_im[np.logical_and(review_im['hasorder']==0, review_im['gender']=='M')].index)\n",
    "for b in range(draw):\n",
    "    sf = random.choice(sf_candidates)\n",
    "    sm = random.choice(sm_candidates)\n",
    "    indices.append(sf)\n",
    "    indices.append(sm)\n",
    "    nsf = random.choice(nsf_candidates)\n",
    "    nsm = random.choice(nsm_candidates)\n",
    "    indices.append(nsf)\n",
    "    indices.append(nsm)\n",
    "for i in indices:\n",
    "    try:\n",
    "        repeat[i]+=1\n",
    "    except:\n",
    "        repeat[i]=1\n",
    "    batch.append(docs_gs[i])"
   ]
  },
  {
   "cell_type": "code",
   "execution_count": 192,
   "metadata": {},
   "outputs": [
    {
     "data": {
      "text/plain": [
       "TaggedDocument(words=['year', 'old', 'mother', 'doctor', 'handled', 'medical', 'problems', 'efficiently', 'quickly'], tags=[1, 'M'])"
      ]
     },
     "execution_count": 192,
     "metadata": {},
     "output_type": "execute_result"
    }
   ],
   "source": [
    "batch[1]"
   ]
  },
  {
   "cell_type": "code",
   "execution_count": 193,
   "metadata": {},
   "outputs": [],
   "source": [
    "model_gs2 = Doc2Vec(dm=0, window=30,vector_size=300,min_count=30,epochs=100,workers=4,\n",
    "               hs=0,negative=7,dbow_words=1,dm_concat=1)\n",
    "model_gs2.build_vocab(docs_for_vocab_gs)\n",
    "model_gs2.train(documents = batch,total_examples=model_gs2.corpus_count,epochs=100)"
   ]
  },
  {
   "cell_type": "code",
   "execution_count": 194,
   "metadata": {},
   "outputs": [],
   "source": [
    "model_gs2.save(\"d2v_gs2.model\")"
   ]
  },
  {
   "cell_type": "code",
   "execution_count": 195,
   "metadata": {},
   "outputs": [],
   "source": [
    "d2v_gs2= Doc2Vec.load(\"d2v_gs2.model\")"
   ]
  },
  {
   "cell_type": "code",
   "execution_count": 196,
   "metadata": {},
   "outputs": [
    {
     "data": {
      "text/plain": [
       "[('gray', 0.24918320775032043),\n",
       " ('pounds', 0.20344123244285583),\n",
       " ('brought', 0.19911789894104004),\n",
       " ('minimum', 0.19493170082569122),\n",
       " ('policies', 0.19451665878295898),\n",
       " ('rest', 0.1934053897857666),\n",
       " ('able', 0.17871588468551636),\n",
       " ('handled', 0.17821919918060303),\n",
       " ('alive', 0.17520007491111755),\n",
       " ('aging', 0.17208871245384216),\n",
       " ('closed', 0.1717839241027832),\n",
       " ('cordial', 0.16856342554092407),\n",
       " ('gift', 0.16764169931411743),\n",
       " ('squeezed', 0.16756188869476318),\n",
       " ('diagnosis', 0.16272571682929993)]"
      ]
     },
     "execution_count": 196,
     "metadata": {},
     "output_type": "execute_result"
    }
   ],
   "source": [
    "d2v_gs2.wv.most_similar(positive = [d2v_gs2.docvecs[0],d2v_gs2.docvecs['F']],topn=15)"
   ]
  },
  {
   "cell_type": "code",
   "execution_count": 197,
   "metadata": {},
   "outputs": [
    {
     "data": {
      "text/plain": [
       "[('gray', 0.23987627029418945),\n",
       " ('waiting', 0.19972291588783264),\n",
       " ('policies', 0.19850175082683563),\n",
       " ('rest', 0.19551360607147217),\n",
       " ('experiencing', 0.18157005310058594),\n",
       " ('minimum', 0.18136093020439148),\n",
       " ('grow', 0.18134796619415283),\n",
       " ('pounds', 0.1810140460729599),\n",
       " ('fat', 0.17606505751609802),\n",
       " ('grown', 0.17593801021575928),\n",
       " ('cancel', 0.1757582128047943),\n",
       " ('bay', 0.17228317260742188),\n",
       " ('approximately', 0.17116057872772217),\n",
       " ('card', 0.16847121715545654),\n",
       " ('event', 0.16711288690567017)]"
      ]
     },
     "execution_count": 197,
     "metadata": {},
     "output_type": "execute_result"
    }
   ],
   "source": [
    "d2v_gs2.wv.most_similar(positive = [d2v_gs2.docvecs[0],d2v_gs2.docvecs['M']],topn=15)"
   ]
  },
  {
   "cell_type": "code",
   "execution_count": 198,
   "metadata": {},
   "outputs": [
    {
     "data": {
      "text/plain": [
       "[('owns', 0.184118390083313),\n",
       " ('diagnosis', 0.17707176506519318),\n",
       " ('quote', 0.1651272475719452),\n",
       " ('young', 0.1641160249710083),\n",
       " ('ny', 0.16226349771022797),\n",
       " ('try', 0.15008506178855896),\n",
       " ('reserved', 0.149661123752594),\n",
       " ('walked', 0.1488909125328064),\n",
       " ('exceeded', 0.14293338358402252),\n",
       " ('controlled', 0.13887512683868408),\n",
       " ('hot', 0.13856971263885498),\n",
       " ('among', 0.1385170966386795),\n",
       " ('tylenol', 0.13772054016590118),\n",
       " ('demanded', 0.13759729266166687),\n",
       " ('canada', 0.135684072971344)]"
      ]
     },
     "execution_count": 198,
     "metadata": {},
     "output_type": "execute_result"
    }
   ],
   "source": [
    "d2v_gs2.wv.most_similar(positive = [d2v_gs2.docvecs[1],d2v_gs2.docvecs['F']],topn=15)"
   ]
  },
  {
   "cell_type": "code",
   "execution_count": 199,
   "metadata": {
    "scrolled": true
   },
   "outputs": [
    {
     "data": {
      "text/plain": [
       "[('owns', 0.18986749649047852),\n",
       " ('diagnosis', 0.18072928488254547),\n",
       " ('reserved', 0.17450737953186035),\n",
       " ('try', 0.16331881284713745),\n",
       " ('canada', 0.16206324100494385),\n",
       " ('ny', 0.16059726476669312),\n",
       " ('quote', 0.15931221842765808),\n",
       " ('controlled', 0.15804603695869446),\n",
       " ('young', 0.15792176127433777),\n",
       " ('instructed', 0.15063264966011047),\n",
       " ('reachable', 0.14042948186397552),\n",
       " ('among', 0.13898608088493347),\n",
       " ('wrote', 0.13796506822109222),\n",
       " ('customers', 0.13701796531677246),\n",
       " ('returning', 0.13352620601654053)]"
      ]
     },
     "execution_count": 199,
     "metadata": {},
     "output_type": "execute_result"
    }
   ],
   "source": [
    "d2v_gs2.wv.most_similar(positive = [d2v_gs2.docvecs[1],d2v_gs2.docvecs['M']],topn=15)"
   ]
  },
  {
   "cell_type": "markdown",
   "metadata": {},
   "source": [
    "### Run Doc2vec - gender & sanction (upsampling)"
   ]
  },
  {
   "cell_type": "code",
   "execution_count": 204,
   "metadata": {},
   "outputs": [],
   "source": [
    "#1000 sanction male/female reviews and 1000 not sanction male/female reviews\n",
    "import random\n",
    "repeat = {}\n",
    "indices = []\n",
    "batch2 = []\n",
    "draw = 10000\n",
    "sf_candidates = list(review_im[np.logical_and(review_im['hasorder']==1, review_im['gender']=='F')].index)\n",
    "sm_candidates = list(review_im[np.logical_and(review_im['hasorder']==1, review_im['gender']=='M')].index)\n",
    "nsf_candidates = list(review_im[np.logical_and(review_im['hasorder']==0, review_im['gender']=='F')].index)\n",
    "nsm_candidates = list(review_im[np.logical_and(review_im['hasorder']==0, review_im['gender']=='M')].index)\n",
    "for b in range(draw):\n",
    "    sf = random.choice(sf_candidates)\n",
    "    sm = random.choice(sm_candidates)\n",
    "    indices.append(sf)\n",
    "    indices.append(sm)\n",
    "    nsf = random.choice(nsf_candidates)\n",
    "    nsm = random.choice(nsm_candidates)\n",
    "    indices.append(nsf)\n",
    "    indices.append(nsm)\n",
    "for i in indices:\n",
    "    try:\n",
    "        repeat[i]+=1\n",
    "    except:\n",
    "        repeat[i]=1\n",
    "    batch2.append(docs_gs[i])"
   ]
  },
  {
   "cell_type": "code",
   "execution_count": 205,
   "metadata": {},
   "outputs": [
    {
     "data": {
      "text/plain": [
       "40000"
      ]
     },
     "execution_count": 205,
     "metadata": {},
     "output_type": "execute_result"
    }
   ],
   "source": [
    "len(batch2)"
   ]
  },
  {
   "cell_type": "code",
   "execution_count": 206,
   "metadata": {},
   "outputs": [],
   "source": [
    "model_gs3 = Doc2Vec(dm=0, window=30,vector_size=300,min_count=30,epochs=100,workers=4,\n",
    "               hs=0,negative=7,dbow_words=1,dm_concat=1)\n",
    "model_gs3.build_vocab(docs_for_vocab_gs)\n",
    "model_gs3.train(documents = batch2,total_examples=model_gs2.corpus_count,epochs=100)"
   ]
  },
  {
   "cell_type": "code",
   "execution_count": 207,
   "metadata": {},
   "outputs": [],
   "source": [
    "model_gs3.save(\"d2v_gs3.model\")"
   ]
  },
  {
   "cell_type": "code",
   "execution_count": 208,
   "metadata": {},
   "outputs": [],
   "source": [
    "d2v_gs3= Doc2Vec.load(\"d2v_gs3.model\")"
   ]
  },
  {
   "cell_type": "code",
   "execution_count": 209,
   "metadata": {},
   "outputs": [
    {
     "data": {
      "text/plain": [
       "[('dr', 0.5724689364433289),\n",
       " ('doctor', 0.49950820207595825),\n",
       " ('time', 0.43546438217163086),\n",
       " ('staff', 0.4080578684806824),\n",
       " ('office', 0.3696812391281128),\n",
       " ('patient', 0.36583051085472107),\n",
       " ('care', 0.36055541038513184),\n",
       " ('one', 0.3587050437927246),\n",
       " ('see', 0.35299962759017944),\n",
       " ('never', 0.35087186098098755),\n",
       " ('questions', 0.3377339243888855),\n",
       " ('years', 0.3343408405780792),\n",
       " ('found', 0.33351242542266846),\n",
       " ('manner', 0.32705754041671753),\n",
       " ('bedside', 0.32702577114105225)]"
      ]
     },
     "execution_count": 209,
     "metadata": {},
     "output_type": "execute_result"
    }
   ],
   "source": [
    "d2v_gs3.wv.most_similar(positive = [d2v_gs3.docvecs[0],d2v_gs3.docvecs['F']],topn=15)"
   ]
  },
  {
   "cell_type": "code",
   "execution_count": 210,
   "metadata": {},
   "outputs": [
    {
     "data": {
      "text/plain": [
       "[('dr', 0.4985211491584778),\n",
       " ('doctor', 0.4801616370677948),\n",
       " ('one', 0.40479540824890137),\n",
       " ('time', 0.3816603422164917),\n",
       " ('highly', 0.37834638357162476),\n",
       " ('top', 0.3756328821182251),\n",
       " ('well', 0.3724502623081207),\n",
       " ('compassionate', 0.36480942368507385),\n",
       " ('really', 0.35604971647262573),\n",
       " ('years', 0.35145482420921326),\n",
       " ('bad', 0.3506760001182556),\n",
       " ('patients', 0.3496653139591217),\n",
       " ('caring', 0.3473668098449707),\n",
       " ('excellent', 0.34657877683639526),\n",
       " ('never', 0.34541070461273193)]"
      ]
     },
     "execution_count": 210,
     "metadata": {},
     "output_type": "execute_result"
    }
   ],
   "source": [
    "d2v_gs3.wv.most_similar(positive = [d2v_gs3.docvecs[0],d2v_gs3.docvecs['M']],topn=15)"
   ]
  },
  {
   "cell_type": "code",
   "execution_count": 211,
   "metadata": {
    "scrolled": true
   },
   "outputs": [
    {
     "data": {
      "text/plain": [
       "[('dr', 0.5598286390304565),\n",
       " ('doctor', 0.42158520221710205),\n",
       " ('time', 0.3732236325740814),\n",
       " ('staff', 0.3562275171279907),\n",
       " ('care', 0.35531941056251526),\n",
       " ('office', 0.32850828766822815),\n",
       " ('dube', 0.2996673583984375),\n",
       " ('years', 0.29861557483673096),\n",
       " ('patient', 0.29857200384140015),\n",
       " ('one', 0.2943735122680664),\n",
       " ('see', 0.2917926609516144),\n",
       " ('never', 0.2857934832572937),\n",
       " ('even', 0.27929872274398804),\n",
       " ('rude', 0.2738555669784546),\n",
       " ('medical', 0.2731856107711792)]"
      ]
     },
     "execution_count": 211,
     "metadata": {},
     "output_type": "execute_result"
    }
   ],
   "source": [
    "d2v_gs3.wv.most_similar(positive = [d2v_gs3.docvecs[1],d2v_gs3.docvecs['F']],topn=15)"
   ]
  },
  {
   "cell_type": "code",
   "execution_count": 226,
   "metadata": {},
   "outputs": [
    {
     "data": {
      "text/plain": [
       "[('dr', 0.5598286390304565),\n",
       " ('doctor', 0.42158520221710205),\n",
       " ('time', 0.3732236325740814),\n",
       " ('staff', 0.3562275171279907),\n",
       " ('care', 0.35531941056251526),\n",
       " ('office', 0.32850828766822815),\n",
       " ('dube', 0.2996673583984375),\n",
       " ('years', 0.29861557483673096),\n",
       " ('patient', 0.29857200384140015),\n",
       " ('one', 0.2943735122680664),\n",
       " ('see', 0.2917926609516144),\n",
       " ('never', 0.2857934832572937),\n",
       " ('even', 0.27929872274398804),\n",
       " ('rude', 0.2738555669784546),\n",
       " ('medical', 0.2731856107711792),\n",
       " ('campbell', 0.26341578364372253),\n",
       " ('treatment', 0.2624831199645996),\n",
       " ('always', 0.2579416036605835),\n",
       " ('well', 0.2572850286960602),\n",
       " ('doctors', 0.2537463307380676),\n",
       " ('patients', 0.2531205713748932),\n",
       " ('good', 0.24911291897296906),\n",
       " ('questions', 0.24425888061523438),\n",
       " ('great', 0.24260182678699493),\n",
       " ('go', 0.24184852838516235),\n",
       " ('told', 0.24166005849838257),\n",
       " ('issues', 0.24079269170761108),\n",
       " ('practice', 0.23978261649608612),\n",
       " ('amp', 0.23886026442050934),\n",
       " ('visit', 0.23775695264339447),\n",
       " ('lot', 0.23588167130947113),\n",
       " ('best', 0.2339627742767334),\n",
       " ('decade', 0.2338852882385254),\n",
       " ('knowledgeable', 0.23356489837169647),\n",
       " ('community', 0.23228734731674194),\n",
       " ('nurse', 0.23033249378204346),\n",
       " ('wonderfull', 0.22958415746688843),\n",
       " ('almost', 0.22756409645080566),\n",
       " ('manner', 0.22718507051467896),\n",
       " ('appointment', 0.22410377860069275),\n",
       " ('degrees', 0.22408097982406616),\n",
       " ('physician', 0.22371457517147064),\n",
       " ('feel', 0.22254914045333862),\n",
       " ('first', 0.22165417671203613),\n",
       " ('health', 0.22051891684532166),\n",
       " ('asked', 0.22048860788345337),\n",
       " ('went', 0.2197093963623047),\n",
       " ('thorough', 0.2194606363773346),\n",
       " ('another', 0.21925662457942963),\n",
       " ('made', 0.21916848421096802)]"
      ]
     },
     "execution_count": 226,
     "metadata": {},
     "output_type": "execute_result"
    }
   ],
   "source": [
    "d2v_gs3.wv.most_similar(positive = [d2v_gs3.docvecs[1],d2v_gs3.docvecs['F']],topn=50)"
   ]
  },
  {
   "cell_type": "code",
   "execution_count": 212,
   "metadata": {
    "scrolled": true
   },
   "outputs": [
    {
     "data": {
      "text/plain": [
       "[('dr', 0.5190690755844116),\n",
       " ('doctor', 0.41704756021499634),\n",
       " ('time', 0.3429281711578369),\n",
       " ('one', 0.33390501141548157),\n",
       " ('care', 0.32987773418426514),\n",
       " ('years', 0.3174331784248352),\n",
       " ('staff', 0.31650128960609436),\n",
       " ('well', 0.3153061270713806),\n",
       " ('office', 0.3011116683483124),\n",
       " ('good', 0.28827792406082153),\n",
       " ('never', 0.2882222533226013),\n",
       " ('patients', 0.2870241105556488),\n",
       " ('patient', 0.28100883960723877),\n",
       " ('caring', 0.27199840545654297),\n",
       " ('always', 0.26913994550704956)]"
      ]
     },
     "execution_count": 212,
     "metadata": {},
     "output_type": "execute_result"
    }
   ],
   "source": [
    "d2v_gs3.wv.most_similar(positive = [d2v_gs3.docvecs[1],d2v_gs3.docvecs['M']],topn=15)"
   ]
  },
  {
   "cell_type": "code",
   "execution_count": 227,
   "metadata": {},
   "outputs": [
    {
     "data": {
      "text/plain": [
       "[('dr', 0.5190690755844116),\n",
       " ('doctor', 0.41704756021499634),\n",
       " ('time', 0.3429281711578369),\n",
       " ('one', 0.33390501141548157),\n",
       " ('care', 0.32987773418426514),\n",
       " ('years', 0.3174331784248352),\n",
       " ('staff', 0.31650128960609436),\n",
       " ('well', 0.3153061270713806),\n",
       " ('office', 0.3011116683483124),\n",
       " ('good', 0.28827792406082153),\n",
       " ('never', 0.2882222533226013),\n",
       " ('patients', 0.2870241105556488),\n",
       " ('patient', 0.28100883960723877),\n",
       " ('caring', 0.27199840545654297),\n",
       " ('always', 0.26913994550704956),\n",
       " ('even', 0.2684628367424011),\n",
       " ('great', 0.266102135181427),\n",
       " ('doctors', 0.2651801109313965),\n",
       " ('hospital', 0.26311326026916504),\n",
       " ('excellent', 0.261681467294693),\n",
       " ('family', 0.26005738973617554),\n",
       " ('needs', 0.25681307911872864),\n",
       " ('heart', 0.25552284717559814),\n",
       " ('physician', 0.25519782304763794),\n",
       " ('ver', 0.2548261284828186),\n",
       " ('life', 0.2532157301902771),\n",
       " ('wonderfull', 0.25228768587112427),\n",
       " ('much', 0.2522208094596863),\n",
       " ('see', 0.2512250244617462),\n",
       " ('medical', 0.24921658635139465),\n",
       " ('compassionate', 0.24671532213687897),\n",
       " ('put', 0.24477224051952362),\n",
       " ('cancer', 0.24423879384994507),\n",
       " ('best', 0.24406901001930237),\n",
       " ('feel', 0.2439911961555481),\n",
       " ('bad', 0.2422579973936081),\n",
       " ('hospice', 0.24119609594345093),\n",
       " ('rude', 0.23818320035934448),\n",
       " ('episodes', 0.23752951622009277),\n",
       " ('go', 0.23725397884845734),\n",
       " ('almost', 0.23654873669147491),\n",
       " ('many', 0.23450987040996552),\n",
       " ('stomach', 0.23357798159122467),\n",
       " ('ellis', 0.233078271150589),\n",
       " ('duties', 0.23276036977767944),\n",
       " ('amp', 0.23257753252983093),\n",
       " ('dube', 0.23212429881095886),\n",
       " ('mixed', 0.23200729489326477),\n",
       " ('area', 0.2306561917066574),\n",
       " ('including', 0.22959090769290924)]"
      ]
     },
     "execution_count": 227,
     "metadata": {},
     "output_type": "execute_result"
    }
   ],
   "source": [
    "d2v_gs3.wv.most_similar(positive = [d2v_gs3.docvecs[1],d2v_gs3.docvecs['M']],topn=50)"
   ]
  },
  {
   "cell_type": "code",
   "execution_count": null,
   "metadata": {},
   "outputs": [],
   "source": []
  },
  {
   "cell_type": "code",
   "execution_count": null,
   "metadata": {},
   "outputs": [],
   "source": []
  },
  {
   "cell_type": "code",
   "execution_count": null,
   "metadata": {},
   "outputs": [],
   "source": []
  },
  {
   "cell_type": "code",
   "execution_count": null,
   "metadata": {},
   "outputs": [],
   "source": []
  },
  {
   "cell_type": "markdown",
   "metadata": {},
   "source": [
    "### Run Doc2vec - sanction"
   ]
  },
  {
   "cell_type": "code",
   "execution_count": 213,
   "metadata": {},
   "outputs": [],
   "source": [
    "# Tag document\n",
    "import gensim\n",
    "docs_s = [] # each review/row is a tagged document.\n",
    "for i in range(len(documents)):\n",
    "    docs_s.append(gensim.models.doc2vec.TaggedDocument(documents[i],  [hasorder[i]]))"
   ]
  },
  {
   "cell_type": "code",
   "execution_count": 214,
   "metadata": {},
   "outputs": [
    {
     "data": {
      "text/plain": [
       "TaggedDocument(words=['satisfactory', 'recommend', 'coldness', 'solo', 'helpfulness', 'limited', 'office', 'staff', 'isolation', 'diagnosis', 'solo'], tags=[0])"
      ]
     },
     "execution_count": 214,
     "metadata": {},
     "output_type": "execute_result"
    }
   ],
   "source": [
    "docs_s[0]"
   ]
  },
  {
   "cell_type": "code",
   "execution_count": 215,
   "metadata": {},
   "outputs": [],
   "source": [
    "docs_for_vocab_s = [] \n",
    "for i in docs_s:\n",
    "    docs_for_vocab_s.append(i)"
   ]
  },
  {
   "cell_type": "code",
   "execution_count": 216,
   "metadata": {},
   "outputs": [],
   "source": [
    "model_s = Doc2Vec(dm=0, window=30,vector_size=300,min_count=30,epochs=100,workers=4,\n",
    "               hs=0,negative=7,dbow_words=1,dm_concat=1)\n",
    "model_s.build_vocab(docs_for_vocab_s)\n",
    "model_s.train(documents = docs_s,total_examples=model_s.corpus_count,epochs=100)"
   ]
  },
  {
   "cell_type": "code",
   "execution_count": 217,
   "metadata": {},
   "outputs": [],
   "source": [
    "model_s.save(\"d2v_s1.model\")"
   ]
  },
  {
   "cell_type": "code",
   "execution_count": 218,
   "metadata": {},
   "outputs": [],
   "source": [
    "d2v_s1= Doc2Vec.load(\"d2v_s1.model\")"
   ]
  },
  {
   "cell_type": "code",
   "execution_count": 219,
   "metadata": {},
   "outputs": [
    {
     "data": {
      "text/plain": [
       "[('dr', 0.8645907640457153),\n",
       " ('doctor', 0.8477318286895752),\n",
       " ('patient', 0.7336011528968811),\n",
       " ('kind', 0.73296719789505),\n",
       " ('caring', 0.7244918346405029),\n",
       " ('extremely', 0.717980682849884),\n",
       " ('time', 0.7027345895767212),\n",
       " ('great', 0.7014315128326416),\n",
       " ('knowledgeable', 0.697580099105835),\n",
       " ('staff', 0.692682147026062),\n",
       " ('one', 0.6919885873794556),\n",
       " ('helpful', 0.6891661882400513),\n",
       " ('good', 0.6879582405090332),\n",
       " ('never', 0.6785876750946045),\n",
       " ('professional', 0.6783258318901062)]"
      ]
     },
     "execution_count": 219,
     "metadata": {},
     "output_type": "execute_result"
    }
   ],
   "source": [
    "d2v_s1.wv.most_similar(positive = [d2v_s1.docvecs[0]],topn=15)"
   ]
  },
  {
   "cell_type": "code",
   "execution_count": 220,
   "metadata": {
    "scrolled": true
   },
   "outputs": [
    {
     "data": {
      "text/plain": [
       "[('dube', 0.40781348943710327),\n",
       " ('campbell', 0.3616836667060852),\n",
       " ('always', 0.35032209753990173),\n",
       " ('doctor', 0.34824657440185547),\n",
       " ('patients', 0.3298832178115845),\n",
       " ('dr', 0.3278457820415497),\n",
       " ('well', 0.3236086368560791),\n",
       " ('never', 0.32163792848587036),\n",
       " ('caring', 0.318787544965744),\n",
       " ('ill', 0.31691277027130127),\n",
       " ('staff', 0.3160620331764221),\n",
       " ('see', 0.3144984841346741),\n",
       " ('patient', 0.31109490990638733),\n",
       " ('care', 0.3053843080997467),\n",
       " ('kind', 0.30244529247283936)]"
      ]
     },
     "execution_count": 220,
     "metadata": {},
     "output_type": "execute_result"
    }
   ],
   "source": [
    "d2v_s1.wv.most_similar(positive = [d2v_s1.docvecs[1]],topn=15)"
   ]
  },
  {
   "cell_type": "markdown",
   "metadata": {},
   "source": [
    "### Run Doc2vec for gender & sanction using one label"
   ]
  },
  {
   "cell_type": "code",
   "execution_count": 35,
   "metadata": {},
   "outputs": [],
   "source": [
    "label = list(review_im['label'])"
   ]
  },
  {
   "cell_type": "code",
   "execution_count": 36,
   "metadata": {},
   "outputs": [
    {
     "data": {
      "text/plain": [
       "(87875, 87875)"
      ]
     },
     "execution_count": 36,
     "metadata": {},
     "output_type": "execute_result"
    }
   ],
   "source": [
    "len(label),len(documents)"
   ]
  },
  {
   "cell_type": "code",
   "execution_count": 37,
   "metadata": {},
   "outputs": [],
   "source": [
    "# Tag document\n",
    "import gensim\n",
    "docs_l = [] # each review/row is a tagged document.\n",
    "for i in range(len(documents)):\n",
    "    docs_l.append(gensim.models.doc2vec.TaggedDocument(documents[i],  [label[i]]))"
   ]
  },
  {
   "cell_type": "code",
   "execution_count": 38,
   "metadata": {},
   "outputs": [
    {
     "data": {
      "text/plain": [
       "TaggedDocument(words=['satisfactory', 'recommend', 'coldness', 'solo', 'helpfulness', 'limited', 'office', 'staff', 'isolation', 'diagnosis', 'solo'], tags=['F0'])"
      ]
     },
     "execution_count": 38,
     "metadata": {},
     "output_type": "execute_result"
    }
   ],
   "source": [
    "docs_l[0]"
   ]
  },
  {
   "cell_type": "code",
   "execution_count": 39,
   "metadata": {},
   "outputs": [],
   "source": [
    "docs_for_vocab_l = [] \n",
    "for i in docs_l:\n",
    "    docs_for_vocab_l.append(i)"
   ]
  },
  {
   "cell_type": "code",
   "execution_count": 42,
   "metadata": {},
   "outputs": [],
   "source": [
    "model_l = Doc2Vec(dm=0, window=30,vector_size=300,min_count=30,epochs=100,workers=4,\n",
    "               hs=0,negative=7,dbow_words=1,dm_concat=1)\n",
    "model_l.build_vocab(docs_for_vocab_l)\n",
    "model_l.train(documents = docs_l,total_examples=model_l.corpus_count,epochs=100)"
   ]
  },
  {
   "cell_type": "code",
   "execution_count": 43,
   "metadata": {},
   "outputs": [],
   "source": [
    "model_l.save(\"d2v_l1.model\")"
   ]
  },
  {
   "cell_type": "code",
   "execution_count": 44,
   "metadata": {},
   "outputs": [],
   "source": [
    "d2v_l1= Doc2Vec.load(\"d2v_l1.model\")"
   ]
  },
  {
   "cell_type": "code",
   "execution_count": 45,
   "metadata": {},
   "outputs": [
    {
     "data": {
      "text/plain": [
       "[('dr', 0.748054563999176),\n",
       " ('doctor', 0.716896653175354),\n",
       " ('extremely', 0.6405178308486938),\n",
       " ('staff', 0.6297218799591064),\n",
       " ('caring', 0.6291263103485107),\n",
       " ('office', 0.6269620656967163),\n",
       " ('see', 0.6180649995803833),\n",
       " ('never', 0.6140685081481934),\n",
       " ('patient', 0.6139594912528992),\n",
       " ('time', 0.6099159717559814),\n",
       " ('really', 0.6055251955986023),\n",
       " ('kind', 0.6051135063171387),\n",
       " ('always', 0.6043594479560852),\n",
       " ('helpful', 0.6029866933822632),\n",
       " ('thorough', 0.596150279045105)]"
      ]
     },
     "execution_count": 45,
     "metadata": {},
     "output_type": "execute_result"
    }
   ],
   "source": [
    "d2v_l1.wv.most_similar(positive = [d2v_l1.docvecs['F0']],topn=15)"
   ]
  },
  {
   "cell_type": "code",
   "execution_count": 46,
   "metadata": {},
   "outputs": [
    {
     "data": {
      "text/plain": [
       "[('dr', 0.8275669813156128),\n",
       " ('doctor', 0.8142729997634888),\n",
       " ('kind', 0.7264524698257446),\n",
       " ('caring', 0.7145541906356812),\n",
       " ('patient', 0.7142596244812012),\n",
       " ('extremely', 0.7005687952041626),\n",
       " ('great', 0.6884934902191162),\n",
       " ('good', 0.6759421825408936),\n",
       " ('one', 0.6703273057937622),\n",
       " ('professional', 0.6676058173179626),\n",
       " ('well', 0.6670365333557129),\n",
       " ('knowledgeable', 0.6643065214157104),\n",
       " ('helpful', 0.6641438007354736),\n",
       " ('time', 0.6632285118103027),\n",
       " ('excellent', 0.6587772369384766)]"
      ]
     },
     "execution_count": 46,
     "metadata": {},
     "output_type": "execute_result"
    }
   ],
   "source": [
    "d2v_l1.wv.most_similar(positive = [d2v_l1.docvecs['M0']],topn=15)"
   ]
  },
  {
   "cell_type": "code",
   "execution_count": 47,
   "metadata": {},
   "outputs": [
    {
     "data": {
      "text/plain": [
       "[('dube', 0.5797610878944397),\n",
       " ('campbell', 0.4333091974258423),\n",
       " ('almost', 0.24404075741767883),\n",
       " ('issues', 0.24195539951324463),\n",
       " ('quality', 0.23930051922798157),\n",
       " ('often', 0.23801076412200928),\n",
       " ('always', 0.23792950809001923),\n",
       " ('karen', 0.23647736012935638),\n",
       " ('reads', 0.2363048791885376),\n",
       " ('short', 0.233882874250412),\n",
       " ('organization', 0.2338079810142517),\n",
       " ('care', 0.23328980803489685),\n",
       " ('nurse', 0.22978663444519043),\n",
       " ('ability', 0.22534328699111938),\n",
       " ('office', 0.2246040403842926)]"
      ]
     },
     "execution_count": 47,
     "metadata": {},
     "output_type": "execute_result"
    }
   ],
   "source": [
    "d2v_l1.wv.most_similar(positive = [d2v_l1.docvecs['F1']],topn=15)"
   ]
  },
  {
   "cell_type": "code",
   "execution_count": 48,
   "metadata": {},
   "outputs": [
    {
     "data": {
      "text/plain": [
       "[('doctor', 0.3834763765335083),\n",
       " ('dr', 0.3195798993110657),\n",
       " ('never', 0.31053465604782104),\n",
       " ('always', 0.3097994327545166),\n",
       " ('staff', 0.3063393533229828),\n",
       " ('patients', 0.3052254617214203),\n",
       " ('taken', 0.3031293451786041),\n",
       " ('time', 0.30253058671951294),\n",
       " ('attentive', 0.3023163974285126),\n",
       " ('well', 0.29816555976867676),\n",
       " ('caring', 0.2980839014053345),\n",
       " ('wonderful', 0.29792237281799316),\n",
       " ('take', 0.2941761612892151),\n",
       " ('much', 0.29217052459716797),\n",
       " ('good', 0.2916867136955261)]"
      ]
     },
     "execution_count": 48,
     "metadata": {},
     "output_type": "execute_result"
    }
   ],
   "source": [
    "d2v_l1.wv.most_similar(positive = [d2v_l1.docvecs['M1']],topn=15)"
   ]
  },
  {
   "cell_type": "markdown",
   "metadata": {},
   "source": [
    "1. Try window size: 5\n",
    "2. Take the absolute difference, for gender, sanction and both\n",
    "3. Try one feature"
   ]
  },
  {
   "cell_type": "markdown",
   "metadata": {},
   "source": [
    "1. Try stemming\n",
    "2. First down sampling sanction results. 574, then up sampling and double.\n",
    "3. Try outer join"
   ]
  }
 ],
 "metadata": {
  "kernelspec": {
   "display_name": "Python 3",
   "language": "python",
   "name": "python3"
  },
  "language_info": {
   "codemirror_mode": {
    "name": "ipython",
    "version": 3
   },
   "file_extension": ".py",
   "mimetype": "text/x-python",
   "name": "python",
   "nbconvert_exporter": "python",
   "pygments_lexer": "ipython3",
   "version": "3.8.5"
  },
  "toc": {
   "base_numbering": 1,
   "nav_menu": {},
   "number_sections": true,
   "sideBar": true,
   "skip_h1_title": false,
   "title_cell": "Table of Contents",
   "title_sidebar": "Contents",
   "toc_cell": false,
   "toc_position": {},
   "toc_section_display": true,
   "toc_window_display": false
  }
 },
 "nbformat": 4,
 "nbformat_minor": 2
}
