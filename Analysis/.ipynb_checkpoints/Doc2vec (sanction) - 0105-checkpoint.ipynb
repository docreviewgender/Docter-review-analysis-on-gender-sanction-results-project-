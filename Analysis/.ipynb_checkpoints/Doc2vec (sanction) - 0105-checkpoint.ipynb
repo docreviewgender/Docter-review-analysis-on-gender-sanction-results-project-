{
 "cells": [
  {
   "cell_type": "markdown",
   "metadata": {},
   "source": [
    "## Import internal medicine review dataset"
   ]
  },
  {
   "cell_type": "code",
   "execution_count": 169,
   "metadata": {},
   "outputs": [],
   "source": [
    "import pandas as pd\n",
    "import matplotlib.pyplot as plt\n",
    "import seaborn as sns"
   ]
  },
  {
   "cell_type": "code",
   "execution_count": 268,
   "metadata": {},
   "outputs": [],
   "source": [
    "path = \"/Users/chongchen/Desktop/19Fall RA/data/generated_data/Internal Medicine Review.csv\"\n",
    "review_im = pd.read_csv(path, index_col = 0)"
   ]
  },
  {
   "cell_type": "code",
   "execution_count": 269,
   "metadata": {
    "scrolled": true
   },
   "outputs": [
    {
     "data": {
      "text/html": [
       "<div>\n",
       "<style scoped>\n",
       "    .dataframe tbody tr th:only-of-type {\n",
       "        vertical-align: middle;\n",
       "    }\n",
       "\n",
       "    .dataframe tbody tr th {\n",
       "        vertical-align: top;\n",
       "    }\n",
       "\n",
       "    .dataframe thead th {\n",
       "        text-align: right;\n",
       "    }\n",
       "</style>\n",
       "<table border=\"1\" class=\"dataframe\">\n",
       "  <thead>\n",
       "    <tr style=\"text-align: right;\">\n",
       "      <th></th>\n",
       "      <th>Review</th>\n",
       "      <th>hp_id</th>\n",
       "      <th>gender</th>\n",
       "      <th>hasorder</th>\n",
       "      <th>lower</th>\n",
       "      <th>no_digits</th>\n",
       "      <th>no_punctuation</th>\n",
       "      <th>words</th>\n",
       "    </tr>\n",
       "  </thead>\n",
       "  <tbody>\n",
       "    <tr>\n",
       "      <th>0</th>\n",
       "      <td>satisfactory but would not recommend coldness,...</td>\n",
       "      <td>19713</td>\n",
       "      <td>F</td>\n",
       "      <td>0</td>\n",
       "      <td>satisfactory but would not recommend coldness,...</td>\n",
       "      <td>satisfactory but would not recommend coldness,...</td>\n",
       "      <td>satisfactory but would not recommend coldness ...</td>\n",
       "      <td>['satisfactory', 'recommend', 'coldness', 'sol...</td>\n",
       "    </tr>\n",
       "    <tr>\n",
       "      <th>1</th>\n",
       "      <td>Although Dr. Merlo does not appear to have an...</td>\n",
       "      <td>19713</td>\n",
       "      <td>F</td>\n",
       "      <td>0</td>\n",
       "      <td>although dr. merlo does not appear to have an...</td>\n",
       "      <td>although dr. merlo does not appear to have an...</td>\n",
       "      <td>although dr  merlo does not appear to have an...</td>\n",
       "      <td>['although', 'dr', 'merlo', 'appear', 'office'...</td>\n",
       "    </tr>\n",
       "    <tr>\n",
       "      <th>2</th>\n",
       "      <td>took my daughter for problems, never examined...</td>\n",
       "      <td>19713</td>\n",
       "      <td>F</td>\n",
       "      <td>0</td>\n",
       "      <td>took my daughter for problems, never examined...</td>\n",
       "      <td>took my daughter for problems, never examined...</td>\n",
       "      <td>took my daughter for problems  never examined...</td>\n",
       "      <td>['took', 'daughter', 'problems', 'never', 'exa...</td>\n",
       "    </tr>\n",
       "    <tr>\n",
       "      <th>3</th>\n",
       "      <td>Yes, Dr. Merlot can be rude and arrogant, but...</td>\n",
       "      <td>19713</td>\n",
       "      <td>F</td>\n",
       "      <td>0</td>\n",
       "      <td>yes, dr. merlot can be rude and arrogant, but...</td>\n",
       "      <td>yes, dr. merlot can be rude and arrogant, but...</td>\n",
       "      <td>yes  dr  merlot can be rude and arrogant  but...</td>\n",
       "      <td>['yes', 'dr', 'merlot', 'rude', 'arrogant', 'o...</td>\n",
       "    </tr>\n",
       "    <tr>\n",
       "      <th>4</th>\n",
       "      <td>I called to make and appointment and a woman ...</td>\n",
       "      <td>19713</td>\n",
       "      <td>F</td>\n",
       "      <td>0</td>\n",
       "      <td>i called to make and appointment and a woman ...</td>\n",
       "      <td>i called to make and appointment and a woman ...</td>\n",
       "      <td>i called to make and appointment and a woman ...</td>\n",
       "      <td>['called', 'make', 'appointment', 'woman', 'ca...</td>\n",
       "    </tr>\n",
       "  </tbody>\n",
       "</table>\n",
       "</div>"
      ],
      "text/plain": [
       "                                              Review  hp_id gender  hasorder  \\\n",
       "0  satisfactory but would not recommend coldness,...  19713      F         0   \n",
       "1   Although Dr. Merlo does not appear to have an...  19713      F         0   \n",
       "2   took my daughter for problems, never examined...  19713      F         0   \n",
       "3   Yes, Dr. Merlot can be rude and arrogant, but...  19713      F         0   \n",
       "4   I called to make and appointment and a woman ...  19713      F         0   \n",
       "\n",
       "                                               lower  \\\n",
       "0  satisfactory but would not recommend coldness,...   \n",
       "1   although dr. merlo does not appear to have an...   \n",
       "2   took my daughter for problems, never examined...   \n",
       "3   yes, dr. merlot can be rude and arrogant, but...   \n",
       "4   i called to make and appointment and a woman ...   \n",
       "\n",
       "                                           no_digits  \\\n",
       "0  satisfactory but would not recommend coldness,...   \n",
       "1   although dr. merlo does not appear to have an...   \n",
       "2   took my daughter for problems, never examined...   \n",
       "3   yes, dr. merlot can be rude and arrogant, but...   \n",
       "4   i called to make and appointment and a woman ...   \n",
       "\n",
       "                                      no_punctuation  \\\n",
       "0  satisfactory but would not recommend coldness ...   \n",
       "1   although dr  merlo does not appear to have an...   \n",
       "2   took my daughter for problems  never examined...   \n",
       "3   yes  dr  merlot can be rude and arrogant  but...   \n",
       "4   i called to make and appointment and a woman ...   \n",
       "\n",
       "                                               words  \n",
       "0  ['satisfactory', 'recommend', 'coldness', 'sol...  \n",
       "1  ['although', 'dr', 'merlo', 'appear', 'office'...  \n",
       "2  ['took', 'daughter', 'problems', 'never', 'exa...  \n",
       "3  ['yes', 'dr', 'merlot', 'rude', 'arrogant', 'o...  \n",
       "4  ['called', 'make', 'appointment', 'woman', 'ca...  "
      ]
     },
     "execution_count": 269,
     "metadata": {},
     "output_type": "execute_result"
    }
   ],
   "source": [
    "review_im.head()"
   ]
  },
  {
   "cell_type": "code",
   "execution_count": 270,
   "metadata": {},
   "outputs": [],
   "source": [
    "# drop records without review\n",
    "review_im.drop(review_im[review_im['Review'] == ' '].index, inplace = True)\n",
    "review_im.reset_index(inplace = True, drop = True)"
   ]
  },
  {
   "cell_type": "code",
   "execution_count": 271,
   "metadata": {
    "scrolled": true
   },
   "outputs": [
    {
     "data": {
      "text/plain": [
       "\"['satisfactory', 'recommend', 'coldness', 'solo', 'helpfulness', 'limited', 'office', 'staff', 'isolation', 'diagnosis', 'solo']\""
      ]
     },
     "execution_count": 271,
     "metadata": {},
     "output_type": "execute_result"
    }
   ],
   "source": [
    "review_im['words'][0]"
   ]
  },
  {
   "cell_type": "code",
   "execution_count": 272,
   "metadata": {
    "scrolled": true
   },
   "outputs": [],
   "source": [
    "import ast\n",
    "review_im['words'] = review_im['words'].map(lambda x: ast.literal_eval(x))"
   ]
  },
  {
   "cell_type": "code",
   "execution_count": 273,
   "metadata": {},
   "outputs": [
    {
     "data": {
      "text/plain": [
       "['satisfactory',\n",
       " 'recommend',\n",
       " 'coldness',\n",
       " 'solo',\n",
       " 'helpfulness',\n",
       " 'limited',\n",
       " 'office',\n",
       " 'staff',\n",
       " 'isolation',\n",
       " 'diagnosis',\n",
       " 'solo']"
      ]
     },
     "execution_count": 273,
     "metadata": {},
     "output_type": "execute_result"
    }
   ],
   "source": [
    "review_im['words'][0]"
   ]
  },
  {
   "cell_type": "markdown",
   "metadata": {},
   "source": [
    "### 2. Sampling equal numeber of reviews of the two genders, tag documents."
   ]
  },
  {
   "cell_type": "code",
   "execution_count": 274,
   "metadata": {},
   "outputs": [
    {
     "data": {
      "text/plain": [
       "M    61922\n",
       "F    25953\n",
       "Name: gender, dtype: int64"
      ]
     },
     "execution_count": 274,
     "metadata": {},
     "output_type": "execute_result"
    }
   ],
   "source": [
    "review_im['gender'].value_counts()"
   ]
  },
  {
   "cell_type": "code",
   "execution_count": 275,
   "metadata": {},
   "outputs": [
    {
     "data": {
      "text/plain": [
       "0    87301\n",
       "1      574\n",
       "Name: hasorder, dtype: int64"
      ]
     },
     "execution_count": 275,
     "metadata": {},
     "output_type": "execute_result"
    }
   ],
   "source": [
    "review_im['hasorder'].value_counts()"
   ]
  },
  {
   "cell_type": "code",
   "execution_count": 276,
   "metadata": {},
   "outputs": [
    {
     "data": {
      "text/html": [
       "<div>\n",
       "<style scoped>\n",
       "    .dataframe tbody tr th:only-of-type {\n",
       "        vertical-align: middle;\n",
       "    }\n",
       "\n",
       "    .dataframe tbody tr th {\n",
       "        vertical-align: top;\n",
       "    }\n",
       "\n",
       "    .dataframe thead th {\n",
       "        text-align: right;\n",
       "    }\n",
       "</style>\n",
       "<table border=\"1\" class=\"dataframe\">\n",
       "  <thead>\n",
       "    <tr style=\"text-align: right;\">\n",
       "      <th></th>\n",
       "      <th></th>\n",
       "      <th>hp_id</th>\n",
       "    </tr>\n",
       "    <tr>\n",
       "      <th>gender</th>\n",
       "      <th>hasorder</th>\n",
       "      <th></th>\n",
       "    </tr>\n",
       "  </thead>\n",
       "  <tbody>\n",
       "    <tr>\n",
       "      <th rowspan=\"2\" valign=\"top\">F</th>\n",
       "      <th>0</th>\n",
       "      <td>25833</td>\n",
       "    </tr>\n",
       "    <tr>\n",
       "      <th>1</th>\n",
       "      <td>120</td>\n",
       "    </tr>\n",
       "    <tr>\n",
       "      <th rowspan=\"2\" valign=\"top\">M</th>\n",
       "      <th>0</th>\n",
       "      <td>61468</td>\n",
       "    </tr>\n",
       "    <tr>\n",
       "      <th>1</th>\n",
       "      <td>454</td>\n",
       "    </tr>\n",
       "  </tbody>\n",
       "</table>\n",
       "</div>"
      ],
      "text/plain": [
       "                 hp_id\n",
       "gender hasorder       \n",
       "F      0         25833\n",
       "       1           120\n",
       "M      0         61468\n",
       "       1           454"
      ]
     },
     "execution_count": 276,
     "metadata": {},
     "output_type": "execute_result"
    }
   ],
   "source": [
    "review_im.groupby(by= ['gender','hasorder'])[['hp_id']].count()"
   ]
  },
  {
   "cell_type": "code",
   "execution_count": 277,
   "metadata": {},
   "outputs": [],
   "source": [
    "review = list(review_im['words'])"
   ]
  },
  {
   "cell_type": "code",
   "execution_count": 278,
   "metadata": {},
   "outputs": [
    {
     "data": {
      "text/plain": [
       "'satisfactory'"
      ]
     },
     "execution_count": 278,
     "metadata": {},
     "output_type": "execute_result"
    }
   ],
   "source": [
    "review[0][0]"
   ]
  },
  {
   "cell_type": "code",
   "execution_count": 279,
   "metadata": {},
   "outputs": [],
   "source": [
    "gender = list(review_im['gender'])"
   ]
  },
  {
   "cell_type": "code",
   "execution_count": 280,
   "metadata": {},
   "outputs": [],
   "source": [
    "hasorder = list(review_im['hasorder'])"
   ]
  },
  {
   "cell_type": "code",
   "execution_count": 281,
   "metadata": {},
   "outputs": [
    {
     "data": {
      "text/plain": [
       "(87875, 87875, 87875)"
      ]
     },
     "execution_count": 281,
     "metadata": {},
     "output_type": "execute_result"
    }
   ],
   "source": [
    "len(review),len(gender),len(hasorder)"
   ]
  },
  {
   "cell_type": "code",
   "execution_count": 282,
   "metadata": {},
   "outputs": [],
   "source": [
    "# Tag document\n",
    "import gensim\n",
    "docs = [] # each review/row is a tagged document.\n",
    "for i in range(len(review)):\n",
    "    docs.append(gensim.models.doc2vec.TaggedDocument(review[i], [hasorder[i]]))"
   ]
  },
  {
   "cell_type": "code",
   "execution_count": 283,
   "metadata": {},
   "outputs": [
    {
     "data": {
      "text/plain": [
       "TaggedDocument(words=['satisfactory', 'recommend', 'coldness', 'solo', 'helpfulness', 'limited', 'office', 'staff', 'isolation', 'diagnosis', 'solo'], tags=[0])"
      ]
     },
     "execution_count": 283,
     "metadata": {},
     "output_type": "execute_result"
    }
   ],
   "source": [
    "docs[0]"
   ]
  },
  {
   "cell_type": "code",
   "execution_count": 284,
   "metadata": {},
   "outputs": [],
   "source": [
    "docs_for_vocab = [] \n",
    "for i in docs:\n",
    "    docs_for_vocab.append(i)"
   ]
  },
  {
   "cell_type": "markdown",
   "metadata": {},
   "source": [
    "#### sampling equal number of sanction reviews & not sanction reviews"
   ]
  },
  {
   "cell_type": "code",
   "execution_count": 285,
   "metadata": {},
   "outputs": [],
   "source": [
    "import random"
   ]
  },
  {
   "cell_type": "code",
   "execution_count": 286,
   "metadata": {},
   "outputs": [],
   "source": [
    "# 10000 sanction reviews and 10000 not sanction reviews\n",
    "repeat = {}\n",
    "indices = []\n",
    "batch = []\n",
    "draw = 10000\n",
    "s_candidates = list(review_im[review_im['hasorder']==1].index)\n",
    "ns_candidates = list(review_im[review_im['hasorder']==0].index)\n",
    "for b in range(draw):\n",
    "    s = random.choice(s_candidates)\n",
    "    indices.append(s)\n",
    "    ns = random.choice(ns_candidates)\n",
    "    indices.append(ns)\n",
    "for i in indices:\n",
    "    try:\n",
    "        repeat[i]+=1\n",
    "    except:\n",
    "        repeat[i]=1\n",
    "    batch.append(docs[i])"
   ]
  },
  {
   "cell_type": "code",
   "execution_count": 287,
   "metadata": {},
   "outputs": [
    {
     "data": {
      "text/plain": [
       "[TaggedDocument(words=['dr', 'scott', 'hiatt', 'life', 'saver', 'guarding', 'angle', 'live', 'saved', 'dieing', 'fought', 'life', 'minutes', 'love', 'heart', 'pregante', 'got', 'sick', 'going', 'baby', 'heart', 'stop', 'heart', 'min', 'fought', 'called', 'dr', 'sean', 'lynn', 'nothing', 'save', 'life', 'dr', 'scott', 'hiatt', 'trust', 'life', 'baby', 'go', 'dr', 'sean', 'lynn', 'trust', 'dr', 'scott', 'hiatt', 'never', 'gave', 'mins', 'love', 'may', 'god', 'alwas', 'bless', 'special', 'spot', 'heaven', 'thank', 'dr', 'scott', 'hiatt', 'thank', 'dr', 'sean', 'lynn'], tags=[1]),\n",
       " TaggedDocument(words=['consistently', 'named', 'best', 'dallas', 'rightfully', 'never', 'rush', 'spends', 'much', 'time', 'necessary', 'go', 'concerns', 'answer', 'questions', 'explain', 'everything', 'easy', 'talk', 'truly', 'nice', 'person', 'cares', 'health', 'wife', 'use', 'dr', 'lau', 'pcp', 'several', 'years', 'never', 'disappointed', 'unique', 'ability', 'diagnose', 'problems', 'strongly', 'encourages', 'two', 'way', 'dialog'], tags=[0]),\n",
       " TaggedDocument(words=['reliable', 'patient', 'right', 'doctors', 'even', 'tempered', 'professional', 'times', 'seeing', 'aboutnine', 'years'], tags=[1])]"
      ]
     },
     "execution_count": 287,
     "metadata": {},
     "output_type": "execute_result"
    }
   ],
   "source": [
    "batch[:3]"
   ]
  },
  {
   "cell_type": "markdown",
   "metadata": {},
   "source": [
    "### 4. Import Gensim, run doc2vec"
   ]
  },
  {
   "cell_type": "code",
   "execution_count": 288,
   "metadata": {},
   "outputs": [],
   "source": [
    "from gensim.models.doc2vec import Doc2Vec, TaggedDocument\n",
    "import multiprocessing"
   ]
  },
  {
   "cell_type": "code",
   "execution_count": 289,
   "metadata": {},
   "outputs": [],
   "source": [
    "cores = multiprocessing.cpu_count()"
   ]
  },
  {
   "cell_type": "code",
   "execution_count": 290,
   "metadata": {},
   "outputs": [],
   "source": [
    "model = Doc2Vec(dm=0, window=20,vector_size=300,min_count=30,epochs=5,workers=cores,\n",
    "               hs=0,negative=7,dbow_words=1,dm_concat=1)\n",
    "model.build_vocab(docs_for_vocab)\n",
    "model.train(documents = batch,total_examples=model.corpus_count,epochs=model.epochs)"
   ]
  },
  {
   "cell_type": "code",
   "execution_count": 291,
   "metadata": {},
   "outputs": [],
   "source": [
    "model.save(\"doc_review_sanction.model\")"
   ]
  },
  {
   "cell_type": "code",
   "execution_count": 292,
   "metadata": {},
   "outputs": [],
   "source": [
    "from gensim.models.doc2vec import Doc2Vec\n",
    "model= Doc2Vec.load(\"doc_review_sanction.model\")"
   ]
  },
  {
   "cell_type": "code",
   "execution_count": 293,
   "metadata": {},
   "outputs": [
    {
     "data": {
      "text/plain": [
       "[('chan', 0.7140065431594849),\n",
       " ('hippocratic', 0.7129845023155212),\n",
       " ('norm', 0.7090793251991272),\n",
       " ('profile', 0.7077124118804932),\n",
       " ('joe', 0.7066259384155273),\n",
       " ('empathic', 0.7033420205116272),\n",
       " ('el', 0.7020017504692078),\n",
       " ('bonus', 0.6986516714096069),\n",
       " ('william', 0.6985780000686646),\n",
       " ('dream', 0.694002628326416),\n",
       " ('naturally', 0.6913329362869263),\n",
       " ('unreliable', 0.690306544303894),\n",
       " ('singh', 0.6895483732223511),\n",
       " ('drew', 0.6891516447067261),\n",
       " ('stinks', 0.6887184381484985)]"
      ]
     },
     "execution_count": 293,
     "metadata": {},
     "output_type": "execute_result"
    }
   ],
   "source": [
    "model.wv.most_similar(positive = [model.docvecs[0]],topn=15)"
   ]
  },
  {
   "cell_type": "code",
   "execution_count": 294,
   "metadata": {
    "scrolled": true
   },
   "outputs": [
    {
     "data": {
      "text/plain": [
       "[('focuses', 0.48323020339012146),\n",
       " ('dr', 0.4810328185558319),\n",
       " ('ford', 0.4373607039451599),\n",
       " ('strives', 0.4266654849052429),\n",
       " ('doctor', 0.42209669947624207),\n",
       " ('humane', 0.4196663498878479),\n",
       " ('bonus', 0.41957253217697144),\n",
       " ('precious', 0.4179649353027344),\n",
       " ('machines', 0.415289044380188),\n",
       " ('text', 0.41443008184432983),\n",
       " ('smug', 0.40904855728149414),\n",
       " ('dream', 0.40693241357803345),\n",
       " ('chronically', 0.40690848231315613),\n",
       " ('establish', 0.4047136902809143),\n",
       " ('generations', 0.4046419858932495)]"
      ]
     },
     "execution_count": 294,
     "metadata": {},
     "output_type": "execute_result"
    }
   ],
   "source": [
    "model.wv.most_similar(positive = [model.docvecs[1]],topn=15)"
   ]
  },
  {
   "cell_type": "markdown",
   "metadata": {},
   "source": [
    "### Change hyperparameters"
   ]
  },
  {
   "cell_type": "code",
   "execution_count": 295,
   "metadata": {},
   "outputs": [],
   "source": [
    "model3 = Doc2Vec(dm=0,vector_size=300,min_count=50,epochs=5,workers=cores,dbow_words=1,dm_concat=1)\n",
    "model3.build_vocab(docs_for_vocab)\n",
    "model3.train(documents = batch,total_examples=model.corpus_count,epochs=model.epochs)\n",
    "model3.save(\"doc_review3.model\")"
   ]
  },
  {
   "cell_type": "code",
   "execution_count": 296,
   "metadata": {},
   "outputs": [],
   "source": [
    "from gensim.models.doc2vec import Doc2Vec\n",
    "model3= Doc2Vec.load(\"doc_review3.model\")"
   ]
  },
  {
   "cell_type": "code",
   "execution_count": 297,
   "metadata": {},
   "outputs": [
    {
     "data": {
      "text/plain": [
       "[('assured', 0.6123682260513306),\n",
       " ('discomfort', 0.6106825470924377),\n",
       " ('rose', 0.6089043021202087),\n",
       " ('dementia', 0.6075581312179565),\n",
       " ('godsend', 0.6069930791854858),\n",
       " ('regimen', 0.6063371896743774),\n",
       " ('dc', 0.6044229865074158),\n",
       " ('june', 0.603678822517395),\n",
       " ('throwing', 0.6030840277671814),\n",
       " ('pulmonologist', 0.60286545753479),\n",
       " ('neglected', 0.602419376373291),\n",
       " ('hematologist', 0.6016801595687866),\n",
       " ('onto', 0.6008667349815369),\n",
       " ('indeed', 0.5999284386634827),\n",
       " ('memorial', 0.5997985601425171)]"
      ]
     },
     "execution_count": 297,
     "metadata": {},
     "output_type": "execute_result"
    }
   ],
   "source": [
    "model3.wv.most_similar(positive = [model.docvecs[0]],topn=15)"
   ]
  },
  {
   "cell_type": "code",
   "execution_count": 298,
   "metadata": {},
   "outputs": [
    {
     "data": {
      "text/plain": [
       "[('yeah', 0.40610766410827637),\n",
       " ('brings', 0.39789503812789917),\n",
       " ('associate', 0.3929458260536194),\n",
       " ('among', 0.39180511236190796),\n",
       " ('accepts', 0.3868747353553772),\n",
       " ('yesterday', 0.37955841422080994),\n",
       " ('dozen', 0.3772449493408203),\n",
       " ('fellow', 0.36138030886650085),\n",
       " ('un', 0.361300528049469),\n",
       " ('teacher', 0.36034536361694336),\n",
       " ('gown', 0.3595094680786133),\n",
       " ('price', 0.3587324321269989),\n",
       " ('fired', 0.35831642150878906),\n",
       " ('operation', 0.35628965497016907),\n",
       " ('forgetful', 0.3547370433807373)]"
      ]
     },
     "execution_count": 298,
     "metadata": {},
     "output_type": "execute_result"
    }
   ],
   "source": [
    "model3.wv.most_similar(positive = [model.docvecs[1]],topn=15)"
   ]
  },
  {
   "cell_type": "code",
   "execution_count": null,
   "metadata": {},
   "outputs": [],
   "source": []
  },
  {
   "cell_type": "markdown",
   "metadata": {},
   "source": [
    "#### Try not sampling "
   ]
  },
  {
   "cell_type": "code",
   "execution_count": 299,
   "metadata": {},
   "outputs": [],
   "source": [
    "s_candidates = list(review_im[review_im['hasorder']==1].index)\n",
    "ns_candidates = list(review_im[review_im['hasorder']==0].index)"
   ]
  },
  {
   "cell_type": "code",
   "execution_count": 300,
   "metadata": {},
   "outputs": [
    {
     "data": {
      "text/plain": [
       "574"
      ]
     },
     "execution_count": 300,
     "metadata": {},
     "output_type": "execute_result"
    }
   ],
   "source": [
    "len(s_candidates)"
   ]
  },
  {
   "cell_type": "code",
   "execution_count": 301,
   "metadata": {},
   "outputs": [
    {
     "data": {
      "text/plain": [
       "87301"
      ]
     },
     "execution_count": 301,
     "metadata": {},
     "output_type": "execute_result"
    }
   ],
   "source": [
    "len(ns_candidates)"
   ]
  },
  {
   "cell_type": "code",
   "execution_count": 263,
   "metadata": {},
   "outputs": [],
   "source": [
    "batch2 = []\n",
    "for b in s_candidates:\n",
    "    indices.append(s)\n",
    "for c in ns_candidates:\n",
    "    indices.append(ns)\n",
    "for i in indices:\n",
    "    batch2.append(docs[i])"
   ]
  },
  {
   "cell_type": "code",
   "execution_count": 302,
   "metadata": {},
   "outputs": [],
   "source": [
    "model = Doc2Vec(dm=0, window=20,vector_size=300,min_count=30,epochs=5,workers=cores,\n",
    "               hs=0,negative=7,dbow_words=1,dm_concat=1)\n",
    "model.build_vocab(docs_for_vocab)\n",
    "model.train(documents = batch2,total_examples=model.corpus_count,epochs=model.epochs)\n",
    "model.save(\"doc_review_sanction_not_sampling.model\")"
   ]
  },
  {
   "cell_type": "code",
   "execution_count": 303,
   "metadata": {},
   "outputs": [],
   "source": [
    "from gensim.models.doc2vec import Doc2Vec\n",
    "model_ns= Doc2Vec.load(\"doc_review_sanction_not_sampling.model\")"
   ]
  },
  {
   "cell_type": "code",
   "execution_count": 304,
   "metadata": {},
   "outputs": [
    {
     "data": {
      "text/plain": [
       "[('appointment', 0.8625890016555786),\n",
       " ('min', 0.7255848050117493),\n",
       " ('worst', 0.6971302628517151),\n",
       " ('early', 0.6963605284690857),\n",
       " ('deal', 0.6783980131149292),\n",
       " ('kane', 0.6604759693145752),\n",
       " ('symptons', 0.6585692763328552),\n",
       " ('resourceful', 0.6466319561004639),\n",
       " ('yet', 0.6365990042686462),\n",
       " ('receptionist', 0.6359545588493347),\n",
       " ('two', 0.6245956420898438),\n",
       " ('backed', 0.6068121790885925),\n",
       " ('professional', 0.5959866642951965),\n",
       " ('difficult', 0.5936208963394165),\n",
       " ('time', 0.5887964963912964)]"
      ]
     },
     "execution_count": 304,
     "metadata": {},
     "output_type": "execute_result"
    }
   ],
   "source": [
    "model_ns.wv.most_similar(positive = [model.docvecs[0]],topn=15)"
   ]
  },
  {
   "cell_type": "code",
   "execution_count": 305,
   "metadata": {},
   "outputs": [
    {
     "data": {
      "text/plain": [
       "[('copay', 0.6286177635192871),\n",
       " ('bother', 0.611724317073822),\n",
       " ('suck', 0.6056062579154968),\n",
       " ('doctor', 0.6024812459945679),\n",
       " ('told', 0.6021660566329956),\n",
       " ('oath', 0.6018040776252747),\n",
       " ('forget', 0.5853140354156494),\n",
       " ('patient', 0.5783458352088928),\n",
       " ('dont', 0.577888548374176),\n",
       " ('doctors', 0.572316586971283),\n",
       " ('hippocratic', 0.5718353986740112),\n",
       " ('staff', 0.5713257193565369),\n",
       " ('doesnt', 0.570040762424469),\n",
       " ('says', 0.5681448578834534),\n",
       " ('kind', 0.5652170181274414)]"
      ]
     },
     "execution_count": 305,
     "metadata": {},
     "output_type": "execute_result"
    }
   ],
   "source": [
    "model_ns.wv.most_similar(positive = [model.docvecs[1]],topn=15)"
   ]
  }
 ],
 "metadata": {
  "kernelspec": {
   "display_name": "Python 3",
   "language": "python",
   "name": "python3"
  },
  "language_info": {
   "codemirror_mode": {
    "name": "ipython",
    "version": 3
   },
   "file_extension": ".py",
   "mimetype": "text/x-python",
   "name": "python",
   "nbconvert_exporter": "python",
   "pygments_lexer": "ipython3",
   "version": "3.7.3"
  }
 },
 "nbformat": 4,
 "nbformat_minor": 2
}
