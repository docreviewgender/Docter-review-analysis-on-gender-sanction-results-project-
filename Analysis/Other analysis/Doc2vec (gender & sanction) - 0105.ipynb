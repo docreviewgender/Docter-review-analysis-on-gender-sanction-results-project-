{
 "cells": [
  {
   "cell_type": "markdown",
   "metadata": {},
   "source": [
    "## Import internal medicine review dataset"
   ]
  },
  {
   "cell_type": "code",
   "execution_count": 1,
   "metadata": {},
   "outputs": [],
   "source": [
    "import pandas as pd\n",
    "import matplotlib.pyplot as plt\n",
    "import seaborn as sns"
   ]
  },
  {
   "cell_type": "code",
   "execution_count": 66,
   "metadata": {},
   "outputs": [],
   "source": [
    "path = \"/Users/chongchen/Desktop/19Fall RA/data/generated_data/Internal Medicine Review.csv\"\n",
    "review_im = pd.read_csv(path, index_col = 0)"
   ]
  },
  {
   "cell_type": "code",
   "execution_count": 67,
   "metadata": {
    "scrolled": true
   },
   "outputs": [
    {
     "data": {
      "text/html": [
       "<div>\n",
       "<style scoped>\n",
       "    .dataframe tbody tr th:only-of-type {\n",
       "        vertical-align: middle;\n",
       "    }\n",
       "\n",
       "    .dataframe tbody tr th {\n",
       "        vertical-align: top;\n",
       "    }\n",
       "\n",
       "    .dataframe thead th {\n",
       "        text-align: right;\n",
       "    }\n",
       "</style>\n",
       "<table border=\"1\" class=\"dataframe\">\n",
       "  <thead>\n",
       "    <tr style=\"text-align: right;\">\n",
       "      <th></th>\n",
       "      <th>Review</th>\n",
       "      <th>hp_id</th>\n",
       "      <th>gender</th>\n",
       "      <th>hasorder</th>\n",
       "      <th>lower</th>\n",
       "      <th>no_digits</th>\n",
       "      <th>no_punctuation</th>\n",
       "      <th>words</th>\n",
       "    </tr>\n",
       "  </thead>\n",
       "  <tbody>\n",
       "    <tr>\n",
       "      <th>0</th>\n",
       "      <td>satisfactory but would not recommend coldness,...</td>\n",
       "      <td>19713</td>\n",
       "      <td>F</td>\n",
       "      <td>0</td>\n",
       "      <td>satisfactory but would not recommend coldness,...</td>\n",
       "      <td>satisfactory but would not recommend coldness,...</td>\n",
       "      <td>satisfactory but would not recommend coldness ...</td>\n",
       "      <td>['satisfactory', 'recommend', 'coldness', 'sol...</td>\n",
       "    </tr>\n",
       "    <tr>\n",
       "      <th>1</th>\n",
       "      <td>Although Dr. Merlo does not appear to have an...</td>\n",
       "      <td>19713</td>\n",
       "      <td>F</td>\n",
       "      <td>0</td>\n",
       "      <td>although dr. merlo does not appear to have an...</td>\n",
       "      <td>although dr. merlo does not appear to have an...</td>\n",
       "      <td>although dr  merlo does not appear to have an...</td>\n",
       "      <td>['although', 'dr', 'merlo', 'appear', 'office'...</td>\n",
       "    </tr>\n",
       "    <tr>\n",
       "      <th>2</th>\n",
       "      <td>took my daughter for problems, never examined...</td>\n",
       "      <td>19713</td>\n",
       "      <td>F</td>\n",
       "      <td>0</td>\n",
       "      <td>took my daughter for problems, never examined...</td>\n",
       "      <td>took my daughter for problems, never examined...</td>\n",
       "      <td>took my daughter for problems  never examined...</td>\n",
       "      <td>['took', 'daughter', 'problems', 'never', 'exa...</td>\n",
       "    </tr>\n",
       "    <tr>\n",
       "      <th>3</th>\n",
       "      <td>Yes, Dr. Merlot can be rude and arrogant, but...</td>\n",
       "      <td>19713</td>\n",
       "      <td>F</td>\n",
       "      <td>0</td>\n",
       "      <td>yes, dr. merlot can be rude and arrogant, but...</td>\n",
       "      <td>yes, dr. merlot can be rude and arrogant, but...</td>\n",
       "      <td>yes  dr  merlot can be rude and arrogant  but...</td>\n",
       "      <td>['yes', 'dr', 'merlot', 'rude', 'arrogant', 'o...</td>\n",
       "    </tr>\n",
       "    <tr>\n",
       "      <th>4</th>\n",
       "      <td>I called to make and appointment and a woman ...</td>\n",
       "      <td>19713</td>\n",
       "      <td>F</td>\n",
       "      <td>0</td>\n",
       "      <td>i called to make and appointment and a woman ...</td>\n",
       "      <td>i called to make and appointment and a woman ...</td>\n",
       "      <td>i called to make and appointment and a woman ...</td>\n",
       "      <td>['called', 'make', 'appointment', 'woman', 'ca...</td>\n",
       "    </tr>\n",
       "  </tbody>\n",
       "</table>\n",
       "</div>"
      ],
      "text/plain": [
       "                                              Review  hp_id gender  hasorder  \\\n",
       "0  satisfactory but would not recommend coldness,...  19713      F         0   \n",
       "1   Although Dr. Merlo does not appear to have an...  19713      F         0   \n",
       "2   took my daughter for problems, never examined...  19713      F         0   \n",
       "3   Yes, Dr. Merlot can be rude and arrogant, but...  19713      F         0   \n",
       "4   I called to make and appointment and a woman ...  19713      F         0   \n",
       "\n",
       "                                               lower  \\\n",
       "0  satisfactory but would not recommend coldness,...   \n",
       "1   although dr. merlo does not appear to have an...   \n",
       "2   took my daughter for problems, never examined...   \n",
       "3   yes, dr. merlot can be rude and arrogant, but...   \n",
       "4   i called to make and appointment and a woman ...   \n",
       "\n",
       "                                           no_digits  \\\n",
       "0  satisfactory but would not recommend coldness,...   \n",
       "1   although dr. merlo does not appear to have an...   \n",
       "2   took my daughter for problems, never examined...   \n",
       "3   yes, dr. merlot can be rude and arrogant, but...   \n",
       "4   i called to make and appointment and a woman ...   \n",
       "\n",
       "                                      no_punctuation  \\\n",
       "0  satisfactory but would not recommend coldness ...   \n",
       "1   although dr  merlo does not appear to have an...   \n",
       "2   took my daughter for problems  never examined...   \n",
       "3   yes  dr  merlot can be rude and arrogant  but...   \n",
       "4   i called to make and appointment and a woman ...   \n",
       "\n",
       "                                               words  \n",
       "0  ['satisfactory', 'recommend', 'coldness', 'sol...  \n",
       "1  ['although', 'dr', 'merlo', 'appear', 'office'...  \n",
       "2  ['took', 'daughter', 'problems', 'never', 'exa...  \n",
       "3  ['yes', 'dr', 'merlot', 'rude', 'arrogant', 'o...  \n",
       "4  ['called', 'make', 'appointment', 'woman', 'ca...  "
      ]
     },
     "execution_count": 67,
     "metadata": {},
     "output_type": "execute_result"
    }
   ],
   "source": [
    "review_im.head()"
   ]
  },
  {
   "cell_type": "code",
   "execution_count": 68,
   "metadata": {},
   "outputs": [],
   "source": [
    "# drop records without review\n",
    "review_im.drop(review_im[review_im['Review'] == ' '].index, inplace = True)\n",
    "review_im.reset_index(inplace = True, drop = True)"
   ]
  },
  {
   "cell_type": "code",
   "execution_count": 69,
   "metadata": {
    "scrolled": true
   },
   "outputs": [
    {
     "data": {
      "text/plain": [
       "\"['satisfactory', 'recommend', 'coldness', 'solo', 'helpfulness', 'limited', 'office', 'staff', 'isolation', 'diagnosis', 'solo']\""
      ]
     },
     "execution_count": 69,
     "metadata": {},
     "output_type": "execute_result"
    }
   ],
   "source": [
    "review_im['words'][0]"
   ]
  },
  {
   "cell_type": "code",
   "execution_count": 70,
   "metadata": {
    "scrolled": true
   },
   "outputs": [],
   "source": [
    "import ast\n",
    "review_im['words'] = review_im['words'].map(lambda x: ast.literal_eval(x))"
   ]
  },
  {
   "cell_type": "code",
   "execution_count": 71,
   "metadata": {},
   "outputs": [
    {
     "data": {
      "text/plain": [
       "['satisfactory',\n",
       " 'recommend',\n",
       " 'coldness',\n",
       " 'solo',\n",
       " 'helpfulness',\n",
       " 'limited',\n",
       " 'office',\n",
       " 'staff',\n",
       " 'isolation',\n",
       " 'diagnosis',\n",
       " 'solo']"
      ]
     },
     "execution_count": 71,
     "metadata": {},
     "output_type": "execute_result"
    }
   ],
   "source": [
    "review_im['words'][0]"
   ]
  },
  {
   "cell_type": "markdown",
   "metadata": {},
   "source": [
    "### 2. Sampling equal numeber of reviews of the two genders, tag documents."
   ]
  },
  {
   "cell_type": "code",
   "execution_count": 72,
   "metadata": {},
   "outputs": [
    {
     "data": {
      "text/plain": [
       "M    61922\n",
       "F    25953\n",
       "Name: gender, dtype: int64"
      ]
     },
     "execution_count": 72,
     "metadata": {},
     "output_type": "execute_result"
    }
   ],
   "source": [
    "review_im['gender'].value_counts()"
   ]
  },
  {
   "cell_type": "code",
   "execution_count": 73,
   "metadata": {},
   "outputs": [
    {
     "data": {
      "text/plain": [
       "0    87301\n",
       "1      574\n",
       "Name: hasorder, dtype: int64"
      ]
     },
     "execution_count": 73,
     "metadata": {},
     "output_type": "execute_result"
    }
   ],
   "source": [
    "review_im['hasorder'].value_counts()"
   ]
  },
  {
   "cell_type": "code",
   "execution_count": 74,
   "metadata": {},
   "outputs": [
    {
     "data": {
      "text/html": [
       "<div>\n",
       "<style scoped>\n",
       "    .dataframe tbody tr th:only-of-type {\n",
       "        vertical-align: middle;\n",
       "    }\n",
       "\n",
       "    .dataframe tbody tr th {\n",
       "        vertical-align: top;\n",
       "    }\n",
       "\n",
       "    .dataframe thead th {\n",
       "        text-align: right;\n",
       "    }\n",
       "</style>\n",
       "<table border=\"1\" class=\"dataframe\">\n",
       "  <thead>\n",
       "    <tr style=\"text-align: right;\">\n",
       "      <th></th>\n",
       "      <th></th>\n",
       "      <th>hp_id</th>\n",
       "    </tr>\n",
       "    <tr>\n",
       "      <th>gender</th>\n",
       "      <th>hasorder</th>\n",
       "      <th></th>\n",
       "    </tr>\n",
       "  </thead>\n",
       "  <tbody>\n",
       "    <tr>\n",
       "      <th rowspan=\"2\" valign=\"top\">F</th>\n",
       "      <th>0</th>\n",
       "      <td>25833</td>\n",
       "    </tr>\n",
       "    <tr>\n",
       "      <th>1</th>\n",
       "      <td>120</td>\n",
       "    </tr>\n",
       "    <tr>\n",
       "      <th rowspan=\"2\" valign=\"top\">M</th>\n",
       "      <th>0</th>\n",
       "      <td>61468</td>\n",
       "    </tr>\n",
       "    <tr>\n",
       "      <th>1</th>\n",
       "      <td>454</td>\n",
       "    </tr>\n",
       "  </tbody>\n",
       "</table>\n",
       "</div>"
      ],
      "text/plain": [
       "                 hp_id\n",
       "gender hasorder       \n",
       "F      0         25833\n",
       "       1           120\n",
       "M      0         61468\n",
       "       1           454"
      ]
     },
     "execution_count": 74,
     "metadata": {},
     "output_type": "execute_result"
    }
   ],
   "source": [
    "review_im.groupby(by= ['gender','hasorder'])[['hp_id']].count()"
   ]
  },
  {
   "cell_type": "code",
   "execution_count": 77,
   "metadata": {},
   "outputs": [],
   "source": [
    "review = list(review_im['words'])"
   ]
  },
  {
   "cell_type": "code",
   "execution_count": 78,
   "metadata": {},
   "outputs": [
    {
     "data": {
      "text/plain": [
       "'satisfactory'"
      ]
     },
     "execution_count": 78,
     "metadata": {},
     "output_type": "execute_result"
    }
   ],
   "source": [
    "review[0][0]"
   ]
  },
  {
   "cell_type": "code",
   "execution_count": 79,
   "metadata": {},
   "outputs": [],
   "source": [
    "gender = list(review_im['gender'])"
   ]
  },
  {
   "cell_type": "code",
   "execution_count": 80,
   "metadata": {},
   "outputs": [],
   "source": [
    "hasorder = list(review_im['hasorder'])"
   ]
  },
  {
   "cell_type": "code",
   "execution_count": 81,
   "metadata": {},
   "outputs": [
    {
     "data": {
      "text/plain": [
       "(87875, 87875, 87875)"
      ]
     },
     "execution_count": 81,
     "metadata": {},
     "output_type": "execute_result"
    }
   ],
   "source": [
    "len(review),len(gender),len(hasorder)"
   ]
  },
  {
   "cell_type": "code",
   "execution_count": 82,
   "metadata": {},
   "outputs": [],
   "source": [
    "# Tag document\n",
    "import gensim\n",
    "docs = [] # each review/row is a tagged document.\n",
    "for i in range(len(review)):\n",
    "    docs.append(gensim.models.doc2vec.TaggedDocument(review[i], [hasorder[i],gender[i]]))"
   ]
  },
  {
   "cell_type": "code",
   "execution_count": 83,
   "metadata": {},
   "outputs": [
    {
     "data": {
      "text/plain": [
       "TaggedDocument(words=['satisfactory', 'recommend', 'coldness', 'solo', 'helpfulness', 'limited', 'office', 'staff', 'isolation', 'diagnosis', 'solo'], tags=[0, 'F'])"
      ]
     },
     "execution_count": 83,
     "metadata": {},
     "output_type": "execute_result"
    }
   ],
   "source": [
    "docs[0]"
   ]
  },
  {
   "cell_type": "code",
   "execution_count": 84,
   "metadata": {},
   "outputs": [],
   "source": [
    "docs_for_vocab = [] \n",
    "for i in docs:\n",
    "    docs_for_vocab.append(i)"
   ]
  },
  {
   "cell_type": "markdown",
   "metadata": {},
   "source": [
    "#### sampling equal number of sanction reviews & not sanction reviews"
   ]
  },
  {
   "cell_type": "code",
   "execution_count": 22,
   "metadata": {},
   "outputs": [],
   "source": [
    "#import random\n",
    "#import numpy as np"
   ]
  },
  {
   "cell_type": "code",
   "execution_count": 30,
   "metadata": {},
   "outputs": [],
   "source": [
    "# 10000 sanction reviews and 10000 not sanction reviews\n",
    "# repeat = {}\n",
    "# indices = []\n",
    "# batch = []\n",
    "# draw = 10000\n",
    "# sf_candidates = list(review_im[np.logical_and(review_im['hasorder']==1, review_im['gender']=='F')].index)\n",
    "# sm_candidates = list(review_im[np.logical_and(review_im['hasorder']==1, review_im['gender']=='M')].index)\n",
    "# nsf_candidates = list(review_im[np.logical_and(review_im['hasorder']==0, review_im['gender']=='F')].index)\n",
    "# nsm_candidates = list(review_im[np.logical_and(review_im['hasorder']==0, review_im['gender']=='M')].index)\n",
    "# for b in range(draw):\n",
    "#     sf = random.choice(sf_candidates)\n",
    "#     sm = random.choice(sm_candidates)\n",
    "#     indices.append(sf)\n",
    "#     indices.append(sm)\n",
    "#     nsf = random.choice(nsf_candidates)\n",
    "#     nsm = random.choice(nsm_candidates)\n",
    "#     indices.append(nsf)\n",
    "#     indices.append(nsm)\n",
    "# for i in indices:\n",
    "#     try:\n",
    "#         repeat[i]+=1\n",
    "#     except:\n",
    "#         repeat[i]=1\n",
    "#     batch.append(docs[i])"
   ]
  },
  {
   "cell_type": "code",
   "execution_count": 31,
   "metadata": {},
   "outputs": [
    {
     "data": {
      "text/plain": [
       "[TaggedDocument(words=['good', 'listener', 'effective', 'communicator'], tags=[1, 'F']),\n",
       " TaggedDocument(words=['dr', 'naiditch', 'helpful', 'doctor', 'ive', 'even', 'visited', 'explained', 'ailment', 'respectful', 'intelligible', 'way', 'led', 'understand', 'situation', 'comprehensive', 'level', 'take', 'much', 'better', 'care', 'respectful', 'time', 'always', 'looks', 'best', 'interest', 'encouraging', 'supportive', 'positive', 'life', 'changes', 'always', 'made', 'feel', 'family', 'blessed', 'doctor', 'life'], tags=[1, 'M']),\n",
       " TaggedDocument(words=['doctor', 'left', 'sitting', 'minutes', 'past', 'appointment', 'time', 'colonoscopy', 'finally', 'ask', 'another', 'doctor', 'perform', 'procedure', 'feared', 'wouldnt', 'facility', 'closed', 'horrible', 'prep', 'clinic', 'staff', 'slipped', 'admitted', 'chronic', 'problem', 'one', 'later', 'tried', 'deny', 'others', 'already', 'said', 'low', 'opinion', 'doctors', 'cant', 'properly', 'schedule', 'manage', 'time', 'actually', 'see', 'patients', 'agree', 'see', 'guess', 'best', 'ended', 'never', 'seeing', 'woman', 'never', 'book'], tags=[0, 'F'])]"
      ]
     },
     "execution_count": 31,
     "metadata": {},
     "output_type": "execute_result"
    }
   ],
   "source": [
    "batch[:3]"
   ]
  },
  {
   "cell_type": "markdown",
   "metadata": {},
   "source": [
    "### 4. Import Gensim, run doc2vec"
   ]
  },
  {
   "cell_type": "code",
   "execution_count": 85,
   "metadata": {},
   "outputs": [],
   "source": [
    "from gensim.models.doc2vec import Doc2Vec, TaggedDocument\n",
    "import multiprocessing"
   ]
  },
  {
   "cell_type": "code",
   "execution_count": 86,
   "metadata": {},
   "outputs": [],
   "source": [
    "cores = multiprocessing.cpu_count()"
   ]
  },
  {
   "cell_type": "code",
   "execution_count": 87,
   "metadata": {},
   "outputs": [],
   "source": [
    "model = Doc2Vec(dm=0, window=20,vector_size=300,min_count=30,epochs=5,workers=cores,\n",
    "               hs=0,negative=7,dbow_words=1,dm_concat=1)\n",
    "model.build_vocab(docs_for_vocab)\n",
    "model.train(documents = docs,total_examples=model.corpus_count,epochs=model.epochs)"
   ]
  },
  {
   "cell_type": "code",
   "execution_count": 88,
   "metadata": {},
   "outputs": [],
   "source": [
    "model.save(\"doc_review_g&s.model\")"
   ]
  },
  {
   "cell_type": "code",
   "execution_count": 89,
   "metadata": {},
   "outputs": [],
   "source": [
    "from gensim.models.doc2vec import Doc2Vec\n",
    "model= Doc2Vec.load(\"doc_review_g&s.model\")"
   ]
  },
  {
   "cell_type": "code",
   "execution_count": 90,
   "metadata": {},
   "outputs": [
    {
     "data": {
      "text/plain": [
       "[('dr', 0.6900967359542847),\n",
       " ('doctor', 0.6597878932952881),\n",
       " ('ver', 0.6215400099754333),\n",
       " ('kane', 0.6027224659919739),\n",
       " ('sharma', 0.5998903512954712),\n",
       " ('curtious', 0.597011923789978),\n",
       " ('exellent', 0.5957604646682739),\n",
       " ('listner', 0.5936642289161682),\n",
       " ('humorous', 0.5843273401260376),\n",
       " ('jennifer', 0.582237720489502),\n",
       " ('curteous', 0.5795483589172363),\n",
       " ('pleasent', 0.5757163166999817),\n",
       " ('carter', 0.5747151374816895),\n",
       " ('empathetic', 0.5691450834274292),\n",
       " ('patient', 0.5688797235488892)]"
      ]
     },
     "execution_count": 90,
     "metadata": {},
     "output_type": "execute_result"
    }
   ],
   "source": [
    "model.wv.most_similar(positive = [model.docvecs[0],model.docvecs['F']],topn=15)"
   ]
  },
  {
   "cell_type": "code",
   "execution_count": 91,
   "metadata": {
    "scrolled": true
   },
   "outputs": [
    {
     "data": {
      "text/plain": [
       "[('doctor', 0.6891783475875854),\n",
       " ('dr', 0.6820915937423706),\n",
       " ('exellent', 0.662157416343689),\n",
       " ('listner', 0.6367883086204529),\n",
       " ('sharma', 0.6177250146865845),\n",
       " ('kane', 0.6157549619674683),\n",
       " ('curtious', 0.6125927567481995),\n",
       " ('great', 0.6068750023841858),\n",
       " ('knowledeable', 0.6002885699272156),\n",
       " ('awsome', 0.599123477935791),\n",
       " ('docotr', 0.5975351333618164),\n",
       " ('curteous', 0.5969622731208801),\n",
       " ('wonderfull', 0.5944538116455078),\n",
       " ('humorous', 0.5942068099975586),\n",
       " ('knowledgeable', 0.5937077403068542)]"
      ]
     },
     "execution_count": 91,
     "metadata": {},
     "output_type": "execute_result"
    }
   ],
   "source": [
    "model.wv.most_similar(positive = [model.docvecs[0],model.docvecs['M']],topn=15)"
   ]
  },
  {
   "cell_type": "code",
   "execution_count": 92,
   "metadata": {},
   "outputs": [
    {
     "data": {
      "text/plain": [
       "[('dube', 0.5466535091400146),\n",
       " ('doctor', 0.5401152968406677),\n",
       " ('carter', 0.533314049243927),\n",
       " ('dr', 0.5225331783294678),\n",
       " ('campbell', 0.5134754776954651),\n",
       " ('sharma', 0.5059093236923218),\n",
       " ('curtious', 0.5021758079528809),\n",
       " ('jennifer', 0.49206915497779846),\n",
       " ('gray', 0.4829564690589905),\n",
       " ('carol', 0.48222100734710693),\n",
       " ('karen', 0.48117631673812866),\n",
       " ('adore', 0.48011618852615356),\n",
       " ('martin', 0.4765242338180542),\n",
       " ('kumar', 0.4761476218700409),\n",
       " ('ver', 0.47612616419792175)]"
      ]
     },
     "execution_count": 92,
     "metadata": {},
     "output_type": "execute_result"
    }
   ],
   "source": [
    "model.wv.most_similar(positive = [model.docvecs[1],model.docvecs['F']],topn=15)"
   ]
  },
  {
   "cell_type": "code",
   "execution_count": 93,
   "metadata": {},
   "outputs": [
    {
     "data": {
      "text/plain": [
       "[('doctor', 0.5712169408798218),\n",
       " ('sharma', 0.5278329253196716),\n",
       " ('curtious', 0.5221976637840271),\n",
       " ('dr', 0.5220080614089966),\n",
       " ('carter', 0.5084047317504883),\n",
       " ('campbell', 0.5048164129257202),\n",
       " ('awsome', 0.5046480894088745),\n",
       " ('dube', 0.49706923961639404),\n",
       " ('adore', 0.4969339370727539),\n",
       " ('sweetest', 0.48803603649139404),\n",
       " ('kumar', 0.486703097820282),\n",
       " ('wonderfull', 0.48555243015289307),\n",
       " ('knowledable', 0.4845834970474243),\n",
       " ('amy', 0.4842156767845154),\n",
       " ('excelent', 0.48366671800613403)]"
      ]
     },
     "execution_count": 93,
     "metadata": {},
     "output_type": "execute_result"
    }
   ],
   "source": [
    "model.wv.most_similar(positive = [model.docvecs[1],model.docvecs['M']],topn=15)"
   ]
  },
  {
   "cell_type": "code",
   "execution_count": 94,
   "metadata": {},
   "outputs": [],
   "source": [
    "tl = []\n",
    "for i in review_im['words']:\n",
    "    word = 'campbell'\n",
    "    if word in i:\n",
    "        tl.append(True)\n",
    "    else:\n",
    "        tl.append(False)"
   ]
  },
  {
   "cell_type": "code",
   "execution_count": 95,
   "metadata": {},
   "outputs": [
    {
     "data": {
      "text/html": [
       "<div>\n",
       "<style scoped>\n",
       "    .dataframe tbody tr th:only-of-type {\n",
       "        vertical-align: middle;\n",
       "    }\n",
       "\n",
       "    .dataframe tbody tr th {\n",
       "        vertical-align: top;\n",
       "    }\n",
       "\n",
       "    .dataframe thead th {\n",
       "        text-align: right;\n",
       "    }\n",
       "</style>\n",
       "<table border=\"1\" class=\"dataframe\">\n",
       "  <thead>\n",
       "    <tr style=\"text-align: right;\">\n",
       "      <th></th>\n",
       "      <th>Review</th>\n",
       "      <th>hp_id</th>\n",
       "      <th>gender</th>\n",
       "      <th>hasorder</th>\n",
       "      <th>lower</th>\n",
       "      <th>no_digits</th>\n",
       "      <th>no_punctuation</th>\n",
       "      <th>words</th>\n",
       "    </tr>\n",
       "  </thead>\n",
       "  <tbody>\n",
       "    <tr>\n",
       "      <th>15070</th>\n",
       "      <td>Dr. Campbell is an intelligent, caring, compa...</td>\n",
       "      <td>524310</td>\n",
       "      <td>M</td>\n",
       "      <td>0</td>\n",
       "      <td>dr. campbell is an intelligent, caring, compa...</td>\n",
       "      <td>dr. campbell is an intelligent, caring, compa...</td>\n",
       "      <td>dr  campbell is an intelligent  caring  compa...</td>\n",
       "      <td>[dr, campbell, intelligent, caring, compassion...</td>\n",
       "    </tr>\n",
       "    <tr>\n",
       "      <th>15072</th>\n",
       "      <td>Dr. Campbell makes me feel comfortable. Hes r...</td>\n",
       "      <td>524310</td>\n",
       "      <td>M</td>\n",
       "      <td>0</td>\n",
       "      <td>dr. campbell makes me feel comfortable. hes r...</td>\n",
       "      <td>dr. campbell makes me feel comfortable. hes r...</td>\n",
       "      <td>dr  campbell makes me feel comfortable  hes r...</td>\n",
       "      <td>[dr, campbell, makes, feel, comfortable, hes, ...</td>\n",
       "    </tr>\n",
       "    <tr>\n",
       "      <th>18933</th>\n",
       "      <td>This guy substituted for my dr who was on vac...</td>\n",
       "      <td>225293</td>\n",
       "      <td>M</td>\n",
       "      <td>0</td>\n",
       "      <td>this guy substituted for my dr who was on vac...</td>\n",
       "      <td>this guy substituted for my dr who was on vac...</td>\n",
       "      <td>this guy substituted for my dr who was on vac...</td>\n",
       "      <td>[guy, substituted, dr, vacation, disease, year...</td>\n",
       "    </tr>\n",
       "    <tr>\n",
       "      <th>20226</th>\n",
       "      <td>Dr.Campbell is the WORST! I saw her for over 2...</td>\n",
       "      <td>74560</td>\n",
       "      <td>F</td>\n",
       "      <td>0</td>\n",
       "      <td>dr.campbell is the worst! i saw her for over 2...</td>\n",
       "      <td>dr.campbell is the worst! i saw her for over  ...</td>\n",
       "      <td>dr campbell is the worst  i saw her for over  ...</td>\n",
       "      <td>[dr, campbell, worst, saw, years, knowing, str...</td>\n",
       "    </tr>\n",
       "    <tr>\n",
       "      <th>23766</th>\n",
       "      <td>Dr Campbell is a rare gem of a doctor. She's n...</td>\n",
       "      <td>137948</td>\n",
       "      <td>F</td>\n",
       "      <td>0</td>\n",
       "      <td>dr campbell is a rare gem of a doctor. she's n...</td>\n",
       "      <td>dr campbell is a rare gem of a doctor. she's n...</td>\n",
       "      <td>dr campbell is a rare gem of a doctor  she s n...</td>\n",
       "      <td>[dr, campbell, rare, gem, doctor, extremely, i...</td>\n",
       "    </tr>\n",
       "    <tr>\n",
       "      <th>40268</th>\n",
       "      <td>Dr. Campbell is a GREAT Doctor!Anybody that wo...</td>\n",
       "      <td>132884</td>\n",
       "      <td>M</td>\n",
       "      <td>0</td>\n",
       "      <td>dr. campbell is a great doctor!anybody that wo...</td>\n",
       "      <td>dr. campbell is a great doctor!anybody that wo...</td>\n",
       "      <td>dr  campbell is a great doctor anybody that wo...</td>\n",
       "      <td>[dr, campbell, great, doctor, anybody, say, di...</td>\n",
       "    </tr>\n",
       "    <tr>\n",
       "      <th>40270</th>\n",
       "      <td>Dr. Campbell is compassionate and a good list...</td>\n",
       "      <td>132884</td>\n",
       "      <td>M</td>\n",
       "      <td>0</td>\n",
       "      <td>dr. campbell is compassionate and a good list...</td>\n",
       "      <td>dr. campbell is compassionate and a good list...</td>\n",
       "      <td>dr  campbell is compassionate and a good list...</td>\n",
       "      <td>[dr, campbell, compassionate, good, listener, ...</td>\n",
       "    </tr>\n",
       "    <tr>\n",
       "      <th>40272</th>\n",
       "      <td>Dr. Campbell is the best of both worlds. Some...</td>\n",
       "      <td>132884</td>\n",
       "      <td>M</td>\n",
       "      <td>0</td>\n",
       "      <td>dr. campbell is the best of both worlds. some...</td>\n",
       "      <td>dr. campbell is the best of both worlds. some...</td>\n",
       "      <td>dr  campbell is the best of both worlds  some...</td>\n",
       "      <td>[dr, campbell, best, worlds, dr, easy, going, ...</td>\n",
       "    </tr>\n",
       "    <tr>\n",
       "      <th>40273</th>\n",
       "      <td>Dr. Campbell is a very caring respectable Dr....</td>\n",
       "      <td>132884</td>\n",
       "      <td>M</td>\n",
       "      <td>0</td>\n",
       "      <td>dr. campbell is a very caring respectable dr....</td>\n",
       "      <td>dr. campbell is a very caring respectable dr....</td>\n",
       "      <td>dr  campbell is a very caring respectable dr ...</td>\n",
       "      <td>[dr, campbell, caring, respectable, dr, feel, ...</td>\n",
       "    </tr>\n",
       "    <tr>\n",
       "      <th>40274</th>\n",
       "      <td>dr. campbell is awesome. his staff is absolut...</td>\n",
       "      <td>132884</td>\n",
       "      <td>M</td>\n",
       "      <td>0</td>\n",
       "      <td>dr. campbell is awesome. his staff is absolut...</td>\n",
       "      <td>dr. campbell is awesome. his staff is absolut...</td>\n",
       "      <td>dr  campbell is awesome  his staff is absolut...</td>\n",
       "      <td>[dr, campbell, awesome, staff, absolutely, awf...</td>\n",
       "    </tr>\n",
       "    <tr>\n",
       "      <th>40277</th>\n",
       "      <td>I love Dr. Campbell, he takes care of my whol...</td>\n",
       "      <td>132884</td>\n",
       "      <td>M</td>\n",
       "      <td>0</td>\n",
       "      <td>i love dr. campbell, he takes care of my whol...</td>\n",
       "      <td>i love dr. campbell, he takes care of my whol...</td>\n",
       "      <td>i love dr  campbell  he takes care of my whol...</td>\n",
       "      <td>[love, dr, campbell, takes, care, whole, famil...</td>\n",
       "    </tr>\n",
       "    <tr>\n",
       "      <th>40278</th>\n",
       "      <td>Dr. Campbell is a very nice person and a good...</td>\n",
       "      <td>132884</td>\n",
       "      <td>M</td>\n",
       "      <td>0</td>\n",
       "      <td>dr. campbell is a very nice person and a good...</td>\n",
       "      <td>dr. campbell is a very nice person and a good...</td>\n",
       "      <td>dr  campbell is a very nice person and a good...</td>\n",
       "      <td>[dr, campbell, nice, person, good, doctor, fun...</td>\n",
       "    </tr>\n",
       "    <tr>\n",
       "      <th>40630</th>\n",
       "      <td>Rude and uncaring! Dr Campbell was my family m...</td>\n",
       "      <td>743428</td>\n",
       "      <td>M</td>\n",
       "      <td>0</td>\n",
       "      <td>rude and uncaring! dr campbell was my family m...</td>\n",
       "      <td>rude and uncaring! dr campbell was my family m...</td>\n",
       "      <td>rude and uncaring  dr campbell was my family m...</td>\n",
       "      <td>[rude, uncaring, dr, campbell, family, members...</td>\n",
       "    </tr>\n",
       "    <tr>\n",
       "      <th>45686</th>\n",
       "      <td>I wish DR. Campbell were still practicing priv...</td>\n",
       "      <td>1172202</td>\n",
       "      <td>F</td>\n",
       "      <td>0</td>\n",
       "      <td>i wish dr. campbell were still practicing priv...</td>\n",
       "      <td>i wish dr. campbell were still practicing priv...</td>\n",
       "      <td>i wish dr  campbell were still practicing priv...</td>\n",
       "      <td>[wish, dr, campbell, still, practicing, privat...</td>\n",
       "    </tr>\n",
       "    <tr>\n",
       "      <th>55135</th>\n",
       "      <td>Dr. Campbell is the best Physician I have ever...</td>\n",
       "      <td>1445243</td>\n",
       "      <td>M</td>\n",
       "      <td>0</td>\n",
       "      <td>dr. campbell is the best physician i have ever...</td>\n",
       "      <td>dr. campbell is the best physician i have ever...</td>\n",
       "      <td>dr  campbell is the best physician i have ever...</td>\n",
       "      <td>[dr, campbell, best, physician, mother, died, ...</td>\n",
       "    </tr>\n",
       "    <tr>\n",
       "      <th>55136</th>\n",
       "      <td>Dr. Earl Campbell is a thorough, knowledgeabl...</td>\n",
       "      <td>1445243</td>\n",
       "      <td>M</td>\n",
       "      <td>0</td>\n",
       "      <td>dr. earl campbell is a thorough, knowledgeabl...</td>\n",
       "      <td>dr. earl campbell is a thorough, knowledgeabl...</td>\n",
       "      <td>dr  earl campbell is a thorough  knowledgeabl...</td>\n",
       "      <td>[dr, earl, campbell, thorough, knowledgeable, ...</td>\n",
       "    </tr>\n",
       "    <tr>\n",
       "      <th>55137</th>\n",
       "      <td>Before I ever saw Dr.Campbell, I could hear h...</td>\n",
       "      <td>1445243</td>\n",
       "      <td>M</td>\n",
       "      <td>0</td>\n",
       "      <td>before i ever saw dr.campbell, i could hear h...</td>\n",
       "      <td>before i ever saw dr.campbell, i could hear h...</td>\n",
       "      <td>before i ever saw dr campbell  i could hear h...</td>\n",
       "      <td>[saw, dr, campbell, hear, office, staff, makin...</td>\n",
       "    </tr>\n",
       "    <tr>\n",
       "      <th>58754</th>\n",
       "      <td>receponist is really a joke I feel sorry for h...</td>\n",
       "      <td>278266</td>\n",
       "      <td>F</td>\n",
       "      <td>1</td>\n",
       "      <td>receponist is really a joke i feel sorry for h...</td>\n",
       "      <td>receponist is really a joke i feel sorry for h...</td>\n",
       "      <td>receponist is really a joke i feel sorry for h...</td>\n",
       "      <td>[receponist, really, joke, feel, sorry, going,...</td>\n",
       "    </tr>\n",
       "    <tr>\n",
       "      <th>58755</th>\n",
       "      <td>This Dr has unexpectedly closed her office. I...</td>\n",
       "      <td>278266</td>\n",
       "      <td>F</td>\n",
       "      <td>1</td>\n",
       "      <td>this dr has unexpectedly closed her office. i...</td>\n",
       "      <td>this dr has unexpectedly closed her office. i...</td>\n",
       "      <td>this dr has unexpectedly closed her office  i...</td>\n",
       "      <td>[dr, unexpectedly, closed, office, always, tho...</td>\n",
       "    </tr>\n",
       "    <tr>\n",
       "      <th>58757</th>\n",
       "      <td>Dr. Campbell is an excellent physician, It is...</td>\n",
       "      <td>278266</td>\n",
       "      <td>F</td>\n",
       "      <td>1</td>\n",
       "      <td>dr. campbell is an excellent physician, it is...</td>\n",
       "      <td>dr. campbell is an excellent physician, it is...</td>\n",
       "      <td>dr  campbell is an excellent physician  it is...</td>\n",
       "      <td>[dr, campbell, excellent, physician, hard, bel...</td>\n",
       "    </tr>\n",
       "    <tr>\n",
       "      <th>58758</th>\n",
       "      <td>I have been a patient of Dr. Campbell's for 7...</td>\n",
       "      <td>278266</td>\n",
       "      <td>F</td>\n",
       "      <td>1</td>\n",
       "      <td>i have been a patient of dr. campbell's for 7...</td>\n",
       "      <td>i have been a patient of dr. campbell's for  ...</td>\n",
       "      <td>i have been a patient of dr  campbell s for  ...</td>\n",
       "      <td>[patient, dr, campbell, years, throughout, tim...</td>\n",
       "    </tr>\n",
       "    <tr>\n",
       "      <th>58759</th>\n",
       "      <td>DOC IN THE BOX - stay away from Dr. Campbell....</td>\n",
       "      <td>278266</td>\n",
       "      <td>F</td>\n",
       "      <td>1</td>\n",
       "      <td>doc in the box - stay away from dr. campbell....</td>\n",
       "      <td>doc in the box - stay away from dr. campbell....</td>\n",
       "      <td>doc in the box   stay away from dr  campbell ...</td>\n",
       "      <td>[doc, box, stay, away, dr, campbell, terrible,...</td>\n",
       "    </tr>\n",
       "    <tr>\n",
       "      <th>58760</th>\n",
       "      <td>I am an RN and deal with Drs. all the time. D...</td>\n",
       "      <td>278266</td>\n",
       "      <td>F</td>\n",
       "      <td>1</td>\n",
       "      <td>i am an rn and deal with drs. all the time. d...</td>\n",
       "      <td>i am an rn and deal with drs. all the time. d...</td>\n",
       "      <td>i am an rn and deal with drs  all the time  d...</td>\n",
       "      <td>[rn, deal, drs, time, dr, campbell, excellant,...</td>\n",
       "    </tr>\n",
       "    <tr>\n",
       "      <th>58763</th>\n",
       "      <td>I could not disagree more. Dr. Campbell's pra...</td>\n",
       "      <td>278266</td>\n",
       "      <td>F</td>\n",
       "      <td>1</td>\n",
       "      <td>i could not disagree more. dr. campbell's pra...</td>\n",
       "      <td>i could not disagree more. dr. campbell's pra...</td>\n",
       "      <td>i could not disagree more  dr  campbell s pra...</td>\n",
       "      <td>[disagree, dr, campbell, practice, joke, rude,...</td>\n",
       "    </tr>\n",
       "    <tr>\n",
       "      <th>58764</th>\n",
       "      <td>Dr. Campbell is great - she took a lot of tim...</td>\n",
       "      <td>278266</td>\n",
       "      <td>F</td>\n",
       "      <td>1</td>\n",
       "      <td>dr. campbell is great - she took a lot of tim...</td>\n",
       "      <td>dr. campbell is great - she took a lot of tim...</td>\n",
       "      <td>dr  campbell is great   she took a lot of tim...</td>\n",
       "      <td>[dr, campbell, great, took, lot, time, first, ...</td>\n",
       "    </tr>\n",
       "    <tr>\n",
       "      <th>58766</th>\n",
       "      <td>Agree - Dr Campbell is very arrogant. She sai...</td>\n",
       "      <td>278266</td>\n",
       "      <td>F</td>\n",
       "      <td>1</td>\n",
       "      <td>agree - dr campbell is very arrogant. she sai...</td>\n",
       "      <td>agree - dr campbell is very arrogant. she sai...</td>\n",
       "      <td>agree   dr campbell is very arrogant  she sai...</td>\n",
       "      <td>[agree, dr, campbell, arrogant, said, thyroid,...</td>\n",
       "    </tr>\n",
       "    <tr>\n",
       "      <th>58769</th>\n",
       "      <td>Dr. Campbell and Nurse Practitioner Karen Woo...</td>\n",
       "      <td>278266</td>\n",
       "      <td>F</td>\n",
       "      <td>1</td>\n",
       "      <td>dr. campbell and nurse practitioner karen woo...</td>\n",
       "      <td>dr. campbell and nurse practitioner karen woo...</td>\n",
       "      <td>dr  campbell and nurse practitioner karen woo...</td>\n",
       "      <td>[dr, campbell, nurse, practitioner, karen, woo...</td>\n",
       "    </tr>\n",
       "    <tr>\n",
       "      <th>58770</th>\n",
       "      <td>hey i've been seeing Dr Campbell and Karen Wo...</td>\n",
       "      <td>278266</td>\n",
       "      <td>F</td>\n",
       "      <td>1</td>\n",
       "      <td>hey i've been seeing dr campbell and karen wo...</td>\n",
       "      <td>hey i've been seeing dr campbell and karen wo...</td>\n",
       "      <td>hey i ve been seeing dr campbell and karen wo...</td>\n",
       "      <td>[hey, seeing, dr, campbell, karen, woods, alwa...</td>\n",
       "    </tr>\n",
       "    <tr>\n",
       "      <th>58771</th>\n",
       "      <td>Positive &amp;amp; Negative. Dr. Campbell took ti...</td>\n",
       "      <td>278266</td>\n",
       "      <td>F</td>\n",
       "      <td>1</td>\n",
       "      <td>positive &amp;amp; negative. dr. campbell took ti...</td>\n",
       "      <td>positive &amp;amp; negative. dr. campbell took ti...</td>\n",
       "      <td>positive  amp  negative  dr  campbell took ti...</td>\n",
       "      <td>[positive, amp, negative, dr, campbell, took, ...</td>\n",
       "    </tr>\n",
       "    <tr>\n",
       "      <th>58772</th>\n",
       "      <td>She's unknowledgable &amp;amp; unwilling to hear ...</td>\n",
       "      <td>278266</td>\n",
       "      <td>F</td>\n",
       "      <td>1</td>\n",
       "      <td>she's unknowledgable &amp;amp; unwilling to hear ...</td>\n",
       "      <td>she's unknowledgable &amp;amp; unwilling to hear ...</td>\n",
       "      <td>she s unknowledgable  amp  unwilling to hear ...</td>\n",
       "      <td>[unknowledgable, amp, unwilling, hear, help, r...</td>\n",
       "    </tr>\n",
       "    <tr>\n",
       "      <th>58773</th>\n",
       "      <td>Dr. Campbell is the best. She stays up on the...</td>\n",
       "      <td>278266</td>\n",
       "      <td>F</td>\n",
       "      <td>1</td>\n",
       "      <td>dr. campbell is the best. she stays up on the...</td>\n",
       "      <td>dr. campbell is the best. she stays up on the...</td>\n",
       "      <td>dr  campbell is the best  she stays up on the...</td>\n",
       "      <td>[dr, campbell, best, stays, latest, medical, r...</td>\n",
       "    </tr>\n",
       "    <tr>\n",
       "      <th>70807</th>\n",
       "      <td>Dr Campbell is a great Dr, one of the best I'v...</td>\n",
       "      <td>649699</td>\n",
       "      <td>M</td>\n",
       "      <td>0</td>\n",
       "      <td>dr campbell is a great dr, one of the best i'v...</td>\n",
       "      <td>dr campbell is a great dr, one of the best i'v...</td>\n",
       "      <td>dr campbell is a great dr  one of the best i v...</td>\n",
       "      <td>[dr, campbell, great, dr, one, best, ton, help...</td>\n",
       "    </tr>\n",
       "    <tr>\n",
       "      <th>80589</th>\n",
       "      <td>The knowledge and compassion shown by Dr. Ahn ...</td>\n",
       "      <td>1500774</td>\n",
       "      <td>F</td>\n",
       "      <td>0</td>\n",
       "      <td>the knowledge and compassion shown by dr. ahn ...</td>\n",
       "      <td>the knowledge and compassion shown by dr. ahn ...</td>\n",
       "      <td>the knowledge and compassion shown by dr  ahn ...</td>\n",
       "      <td>[knowledge, compassion, shown, dr, ahn, campbe...</td>\n",
       "    </tr>\n",
       "    <tr>\n",
       "      <th>80590</th>\n",
       "      <td>In reading the other reviews, I am shocked. D...</td>\n",
       "      <td>1500774</td>\n",
       "      <td>F</td>\n",
       "      <td>0</td>\n",
       "      <td>in reading the other reviews, i am shocked. d...</td>\n",
       "      <td>in reading the other reviews, i am shocked. d...</td>\n",
       "      <td>in reading the other reviews  i am shocked  d...</td>\n",
       "      <td>[reading, reviews, shocked, dr, campbell, cari...</td>\n",
       "    </tr>\n",
       "    <tr>\n",
       "      <th>80591</th>\n",
       "      <td>Dr. Campbell is a caring doctor. She answered...</td>\n",
       "      <td>1500774</td>\n",
       "      <td>F</td>\n",
       "      <td>0</td>\n",
       "      <td>dr. campbell is a caring doctor. she answered...</td>\n",
       "      <td>dr. campbell is a caring doctor. she answered...</td>\n",
       "      <td>dr  campbell is a caring doctor  she answered...</td>\n",
       "      <td>[dr, campbell, caring, doctor, answered, quest...</td>\n",
       "    </tr>\n",
       "    <tr>\n",
       "      <th>80594</th>\n",
       "      <td>To say Dr. Campbell is unprofessional would b...</td>\n",
       "      <td>1500774</td>\n",
       "      <td>F</td>\n",
       "      <td>0</td>\n",
       "      <td>to say dr. campbell is unprofessional would b...</td>\n",
       "      <td>to say dr. campbell is unprofessional would b...</td>\n",
       "      <td>to say dr  campbell is unprofessional would b...</td>\n",
       "      <td>[say, dr, campbell, unprofessional, compliment...</td>\n",
       "    </tr>\n",
       "    <tr>\n",
       "      <th>84012</th>\n",
       "      <td>Dr. Mc Campbell is an honorable, caring physi...</td>\n",
       "      <td>758364</td>\n",
       "      <td>M</td>\n",
       "      <td>0</td>\n",
       "      <td>dr. mc campbell is an honorable, caring physi...</td>\n",
       "      <td>dr. mc campbell is an honorable, caring physi...</td>\n",
       "      <td>dr  mc campbell is an honorable  caring physi...</td>\n",
       "      <td>[dr, mc, campbell, honorable, caring, physicia...</td>\n",
       "    </tr>\n",
       "  </tbody>\n",
       "</table>\n",
       "</div>"
      ],
      "text/plain": [
       "                                                  Review    hp_id gender  \\\n",
       "15070   Dr. Campbell is an intelligent, caring, compa...   524310      M   \n",
       "15072   Dr. Campbell makes me feel comfortable. Hes r...   524310      M   \n",
       "18933   This guy substituted for my dr who was on vac...   225293      M   \n",
       "20226  Dr.Campbell is the WORST! I saw her for over 2...    74560      F   \n",
       "23766  Dr Campbell is a rare gem of a doctor. She's n...   137948      F   \n",
       "40268  Dr. Campbell is a GREAT Doctor!Anybody that wo...   132884      M   \n",
       "40270   Dr. Campbell is compassionate and a good list...   132884      M   \n",
       "40272   Dr. Campbell is the best of both worlds. Some...   132884      M   \n",
       "40273   Dr. Campbell is a very caring respectable Dr....   132884      M   \n",
       "40274   dr. campbell is awesome. his staff is absolut...   132884      M   \n",
       "40277   I love Dr. Campbell, he takes care of my whol...   132884      M   \n",
       "40278   Dr. Campbell is a very nice person and a good...   132884      M   \n",
       "40630  Rude and uncaring! Dr Campbell was my family m...   743428      M   \n",
       "45686  I wish DR. Campbell were still practicing priv...  1172202      F   \n",
       "55135  Dr. Campbell is the best Physician I have ever...  1445243      M   \n",
       "55136   Dr. Earl Campbell is a thorough, knowledgeabl...  1445243      M   \n",
       "55137   Before I ever saw Dr.Campbell, I could hear h...  1445243      M   \n",
       "58754  receponist is really a joke I feel sorry for h...   278266      F   \n",
       "58755   This Dr has unexpectedly closed her office. I...   278266      F   \n",
       "58757   Dr. Campbell is an excellent physician, It is...   278266      F   \n",
       "58758   I have been a patient of Dr. Campbell's for 7...   278266      F   \n",
       "58759   DOC IN THE BOX - stay away from Dr. Campbell....   278266      F   \n",
       "58760   I am an RN and deal with Drs. all the time. D...   278266      F   \n",
       "58763   I could not disagree more. Dr. Campbell's pra...   278266      F   \n",
       "58764   Dr. Campbell is great - she took a lot of tim...   278266      F   \n",
       "58766   Agree - Dr Campbell is very arrogant. She sai...   278266      F   \n",
       "58769   Dr. Campbell and Nurse Practitioner Karen Woo...   278266      F   \n",
       "58770   hey i've been seeing Dr Campbell and Karen Wo...   278266      F   \n",
       "58771   Positive &amp; Negative. Dr. Campbell took ti...   278266      F   \n",
       "58772   She's unknowledgable &amp; unwilling to hear ...   278266      F   \n",
       "58773   Dr. Campbell is the best. She stays up on the...   278266      F   \n",
       "70807  Dr Campbell is a great Dr, one of the best I'v...   649699      M   \n",
       "80589  The knowledge and compassion shown by Dr. Ahn ...  1500774      F   \n",
       "80590   In reading the other reviews, I am shocked. D...  1500774      F   \n",
       "80591   Dr. Campbell is a caring doctor. She answered...  1500774      F   \n",
       "80594   To say Dr. Campbell is unprofessional would b...  1500774      F   \n",
       "84012   Dr. Mc Campbell is an honorable, caring physi...   758364      M   \n",
       "\n",
       "       hasorder                                              lower  \\\n",
       "15070         0   dr. campbell is an intelligent, caring, compa...   \n",
       "15072         0   dr. campbell makes me feel comfortable. hes r...   \n",
       "18933         0   this guy substituted for my dr who was on vac...   \n",
       "20226         0  dr.campbell is the worst! i saw her for over 2...   \n",
       "23766         0  dr campbell is a rare gem of a doctor. she's n...   \n",
       "40268         0  dr. campbell is a great doctor!anybody that wo...   \n",
       "40270         0   dr. campbell is compassionate and a good list...   \n",
       "40272         0   dr. campbell is the best of both worlds. some...   \n",
       "40273         0   dr. campbell is a very caring respectable dr....   \n",
       "40274         0   dr. campbell is awesome. his staff is absolut...   \n",
       "40277         0   i love dr. campbell, he takes care of my whol...   \n",
       "40278         0   dr. campbell is a very nice person and a good...   \n",
       "40630         0  rude and uncaring! dr campbell was my family m...   \n",
       "45686         0  i wish dr. campbell were still practicing priv...   \n",
       "55135         0  dr. campbell is the best physician i have ever...   \n",
       "55136         0   dr. earl campbell is a thorough, knowledgeabl...   \n",
       "55137         0   before i ever saw dr.campbell, i could hear h...   \n",
       "58754         1  receponist is really a joke i feel sorry for h...   \n",
       "58755         1   this dr has unexpectedly closed her office. i...   \n",
       "58757         1   dr. campbell is an excellent physician, it is...   \n",
       "58758         1   i have been a patient of dr. campbell's for 7...   \n",
       "58759         1   doc in the box - stay away from dr. campbell....   \n",
       "58760         1   i am an rn and deal with drs. all the time. d...   \n",
       "58763         1   i could not disagree more. dr. campbell's pra...   \n",
       "58764         1   dr. campbell is great - she took a lot of tim...   \n",
       "58766         1   agree - dr campbell is very arrogant. she sai...   \n",
       "58769         1   dr. campbell and nurse practitioner karen woo...   \n",
       "58770         1   hey i've been seeing dr campbell and karen wo...   \n",
       "58771         1   positive &amp; negative. dr. campbell took ti...   \n",
       "58772         1   she's unknowledgable &amp; unwilling to hear ...   \n",
       "58773         1   dr. campbell is the best. she stays up on the...   \n",
       "70807         0  dr campbell is a great dr, one of the best i'v...   \n",
       "80589         0  the knowledge and compassion shown by dr. ahn ...   \n",
       "80590         0   in reading the other reviews, i am shocked. d...   \n",
       "80591         0   dr. campbell is a caring doctor. she answered...   \n",
       "80594         0   to say dr. campbell is unprofessional would b...   \n",
       "84012         0   dr. mc campbell is an honorable, caring physi...   \n",
       "\n",
       "                                               no_digits  \\\n",
       "15070   dr. campbell is an intelligent, caring, compa...   \n",
       "15072   dr. campbell makes me feel comfortable. hes r...   \n",
       "18933   this guy substituted for my dr who was on vac...   \n",
       "20226  dr.campbell is the worst! i saw her for over  ...   \n",
       "23766  dr campbell is a rare gem of a doctor. she's n...   \n",
       "40268  dr. campbell is a great doctor!anybody that wo...   \n",
       "40270   dr. campbell is compassionate and a good list...   \n",
       "40272   dr. campbell is the best of both worlds. some...   \n",
       "40273   dr. campbell is a very caring respectable dr....   \n",
       "40274   dr. campbell is awesome. his staff is absolut...   \n",
       "40277   i love dr. campbell, he takes care of my whol...   \n",
       "40278   dr. campbell is a very nice person and a good...   \n",
       "40630  rude and uncaring! dr campbell was my family m...   \n",
       "45686  i wish dr. campbell were still practicing priv...   \n",
       "55135  dr. campbell is the best physician i have ever...   \n",
       "55136   dr. earl campbell is a thorough, knowledgeabl...   \n",
       "55137   before i ever saw dr.campbell, i could hear h...   \n",
       "58754  receponist is really a joke i feel sorry for h...   \n",
       "58755   this dr has unexpectedly closed her office. i...   \n",
       "58757   dr. campbell is an excellent physician, it is...   \n",
       "58758   i have been a patient of dr. campbell's for  ...   \n",
       "58759   doc in the box - stay away from dr. campbell....   \n",
       "58760   i am an rn and deal with drs. all the time. d...   \n",
       "58763   i could not disagree more. dr. campbell's pra...   \n",
       "58764   dr. campbell is great - she took a lot of tim...   \n",
       "58766   agree - dr campbell is very arrogant. she sai...   \n",
       "58769   dr. campbell and nurse practitioner karen woo...   \n",
       "58770   hey i've been seeing dr campbell and karen wo...   \n",
       "58771   positive &amp; negative. dr. campbell took ti...   \n",
       "58772   she's unknowledgable &amp; unwilling to hear ...   \n",
       "58773   dr. campbell is the best. she stays up on the...   \n",
       "70807  dr campbell is a great dr, one of the best i'v...   \n",
       "80589  the knowledge and compassion shown by dr. ahn ...   \n",
       "80590   in reading the other reviews, i am shocked. d...   \n",
       "80591   dr. campbell is a caring doctor. she answered...   \n",
       "80594   to say dr. campbell is unprofessional would b...   \n",
       "84012   dr. mc campbell is an honorable, caring physi...   \n",
       "\n",
       "                                          no_punctuation  \\\n",
       "15070   dr  campbell is an intelligent  caring  compa...   \n",
       "15072   dr  campbell makes me feel comfortable  hes r...   \n",
       "18933   this guy substituted for my dr who was on vac...   \n",
       "20226  dr campbell is the worst  i saw her for over  ...   \n",
       "23766  dr campbell is a rare gem of a doctor  she s n...   \n",
       "40268  dr  campbell is a great doctor anybody that wo...   \n",
       "40270   dr  campbell is compassionate and a good list...   \n",
       "40272   dr  campbell is the best of both worlds  some...   \n",
       "40273   dr  campbell is a very caring respectable dr ...   \n",
       "40274   dr  campbell is awesome  his staff is absolut...   \n",
       "40277   i love dr  campbell  he takes care of my whol...   \n",
       "40278   dr  campbell is a very nice person and a good...   \n",
       "40630  rude and uncaring  dr campbell was my family m...   \n",
       "45686  i wish dr  campbell were still practicing priv...   \n",
       "55135  dr  campbell is the best physician i have ever...   \n",
       "55136   dr  earl campbell is a thorough  knowledgeabl...   \n",
       "55137   before i ever saw dr campbell  i could hear h...   \n",
       "58754  receponist is really a joke i feel sorry for h...   \n",
       "58755   this dr has unexpectedly closed her office  i...   \n",
       "58757   dr  campbell is an excellent physician  it is...   \n",
       "58758   i have been a patient of dr  campbell s for  ...   \n",
       "58759   doc in the box   stay away from dr  campbell ...   \n",
       "58760   i am an rn and deal with drs  all the time  d...   \n",
       "58763   i could not disagree more  dr  campbell s pra...   \n",
       "58764   dr  campbell is great   she took a lot of tim...   \n",
       "58766   agree   dr campbell is very arrogant  she sai...   \n",
       "58769   dr  campbell and nurse practitioner karen woo...   \n",
       "58770   hey i ve been seeing dr campbell and karen wo...   \n",
       "58771   positive  amp  negative  dr  campbell took ti...   \n",
       "58772   she s unknowledgable  amp  unwilling to hear ...   \n",
       "58773   dr  campbell is the best  she stays up on the...   \n",
       "70807  dr campbell is a great dr  one of the best i v...   \n",
       "80589  the knowledge and compassion shown by dr  ahn ...   \n",
       "80590   in reading the other reviews  i am shocked  d...   \n",
       "80591   dr  campbell is a caring doctor  she answered...   \n",
       "80594   to say dr  campbell is unprofessional would b...   \n",
       "84012   dr  mc campbell is an honorable  caring physi...   \n",
       "\n",
       "                                                   words  \n",
       "15070  [dr, campbell, intelligent, caring, compassion...  \n",
       "15072  [dr, campbell, makes, feel, comfortable, hes, ...  \n",
       "18933  [guy, substituted, dr, vacation, disease, year...  \n",
       "20226  [dr, campbell, worst, saw, years, knowing, str...  \n",
       "23766  [dr, campbell, rare, gem, doctor, extremely, i...  \n",
       "40268  [dr, campbell, great, doctor, anybody, say, di...  \n",
       "40270  [dr, campbell, compassionate, good, listener, ...  \n",
       "40272  [dr, campbell, best, worlds, dr, easy, going, ...  \n",
       "40273  [dr, campbell, caring, respectable, dr, feel, ...  \n",
       "40274  [dr, campbell, awesome, staff, absolutely, awf...  \n",
       "40277  [love, dr, campbell, takes, care, whole, famil...  \n",
       "40278  [dr, campbell, nice, person, good, doctor, fun...  \n",
       "40630  [rude, uncaring, dr, campbell, family, members...  \n",
       "45686  [wish, dr, campbell, still, practicing, privat...  \n",
       "55135  [dr, campbell, best, physician, mother, died, ...  \n",
       "55136  [dr, earl, campbell, thorough, knowledgeable, ...  \n",
       "55137  [saw, dr, campbell, hear, office, staff, makin...  \n",
       "58754  [receponist, really, joke, feel, sorry, going,...  \n",
       "58755  [dr, unexpectedly, closed, office, always, tho...  \n",
       "58757  [dr, campbell, excellent, physician, hard, bel...  \n",
       "58758  [patient, dr, campbell, years, throughout, tim...  \n",
       "58759  [doc, box, stay, away, dr, campbell, terrible,...  \n",
       "58760  [rn, deal, drs, time, dr, campbell, excellant,...  \n",
       "58763  [disagree, dr, campbell, practice, joke, rude,...  \n",
       "58764  [dr, campbell, great, took, lot, time, first, ...  \n",
       "58766  [agree, dr, campbell, arrogant, said, thyroid,...  \n",
       "58769  [dr, campbell, nurse, practitioner, karen, woo...  \n",
       "58770  [hey, seeing, dr, campbell, karen, woods, alwa...  \n",
       "58771  [positive, amp, negative, dr, campbell, took, ...  \n",
       "58772  [unknowledgable, amp, unwilling, hear, help, r...  \n",
       "58773  [dr, campbell, best, stays, latest, medical, r...  \n",
       "70807  [dr, campbell, great, dr, one, best, ton, help...  \n",
       "80589  [knowledge, compassion, shown, dr, ahn, campbe...  \n",
       "80590  [reading, reviews, shocked, dr, campbell, cari...  \n",
       "80591  [dr, campbell, caring, doctor, answered, quest...  \n",
       "80594  [say, dr, campbell, unprofessional, compliment...  \n",
       "84012  [dr, mc, campbell, honorable, caring, physicia...  "
      ]
     },
     "execution_count": 95,
     "metadata": {},
     "output_type": "execute_result"
    }
   ],
   "source": [
    "review_im[tl]"
   ]
  },
  {
   "cell_type": "code",
   "execution_count": null,
   "metadata": {},
   "outputs": [],
   "source": []
  },
  {
   "cell_type": "code",
   "execution_count": null,
   "metadata": {},
   "outputs": [],
   "source": []
  },
  {
   "cell_type": "markdown",
   "metadata": {},
   "source": [
    "### Change hyperparameters"
   ]
  },
  {
   "cell_type": "code",
   "execution_count": 97,
   "metadata": {},
   "outputs": [],
   "source": [
    "model3 = Doc2Vec(dm=0,vector_size=300,min_count=50,epochs=5,workers=cores,dbow_words=1,dm_concat=1)\n",
    "model3.build_vocab(docs_for_vocab)\n",
    "model3.train(documents = docs,total_examples=model.corpus_count,epochs=model.epochs)\n",
    "model3.save(\"doc_review3.model\")"
   ]
  },
  {
   "cell_type": "code",
   "execution_count": 98,
   "metadata": {},
   "outputs": [],
   "source": [
    "from gensim.models.doc2vec import Doc2Vec\n",
    "model3= Doc2Vec.load(\"doc_review3.model\")"
   ]
  },
  {
   "cell_type": "code",
   "execution_count": 105,
   "metadata": {},
   "outputs": [
    {
     "data": {
      "text/plain": [
       "[('likeable', 0.5064378976821899),\n",
       " ('competant', 0.5027835369110107),\n",
       " ('wonderfully', 0.4925658106803894),\n",
       " ('trustworthy', 0.4897310733795166),\n",
       " ('phenomenal', 0.4855404496192932),\n",
       " ('knowledable', 0.4819665551185608),\n",
       " ('thrilled', 0.46682363748550415),\n",
       " ('lee', 0.4666481912136078),\n",
       " ('talented', 0.46648943424224854),\n",
       " ('thourough', 0.4654400050640106),\n",
       " ('besides', 0.46451470255851746),\n",
       " ('compasionate', 0.46156832575798035),\n",
       " ('excellant', 0.4613204598426819),\n",
       " ('million', 0.46127548813819885),\n",
       " ('joe', 0.46098366379737854)]"
      ]
     },
     "execution_count": 105,
     "metadata": {},
     "output_type": "execute_result"
    }
   ],
   "source": [
    "model3.wv.most_similar(positive = [model.docvecs[0],model.docvecs['F']],topn=15)"
   ]
  },
  {
   "cell_type": "code",
   "execution_count": 106,
   "metadata": {},
   "outputs": [
    {
     "data": {
      "text/plain": [
       "[('rocks', 0.5198142528533936),\n",
       " ('competant', 0.5090813636779785),\n",
       " ('wonderfully', 0.4968566596508026),\n",
       " ('hematologist', 0.49434638023376465),\n",
       " ('joe', 0.48667606711387634),\n",
       " ('compasionate', 0.4816814064979553),\n",
       " ('qualities', 0.47608721256256104),\n",
       " ('trustworthy', 0.4747961163520813),\n",
       " ('million', 0.4706048369407654),\n",
       " ('lee', 0.4703257977962494),\n",
       " ('careing', 0.4688987731933594),\n",
       " ('likeable', 0.46723681688308716),\n",
       " ('remarkable', 0.4663419723510742),\n",
       " ('phenomenal', 0.4627230763435364),\n",
       " ('knowledable', 0.4607444405555725)]"
      ]
     },
     "execution_count": 106,
     "metadata": {},
     "output_type": "execute_result"
    }
   ],
   "source": [
    "model3.wv.most_similar(positive = [model.docvecs[0],model.docvecs['M']],topn=15)"
   ]
  },
  {
   "cell_type": "code",
   "execution_count": 107,
   "metadata": {},
   "outputs": [
    {
     "data": {
      "text/plain": [
       "[('scott', 0.4071887135505676),\n",
       " ('thrilled', 0.40491122007369995),\n",
       " ('enjoyed', 0.40479421615600586),\n",
       " ('lol', 0.4010332226753235),\n",
       " ('competant', 0.3962472081184387),\n",
       " ('linda', 0.3948623538017273),\n",
       " ('patel', 0.3872354328632355),\n",
       " ('robert', 0.38643211126327515),\n",
       " ('phenomenal', 0.3857051730155945),\n",
       " ('wonderfully', 0.3831791281700134),\n",
       " ('rocks', 0.3829337954521179),\n",
       " ('knowledable', 0.37667328119277954),\n",
       " ('likeable', 0.37519606947898865),\n",
       " ('super', 0.37401801347732544),\n",
       " ('besides', 0.373771071434021)]"
      ]
     },
     "execution_count": 107,
     "metadata": {},
     "output_type": "execute_result"
    }
   ],
   "source": [
    "model3.wv.most_similar(positive = [model.docvecs[1],model.docvecs['F']],topn=15)"
   ]
  },
  {
   "cell_type": "code",
   "execution_count": 108,
   "metadata": {},
   "outputs": [
    {
     "data": {
      "text/plain": [
       "[('rocks', 0.43925338983535767),\n",
       " ('scott', 0.4090586006641388),\n",
       " ('competant', 0.4063270092010498),\n",
       " ('linda', 0.40312811732292175),\n",
       " ('thrilled', 0.40071654319763184),\n",
       " ('thankful', 0.39894789457321167),\n",
       " ('lol', 0.3927009701728821),\n",
       " ('wonderfully', 0.39130306243896484),\n",
       " ('enjoyed', 0.390866756439209),\n",
       " ('healer', 0.3904035687446594),\n",
       " ('knowlegeable', 0.3863449692726135),\n",
       " ('careing', 0.38494250178337097),\n",
       " ('king', 0.38148269057273865),\n",
       " ('joe', 0.380612850189209),\n",
       " ('super', 0.3792436122894287)]"
      ]
     },
     "execution_count": 108,
     "metadata": {},
     "output_type": "execute_result"
    }
   ],
   "source": [
    "model3.wv.most_similar(positive = [model.docvecs[1],model.docvecs['M']],topn=15)"
   ]
  }
 ],
 "metadata": {
  "kernelspec": {
   "display_name": "Python 3",
   "language": "python",
   "name": "python3"
  },
  "language_info": {
   "codemirror_mode": {
    "name": "ipython",
    "version": 3
   },
   "file_extension": ".py",
   "mimetype": "text/x-python",
   "name": "python",
   "nbconvert_exporter": "python",
   "pygments_lexer": "ipython3",
   "version": "3.7.3"
  }
 },
 "nbformat": 4,
 "nbformat_minor": 2
}
