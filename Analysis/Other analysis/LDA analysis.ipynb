{
 "cells": [
  {
   "cell_type": "code",
   "execution_count": 258,
   "metadata": {},
   "outputs": [],
   "source": [
    "import pandas as pd\n",
    "import matplotlib.pyplot as plt"
   ]
  },
  {
   "cell_type": "code",
   "execution_count": 259,
   "metadata": {},
   "outputs": [],
   "source": [
    "path = \"/Users/chongchen/Desktop/19Fall RA/raw data/\"\n",
    "doc_review = pd.read_csv(path + 'docs_before.csv', index_col = 0)\n",
    "gender = pd.read_csv(path + 'genders.csv').drop_duplicates()\n",
    "doc_review = pd.merge(doc_review,gender,on='hp_id',how='inner')"
   ]
  },
  {
   "cell_type": "code",
   "execution_count": 260,
   "metadata": {},
   "outputs": [
    {
     "data": {
      "text/plain": [
       "(134973, 44)"
      ]
     },
     "execution_count": 260,
     "metadata": {},
     "output_type": "execute_result"
    }
   ],
   "source": [
    "doc_review.shape"
   ]
  },
  {
   "cell_type": "code",
   "execution_count": 261,
   "metadata": {
    "scrolled": true
   },
   "outputs": [
    {
     "data": {
      "text/plain": [
       "Index(['hp_id', 'ratemds_id', 'order_id', 'hasorder', 'review_count',\n",
       "       'avg_help', 'avg_know', 'avg_punct', 'avg_staff', 'var_help',\n",
       "       'var_know', 'var_punct', 'var_staff', 'rem_neg_DONOTUSE',\n",
       "       'rem_pos_DONOTUSE', 'ones', 'twos', 'threes', 'fours', 'fives',\n",
       "       'prop_ones', 'prop_twos', 'prop_threes', 'prop_fours', 'prop_fives',\n",
       "       'review_corpus', 'spec_comb', 'gy_comb', 'HP_ST', 'firstorderdate',\n",
       "       'action_desc_concat', 'action_comment_concat', 'orderbasesconcat',\n",
       "       'cat_nonprej', 'cat_otherprej', 'cat_restrictlicense',\n",
       "       'cat_losslicense', 'cem_strata_alldocs', 'basecat_badmed',\n",
       "       'basecat_impaired', 'basecat_finances', 'basecat_criminal',\n",
       "       'basecat_patient', 'gender'],\n",
       "      dtype='object')"
      ]
     },
     "execution_count": 261,
     "metadata": {},
     "output_type": "execute_result"
    }
   ],
   "source": [
    "doc_review.columns"
   ]
  },
  {
   "cell_type": "code",
   "execution_count": 262,
   "metadata": {},
   "outputs": [],
   "source": [
    "def no_space(x):\n",
    "    a = x.split(' ')\n",
    "    b = ''\n",
    "    for i in a:\n",
    "        if i != '':\n",
    "            b = b+i\n",
    "    return b\n",
    "doc_review['spec_comb'] = doc_review['spec_comb'].map(lambda x:no_space(x))"
   ]
  },
  {
   "cell_type": "code",
   "execution_count": 263,
   "metadata": {},
   "outputs": [
    {
     "data": {
      "text/plain": [
       "'InternalMedicine'"
      ]
     },
     "execution_count": 263,
     "metadata": {},
     "output_type": "execute_result"
    }
   ],
   "source": [
    "doc_review['spec_comb'][2]"
   ]
  },
  {
   "cell_type": "code",
   "execution_count": 264,
   "metadata": {},
   "outputs": [],
   "source": [
    "review = doc_review[['hp_id','review_corpus']][doc_review['spec_comb']=='InternalMedicine']"
   ]
  },
  {
   "cell_type": "code",
   "execution_count": 265,
   "metadata": {
    "scrolled": true
   },
   "outputs": [
    {
     "data": {
      "text/plain": [
       "(33549, 2)"
      ]
     },
     "execution_count": 265,
     "metadata": {},
     "output_type": "execute_result"
    }
   ],
   "source": [
    "review.shape"
   ]
  },
  {
   "cell_type": "code",
   "execution_count": 266,
   "metadata": {},
   "outputs": [],
   "source": [
    "review.reset_index(inplace = True, drop = True)"
   ]
  },
  {
   "cell_type": "code",
   "execution_count": 267,
   "metadata": {
    "scrolled": true
   },
   "outputs": [
    {
     "data": {
      "text/html": [
       "<div>\n",
       "<style scoped>\n",
       "    .dataframe tbody tr th:only-of-type {\n",
       "        vertical-align: middle;\n",
       "    }\n",
       "\n",
       "    .dataframe tbody tr th {\n",
       "        vertical-align: top;\n",
       "    }\n",
       "\n",
       "    .dataframe thead th {\n",
       "        text-align: right;\n",
       "    }\n",
       "</style>\n",
       "<table border=\"1\" class=\"dataframe\">\n",
       "  <thead>\n",
       "    <tr style=\"text-align: right;\">\n",
       "      <th></th>\n",
       "      <th>hp_id</th>\n",
       "      <th>review_corpus</th>\n",
       "    </tr>\n",
       "  </thead>\n",
       "  <tbody>\n",
       "    <tr>\n",
       "      <th>0</th>\n",
       "      <td>19713</td>\n",
       "      <td>satisfactory but would not recommend coldness,...</td>\n",
       "    </tr>\n",
       "    <tr>\n",
       "      <th>1</th>\n",
       "      <td>587845</td>\n",
       "      <td>I have been going to Dr. Mittleman for the pas...</td>\n",
       "    </tr>\n",
       "    <tr>\n",
       "      <th>2</th>\n",
       "      <td>1026482</td>\n",
       "      <td>What I like most about Dr. Brandies is that sh...</td>\n",
       "    </tr>\n",
       "    <tr>\n",
       "      <th>3</th>\n",
       "      <td>356796</td>\n",
       "      <td>I have been a patient for 5+ years. She always...</td>\n",
       "    </tr>\n",
       "    <tr>\n",
       "      <th>4</th>\n",
       "      <td>1444150</td>\n",
       "      <td>Dr. Kloosterman was so kind and knowledgable! ...</td>\n",
       "    </tr>\n",
       "    <tr>\n",
       "      <th>5</th>\n",
       "      <td>1298609</td>\n",
       "      <td>I no longer use this doctor he doesn't have ti...</td>\n",
       "    </tr>\n",
       "    <tr>\n",
       "      <th>6</th>\n",
       "      <td>48453</td>\n",
       "      <td>This doctor brushed aside everything I said wh...</td>\n",
       "    </tr>\n",
       "    <tr>\n",
       "      <th>7</th>\n",
       "      <td>1128956</td>\n",
       "      <td>good for pulmonary disease, but definitely not...</td>\n",
       "    </tr>\n",
       "    <tr>\n",
       "      <th>8</th>\n",
       "      <td>912294</td>\n",
       "      <td>So, the first thing this idiot does is argue w...</td>\n",
       "    </tr>\n",
       "    <tr>\n",
       "      <th>9</th>\n",
       "      <td>1529842</td>\n",
       "      <td>Deceased</td>\n",
       "    </tr>\n",
       "    <tr>\n",
       "      <th>10</th>\n",
       "      <td>874463</td>\n",
       "      <td></td>\n",
       "    </tr>\n",
       "    <tr>\n",
       "      <th>11</th>\n",
       "      <td>212783</td>\n",
       "      <td>Speedy service</td>\n",
       "    </tr>\n",
       "    <tr>\n",
       "      <th>12</th>\n",
       "      <td>945140</td>\n",
       "      <td>Expect a minimum of a month to return a phone ...</td>\n",
       "    </tr>\n",
       "    <tr>\n",
       "      <th>13</th>\n",
       "      <td>406301</td>\n",
       "      <td></td>\n",
       "    </tr>\n",
       "    <tr>\n",
       "      <th>14</th>\n",
       "      <td>411960</td>\n",
       "      <td>Dr. Mejia takes the time to review my file and...</td>\n",
       "    </tr>\n",
       "    <tr>\n",
       "      <th>15</th>\n",
       "      <td>1525567</td>\n",
       "      <td>This physician is very rude to everyone. Patie...</td>\n",
       "    </tr>\n",
       "    <tr>\n",
       "      <th>16</th>\n",
       "      <td>942069</td>\n",
       "      <td>Jon Moness has been my doctor for the past 10 ...</td>\n",
       "    </tr>\n",
       "    <tr>\n",
       "      <th>17</th>\n",
       "      <td>1215516</td>\n",
       "      <td>He is a very smart doctor. But he has horrible...</td>\n",
       "    </tr>\n",
       "    <tr>\n",
       "      <th>18</th>\n",
       "      <td>1473699</td>\n",
       "      <td>Extremely intelligent</td>\n",
       "    </tr>\n",
       "    <tr>\n",
       "      <th>19</th>\n",
       "      <td>1327850</td>\n",
       "      <td>Wonderful Doc. She has been my pcp for years.....</td>\n",
       "    </tr>\n",
       "    <tr>\n",
       "      <th>20</th>\n",
       "      <td>1520937</td>\n",
       "      <td>he is the best physician . very informative an...</td>\n",
       "    </tr>\n",
       "    <tr>\n",
       "      <th>21</th>\n",
       "      <td>1054179</td>\n",
       "      <td>This doctor acted as if I was a hypochondriac....</td>\n",
       "    </tr>\n",
       "    <tr>\n",
       "      <th>22</th>\n",
       "      <td>904721</td>\n",
       "      <td>Great physician, very caring, extensive experi...</td>\n",
       "    </tr>\n",
       "    <tr>\n",
       "      <th>23</th>\n",
       "      <td>275305</td>\n",
       "      <td></td>\n",
       "    </tr>\n",
       "    <tr>\n",
       "      <th>24</th>\n",
       "      <td>1488908</td>\n",
       "      <td>Sees you with one foot out of the door.</td>\n",
       "    </tr>\n",
       "    <tr>\n",
       "      <th>25</th>\n",
       "      <td>1608047</td>\n",
       "      <td>I would not see anyone but her. She takes the ...</td>\n",
       "    </tr>\n",
       "    <tr>\n",
       "      <th>26</th>\n",
       "      <td>269347</td>\n",
       "      <td>Dr. Quinto gives the impression that unless yo...</td>\n",
       "    </tr>\n",
       "    <tr>\n",
       "      <th>27</th>\n",
       "      <td>827768</td>\n",
       "      <td>I went to this doctor for about 1 1/2 years wi...</td>\n",
       "    </tr>\n",
       "    <tr>\n",
       "      <th>28</th>\n",
       "      <td>890406</td>\n",
       "      <td>Dr. Kane provides highly expert, caring, and t...</td>\n",
       "    </tr>\n",
       "    <tr>\n",
       "      <th>29</th>\n",
       "      <td>1371705</td>\n",
       "      <td>Dr. Kuwata is very professional and caring,lis...</td>\n",
       "    </tr>\n",
       "    <tr>\n",
       "      <th>...</th>\n",
       "      <td>...</td>\n",
       "      <td>...</td>\n",
       "    </tr>\n",
       "    <tr>\n",
       "      <th>33519</th>\n",
       "      <td>1195114</td>\n",
       "      <td>MY MOTHER PASSED AWAY UNDER HIS CARE. HE IS TH...</td>\n",
       "    </tr>\n",
       "    <tr>\n",
       "      <th>33520</th>\n",
       "      <td>511759</td>\n",
       "      <td>I went to this doctor for 3 years and got noth...</td>\n",
       "    </tr>\n",
       "    <tr>\n",
       "      <th>33521</th>\n",
       "      <td>495256</td>\n",
       "      <td>Did not tell my mother she should havae a colo...</td>\n",
       "    </tr>\n",
       "    <tr>\n",
       "      <th>33522</th>\n",
       "      <td>401038</td>\n",
       "      <td>Without a doubt one of the best oncology teams...</td>\n",
       "    </tr>\n",
       "    <tr>\n",
       "      <th>33523</th>\n",
       "      <td>88457</td>\n",
       "      <td>I found Dr Corona to be currant on newest info...</td>\n",
       "    </tr>\n",
       "    <tr>\n",
       "      <th>33524</th>\n",
       "      <td>1012083</td>\n",
       "      <td>Bills insurance for the wrong diagnosis and do...</td>\n",
       "    </tr>\n",
       "    <tr>\n",
       "      <th>33525</th>\n",
       "      <td>1602166</td>\n",
       "      <td>He is friendly and caring. Always listens to c...</td>\n",
       "    </tr>\n",
       "    <tr>\n",
       "      <th>33526</th>\n",
       "      <td>1358362</td>\n",
       "      <td>NOT impressed. Front office staff, unfriendly,...</td>\n",
       "    </tr>\n",
       "    <tr>\n",
       "      <th>33527</th>\n",
       "      <td>1446020</td>\n",
       "      <td>SHE IS A VERY GOOD DOCTOR. SHE WAS MY DOCTOR F...</td>\n",
       "    </tr>\n",
       "    <tr>\n",
       "      <th>33528</th>\n",
       "      <td>810311</td>\n",
       "      <td>Dr. Silversmith is the nicest, caring, underst...</td>\n",
       "    </tr>\n",
       "    <tr>\n",
       "      <th>33529</th>\n",
       "      <td>916966</td>\n",
       "      <td>HORRIBLE! This doctor is from the army and sti...</td>\n",
       "    </tr>\n",
       "    <tr>\n",
       "      <th>33530</th>\n",
       "      <td>1104196</td>\n",
       "      <td>Not a nice person. Very sharp, not very caring...</td>\n",
       "    </tr>\n",
       "    <tr>\n",
       "      <th>33531</th>\n",
       "      <td>588891</td>\n",
       "      <td>A visit with this doctor is not rushed. He is ...</td>\n",
       "    </tr>\n",
       "    <tr>\n",
       "      <th>33532</th>\n",
       "      <td>1366019</td>\n",
       "      <td>I have been a patient of Dr. Trock's since 200...</td>\n",
       "    </tr>\n",
       "    <tr>\n",
       "      <th>33533</th>\n",
       "      <td>972082</td>\n",
       "      <td>cares about everyone you can call and speek to...</td>\n",
       "    </tr>\n",
       "    <tr>\n",
       "      <th>33534</th>\n",
       "      <td>831680</td>\n",
       "      <td>I'd have to agree that Dr Uyesaka inspires con...</td>\n",
       "    </tr>\n",
       "    <tr>\n",
       "      <th>33535</th>\n",
       "      <td>1306491</td>\n",
       "      <td>Thank God for this doctor. She is super knowle...</td>\n",
       "    </tr>\n",
       "    <tr>\n",
       "      <th>33536</th>\n",
       "      <td>188148</td>\n",
       "      <td>My first experience with this doctor was when ...</td>\n",
       "    </tr>\n",
       "    <tr>\n",
       "      <th>33537</th>\n",
       "      <td>1239152</td>\n",
       "      <td>Very Attentive</td>\n",
       "    </tr>\n",
       "    <tr>\n",
       "      <th>33538</th>\n",
       "      <td>879980</td>\n",
       "      <td>An excellent physician. A good diagnostician. ...</td>\n",
       "    </tr>\n",
       "    <tr>\n",
       "      <th>33539</th>\n",
       "      <td>1336864</td>\n",
       "      <td>Excellent doctor, in terms of skill, knowledge...</td>\n",
       "    </tr>\n",
       "    <tr>\n",
       "      <th>33540</th>\n",
       "      <td>868723</td>\n",
       "      <td>This doctor was unable to complete the colonos...</td>\n",
       "    </tr>\n",
       "    <tr>\n",
       "      <th>33541</th>\n",
       "      <td>711194</td>\n",
       "      <td>best all time Dr. She takes care of my mother ...</td>\n",
       "    </tr>\n",
       "    <tr>\n",
       "      <th>33542</th>\n",
       "      <td>211646</td>\n",
       "      <td>Exquisite diagnostician! Dr. Myaing was the li...</td>\n",
       "    </tr>\n",
       "    <tr>\n",
       "      <th>33543</th>\n",
       "      <td>9685</td>\n",
       "      <td>Dr. Rickles is helpful, informative and consid...</td>\n",
       "    </tr>\n",
       "    <tr>\n",
       "      <th>33544</th>\n",
       "      <td>1036394</td>\n",
       "      <td>I was very disappointed with this doctor. He s...</td>\n",
       "    </tr>\n",
       "    <tr>\n",
       "      <th>33545</th>\n",
       "      <td>425150</td>\n",
       "      <td>Above average. Some room for improvement.</td>\n",
       "    </tr>\n",
       "    <tr>\n",
       "      <th>33546</th>\n",
       "      <td>818326</td>\n",
       "      <td>Saw him several times for liver disease -- he'...</td>\n",
       "    </tr>\n",
       "    <tr>\n",
       "      <th>33547</th>\n",
       "      <td>1049044</td>\n",
       "      <td>dr. Foster has been excellent, she has hapled ...</td>\n",
       "    </tr>\n",
       "    <tr>\n",
       "      <th>33548</th>\n",
       "      <td>1132315</td>\n",
       "      <td>Dr. Davis is a very caring physician. She is n...</td>\n",
       "    </tr>\n",
       "  </tbody>\n",
       "</table>\n",
       "<p>33549 rows × 2 columns</p>\n",
       "</div>"
      ],
      "text/plain": [
       "         hp_id                                      review_corpus\n",
       "0        19713  satisfactory but would not recommend coldness,...\n",
       "1       587845  I have been going to Dr. Mittleman for the pas...\n",
       "2      1026482  What I like most about Dr. Brandies is that sh...\n",
       "3       356796  I have been a patient for 5+ years. She always...\n",
       "4      1444150  Dr. Kloosterman was so kind and knowledgable! ...\n",
       "5      1298609  I no longer use this doctor he doesn't have ti...\n",
       "6        48453  This doctor brushed aside everything I said wh...\n",
       "7      1128956  good for pulmonary disease, but definitely not...\n",
       "8       912294  So, the first thing this idiot does is argue w...\n",
       "9      1529842                                          Deceased \n",
       "10      874463                                                   \n",
       "11      212783                                    Speedy service \n",
       "12      945140  Expect a minimum of a month to return a phone ...\n",
       "13      406301                                                   \n",
       "14      411960  Dr. Mejia takes the time to review my file and...\n",
       "15     1525567  This physician is very rude to everyone. Patie...\n",
       "16      942069  Jon Moness has been my doctor for the past 10 ...\n",
       "17     1215516  He is a very smart doctor. But he has horrible...\n",
       "18     1473699                             Extremely intelligent \n",
       "19     1327850  Wonderful Doc. She has been my pcp for years.....\n",
       "20     1520937  he is the best physician . very informative an...\n",
       "21     1054179  This doctor acted as if I was a hypochondriac....\n",
       "22      904721  Great physician, very caring, extensive experi...\n",
       "23      275305                                                   \n",
       "24     1488908           Sees you with one foot out of the door. \n",
       "25     1608047  I would not see anyone but her. She takes the ...\n",
       "26      269347  Dr. Quinto gives the impression that unless yo...\n",
       "27      827768  I went to this doctor for about 1 1/2 years wi...\n",
       "28      890406  Dr. Kane provides highly expert, caring, and t...\n",
       "29     1371705  Dr. Kuwata is very professional and caring,lis...\n",
       "...        ...                                                ...\n",
       "33519  1195114  MY MOTHER PASSED AWAY UNDER HIS CARE. HE IS TH...\n",
       "33520   511759  I went to this doctor for 3 years and got noth...\n",
       "33521   495256  Did not tell my mother she should havae a colo...\n",
       "33522   401038  Without a doubt one of the best oncology teams...\n",
       "33523    88457  I found Dr Corona to be currant on newest info...\n",
       "33524  1012083  Bills insurance for the wrong diagnosis and do...\n",
       "33525  1602166  He is friendly and caring. Always listens to c...\n",
       "33526  1358362  NOT impressed. Front office staff, unfriendly,...\n",
       "33527  1446020  SHE IS A VERY GOOD DOCTOR. SHE WAS MY DOCTOR F...\n",
       "33528   810311  Dr. Silversmith is the nicest, caring, underst...\n",
       "33529   916966  HORRIBLE! This doctor is from the army and sti...\n",
       "33530  1104196  Not a nice person. Very sharp, not very caring...\n",
       "33531   588891  A visit with this doctor is not rushed. He is ...\n",
       "33532  1366019  I have been a patient of Dr. Trock's since 200...\n",
       "33533   972082  cares about everyone you can call and speek to...\n",
       "33534   831680  I'd have to agree that Dr Uyesaka inspires con...\n",
       "33535  1306491  Thank God for this doctor. She is super knowle...\n",
       "33536   188148  My first experience with this doctor was when ...\n",
       "33537  1239152                                    Very Attentive \n",
       "33538   879980  An excellent physician. A good diagnostician. ...\n",
       "33539  1336864  Excellent doctor, in terms of skill, knowledge...\n",
       "33540   868723  This doctor was unable to complete the colonos...\n",
       "33541   711194  best all time Dr. She takes care of my mother ...\n",
       "33542   211646  Exquisite diagnostician! Dr. Myaing was the li...\n",
       "33543     9685  Dr. Rickles is helpful, informative and consid...\n",
       "33544  1036394  I was very disappointed with this doctor. He s...\n",
       "33545   425150         Above average. Some room for improvement. \n",
       "33546   818326  Saw him several times for liver disease -- he'...\n",
       "33547  1049044  dr. Foster has been excellent, she has hapled ...\n",
       "33548  1132315  Dr. Davis is a very caring physician. She is n...\n",
       "\n",
       "[33549 rows x 2 columns]"
      ]
     },
     "execution_count": 267,
     "metadata": {},
     "output_type": "execute_result"
    }
   ],
   "source": [
    "review"
   ]
  },
  {
   "cell_type": "markdown",
   "metadata": {},
   "source": [
    "## Convert the review corpus into a list of sentences"
   ]
  },
  {
   "cell_type": "code",
   "execution_count": 268,
   "metadata": {},
   "outputs": [],
   "source": [
    "review['sentence']= review['review_corpus'].map(lambda x: x.split('|'))"
   ]
  },
  {
   "cell_type": "code",
   "execution_count": 269,
   "metadata": {
    "scrolled": true
   },
   "outputs": [
    {
     "data": {
      "text/plain": [
       "[\"I have been going to Dr. Mittleman for the past 8-9 years. He is very caring and attentive, takes he's time to explain things so I understand and feel comfortable. He has a great sense of humor and does not rush you like any other Dr. He does return calls, he is the best Dr. ever! \", \" Dr. Mittleman is friendly, non-threatening, never condescending, and he does not lecture you. He also is extremely thorough when interviewing you about your health situation. He has an excellent bedside manner and will even talk about subjects other than your health to put you at ease. I recommend him highly, and I am one of those people who hates going to the doctor. Staff is only a C+/B-. They're reasonably friendly but they won't be winning any customer service awards. No matter. You don't go to the doctor to chit chat with medical assistants. If it's been a long time since you've seen an MD, go ahead and make an appointment with him. He won't even lecture you about that! \", ' Dr. Mittleman has been my primary physician for many years. He is extremely knowledgeable, listens very attentively, and encourages questions. I have had three excellent Doctors in my 52 years. All three were from UCLA and include Dr. Mittleman. ', \" I've been Dr. Mittleman for years. He's very attentive to his patients and always takes his time with his patients. He will always return calls no matter how late the day is if you are not feeling well and overall the best Dr. I've ever had. \", \" This man had the patience of a saint when he took care of both my Wife &amp; i from 2004-07. We both had multiple problems &amp; he was able to take care of ALL of our needs on sometimes short notice. He took his time with us &amp; was just as much a practical psych doc as well as medical. He's a RARE FIND &amp; WE MISS HIM since we moved to Seattle! Has his office since moved? \", \" Very poor. I took my uncle to him and he was rude, very short and completely unconcerned. After telling him he had terrible back pain he never looked at his back. He also did not return calls and left him in terrible pain over 5 days with no follow up call. When someone finally called it wasn't even him. Even then they didn't do anything about the pain situation. By the time he called we had already had to admit my uncle to the hospital, he had 4 collapsed vertebra in this back! The office staff was also rude and unhelpful. I have never seen a doctor like this before and was very angered at the way he treated a dying 94 year old man. \", \" Very caring and helpful! I had a BMI of 41 and he didn't jump down my throat about my weight. He actualy helped me discover that I had a thyroid issue and have successfully lost 50 pounds so far! He takes his time and listens to everything you have to say. I am so glad I have found him for a doctor. \", \" Dr. Mittleman never makes you feel rushed and is truly concerned about his patients. He takes all the time you need to tell him what you need help with. The best doctor I've ever had. Been a patient of his for about 7 years. Would refer him to anyone! \", \" Dr Mittleman is an excellent MD. He is caring and compassionate. He is very down to earth, yet very knowledgable. He is very good at returning calls. He does not allow himself to be bullied by the HMOs and will be on your side and do what's right for you as a patient. Once in the office, waiting times are minimal (you are usually called within 10 minuites of arrival). We live in the San Gabriel Valley and the travel all the way to Culver City is well worth it. \"]"
      ]
     },
     "execution_count": 269,
     "metadata": {},
     "output_type": "execute_result"
    }
   ],
   "source": [
    "review['sentence'][1]"
   ]
  },
  {
   "cell_type": "markdown",
   "metadata": {},
   "source": [
    "## Further split each sentence into a list of words"
   ]
  },
  {
   "cell_type": "code",
   "execution_count": 270,
   "metadata": {},
   "outputs": [],
   "source": [
    "from nltk.tokenize import word_tokenize"
   ]
  },
  {
   "cell_type": "code",
   "execution_count": 271,
   "metadata": {},
   "outputs": [],
   "source": [
    "review['word'] = review['sentence'].map(lambda sentences: [word_tokenize(sentence) for sentence in sentences])"
   ]
  },
  {
   "cell_type": "code",
   "execution_count": 272,
   "metadata": {},
   "outputs": [
    {
     "name": "stdout",
     "output_type": "stream",
     "text": [
      "[['satisfactory', 'but', 'would', 'not', 'recommend', 'coldness', ',', 'solo', ',', 'no', 'helpfulness', ',', 'limited', 'to', 'no', 'office', 'staff', ',', 'isolation', ',', 'diagnosis', 'is', 'solo'], ['Although', 'Dr.', 'Merlo', 'does', 'not', 'appear', 'to', 'have', 'an', 'office', 'staff', ',', 'nor', 'does', 'she', 'have', 'much', 'of', 'a', 'sense', 'of', 'humor', ',', 'I', 'found', 'her', 'available', ',', 'competent', 'and', 'caring', '.', 'When', 'my', 'primary', 'physician', 'could', 'not', 'resolve', 'the', 'problem', ',', 'she', 'helped', 'me', 'avoid', 'surgery', 'for', 'intestinal', 'blockage', 'by', 'providing', 'me', 'with', 'a', 'free', 'medication', 'sample', 'that', 'did', 'the', 'job', '.', 'Then', 'she', 'followed', 'by', 'phone', 'to', 'make', 'sure', 'that', 'I', 'was', 'okay', ';', 'subsequently', 'doing', 'a', 'colonoscopy', 'to', 'see', 'if', 'she', 'could', 'find', 'a', 'physical', 'cause', 'for', 'the', 'blockage', '.', 'If', 'you', 'want', 'a', 'physician', 'who', 'handles', 'all', 'of', 'the', 'personal', 'contact', 'with', 'her', 'patients', ',', 'Dr.', 'Merlo', 'is', 'the', 'one', 'to', 'see', '.'], ['took', 'my', 'daughter', 'for', 'problems', ',', 'never', 'examined', 'her', ',', 'uninterested', 'in', 'reports', 'from', 'referring', 'doctor', '.', 'As', 'far', 'as', 'the', 'breathlizer', 'tests', '.', 'do', \"n't\", 'understand', 'how', 'treating', 'problems', 'with', 'more', 'antibiotics', 'help', 'GI', 'problems', ',', '.', 'Absolutely', 'the', 'worst', 'doctor', 'experience', 'I', 'have', 'ever', 'had', '.']]\n"
     ]
    }
   ],
   "source": [
    "print(review['word'][0][:3])"
   ]
  },
  {
   "cell_type": "markdown",
   "metadata": {},
   "source": [
    "## Lemmatize with POS Tag"
   ]
  },
  {
   "cell_type": "markdown",
   "metadata": {},
   "source": [
    "reference : https://www.machinelearningplus.com/nlp/lemmatization-examples-python/"
   ]
  },
  {
   "cell_type": "code",
   "execution_count": 273,
   "metadata": {},
   "outputs": [],
   "source": [
    "import nltk\n",
    "from nltk import pos_tag\n",
    "from nltk.stem import WordNetLemmatizer \n",
    "from nltk.corpus import wordnet"
   ]
  },
  {
   "cell_type": "code",
   "execution_count": 274,
   "metadata": {},
   "outputs": [],
   "source": [
    "review['word_pos_tag'] = review['word'].map(lambda x: [pos_tag(i) for i in x])"
   ]
  },
  {
   "cell_type": "code",
   "execution_count": 275,
   "metadata": {},
   "outputs": [
    {
     "name": "stdout",
     "output_type": "stream",
     "text": [
      "[[('satisfactory', 'NN'), ('but', 'CC'), ('would', 'MD'), ('not', 'RB'), ('recommend', 'VB'), ('coldness', 'NN'), (',', ','), ('solo', 'NN'), (',', ','), ('no', 'DT'), ('helpfulness', 'NN'), (',', ','), ('limited', 'VBD'), ('to', 'TO'), ('no', 'DT'), ('office', 'NN'), ('staff', 'NN'), (',', ','), ('isolation', 'NN'), (',', ','), ('diagnosis', 'NN'), ('is', 'VBZ'), ('solo', 'JJ')], [('Although', 'IN'), ('Dr.', 'NNP'), ('Merlo', 'NNP'), ('does', 'VBZ'), ('not', 'RB'), ('appear', 'VB'), ('to', 'TO'), ('have', 'VB'), ('an', 'DT'), ('office', 'NN'), ('staff', 'NN'), (',', ','), ('nor', 'CC'), ('does', 'VBZ'), ('she', 'PRP'), ('have', 'VB'), ('much', 'RB'), ('of', 'IN'), ('a', 'DT'), ('sense', 'NN'), ('of', 'IN'), ('humor', 'NN'), (',', ','), ('I', 'PRP'), ('found', 'VBD'), ('her', 'PRP'), ('available', 'JJ'), (',', ','), ('competent', 'NN'), ('and', 'CC'), ('caring', 'NN'), ('.', '.'), ('When', 'WRB'), ('my', 'PRP$'), ('primary', 'JJ'), ('physician', 'NN'), ('could', 'MD'), ('not', 'RB'), ('resolve', 'VB'), ('the', 'DT'), ('problem', 'NN'), (',', ','), ('she', 'PRP'), ('helped', 'VBD'), ('me', 'PRP'), ('avoid', 'VB'), ('surgery', 'NN'), ('for', 'IN'), ('intestinal', 'JJ'), ('blockage', 'NN'), ('by', 'IN'), ('providing', 'VBG'), ('me', 'PRP'), ('with', 'IN'), ('a', 'DT'), ('free', 'JJ'), ('medication', 'NN'), ('sample', 'NN'), ('that', 'WDT'), ('did', 'VBD'), ('the', 'DT'), ('job', 'NN'), ('.', '.'), ('Then', 'RB'), ('she', 'PRP'), ('followed', 'VBD'), ('by', 'IN'), ('phone', 'NN'), ('to', 'TO'), ('make', 'VB'), ('sure', 'JJ'), ('that', 'IN'), ('I', 'PRP'), ('was', 'VBD'), ('okay', 'RB'), (';', ':'), ('subsequently', 'RB'), ('doing', 'VBG'), ('a', 'DT'), ('colonoscopy', 'NN'), ('to', 'TO'), ('see', 'VB'), ('if', 'IN'), ('she', 'PRP'), ('could', 'MD'), ('find', 'VB'), ('a', 'DT'), ('physical', 'JJ'), ('cause', 'NN'), ('for', 'IN'), ('the', 'DT'), ('blockage', 'NN'), ('.', '.'), ('If', 'IN'), ('you', 'PRP'), ('want', 'VBP'), ('a', 'DT'), ('physician', 'NN'), ('who', 'WP'), ('handles', 'VBZ'), ('all', 'DT'), ('of', 'IN'), ('the', 'DT'), ('personal', 'JJ'), ('contact', 'NN'), ('with', 'IN'), ('her', 'PRP$'), ('patients', 'NNS'), (',', ','), ('Dr.', 'NNP'), ('Merlo', 'NNP'), ('is', 'VBZ'), ('the', 'DT'), ('one', 'NN'), ('to', 'TO'), ('see', 'VB'), ('.', '.')], [('took', 'VBD'), ('my', 'PRP$'), ('daughter', 'NN'), ('for', 'IN'), ('problems', 'NNS'), (',', ','), ('never', 'RB'), ('examined', 'VBD'), ('her', 'PRP'), (',', ','), ('uninterested', 'JJ'), ('in', 'IN'), ('reports', 'NNS'), ('from', 'IN'), ('referring', 'VBG'), ('doctor', 'NN'), ('.', '.'), ('As', 'RB'), ('far', 'RB'), ('as', 'IN'), ('the', 'DT'), ('breathlizer', 'NN'), ('tests', 'NNS'), ('.', '.'), ('do', 'VBP'), (\"n't\", 'RB'), ('understand', 'VB'), ('how', 'WRB'), ('treating', 'JJ'), ('problems', 'NNS'), ('with', 'IN'), ('more', 'JJR'), ('antibiotics', 'NNS'), ('help', 'VBP'), ('GI', 'NNP'), ('problems', 'NNS'), (',', ','), ('.', '.'), ('Absolutely', 'RB'), ('the', 'DT'), ('worst', 'JJS'), ('doctor', 'NN'), ('experience', 'NN'), ('I', 'PRP'), ('have', 'VBP'), ('ever', 'RB'), ('had', 'VBN'), ('.', '.')]]\n"
     ]
    }
   ],
   "source": [
    "print(review['word_pos_tag'][0][:3])"
   ]
  },
  {
   "cell_type": "code",
   "execution_count": 276,
   "metadata": {},
   "outputs": [],
   "source": [
    "def get_wordnet_pos(word):\n",
    "    \"\"\"Map POS tag to first character lemmatize() accepts\"\"\"\n",
    "    tag = word.upper()[0]\n",
    "    tag_dict = {\"J\": wordnet.ADJ,\n",
    "                \"N\": wordnet.NOUN,\n",
    "                \"V\": wordnet.VERB,\n",
    "                \"R\": wordnet.ADV}\n",
    "\n",
    "    return tag_dict.get(tag, wordnet.NOUN)"
   ]
  },
  {
   "cell_type": "code",
   "execution_count": 277,
   "metadata": {},
   "outputs": [
    {
     "name": "stdout",
     "output_type": "stream",
     "text": [
      "Yes\n",
      "UH\n",
      ",\n",
      ",\n",
      "Dr.\n",
      "NNP\n",
      "Merlot\n",
      "NNP\n",
      "can\n",
      "MD\n",
      "be\n",
      "VB\n",
      "rude\n",
      "JJ\n",
      "and\n",
      "CC\n",
      "arrogant\n",
      "JJ\n",
      ",\n",
      ",\n",
      "but\n",
      "CC\n",
      "she\n",
      "PRP\n",
      "'s\n",
      "VBZ\n",
      "one\n",
      "CD\n",
      "of\n",
      "IN\n",
      "the\n",
      "DT\n",
      "few\n",
      "JJ\n",
      "gastroenterologists\n",
      "NNS\n",
      "who\n",
      "WP\n",
      "tries\n",
      "VBZ\n",
      "to\n",
      "TO\n",
      "determine\n",
      "VB\n",
      "whether\n",
      "IN\n",
      "there\n",
      "EX\n",
      "'s\n",
      "VBZ\n",
      "an\n",
      "DT\n",
      "underlying\n",
      "JJ\n",
      "nutritional\n",
      "JJ\n",
      "reason\n",
      "NN\n",
      "for\n",
      "IN\n",
      "why\n",
      "WRB\n",
      "my\n",
      "PRP$\n",
      "digestive\n",
      "NN\n",
      "system\n",
      "NN\n",
      "is\n",
      "VBZ\n",
      "n't\n",
      "RB\n",
      "acting\n",
      "VBG\n",
      "the\n",
      "DT\n",
      "way\n",
      "NN\n",
      "it\n",
      "PRP\n",
      "'s\n",
      "VBZ\n",
      "supposed\n",
      "VBN\n",
      "to\n",
      "TO\n",
      "act\n",
      "VB\n",
      ".\n",
      ".\n",
      "Most\n",
      "JJS\n",
      "of\n",
      "IN\n",
      "the\n",
      "DT\n",
      "other\n",
      "JJ\n",
      "gastroenterologists\n",
      "NNS\n",
      "I\n",
      "PRP\n",
      "'ve\n",
      "VBP\n",
      "seen\n",
      "VBN\n",
      "over\n",
      "IN\n",
      "the\n",
      "DT\n",
      "last\n",
      "JJ\n",
      "30\n",
      "CD\n",
      "years\n",
      "NNS\n",
      "seem\n",
      "VBP\n",
      "all\n",
      "DT\n",
      "too\n",
      "RB\n",
      "eager\n",
      "JJ\n",
      "to\n",
      "TO\n",
      "stick\n",
      "VB\n",
      "a\n",
      "DT\n",
      "scope\n",
      "NN\n",
      "up\n",
      "RP\n",
      "my\n",
      "PRP$\n",
      "butt\n",
      "NN\n",
      "or\n",
      "CC\n",
      "down\n",
      "IN\n",
      "my\n",
      "PRP$\n",
      "throat\n",
      "NN\n",
      "without\n",
      "IN\n",
      "trying\n",
      "VBG\n",
      "to\n",
      "TO\n",
      "first\n",
      "VB\n",
      "trying\n",
      "VBG\n",
      "to\n",
      "TO\n",
      "determine\n",
      "VB\n",
      "whether\n",
      "IN\n",
      "bacterial\n",
      "JJ\n",
      "overgrowths\n",
      "NNS\n",
      "or\n",
      "CC\n",
      "food\n",
      "NN\n",
      "sensivities\n",
      "NNS\n",
      "might\n",
      "MD\n",
      "be\n",
      "VB\n",
      "the\n",
      "DT\n",
      "primary\n",
      "JJ\n",
      "source\n",
      "NN\n",
      "of\n",
      "IN\n",
      "my\n",
      "PRP$\n",
      "problems\n",
      "NNS\n",
      "(\n",
      "(\n",
      "yes\n",
      "UH\n",
      "to\n",
      "TO\n",
      "the\n",
      "DT\n",
      "first\n",
      "JJ\n",
      ",\n",
      ",\n",
      "no\n",
      "DT\n",
      "for\n",
      "IN\n",
      "the\n",
      "DT\n",
      "latter\n",
      "NN\n",
      ")\n",
      ")\n",
      ".She\n",
      "NN\n",
      "does\n",
      "VBZ\n",
      "perform\n",
      "VB\n",
      "endoscopies\n",
      "NNS\n",
      "and\n",
      "CC\n",
      "colonoscopies\n",
      "NNS\n",
      ",\n",
      ",\n",
      "but\n",
      "CC\n",
      "she\n",
      "PRP\n",
      "also\n",
      "RB\n",
      "does\n",
      "VBZ\n",
      "a\n",
      "DT\n",
      "great\n",
      "JJ\n",
      "deal\n",
      "NN\n",
      "more\n",
      "RBR\n",
      "nutritional\n",
      "JJ\n",
      "work-up\n",
      "NN\n",
      "than\n",
      "IN\n",
      "any\n",
      "DT\n",
      "of\n",
      "IN\n",
      "the\n",
      "DT\n",
      "other\n",
      "JJ\n",
      "GI\n",
      "NNP\n",
      "doctors\n",
      "NNS\n",
      "I\n",
      "PRP\n",
      "'ve\n",
      "VBP\n",
      "ever\n",
      "RB\n",
      "visited\n",
      "VBN\n",
      ".\n",
      ".\n",
      "The\n",
      "DT\n",
      "tests\n",
      "NNS\n",
      "she\n",
      "PRP\n",
      "offers\n",
      "NNS\n",
      "are\n",
      "VBP\n",
      "not\n",
      "RB\n",
      "blood\n",
      "JJ\n",
      "tests\n",
      "NNS\n",
      ",\n",
      ",\n",
      "you\n",
      "PRP\n",
      "idiot\n",
      "VBP\n",
      ",\n",
      ",\n",
      "they\n",
      "PRP\n",
      "are\n",
      "VBP\n",
      "breath\n",
      "JJ\n",
      "tests\n",
      "NNS\n",
      "designed\n",
      "VBN\n",
      "to\n",
      "TO\n",
      "measure\n",
      "VB\n",
      "byproducts\n",
      "NNS\n",
      "that\n",
      "IN\n",
      "your\n",
      "PRP$\n",
      "digestive\n",
      "JJ\n",
      "system\n",
      "NN\n",
      "releases\n",
      "VBZ\n",
      "when\n",
      "WRB\n",
      "it\n",
      "PRP\n",
      "'s\n",
      "VBZ\n",
      "not\n",
      "RB\n",
      "breaking\n",
      "VBG\n",
      "food\n",
      "NN\n",
      "down\n",
      "RP\n",
      "as\n",
      "RB\n",
      "well\n",
      "RB\n",
      "as\n",
      "IN\n",
      "it\n",
      "PRP\n",
      "should\n",
      "MD\n",
      "or\n",
      "CC\n",
      "not\n",
      "RB\n",
      "allowing\n",
      "VBG\n",
      "you\n",
      "PRP\n",
      "to\n",
      "TO\n",
      "absorb\n",
      "VB\n",
      "nutrients\n",
      "NNS\n",
      ".\n",
      ".\n"
     ]
    }
   ],
   "source": [
    "for word in review['word_pos_tag'][0][3]:\n",
    "    print(word[0])\n",
    "    print(word[1])"
   ]
  },
  {
   "cell_type": "code",
   "execution_count": 278,
   "metadata": {},
   "outputs": [],
   "source": [
    "# 1. Init Lemmatizer\n",
    "lemmatizer = WordNetLemmatizer()"
   ]
  },
  {
   "cell_type": "code",
   "execution_count": 279,
   "metadata": {
    "scrolled": true
   },
   "outputs": [],
   "source": [
    "review['lemmatize_word'] = review['word_pos_tag'].map(\n",
    "    lambda sentence_list: \n",
    "    [ [ lemmatizer.lemmatize(word[0], get_wordnet_pos(word[1])) if word[0] not in [',','.'] else word[0] for word in sentence] \n",
    "        for sentence in sentence_list]\n",
    ")"
   ]
  },
  {
   "cell_type": "code",
   "execution_count": 280,
   "metadata": {},
   "outputs": [
    {
     "name": "stdout",
     "output_type": "stream",
     "text": [
      "[['satisfactory', 'but', 'would', 'not', 'recommend', 'coldness', ',', 'solo', ',', 'no', 'helpfulness', ',', 'limit', 'to', 'no', 'office', 'staff', ',', 'isolation', ',', 'diagnosis', 'be', 'solo'], ['Although', 'Dr.', 'Merlo', 'do', 'not', 'appear', 'to', 'have', 'an', 'office', 'staff', ',', 'nor', 'do', 'she', 'have', 'much', 'of', 'a', 'sense', 'of', 'humor', ',', 'I', 'find', 'her', 'available', ',', 'competent', 'and', 'caring', '.', 'When', 'my', 'primary', 'physician', 'could', 'not', 'resolve', 'the', 'problem', ',', 'she', 'help', 'me', 'avoid', 'surgery', 'for', 'intestinal', 'blockage', 'by', 'provide', 'me', 'with', 'a', 'free', 'medication', 'sample', 'that', 'do', 'the', 'job', '.', 'Then', 'she', 'follow', 'by', 'phone', 'to', 'make', 'sure', 'that', 'I', 'be', 'okay', ';', 'subsequently', 'do', 'a', 'colonoscopy', 'to', 'see', 'if', 'she', 'could', 'find', 'a', 'physical', 'cause', 'for', 'the', 'blockage', '.', 'If', 'you', 'want', 'a', 'physician', 'who', 'handle', 'all', 'of', 'the', 'personal', 'contact', 'with', 'her', 'patient', ',', 'Dr.', 'Merlo', 'be', 'the', 'one', 'to', 'see', '.'], ['take', 'my', 'daughter', 'for', 'problem', ',', 'never', 'examine', 'her', ',', 'uninterested', 'in', 'report', 'from', 'refer', 'doctor', '.', 'As', 'far', 'a', 'the', 'breathlizer', 'test', '.', 'do', \"n't\", 'understand', 'how', 'treating', 'problem', 'with', 'more', 'antibiotic', 'help', 'GI', 'problem', ',', '.', 'Absolutely', 'the', 'bad', 'doctor', 'experience', 'I', 'have', 'ever', 'have', '.']]\n"
     ]
    }
   ],
   "source": [
    "print(review['lemmatize_word'][0][:3])"
   ]
  },
  {
   "cell_type": "code",
   "execution_count": 281,
   "metadata": {},
   "outputs": [
    {
     "name": "stdout",
     "output_type": "stream",
     "text": [
      "caring\n",
      "care\n"
     ]
    }
   ],
   "source": [
    "word = 'caring'\n",
    "print(lemmatizer.lemmatize(word))\n",
    "print(lemmatizer.lemmatize(word,'v'))"
   ]
  },
  {
   "cell_type": "markdown",
   "metadata": {},
   "source": [
    "## Remove stop words and combine tokens from all comments on a doctor"
   ]
  },
  {
   "cell_type": "code",
   "execution_count": 282,
   "metadata": {},
   "outputs": [],
   "source": [
    "from nltk.corpus import stopwords\n",
    "stopwords_verbs = ['say', 'get', 'go', 'know', 'may', 'need', 'like', 'make', 'see', 'want', 'come', 'take', 'use', 'would', 'can']\n",
    "stopwords_other = ['one', 'Dr.', 'Doctor', 'doctor','bbc', 'image', 'getty', 'de', 'en', 'caption', 'also', 'copyright', 'something']\n",
    "my_stopwords = stopwords.words('English') + stopwords_verbs + stopwords_other"
   ]
  },
  {
   "cell_type": "code",
   "execution_count": 284,
   "metadata": {},
   "outputs": [],
   "source": [
    "from itertools import chain"
   ]
  },
  {
   "cell_type": "code",
   "execution_count": 285,
   "metadata": {},
   "outputs": [],
   "source": [
    "review['tokens'] = review['lemmatize_word'].map(lambda x: list(chain.from_iterable(x)))"
   ]
  },
  {
   "cell_type": "code",
   "execution_count": 286,
   "metadata": {},
   "outputs": [],
   "source": [
    "review['tokens'] = review['tokens'].map(lambda x: [i.lower() for i in x if i.isalpha() and i.lower() not in my_stopwords and len(i) >1])"
   ]
  },
  {
   "cell_type": "code",
   "execution_count": 287,
   "metadata": {
    "scrolled": false
   },
   "outputs": [
    {
     "name": "stdout",
     "output_type": "stream",
     "text": [
      "['satisfactory', 'recommend', 'coldness', 'solo', 'helpfulness', 'limit', 'office', 'staff', 'isolation', 'diagnosis', 'solo', 'although', 'merlo', 'appear', 'office', 'staff', 'much', 'sense', 'humor', 'find']\n"
     ]
    }
   ],
   "source": [
    "print(review['tokens'][0][:20])"
   ]
  },
  {
   "cell_type": "markdown",
   "metadata": {},
   "source": [
    "### Prepare bi-grams and tri-grams¶\n",
    "Bigrams are two words frequently occurring together in the document. Trigrams are 3 words frequently occurring.\n",
    "\n",
    "reference: https://www.machinelearningplus.com/nlp/topic-modeling-gensim-python/"
   ]
  },
  {
   "cell_type": "code",
   "execution_count": 288,
   "metadata": {},
   "outputs": [],
   "source": [
    "# Gensim\n",
    "import gensim\n",
    "import gensim.corpora as corpora\n",
    "from gensim.utils import simple_preprocess\n",
    "from gensim.models import CoherenceModel"
   ]
  },
  {
   "cell_type": "code",
   "execution_count": 289,
   "metadata": {},
   "outputs": [],
   "source": [
    "tokens = review['tokens'].tolist()"
   ]
  },
  {
   "cell_type": "code",
   "execution_count": 290,
   "metadata": {},
   "outputs": [],
   "source": [
    "bigram = gensim.models.Phrases(tokens)\n",
    "trigram = gensim.models.Phrases(bigram[tokens], min_count = 1) "
   ]
  },
  {
   "cell_type": "code",
   "execution_count": 291,
   "metadata": {},
   "outputs": [],
   "source": [
    "tokens = list(trigram[bigram[tokens]])"
   ]
  },
  {
   "cell_type": "markdown",
   "metadata": {},
   "source": [
    "### Create the Dictionary and Corpus needed for Topic Modeling"
   ]
  },
  {
   "cell_type": "code",
   "execution_count": 292,
   "metadata": {},
   "outputs": [],
   "source": [
    "# Create Dictionary\n",
    "dictionary_lda = corpora.Dictionary(tokens)\n",
    "dictionary_lda.filter_extremes(no_below=3)"
   ]
  },
  {
   "cell_type": "code",
   "execution_count": 293,
   "metadata": {},
   "outputs": [],
   "source": [
    "# Term Document Frequency\n",
    "corpus = [dictionary_lda.doc2bow(token) for token in tokens]"
   ]
  },
  {
   "cell_type": "code",
   "execution_count": 294,
   "metadata": {
    "scrolled": false
   },
   "outputs": [
    {
     "data": {
      "text/plain": [
       "[[('absolutely', 1), ('absorb', 1), ('act', 3), ('agree', 1), ('allow', 2), ('although', 1), ('another', 2), ('answer_phone', 1), ('antibiotic', 1), ('anymore', 1), ('anything', 1), ('appear', 1), ('appointment', 1), ('arrogant', 1), ('arrogant_rude', 2), ('ask', 1), ('asked', 1), ('assessment', 1), ('assistant', 1), ('available', 1), ('avoid', 1), ('awful', 1), ('back', 1), ('bacterial_overgrowth', 1), ('bad', 1), ('bad_experience_ever', 1), ('bad_mood', 1), ('basically', 1), ('bed_side_manner', 1), ('bedside_manner', 1), ('believe', 1), ('bill_insurance_company', 1), ('blame', 1), ('blockage', 1), ('blood_test', 2), ('bluntly_tell', 1), ('breath', 1), ('brief_explanation', 1), ('butt', 1), ('ca', 1), ('call', 4), ('call_back', 1), ('care', 1), ('career', 1), ('caring', 1), ('cause_blockage', 1), ('closer_live', 1), ('cold', 1), ('coldness', 1), ('competent', 2), ('complaint', 1), ('conclude', 1), ('contact', 1), ('contagious', 1), ('copay', 1), ('copays', 1), ('could', 2), ('country', 1), ('curt', 1), ('customer', 1), ('daughter', 1), ('deal', 1), ('deserve', 1), ('design', 1), ('diagnose', 1), ('diagnosis', 2), ('digestive_system', 2), ('disappointed', 1), ('discourage', 1), ('dislike', 1), ('dr', 1), ('due', 1), ('emotional', 1), ('evaluate', 1), ('even_though', 1), ('ever', 2), ('examine', 2), ('express', 1), ('far', 1), ('feel', 2), ('file_insurance', 1), ('find', 3), ('first', 2), ('fix', 1), ('follow', 1), ('food', 1), ('food_eat', 1), ('found', 1), ('free', 1), ('gastroenterologist', 2), ('gastrointestinal_problem', 1), ('gi', 1), ('gi_problem', 1), ('good', 4), ('great', 1), ('handle', 1), ('healthcare', 1), ('hear', 1), ('hello', 1), ('help', 2), ('helpfulness', 1), ('herd_cattle', 1), ('highly_trained', 1), ('hope', 1), ('hung', 1), ('hurry', 1), ('husband', 1), ('idiot', 1), ('illness', 1), ('immediate', 1), ('indeed', 1), ('inform', 1), ('initially', 1), ('insurance', 1), ('insurance_company', 1), ('intelligent', 1), ('intestinal', 1), ('isolation', 1), ('job', 1), ('last_year', 1), ('later', 1), ('later_confirm', 1), ('latter', 1), ('least_invasive', 1), ('leave', 2), ('lecture', 1), ('life', 1), ('life_threaten_illness', 1), ('limit', 1), ('line', 1), ('lot', 1), ('many', 1), ('many_people', 2), ('marie', 1), ('md', 1), ('measure', 1), ('med', 1), ('medication_sample', 1), ('might', 1), ('money', 1), ('move', 1), ('much', 1), ('nastily', 1), ('never', 3), ('nutrient', 1), ('nutritional', 2), ('object', 1), ('offer', 1), ('office', 6), ('partner', 3), ('patient', 4), ('perform_endoscopy_colonoscopy', 1), ('person', 1), ('personal', 2), ('personality', 1), ('phone', 1), ('physical', 1), ('physician', 1), ('pick_phone', 1), ('please_please', 1), ('possess', 1), ('possible', 1), ('practically_yell', 1), ('practice', 1), ('primary', 1), ('primary_physician', 1), ('problem', 5), ('procedure', 1), ('proceed', 1), ('professional', 1), ('properly', 1), ('prove', 1), ('provide', 2), ('provide_information', 1), ('question', 1), ('quick', 1), ('read_post', 1), ('really', 1), ('reason', 1), ('receipt', 2), ('recommend', 1), ('refer', 1), ('refer_anyone', 1), ('refuse', 2), ('regard', 1), ('release', 1), ('report', 1), ('resolve_problem', 1), ('respond', 1), ('return', 2), ('room', 1), ('rude', 2), ('rude_arrogant', 1), ('rude_disrespectful', 1), ('rude_hang_phone', 1), ('satisfactory', 1), ('saw_twice', 1), ('schedule_appts', 1), ('scope', 1), ('secretary', 1), ('seem', 2), ('seem_eager', 1), ('sense_humor', 1), ('several_year_ago', 1), ('simply', 1), ('solo', 2), ('source_problem', 1), ('speak', 1), ('staff', 4), ('state', 1), ('stick', 1), ('suppose', 1), ('sure_okay', 1), ('surgery', 1), ('tell', 4), ('test', 4), ('three', 1), ('throat', 1), ('time', 5), ('today', 1), ('traditional', 1), ('treat', 5), ('treat_accordingly', 1), ('treating', 1), ('treatment', 1), ('try', 1), ('two', 1), ('underlying', 1), ('understand', 1), ('unfortunately', 1), ('unhappy', 1), ('uninterested', 1), ('unprofessional', 1), ('upper_endoscopy', 1), ('useless', 1), ('verify', 1), ('visit', 1), ('warn', 1), ('way', 4), ('well', 2), ('wife', 1), ('without', 1), ('wo', 2), ('woman', 1), ('wrong', 1), ('yes', 2), ('yesterday', 1)]]"
      ]
     },
     "execution_count": 294,
     "metadata": {},
     "output_type": "execute_result"
    }
   ],
   "source": [
    "# Human readable format of corpus (term-frequency)\n",
    "[[(dictionary_lda[id], freq) for id, freq in cp] for cp in corpus[:1]]"
   ]
  },
  {
   "cell_type": "markdown",
   "metadata": {},
   "source": [
    "### Building the Topic Model"
   ]
  },
  {
   "cell_type": "code",
   "execution_count": 295,
   "metadata": {},
   "outputs": [],
   "source": [
    "import numpy as np"
   ]
  },
  {
   "cell_type": "code",
   "execution_count": 296,
   "metadata": {},
   "outputs": [],
   "source": [
    "# Build LDA model\n",
    "np.random.seed(123456)\n",
    "lda_model = gensim.models.ldamodel.LdaModel(corpus,num_topics = 10, id2word = dictionary_lda, passes = 6, alpha='auto',eta=[0.01]*len(dictionary_lda.keys()))"
   ]
  },
  {
   "cell_type": "code",
   "execution_count": 297,
   "metadata": {},
   "outputs": [
    {
     "name": "stdout",
     "output_type": "stream",
     "text": [
      "[(0,\n",
      "  '0.057*\"good\" + 0.028*\"superb\" + 0.027*\"bedside_manner\" + '\n",
      "  '0.024*\"bed_side_manner\" + 0.018*\"nice_person\" + 0.017*\"cardiology\" + '\n",
      "  '0.016*\"welcome\" + 0.015*\"straight_forward\" + 0.013*\"accomodating\" + '\n",
      "  '0.012*\"explanation\"'),\n",
      " (1,\n",
      "  '0.049*\"doc\" + 0.029*\"visit_felt\" + 0.021*\"great\" + '\n",
      "  '0.021*\"family_friend_felt\" + 0.021*\"treat_absolutely_recommend\" + '\n",
      "  '0.015*\"guy\" + 0.012*\"visit_amazing_success_overall\" + '\n",
      "  '0.012*\"rate_visit_outstanding\" + 0.012*\"kaiser\" + 0.012*\"dr\"'),\n",
      " (2,\n",
      "  '0.011*\"excellant\" + 0.010*\"best_internist\" + 0.010*\"root_problem\" + '\n",
      "  '0.009*\"jones\" + 0.008*\"new_york\" + 0.008*\"hall\" + 0.008*\"johnson\" + '\n",
      "  '0.008*\"dialysis\" + 0.008*\"mayo_clinic\" + 0.008*\"pacemaker\"'),\n",
      " (3,\n",
      "  '0.099*\"time\" + 0.047*\"always\" + 0.035*\"wait\" + 0.029*\"patient\" + '\n",
      "  '0.023*\"appointment\" + 0.017*\"long\" + 0.017*\"sometimes\" + 0.016*\"rush\" + '\n",
      "  '0.015*\"busy\" + 0.011*\"usually\"'),\n",
      " (4,\n",
      "  '0.024*\"tell\" + 0.020*\"hospital\" + 0.018*\"procedure\" + 0.015*\"pain\" + '\n",
      "  '0.014*\"husband\" + 0.014*\"surgery\" + 0.012*\"could\" + 0.011*\"test\" + '\n",
      "  '0.010*\"another\" + 0.010*\"day\"'),\n",
      " (5,\n",
      "  '0.045*\"patient\" + 0.042*\"care\" + 0.025*\"great\" + 0.025*\"time\" + '\n",
      "  '0.021*\"good\" + 0.021*\"knowledgeable\" + 0.019*\"best\" + 0.018*\"always\" + '\n",
      "  '0.016*\"staff\" + 0.016*\"excellent\"'),\n",
      " (6,\n",
      "  '0.058*\"office\" + 0.045*\"staff\" + 0.028*\"call\" + 0.024*\"time\" + '\n",
      "  '0.021*\"appointment\" + 0.020*\"never\" + 0.016*\"wait\" + 0.012*\"patient\" + '\n",
      "  '0.011*\"rude\" + 0.011*\"day\"'),\n",
      " (7,\n",
      "  '0.033*\"patient\" + 0.013*\"care\" + 0.012*\"medical\" + 0.010*\"practice\" + '\n",
      "  '0.007*\"physician\" + 0.007*\"health\" + 0.006*\"experience\" + 0.005*\"treatment\" '\n",
      "  '+ 0.005*\"many\" + 0.005*\"good\"'),\n",
      " (8,\n",
      "  '0.080*\"mother\" + 0.072*\"cancer\" + 0.046*\"father\" + 0.041*\"mom\" + '\n",
      "  '0.030*\"treat\" + 0.024*\"life\" + 0.024*\"dad\" + 0.023*\"oncologist\" + '\n",
      "  '0.023*\"hospital\" + 0.022*\"treatment\"'),\n",
      " (9,\n",
      "  '0.018*\"tell\" + 0.011*\"ask\" + 0.011*\"find\" + 0.011*\"give\" + 0.011*\"think\" + '\n",
      "  '0.011*\"time\" + 0.011*\"seem\" + 0.010*\"help\" + 0.009*\"could\" + 0.009*\"never\"')]\n"
     ]
    }
   ],
   "source": [
    "# Print the Keyword in the 10 topics\n",
    "from pprint import pprint\n",
    "pprint(lda_model.print_topics())"
   ]
  },
  {
   "cell_type": "markdown",
   "metadata": {},
   "source": [
    "How to interpret this?\n",
    "\n",
    "Topic 0 is a represented as '0.131*\"doc\" + 0.091*\"good\" + 0.070*\"great\" + 0.042*\"guy\" + 0.019*\"love\" + '\n",
    "  '0.017*\"thing\" + 0.015*\"spend_lot_time\" + 0.015*\"bedside_manner\" + 0.015*\"dr\" + 0.014*\"bed_side_manner\".\n",
    "\n",
    "It means the top 10 keywords that contribute to this topic are: ‘doc’, ‘good’, ‘great’.. and so on and the weight of ‘good’ on topic 0 is 0.091.\n",
    "\n",
    "The weights reflect how important a keyword is to that topic."
   ]
  },
  {
   "cell_type": "code",
   "execution_count": 298,
   "metadata": {},
   "outputs": [],
   "source": [
    "doc_lda = lda_model[corpus]"
   ]
  },
  {
   "cell_type": "code",
   "execution_count": 299,
   "metadata": {},
   "outputs": [
    {
     "data": {
      "text/plain": [
       "[(2, 0.11726697), (4, 0.1462447), (5, 0.35925862), (6, 0.17528212), (7, 0.04050715), (9, 0.14263338)]"
      ]
     },
     "execution_count": 299,
     "metadata": {},
     "output_type": "execute_result"
    }
   ],
   "source": [
    "lda_model[corpus[5]]"
   ]
  },
  {
   "cell_type": "code",
   "execution_count": 300,
   "metadata": {},
   "outputs": [
    {
     "data": {
      "text/plain": [
       "[(70, 1), (94, 1), (150, 1), (218, 1), (257, 1), (363, 1), (450, 1), (464, 1), (467, 1), (468, 1), (469, 1), (470, 2), (471, 1), (472, 1), (473, 1), (474, 1), (475, 1), (476, 1), (477, 1), (478, 1), (479, 1)]"
      ]
     },
     "execution_count": 300,
     "metadata": {},
     "output_type": "execute_result"
    }
   ],
   "source": [
    "corpus[5]"
   ]
  },
  {
   "cell_type": "code",
   "execution_count": 301,
   "metadata": {},
   "outputs": [
    {
     "data": {
      "text/plain": [
       "[('dr', 1), ('great', 1), ('patient', 1), ('time', 1), ('best', 1), ('change', 1), ('work', 1), ('heart', 1), ('anesthetic', 1), ('around', 1), ('begin', 1), ('give', 2), ('longer', 1), ('operate', 1), ('passion', 1), ('save_husband_life', 1), ('spend', 1), ('walk', 1), ('wealth_knowledge', 1), ('widow', 1), ('year_ago', 1)]"
      ]
     },
     "execution_count": 301,
     "metadata": {},
     "output_type": "execute_result"
    }
   ],
   "source": [
    "[(dictionary_lda[x], y) for x, y in corpus[5]]"
   ]
  },
  {
   "cell_type": "code",
   "execution_count": 302,
   "metadata": {},
   "outputs": [
    {
     "data": {
      "text/plain": [
       "[\"I no longer use this doctor he doesn't have time to spend with patients I changed Dr's. \", ' Begin operating on me before I was given the anesthetic, will not use again. ', \" One of the best heart doctor's around. He saved my husbands life. If not for him i would have been a widow 7 years ago. He has given us 7 years we would not have had and we just had our 54th anniversary because of Dr. Kamran. \", ' A walking wealth of knowledge and works with great passion. ']"
      ]
     },
     "execution_count": 302,
     "metadata": {},
     "output_type": "execute_result"
    }
   ],
   "source": [
    "review['sentence'][5]"
   ]
  },
  {
   "cell_type": "markdown",
   "metadata": {},
   "source": [
    "### Visualize the topics-keywords\n"
   ]
  },
  {
   "cell_type": "code",
   "execution_count": 303,
   "metadata": {},
   "outputs": [],
   "source": [
    "# Plotting tools\n",
    "import pyLDAvis\n",
    "import pyLDAvis.gensim  # don't skip this\n",
    "import matplotlib.pyplot as plt\n",
    "%matplotlib inline"
   ]
  },
  {
   "cell_type": "code",
   "execution_count": 304,
   "metadata": {},
   "outputs": [
    {
     "name": "stderr",
     "output_type": "stream",
     "text": [
      "//anaconda3/lib/python3.7/site-packages/pyLDAvis/_prepare.py:257: FutureWarning: Sorting because non-concatenation axis is not aligned. A future version\n",
      "of pandas will change to not sort by default.\n",
      "\n",
      "To accept the future behavior, pass 'sort=False'.\n",
      "\n",
      "To retain the current behavior and silence the warning, pass 'sort=True'.\n",
      "\n",
      "  return pd.concat([default_term_info] + list(topic_dfs))\n"
     ]
    },
    {
     "data": {
      "text/html": [
       "\n",
       "<link rel=\"stylesheet\" type=\"text/css\" href=\"https://cdn.rawgit.com/bmabey/pyLDAvis/files/ldavis.v1.0.0.css\">\n",
       "\n",
       "\n",
       "<div id=\"ldavis_el275945536208600470441868\"></div>\n",
       "<script type=\"text/javascript\">\n",
       "\n",
       "var ldavis_el275945536208600470441868_data = {\"mdsDat\": {\"x\": [-0.10933206992878665, -0.19861544055254915, -0.1880253737560895, -0.14625934514491443, -0.142124847575263, -0.12213002165503661, 0.0911779358322051, 0.3131094799483367, 0.18550784213954102, 0.3166918406925567], \"y\": [-0.03545296940601668, 0.03978434797382723, 0.0853992762025987, 9.710020110839726e-05, -0.0005562461928725955, 0.09513628490506428, -0.2887716618520959, 0.28664608494773547, -0.19775506577809046, 0.015472848998741925], \"topics\": [1, 2, 3, 4, 5, 6, 7, 8, 9, 10], \"cluster\": [1, 1, 1, 1, 1, 1, 1, 1, 1, 1], \"Freq\": [30.458778381347656, 24.3878116607666, 19.489543914794922, 12.075790405273438, 6.312495231628418, 3.6359429359436035, 1.456787109375, 0.7763485908508301, 0.7603987455368042, 0.6461122632026672]}, \"tinfo\": {\"Category\": [\"Default\", \"Default\", \"Default\", \"Default\", \"Default\", \"Default\", \"Default\", \"Default\", \"Default\", \"Default\", \"Default\", \"Default\", \"Default\", \"Default\", \"Default\", \"Default\", \"Default\", \"Default\", \"Default\", \"Default\", \"Default\", \"Default\", \"Default\", \"Default\", \"Default\", \"Default\", \"Default\", \"Default\", \"Default\", \"Default\", \"Topic1\", \"Topic1\", \"Topic1\", \"Topic1\", \"Topic1\", \"Topic1\", \"Topic1\", \"Topic1\", \"Topic1\", \"Topic1\", \"Topic1\", \"Topic1\", \"Topic1\", \"Topic1\", \"Topic1\", \"Topic1\", \"Topic1\", \"Topic1\", \"Topic1\", \"Topic1\", \"Topic1\", \"Topic1\", \"Topic1\", \"Topic1\", \"Topic1\", \"Topic1\", \"Topic1\", \"Topic1\", \"Topic1\", \"Topic1\", \"Topic1\", \"Topic1\", \"Topic1\", \"Topic1\", \"Topic1\", \"Topic1\", \"Topic1\", \"Topic1\", \"Topic1\", \"Topic1\", \"Topic1\", \"Topic1\", \"Topic1\", \"Topic1\", \"Topic1\", \"Topic1\", \"Topic1\", \"Topic1\", \"Topic1\", \"Topic1\", \"Topic1\", \"Topic1\", \"Topic1\", \"Topic1\", \"Topic1\", \"Topic1\", \"Topic1\", \"Topic1\", \"Topic1\", \"Topic1\", \"Topic1\", \"Topic1\", \"Topic1\", \"Topic1\", \"Topic1\", \"Topic1\", \"Topic1\", \"Topic1\", \"Topic1\", \"Topic1\", \"Topic1\", \"Topic1\", \"Topic1\", \"Topic1\", \"Topic1\", \"Topic1\", \"Topic1\", \"Topic1\", \"Topic1\", \"Topic1\", \"Topic2\", \"Topic2\", \"Topic2\", \"Topic2\", \"Topic2\", \"Topic2\", \"Topic2\", \"Topic2\", \"Topic2\", \"Topic2\", \"Topic2\", \"Topic2\", \"Topic2\", \"Topic2\", \"Topic2\", \"Topic2\", \"Topic2\", \"Topic2\", \"Topic2\", \"Topic2\", \"Topic2\", \"Topic2\", \"Topic2\", \"Topic2\", \"Topic2\", \"Topic2\", \"Topic2\", \"Topic2\", \"Topic2\", \"Topic2\", \"Topic2\", \"Topic2\", \"Topic2\", \"Topic2\", \"Topic2\", \"Topic2\", \"Topic2\", \"Topic2\", \"Topic2\", \"Topic2\", \"Topic2\", \"Topic2\", \"Topic2\", \"Topic2\", \"Topic2\", \"Topic2\", \"Topic2\", \"Topic2\", \"Topic2\", \"Topic2\", \"Topic2\", \"Topic2\", \"Topic2\", \"Topic2\", \"Topic2\", \"Topic2\", \"Topic2\", \"Topic2\", \"Topic2\", \"Topic2\", \"Topic2\", \"Topic2\", \"Topic2\", \"Topic2\", \"Topic2\", \"Topic2\", \"Topic2\", \"Topic2\", \"Topic2\", \"Topic2\", \"Topic2\", \"Topic2\", \"Topic2\", \"Topic2\", \"Topic2\", \"Topic2\", \"Topic2\", \"Topic2\", \"Topic2\", \"Topic2\", \"Topic2\", \"Topic2\", \"Topic2\", \"Topic2\", \"Topic2\", \"Topic3\", \"Topic3\", \"Topic3\", \"Topic3\", \"Topic3\", \"Topic3\", \"Topic3\", \"Topic3\", \"Topic3\", \"Topic3\", \"Topic3\", \"Topic3\", \"Topic3\", \"Topic3\", \"Topic3\", \"Topic3\", \"Topic3\", \"Topic3\", \"Topic3\", \"Topic3\", \"Topic3\", \"Topic3\", \"Topic3\", \"Topic3\", \"Topic3\", \"Topic3\", \"Topic3\", \"Topic3\", \"Topic3\", \"Topic3\", \"Topic3\", \"Topic3\", \"Topic3\", \"Topic3\", \"Topic3\", \"Topic3\", \"Topic3\", \"Topic3\", \"Topic3\", \"Topic3\", \"Topic3\", \"Topic3\", \"Topic3\", \"Topic3\", \"Topic3\", \"Topic3\", \"Topic3\", \"Topic3\", \"Topic3\", \"Topic3\", \"Topic3\", \"Topic3\", \"Topic3\", \"Topic3\", \"Topic3\", \"Topic3\", \"Topic3\", \"Topic3\", \"Topic3\", \"Topic3\", \"Topic3\", \"Topic3\", \"Topic3\", \"Topic3\", \"Topic3\", \"Topic3\", \"Topic3\", \"Topic3\", \"Topic3\", \"Topic3\", \"Topic3\", \"Topic3\", \"Topic3\", \"Topic3\", \"Topic3\", \"Topic3\", \"Topic3\", \"Topic3\", \"Topic3\", \"Topic3\", \"Topic4\", \"Topic4\", \"Topic4\", \"Topic4\", \"Topic4\", \"Topic4\", \"Topic4\", \"Topic4\", \"Topic4\", \"Topic4\", \"Topic4\", \"Topic4\", \"Topic4\", \"Topic4\", \"Topic4\", \"Topic4\", \"Topic4\", \"Topic4\", \"Topic4\", \"Topic4\", \"Topic4\", \"Topic4\", \"Topic4\", \"Topic4\", \"Topic4\", \"Topic4\", \"Topic4\", \"Topic4\", \"Topic4\", \"Topic4\", \"Topic4\", \"Topic4\", \"Topic4\", \"Topic4\", \"Topic4\", \"Topic4\", \"Topic4\", \"Topic4\", \"Topic4\", \"Topic4\", \"Topic4\", \"Topic4\", \"Topic4\", \"Topic4\", \"Topic4\", \"Topic4\", \"Topic4\", \"Topic4\", \"Topic4\", \"Topic4\", \"Topic4\", \"Topic4\", \"Topic4\", \"Topic4\", \"Topic4\", \"Topic4\", \"Topic4\", \"Topic4\", \"Topic4\", \"Topic4\", \"Topic4\", \"Topic4\", \"Topic4\", \"Topic4\", \"Topic4\", \"Topic4\", \"Topic4\", \"Topic4\", \"Topic4\", \"Topic4\", \"Topic4\", \"Topic4\", \"Topic4\", \"Topic4\", \"Topic4\", \"Topic4\", \"Topic4\", \"Topic4\", \"Topic4\", \"Topic4\", \"Topic4\", \"Topic4\", \"Topic4\", \"Topic4\", \"Topic4\", \"Topic4\", \"Topic4\", \"Topic4\", \"Topic4\", \"Topic4\", \"Topic4\", \"Topic4\", \"Topic4\", \"Topic4\", \"Topic5\", \"Topic5\", \"Topic5\", \"Topic5\", \"Topic5\", \"Topic5\", \"Topic5\", \"Topic5\", \"Topic5\", \"Topic5\", \"Topic5\", \"Topic5\", \"Topic5\", \"Topic5\", \"Topic5\", \"Topic5\", \"Topic5\", \"Topic5\", \"Topic5\", \"Topic5\", \"Topic5\", \"Topic5\", \"Topic5\", \"Topic5\", \"Topic5\", \"Topic5\", \"Topic5\", \"Topic5\", \"Topic5\", \"Topic5\", \"Topic5\", \"Topic5\", \"Topic5\", \"Topic5\", \"Topic5\", \"Topic5\", \"Topic5\", \"Topic5\", \"Topic5\", \"Topic5\", \"Topic5\", \"Topic5\", \"Topic5\", \"Topic5\", \"Topic5\", \"Topic5\", \"Topic5\", \"Topic5\", \"Topic5\", \"Topic5\", \"Topic5\", \"Topic5\", \"Topic5\", \"Topic5\", \"Topic5\", \"Topic5\", \"Topic5\", \"Topic5\", \"Topic5\", \"Topic5\", \"Topic5\", \"Topic5\", \"Topic5\", \"Topic5\", \"Topic5\", \"Topic5\", \"Topic5\", \"Topic5\", \"Topic5\", \"Topic5\", \"Topic5\", \"Topic5\", \"Topic5\", \"Topic6\", \"Topic6\", \"Topic6\", \"Topic6\", \"Topic6\", \"Topic6\", \"Topic6\", \"Topic6\", \"Topic6\", \"Topic6\", \"Topic6\", \"Topic6\", \"Topic6\", \"Topic6\", \"Topic6\", \"Topic6\", \"Topic6\", \"Topic6\", \"Topic6\", \"Topic6\", \"Topic6\", \"Topic6\", \"Topic6\", \"Topic6\", \"Topic6\", \"Topic6\", \"Topic6\", \"Topic6\", \"Topic6\", \"Topic6\", \"Topic6\", \"Topic6\", \"Topic6\", \"Topic6\", \"Topic6\", \"Topic6\", \"Topic6\", \"Topic6\", \"Topic6\", \"Topic6\", \"Topic6\", \"Topic6\", \"Topic6\", \"Topic6\", \"Topic6\", \"Topic6\", \"Topic6\", \"Topic6\", \"Topic6\", \"Topic6\", \"Topic6\", \"Topic6\", \"Topic6\", \"Topic6\", \"Topic6\", \"Topic6\", \"Topic6\", \"Topic6\", \"Topic6\", \"Topic6\", \"Topic6\", \"Topic6\", \"Topic6\", \"Topic6\", \"Topic6\", \"Topic6\", \"Topic6\", \"Topic6\", \"Topic6\", \"Topic6\", \"Topic6\", \"Topic7\", \"Topic7\", \"Topic7\", \"Topic7\", \"Topic7\", \"Topic7\", \"Topic7\", \"Topic7\", \"Topic7\", \"Topic7\", \"Topic7\", \"Topic7\", \"Topic7\", \"Topic7\", \"Topic7\", \"Topic7\", \"Topic7\", \"Topic7\", \"Topic7\", \"Topic7\", \"Topic7\", \"Topic7\", \"Topic7\", \"Topic7\", \"Topic7\", \"Topic7\", \"Topic7\", \"Topic7\", \"Topic7\", \"Topic7\", \"Topic7\", \"Topic7\", \"Topic7\", \"Topic7\", \"Topic7\", \"Topic7\", \"Topic7\", \"Topic7\", \"Topic7\", \"Topic7\", \"Topic7\", \"Topic7\", \"Topic7\", \"Topic7\", \"Topic7\", \"Topic7\", \"Topic7\", \"Topic7\", \"Topic7\", \"Topic7\", \"Topic7\", \"Topic7\", \"Topic7\", \"Topic7\", \"Topic7\", \"Topic7\", \"Topic8\", \"Topic8\", \"Topic8\", \"Topic8\", \"Topic8\", \"Topic8\", \"Topic8\", \"Topic8\", \"Topic8\", \"Topic8\", \"Topic8\", \"Topic8\", \"Topic8\", \"Topic8\", \"Topic8\", \"Topic8\", \"Topic8\", \"Topic8\", \"Topic8\", \"Topic8\", \"Topic8\", \"Topic8\", \"Topic8\", \"Topic8\", \"Topic8\", \"Topic8\", \"Topic8\", \"Topic8\", \"Topic8\", \"Topic8\", \"Topic8\", \"Topic8\", \"Topic8\", \"Topic8\", \"Topic8\", \"Topic8\", \"Topic8\", \"Topic8\", \"Topic9\", \"Topic9\", \"Topic9\", \"Topic9\", \"Topic9\", \"Topic9\", \"Topic9\", \"Topic9\", \"Topic9\", \"Topic9\", \"Topic9\", \"Topic9\", \"Topic9\", \"Topic9\", \"Topic9\", \"Topic9\", \"Topic9\", \"Topic9\", \"Topic9\", \"Topic9\", \"Topic9\", \"Topic9\", \"Topic9\", \"Topic9\", \"Topic9\", \"Topic9\", \"Topic9\", \"Topic9\", \"Topic9\", \"Topic9\", \"Topic9\", \"Topic9\", \"Topic9\", \"Topic9\", \"Topic9\", \"Topic9\", \"Topic9\", \"Topic9\", \"Topic9\", \"Topic9\", \"Topic9\", \"Topic9\", \"Topic9\", \"Topic9\", \"Topic9\", \"Topic9\", \"Topic9\", \"Topic10\", \"Topic10\", \"Topic10\", \"Topic10\", \"Topic10\", \"Topic10\", \"Topic10\", \"Topic10\", \"Topic10\", \"Topic10\", \"Topic10\", \"Topic10\", \"Topic10\", \"Topic10\", \"Topic10\", \"Topic10\", \"Topic10\", \"Topic10\", \"Topic10\", \"Topic10\", \"Topic10\", \"Topic10\", \"Topic10\", \"Topic10\", \"Topic10\", \"Topic10\", \"Topic10\", \"Topic10\", \"Topic10\", \"Topic10\", \"Topic10\", \"Topic10\", \"Topic10\", \"Topic10\", \"Topic10\", \"Topic10\", \"Topic10\", \"Topic10\", \"Topic10\", \"Topic10\", \"Topic10\", \"Topic10\", \"Topic10\", \"Topic10\", \"Topic10\"], \"Freq\": [27361.0, 14903.0, 11692.0, 12055.0, 18026.0, 31686.0, 20114.0, 6195.0, 8569.0, 6407.0, 7693.0, 22073.0, 10566.0, 2935.0, 8757.0, 5023.0, 2548.0, 3667.0, 10334.0, 9226.0, 6791.0, 3044.0, 1725.0, 2885.0, 1489.0, 8971.0, 2288.0, 5066.0, 5505.0, 4558.0, 732.53955078125, 517.7863159179688, 408.01483154296875, 863.4034423828125, 302.6557312011719, 238.20602416992188, 244.17027282714844, 396.49298095703125, 204.71922302246094, 194.8065643310547, 177.98495483398438, 169.24893188476562, 181.26121520996094, 175.09689331054688, 156.3001251220703, 152.96481323242188, 214.89682006835938, 157.5330810546875, 157.11082458496094, 145.22879028320312, 206.1827392578125, 295.4765625, 828.6637573242188, 145.92990112304688, 136.43505859375, 135.29637145996094, 148.78860473632812, 281.0511474609375, 4554.7099609375, 115.24871826171875, 6778.37060546875, 3846.46630859375, 2753.78125, 4992.79150390625, 1976.419677734375, 5398.02587890625, 1026.8861083984375, 1310.87353515625, 8348.8251953125, 1026.246826171875, 659.1983642578125, 1277.2630615234375, 572.0648193359375, 514.8638305664062, 8901.6552734375, 436.764892578125, 958.7939453125, 504.0767517089844, 3038.209716796875, 1341.74755859375, 4204.76611328125, 822.1222534179688, 874.9065551757812, 10845.2822265625, 822.2214965820312, 3977.67333984375, 18222.14453125, 6650.97216796875, 1369.885498046875, 3499.009521484375, 5580.65087890625, 2428.4052734375, 19348.822265625, 1082.4920654296875, 7788.529296875, 9249.8076171875, 4912.12451171875, 6006.9140625, 2697.48681640625, 5143.845703125, 6232.42236328125, 2750.59912109375, 5608.5390625, 10751.9912109375, 2782.991455078125, 6916.3466796875, 2929.794189453125, 3899.822021484375, 3270.7431640625, 3059.8974609375, 670.7125854492188, 603.838623046875, 780.467529296875, 362.2683410644531, 261.7905578613281, 204.6659698486328, 182.0253448486328, 162.01136779785156, 163.0023651123047, 152.9150390625, 147.3789520263672, 136.39785766601562, 130.828369140625, 125.67652130126953, 259.20208740234375, 114.47037506103516, 107.34478759765625, 106.85884857177734, 105.27214813232422, 102.54911804199219, 100.61082458496094, 97.93370819091797, 98.85966491699219, 95.70368957519531, 93.66014862060547, 91.27094268798828, 90.12493133544922, 93.15667724609375, 87.00853729248047, 81.8056869506836, 346.4646301269531, 395.21234130859375, 94.35446166992188, 143.1777801513672, 2376.25048828125, 218.62539672851562, 196.75575256347656, 144.15365600585938, 218.15330505371094, 808.4132080078125, 441.439453125, 2264.758056640625, 1385.4842529296875, 569.9896240234375, 673.9808959960938, 446.6463928222656, 1250.9232177734375, 548.5475463867188, 1905.6251220703125, 742.9671630859375, 3940.50048828125, 1500.379150390625, 2821.58447265625, 2557.656982421875, 3848.40380859375, 6180.89794921875, 541.3714599609375, 506.122314453125, 3644.92431640625, 2928.134521484375, 2887.123779296875, 726.9547729492188, 618.4580688476562, 3889.858154296875, 3590.200439453125, 2098.3330078125, 2114.540283203125, 1635.9571533203125, 3150.800537109375, 2514.53076171875, 3903.804443359375, 2751.580810546875, 2756.505859375, 1989.1722412109375, 2936.901611328125, 2078.72412109375, 2478.7900390625, 2036.9932861328125, 1511.8770751953125, 2998.75146484375, 2281.134765625, 3810.748779296875, 2407.0732421875, 2146.25390625, 1976.021240234375, 354.0135192871094, 311.5200500488281, 304.3415832519531, 269.8570861816406, 269.6761779785156, 255.64007568359375, 221.75701904296875, 406.9452209472656, 164.9227752685547, 790.0242309570312, 151.2900390625, 140.89669799804688, 133.59542846679688, 129.10861206054688, 116.86021423339844, 115.02507781982422, 114.88074493408203, 347.2650146484375, 110.9232177734375, 112.156005859375, 109.36703491210938, 108.86164093017578, 143.78240966796875, 95.84911346435547, 95.15399169921875, 91.36190032958984, 87.77523803710938, 201.8101348876953, 85.30592346191406, 149.41531372070312, 1514.6031494140625, 854.2376098632812, 1453.578857421875, 285.1451721191406, 252.69729614257812, 195.9546661376953, 16101.447265625, 7856.7841796875, 2014.7266845703125, 956.7011108398438, 290.40081787109375, 237.28636169433594, 209.13783264160156, 5885.8544921875, 859.012939453125, 3183.15576171875, 12596.255859375, 1217.8946533203125, 4316.63232421875, 389.3442077636719, 3008.937255859375, 481.3450622558594, 828.6239624023438, 2458.37109375, 1113.94970703125, 5551.74658203125, 1076.57568359375, 540.64892578125, 1795.3123779296875, 1238.7847900390625, 531.9222412109375, 1140.281005859375, 1338.0931396484375, 586.782470703125, 1776.3614501953125, 6674.400390625, 2554.63232421875, 2570.60107421875, 2021.80712890625, 941.4183959960938, 1380.5035400390625, 2175.226806640625, 3235.134765625, 1500.9588623046875, 1329.7552490234375, 1264.267333984375, 1702.529296875, 1555.495849609375, 1283.8807373046875, 1271.2393798828125, 127.06282043457031, 117.16006469726562, 116.8818588256836, 107.17264556884766, 107.1939697265625, 98.16967010498047, 96.23287963867188, 94.32624053955078, 93.4724349975586, 92.31541442871094, 92.25911712646484, 101.74956512451172, 112.3819808959961, 86.99422454833984, 86.55695343017578, 85.49322509765625, 84.53817749023438, 83.59872436523438, 80.6777572631836, 92.3287582397461, 79.41123962402344, 76.48027038574219, 75.90312194824219, 74.18456268310547, 74.11405944824219, 71.87300872802734, 71.23021697998047, 70.56127166748047, 70.08108520507812, 69.62289428710938, 124.39225006103516, 126.09930419921875, 131.2163848876953, 205.3783721923828, 75.77040100097656, 96.7418441772461, 132.01580810546875, 82.765625, 166.47805786132812, 521.2445068359375, 94.99006652832031, 255.73448181152344, 144.48138427734375, 221.9423828125, 2030.14892578125, 269.8506164550781, 112.36334991455078, 226.71824645996094, 1790.431396484375, 317.0025329589844, 279.11810302734375, 558.9895629882812, 450.4300537109375, 158.3218994140625, 294.5545349121094, 277.87841796875, 594.9627685546875, 464.4935302734375, 533.7077026367188, 681.9099731445312, 208.20538330078125, 5627.6015625, 387.4474182128906, 231.80654907226562, 442.01361083984375, 501.5254821777344, 393.5399169921875, 1141.3389892578125, 988.02099609375, 256.9482727050781, 543.301025390625, 626.7465209960938, 670.8941650390625, 1247.5810546875, 2303.838134765625, 893.4528198242188, 927.6080932617188, 452.4466857910156, 674.377685546875, 495.8962097167969, 678.6453857421875, 673.01953125, 517.9644775390625, 752.0071411132812, 753.4715576171875, 804.7460327148438, 600.34765625, 592.3840942382812, 586.417724609375, 662.7942504882812, 570.7186889648438, 549.7247924804688, 528.0306396484375, 529.0807495117188, 796.9968872070312, 373.5316467285156, 231.21620178222656, 192.88455200195312, 186.4359893798828, 185.96925354003906, 173.46031188964844, 146.0803680419922, 129.370849609375, 139.33523559570312, 122.52438354492188, 114.73060607910156, 108.04857635498047, 98.77104187011719, 92.7740478515625, 89.07061767578125, 86.71891021728516, 80.60420989990234, 74.49588775634766, 73.53514862060547, 73.32770538330078, 71.02820587158203, 70.40467834472656, 67.33208465576172, 64.35469818115234, 61.988731384277344, 61.18666458129883, 61.048980712890625, 60.46923828125, 58.95109176635742, 1238.129150390625, 126.03596496582031, 63.6326904296875, 81.61884307861328, 120.87022399902344, 651.92431640625, 505.9399719238281, 1656.3453369140625, 121.83220672607422, 276.4197692871094, 193.90628051757812, 280.34271240234375, 373.102294921875, 210.1448211669922, 1822.065185546875, 1322.867919921875, 276.9935302734375, 674.0648193359375, 1282.2601318359375, 300.8352355957031, 364.76971435546875, 2151.2265625, 324.6666259765625, 572.4150390625, 632.3934936523438, 999.134521484375, 706.5142822265625, 928.3631591796875, 936.5541381835938, 1033.944580078125, 845.5513305664062, 587.2268676757812, 511.05999755859375, 775.5421142578125, 517.0575561523438, 655.67236328125, 671.5068359375, 613.5951538085938, 589.3811645507812, 534.4672241210938, 450.87091064453125, 398.639892578125, 392.3157653808594, 130.59828186035156, 110.0873794555664, 103.08922576904297, 107.47418975830078, 101.88897705078125, 81.48900604248047, 79.98377990722656, 69.63093566894531, 69.2447280883789, 69.16426086425781, 68.91023254394531, 66.5665283203125, 65.34492492675781, 63.22136306762695, 63.02335739135742, 62.958824157714844, 61.442161560058594, 57.90199279785156, 57.693546295166016, 56.82468032836914, 56.207679748535156, 56.122318267822266, 53.176734924316406, 52.5087776184082, 51.72916030883789, 72.92383575439453, 50.19701385498047, 50.11534881591797, 48.75429916381836, 48.501277923583984, 370.6749267578125, 98.17224884033203, 96.74568939208984, 138.08885192871094, 111.71442413330078, 874.407958984375, 544.76123046875, 120.86493682861328, 85.05543518066406, 777.7890014648438, 95.450927734375, 1827.1158447265625, 891.4473266601562, 5100.84423828125, 302.7183837890625, 834.9451904296875, 322.614013671875, 2438.90771484375, 133.30108642578125, 449.11273193359375, 1191.6485595703125, 112.6147689819336, 345.2901611328125, 298.7412109375, 1487.4735107421875, 286.5520935058594, 242.14266967773438, 180.14739990234375, 253.45962524414062, 437.8006286621094, 398.6092224121094, 435.052490234375, 488.93670654296875, 287.4583435058594, 309.50396728515625, 365.0887145996094, 276.53912353515625, 365.9375915527344, 350.5566101074219, 267.4710693359375, 259.5957946777344, 843.8870849609375, 476.55877685546875, 201.47665405273438, 186.6876983642578, 136.41831970214844, 100.29444885253906, 96.91487121582031, 83.12208557128906, 67.4810562133789, 67.41852569580078, 66.86782836914062, 63.2230339050293, 61.818023681640625, 61.200016021728516, 59.101524353027344, 57.7283935546875, 57.69202423095703, 57.186832427978516, 56.64468765258789, 56.215660095214844, 55.3838996887207, 55.08500289916992, 54.238224029541016, 53.94437026977539, 51.06673049926758, 49.829856872558594, 48.33198928833008, 47.86976623535156, 47.193336486816406, 47.02796173095703, 1484.01708984375, 947.9574584960938, 487.8432312011719, 1660.0447998046875, 165.54759216308594, 88.21757507324219, 128.62496948242188, 78.45262145996094, 253.1975555419922, 495.6897277832031, 89.13849639892578, 466.277099609375, 613.70166015625, 436.17071533203125, 330.0979309082031, 462.527099609375, 219.30718994140625, 110.0853271484375, 145.6474609375, 144.16305541992188, 276.6496276855469, 119.5708999633789, 101.50167083740234, 101.41211700439453, 107.46815490722656, 101.003662109375, 112.95964050292969, 96.44195556640625, 92.036865234375, 91.2263412475586, 89.38227081298828, 87.21056365966797, 85.14412689208984, 84.16793823242188, 82.49723815917969, 68.62608337402344, 73.96064758300781, 65.7741928100586, 61.230289459228516, 121.6830825805664, 59.758155822753906, 58.71614074707031, 57.635066986083984, 55.926979064941406, 54.962440490722656, 53.43406295776367, 52.74427032470703, 53.48528289794922, 52.19179153442383, 51.63294219970703, 50.88430404663086, 50.85597610473633, 49.95921325683594, 49.10120391845703, 48.557762145996094, 47.37663650512695, 78.46903228759766, 76.18309020996094, 105.37523651123047, 87.19062805175781, 62.87020492553711, 73.7815933227539, 73.37869262695312, 54.557064056396484, 316.163330078125, 228.55628967285156, 228.55628967285156, 133.89501953125, 133.45191955566406, 100.36323547363281, 128.6639404296875, 89.24545288085938, 82.28662109375, 79.5868911743164, 77.43797302246094, 73.15379333496094, 71.43991088867188, 61.50300979614258, 61.452239990234375, 59.25138854980469, 51.612300872802734, 51.322845458984375, 50.8050422668457, 46.1182746887207, 45.70661926269531, 43.52506637573242, 41.127567291259766, 40.87546920776367, 40.168373107910156, 38.367733001708984, 36.71959686279297, 36.177059173583984, 36.14080047607422, 35.53654861450195, 89.60413360595703, 62.818267822265625, 98.79563903808594, 73.44815063476562, 529.238525390625, 61.72026824951172, 59.24867248535156, 68.14408874511719, 157.56288146972656, 229.8385009765625, 61.97563552856445, 122.20654296875, 128.42373657226562, 67.66976928710938, 103.58856964111328, 92.40626525878906, 89.12995910644531, 258.4501953125, 157.9926300048828, 151.0817108154297, 122.197509765625, 112.11750793457031, 105.04381561279297, 100.85157012939453, 71.86470794677734, 69.33502197265625, 68.25162506103516, 65.35332489013672, 63.54094696044922, 61.899375915527344, 61.392425537109375, 58.72700881958008, 54.36893081665039, 52.70045471191406, 50.42195510864258, 50.383548736572266, 49.64581298828125, 49.40773010253906, 49.14546203613281, 48.662635803222656, 47.406009674072266, 47.11447525024414, 46.64275360107422, 46.485862731933594, 46.02455139160156, 45.27627944946289, 43.472633361816406, 62.31189727783203, 112.54288482666016, 136.19940185546875, 55.297080993652344, 224.79205322265625, 164.4352569580078, 72.25411987304688, 77.99359893798828, 91.14598083496094, 58.40976333618164, 66.70182037353516, 78.77854919433594, 520.9005126953125, 247.84811401367188, 113.0953369140625], \"Term\": [\"time\", \"good\", \"great\", \"always\", \"office\", \"patient\", \"staff\", \"wait\", \"best\", \"treat\", \"appointment\", \"care\", \"tell\", \"doc\", \"call\", \"treatment\", \"bedside_manner\", \"family\", \"dr\", \"knowledgeable\", \"excellent\", \"hospital\", \"mother\", \"love\", \"cancer\", \"listen\", \"life\", \"wonderful\", \"thorough\", \"caring\", \"great_bedside_manner\", \"thoughtful\", \"excellent_bedside_manner\", \"fantastic\", \"empathetic\", \"wonderful_bedside_manner\", \"kind_compassionate\", \"highly_recommend_anyone\", \"great_listener\", \"cares\", \"pleasure\", \"compasionate\", \"good_sense_humor\", \"took_time\", \"ca_enough_good\", \"great_personality\", \"entire_family\", \"genuinely_care_patient\", \"fortunate\", \"takes_time_listen\", \"caring_compassionate\", \"recommend_everyone\", \"extremely_knowledgeable\", \"answers_question\", \"willing_answer_question\", \"outstanding_physician\", \"recommend_friend_family\", \"knowlegeable\", \"caring\", \"simply_best\", \"excellent\", \"highly_recommend\", \"compassionate\", \"wonderful\", \"personable\", \"thorough\", \"amazing\", \"best_ever\", \"best\", \"understanding\", \"explain_everything\", \"listens\", \"truly_care\", \"recommend_highly\", \"knowledgeable\", \"earth\", \"intelligent\", \"kind_caring\", \"knowledgable\", \"attentive\", \"kind\", \"easy_talk\", \"outstanding\", \"great\", \"feel_comfortable\", \"professional\", \"care\", \"helpful\", \"smart\", \"friendly\", \"physician\", \"love\", \"patient\", \"truly\", \"always\", \"good\", \"really\", \"listen\", \"answer_question\", \"well\", \"dr\", \"family\", \"year\", \"time\", \"nice\", \"staff\", \"ever\", \"find\", \"help\", \"problem\", \"thyroid\", \"endocrinologist\", \"diabetes\", \"diabetic\", \"ra\", \"lose_weight\", \"thyroid_problem\", \"endo\", \"depression\", \"overweight\", \"recomend\", \"thyroid_cancer\", \"hypothyroidism\", \"stupid\", \"fibromyalgia\", \"supplement\", \"blood_sugar\", \"thyroid_issue\", \"insulin\", \"rough\", \"show_concern\", \"ear\", \"discount\", \"endocrinology\", \"everyday\", \"feedback\", \"frustrated\", \"hormone\", \"getting\", \"explain_situation\", \"weight\", \"rheumatologist\", \"syndrome\", \"dose\", \"symptom\", \"arthritis\", \"exercise\", \"waste_time_money\", \"lupus\", \"prescribe\", \"didnt\", \"medication\", \"med\", \"waste_time\", \"drug\", \"body\", \"ask_question\", \"idea\", \"felt\", \"read\", \"ask\", \"anything\", \"try\", \"look\", \"think\", \"tell\", \"cold\", \"blood_test\", \"seem\", \"test\", \"amp\", \"disease\", \"type\", \"give\", \"help\", \"thing\", \"first\", \"saw\", \"could\", \"back\", \"find\", \"feel\", \"even\", \"much\", \"problem\", \"talk\", \"treat\", \"another\", \"condition\", \"never\", \"visit\", \"time\", \"listen\", \"year\", \"good\", \"message\", \"office_manager\", \"paperwork\", \"answer_phone\", \"leave_message\", \"fax\", \"reschedule\", \"schedule_appointment\", \"front_office\", \"wait_hour\", \"rude_unprofessional\", \"prescription_refill\", \"waiting_time\", \"front_desk_staff\", \"dirty\", \"cancel_appointment\", \"unacceptable\", \"front_desk\", \"able_diagnose\", \"lunch\", \"hire\", \"disorganized\", \"medical_assistant\", \"blood_test_result\", \"dread\", \"unorganized\", \"pm\", \"hang\", \"disorganize\", \"employee\", \"call_back\", \"receptionist\", \"phone\", \"billing\", \"pharmacy\", \"np\", \"office\", \"call\", \"hour\", \"unprofessional\", \"refill\", \"secretary\", \"girl\", \"appointment\", \"return_call\", \"rude\", \"staff\", \"appt\", \"wait\", \"arrive\", \"day\", \"phone_call\", \"horrible\", \"nurse\", \"schedule\", \"never\", \"pay\", \"bill\", \"result\", \"minute\", \"pa\", \"week\", \"however\", \"charge\", \"leave\", \"time\", \"visit\", \"even\", \"back\", \"speak\", \"bad\", \"tell\", \"patient\", \"another\", \"new\", \"people\", \"good\", \"dr\", \"ask\", \"could\", \"course_treatment\", \"set_appointment\", \"arrogance\", \"investigate\", \"among\", \"patel\", \"judgemental\", \"acid_reflux\", \"general_practitioner\", \"arrogant_rude\", \"shah\", \"inappropriate\", \"oncology\", \"long_term\", \"county\", \"excellent_listener\", \"guidance\", \"chang\", \"grandfather\", \"source\", \"background\", \"fever\", \"gain\", \"examining_room\", \"upbeat\", \"knowledge_base\", \"amy\", \"icu\", \"air\", \"cold_uncaring\", \"style\", \"view\", \"balance\", \"action\", \"depth\", \"devote\", \"comprehensive\", \"professionally\", \"practice_medicine\", \"lack\", \"consistent\", \"relationship\", \"quality_life\", \"deserve\", \"medical\", \"seek\", \"us\", \"standard\", \"practice\", \"general\", \"despite\", \"become\", \"allow\", \"critical\", \"consult\", \"perhaps\", \"case\", \"arrogant\", \"poor\", \"provide\", \"encourage\", \"patient\", \"appear\", \"lead\", \"regard\", \"fact\", \"include\", \"health\", \"experience\", \"interest\", \"opinion\", \"believe\", \"knowledge\", \"physician\", \"care\", \"many\", \"treatment\", \"often\", \"issue\", \"receive\", \"concern\", \"even\", \"condition\", \"find\", \"never\", \"good\", \"treat\", \"visit\", \"seem\", \"time\", \"well\", \"problem\", \"work\", \"year\", \"colonoscopy\", \"lung\", \"remove\", \"endoscopy\", \"stomach\", \"gastro\", \"send_home\", \"chest_pain\", \"stress_test\", \"tumor\", \"ibs\", \"severe_pain\", \"colon\", \"xray\", \"spend_enough\", \"pain_management\", \"aunt\", \"breast\", \"gallbladder\", \"cat_scan\", \"stent\", \"anderson\", \"iv\", \"scope\", \"stomach_pain\", \"august\", \"instruct\", \"spine\", \"tell_nothing_wrong\", \"breathing\", \"surgery\", \"chest\", \"needle\", \"brain\", \"pneumonia\", \"er\", \"surgeon\", \"procedure\", \"release\", \"heart_attack\", \"biopsy\", \"infection\", \"gi\", \"eat\", \"hospital\", \"pain\", \"next_day\", \"heart\", \"husband\", \"perform\", \"son\", \"tell\", \"suffer\", \"week\", \"month\", \"test\", \"saw\", \"day\", \"another\", \"could\", \"back\", \"still\", \"send\", \"call\", \"result\", \"problem\", \"never\", \"find\", \"dr\", \"give\", \"even\", \"year\", \"amp\", \"nice_man\", \"run_behind\", \"reddy\", \"conscientious\", \"feel_rushed\", \"past_appointment\", \"well_worth_wait\", \"little_long\", \"crisis\", \"downside\", \"speciality\", \"personal_attention\", \"john\", \"thomas\", \"paul\", \"cool\", \"treat_whole_person\", \"prepare_wait\", \"stomach_problem\", \"little_late\", \"message_leave\", \"solid\", \"life_saver\", \"comforting\", \"concern_address\", \"wait_worth\", \"exceptional_physician\", \"good_amount_time\", \"bring_book\", \"listen_concern_answer_question\", \"worth_wait\", \"complicated\", \"mind_wait\", \"well_worth\", \"never_wait_long\", \"sometimes\", \"usually\", \"amount_time\", \"kind_gentle\", \"busy\", \"explain_thing_well\", \"wait\", \"long\", \"time\", \"wait_long\", \"rush\", \"long_wait\", \"always\", \"run_late\", \"late\", \"appointment\", \"helpfull\", \"spend\", \"often\", \"patient\", \"although\", \"worth\", \"waiting_room\", \"though\", \"feel\", \"seem\", \"listen\", \"good\", \"every\", \"talk\", \"year\", \"answer_question\", \"never\", \"office\", \"really\", \"staff\", \"mom\", \"oncologist\", \"chemo\", \"lyme\", \"lyme_disease\", \"minute_late\", \"medicaid\", \"proud\", \"round\", \"keep_alive\", \"recomend_anyone\", \"surgical\", \"encouraging\", \"table\", \"pass_away\", \"firm\", \"exhibit\", \"ray\", \"genius\", \"chemotherapy\", \"mediocre\", \"scale\", \"almost_kill\", \"transplant\", \"talented\", \"gray\", \"bad_part\", \"determination\", \"incompetence\", \"alive_today\", \"cancer\", \"father\", \"dad\", \"mother\", \"brother\", \"remission\", \"recommend_family_friend\", \"passionate\", \"die\", \"life\", \"kidney\", \"hospital\", \"treat\", \"family\", \"man\", \"treatment\", \"save_life\", \"god\", \"family_member\", \"live\", \"patient\", \"disease\", \"compassion\", \"hope\", \"care\", \"people\", \"best_internist\", \"jones\", \"new_york\", \"hall\", \"johnson\", \"dialysis\", \"pacemaker\", \"five_minute\", \"explain_everything_detail\", \"phone_number\", \"save_husband_life\", \"steroid\", \"excessive\", \"excellant\", \"give_full_attention\", \"boston\", \"app\", \"angiogram\", \"hug\", \"weiss\", \"highly_recomend\", \"primary_care_doc\", \"suggest_anyone\", \"yearly_physical\", \"ct\", \"rapport\", \"michael\", \"memorial_hospital\", \"disposition\", \"spend_plenty_time\", \"thank_much\", \"extremely_competent\", \"root_problem\", \"mayo_clinic\", \"pursue\", \"lovely\", \"small\", \"office_clean\", \"visit_felt\", \"family_friend_felt\", \"treat_absolutely_recommend\", \"visit_amazing_success_overall\", \"rate_visit_outstanding\", \"visit_big_rate\", \"kaiser\", \"old_school\", \"visit_outstanding\", \"works\", \"shield\", \"kim\", \"insurance_blue_cross_blue\", \"anyone_look\", \"highly_reccomend\", \"friendly_efficient\", \"rude_abrupt\", \"lee\", \"kidney_disease\", \"red\", \"brooklyn\", \"versus\", \"care_deeply_patient\", \"louis\", \"everywhere\", \"every_step_way\", \"brilliant_diagnostician\", \"people_ever_meet\", \"lake\", \"dr_shah\", \"nephrologist\", \"makes_feel\", \"highly_recommended\", \"feel_important\", \"doc\", \"park\", \"diligent\", \"kind_understanding\", \"guy\", \"great\", \"going\", \"love\", \"dr\", \"bed_side_manner\", \"staff\", \"best\", \"good\", \"superb\", \"cardiology\", \"welcome\", \"accomodating\", \"miller\", \"davis\", \"combination\", \"harris\", \"king\", \"always_willing_listen\", \"knowledable\", \"highly_reccommend\", \"pompous\", \"modern\", \"wonderful_human\", \"docter\", \"teh\", \"intervention\", \"wonderfully\", \"cared\", \"spent_lot_time\", \"frank\", \"much_appreciate\", \"america\", \"feel_stupid\", \"billing_department\", \"leukemia\", \"undivided_attention\", \"patent\", \"answer_email\", \"well_educate\", \"resident\", \"straight_forward\", \"christian\", \"bed_side_manner\", \"nice_person\", \"truely\", \"bedside\", \"normally\", \"return_call_promptly\", \"wellness\", \"knows\", \"good\", \"bedside_manner\", \"explanation\"], \"Total\": [27361.0, 14903.0, 11692.0, 12055.0, 18026.0, 31686.0, 20114.0, 6195.0, 8569.0, 6407.0, 7693.0, 22073.0, 10566.0, 2935.0, 8757.0, 5023.0, 2548.0, 3667.0, 10334.0, 9226.0, 6791.0, 3044.0, 1725.0, 2885.0, 1489.0, 8971.0, 2288.0, 5066.0, 5505.0, 4558.0, 732.6392822265625, 517.9054565429688, 408.1136474609375, 863.6442260742188, 302.75555419921875, 238.30616760253906, 244.27511596679688, 396.67437744140625, 204.8180389404297, 194.9054412841797, 178.0841064453125, 169.34774780273438, 181.369384765625, 175.20347595214844, 156.4003143310547, 153.06393432617188, 215.0391845703125, 157.63784790039062, 157.2169647216797, 145.32760620117188, 206.32574462890625, 295.6845703125, 829.2566528320312, 146.03515625, 136.53390502929688, 135.3981170654297, 148.9037628173828, 281.2798767089844, 4558.4248046875, 115.3475341796875, 6791.107421875, 3855.1416015625, 2760.438720703125, 5066.21337890625, 1992.3104248046875, 5505.724609375, 1030.94580078125, 1320.1112060546875, 8569.736328125, 1032.6708984375, 660.4098510742188, 1288.26318359375, 573.9679565429688, 517.2432861328125, 9226.8115234375, 439.6145324707031, 973.4850463867188, 508.50518798828125, 3133.71875, 1375.672119140625, 4427.48876953125, 837.4168701171875, 892.6004638671875, 11692.4365234375, 839.8350219726562, 4287.13330078125, 22073.13671875, 7735.431640625, 1455.7080078125, 4072.108154296875, 6950.9501953125, 2885.903564453125, 31686.1796875, 1156.538818359375, 12055.0107421875, 14903.7060546875, 7022.2314453125, 8971.103515625, 3422.077880859375, 7833.90283203125, 10334.0087890625, 3667.948974609375, 9709.134765625, 27361.10546875, 4174.6103515625, 20114.318359375, 4594.119140625, 10377.0419921875, 7725.279296875, 8116.98974609375, 670.8110961914062, 603.937255859375, 780.7061767578125, 362.410888671875, 261.9249572753906, 204.77272033691406, 182.12396240234375, 162.1099853515625, 163.10174560546875, 153.01373291015625, 147.47756958007812, 136.49647521972656, 130.92698669433594, 125.77513122558594, 259.4128112792969, 114.57010650634766, 107.44338989257812, 106.95745086669922, 105.37078094482422, 102.64772033691406, 100.70942687988281, 98.0323257446289, 98.96022033691406, 95.80229187011719, 93.75875091552734, 91.36954498291016, 90.2235336303711, 93.25888061523438, 87.10713958740234, 81.90428924560547, 347.1686096191406, 397.9900207519531, 94.48104095458984, 144.64793395996094, 2568.140625, 223.34449768066406, 200.72703552246094, 145.6603546142578, 223.8072967529297, 871.1340942382812, 470.3666687011719, 2652.782958984375, 1585.6578369140625, 634.8973388671875, 773.0972900390625, 502.9556579589844, 1547.128662109375, 629.2142333984375, 2519.248046875, 889.2418212890625, 5884.287109375, 1989.739013671875, 4101.83203125, 3706.583251953125, 6056.63525390625, 10566.03515625, 649.7484741210938, 606.1359252929688, 6401.77880859375, 5117.8759765625, 5128.70654296875, 943.145751953125, 776.5828857421875, 8203.4990234375, 7725.279296875, 3837.34423828125, 3912.214599609375, 2780.43701171875, 6930.84375, 5442.27294921875, 10377.0419921875, 6481.65185546875, 6926.87451171875, 4319.294921875, 8116.98974609375, 4694.92138671875, 6407.1630859375, 4839.67578125, 2864.637451171875, 11389.0810546875, 6590.58251953125, 27361.10546875, 8971.103515625, 9709.134765625, 14903.7060546875, 354.1122131347656, 311.6189270019531, 304.4407043457031, 269.95574951171875, 269.77484130859375, 255.73883056640625, 221.85568237304688, 407.1767578125, 165.0214385986328, 790.5028686523438, 151.38877868652344, 140.99600219726562, 133.69444274902344, 129.207275390625, 116.95887756347656, 115.12372589111328, 114.97949981689453, 347.56549072265625, 111.02186584472656, 112.2560806274414, 109.46585845947266, 108.96028900146484, 143.9209442138672, 95.94776916503906, 95.25263977050781, 91.4605484008789, 87.87388610839844, 202.03802490234375, 85.40458679199219, 149.58932495117188, 1517.1307373046875, 855.4818725585938, 1479.1943359375, 287.0438232421875, 254.1853790283203, 196.71864318847656, 18026.8125, 8757.2138671875, 2238.30859375, 1036.234375, 300.511474609375, 244.09181213378906, 215.62258911132812, 7693.16162109375, 977.4070434570312, 4136.9404296875, 20114.318359375, 1501.9100341796875, 6195.85986328125, 431.24896240234375, 4741.55078125, 559.350341796875, 1073.5712890625, 3985.345703125, 1543.3365478515625, 11389.0810546875, 1541.9405517578125, 652.780029296875, 3028.46484375, 1943.0548095703125, 647.9646606445312, 1790.482666015625, 2248.439208984375, 742.7056884765625, 3543.987548828125, 27361.10546875, 6590.58251953125, 6926.87451171875, 5442.27294921875, 1630.349853515625, 3569.534912109375, 10566.03515625, 31686.1796875, 4839.67578125, 3813.123779296875, 3384.521484375, 14903.7060546875, 10334.0087890625, 5884.287109375, 6930.84375, 127.16136932373047, 117.25861358642578, 116.98040771484375, 107.27123260498047, 107.29338073730469, 98.26821899414062, 96.33142852783203, 94.42478942871094, 93.57098388671875, 92.41400146484375, 92.357666015625, 101.85999298095703, 112.50849151611328, 87.0927734375, 86.65550231933594, 85.5917739868164, 84.63765716552734, 83.69727325439453, 80.77630615234375, 92.44306182861328, 79.5097885131836, 76.5788803100586, 76.00169372558594, 74.28311157226562, 74.21273040771484, 71.9715576171875, 71.32876586914062, 70.65982055664062, 70.17964172363281, 69.72144317626953, 124.69148254394531, 126.47740936279297, 132.05010986328125, 209.87020874023438, 75.9227523803711, 97.42134857177734, 134.64756774902344, 83.26434326171875, 174.34619140625, 591.5244750976562, 96.47431182861328, 280.07720947265625, 151.60733032226562, 244.7722930908203, 3053.8515625, 314.9181213378906, 117.5787582397461, 280.8017578125, 3750.238525390625, 433.47210693359375, 371.4018859863281, 899.1771240234375, 706.612060546875, 185.47488403320312, 422.2466735839844, 392.5448303222656, 1085.765869140625, 796.86767578125, 982.07421875, 1385.748046875, 270.5845642089844, 31686.1796875, 684.4566650390625, 322.75628662109375, 852.2630004882812, 1064.369384765625, 744.6392822265625, 4300.63916015625, 3409.91015625, 393.9031066894531, 1363.484375, 1753.5377197265625, 2043.4759521484375, 6950.9501953125, 22073.13671875, 4444.16259765625, 5023.93896484375, 1138.8109130859375, 2809.679931640625, 1487.5301513671875, 4235.392578125, 6926.87451171875, 2864.637451171875, 10377.0419921875, 11389.0810546875, 14903.7060546875, 6407.1630859375, 6590.58251953125, 6401.77880859375, 27361.10546875, 7833.90283203125, 8116.98974609375, 5390.75927734375, 9709.134765625, 797.0957641601562, 373.6350402832031, 231.31564331054688, 192.9834747314453, 186.53492736816406, 186.07266235351562, 173.5592498779297, 146.17994689941406, 129.46978759765625, 139.44363403320312, 122.62330627441406, 114.82952880859375, 108.14749908447266, 98.8699722290039, 92.87297058105469, 89.1696548461914, 86.81783294677734, 80.70313262939453, 74.59481048583984, 73.63407135009766, 73.42662811279297, 71.12712860107422, 70.50360107421875, 67.4310073852539, 64.45362091064453, 62.087650299072266, 61.28558349609375, 61.14789962768555, 60.56815719604492, 59.050010681152344, 1241.9395751953125, 126.78535461425781, 63.748191833496094, 82.03781127929688, 123.51689147949219, 705.5336303710938, 542.73193359375, 1877.1619873046875, 124.62997436523438, 297.4033508300781, 207.25242614746094, 309.49932861328125, 443.17364501953125, 245.90025329589844, 3044.537109375, 2107.73828125, 386.5053405761719, 1306.4600830078125, 3283.72021484375, 463.655517578125, 617.1262817382812, 10566.03515625, 642.287109375, 1790.482666015625, 2163.291015625, 5117.8759765625, 2780.43701171875, 4741.55078125, 4839.67578125, 6930.84375, 5442.27294921875, 2715.757568359375, 2291.603759765625, 8757.2138671875, 3028.46484375, 8116.98974609375, 11389.0810546875, 10377.0419921875, 10334.0087890625, 8203.4990234375, 6926.87451171875, 9709.134765625, 5128.70654296875, 130.69778442382812, 110.18690490722656, 103.188720703125, 107.578369140625, 101.98847198486328, 81.5885009765625, 80.08328247070312, 69.73043060302734, 69.34422302246094, 69.2637710571289, 69.00972747802734, 66.66602325439453, 65.44441986083984, 63.320858001708984, 63.12285232543945, 63.058319091796875, 61.541656494140625, 58.001487731933594, 57.79304122924805, 56.9241828918457, 56.30717468261719, 56.2218132019043, 53.27622985839844, 52.608272552490234, 51.82865524291992, 73.06573486328125, 50.2965087890625, 50.2164306640625, 48.85379409790039, 48.600772857666016, 372.0476379394531, 98.71867370605469, 97.89439392089844, 146.85354614257812, 122.54487609863281, 1294.93701171875, 886.7869262695312, 143.51072692871094, 94.6885757446289, 1614.8154296875, 112.69369506835938, 6195.85986328125, 2389.2529296875, 27361.10546875, 558.1968994140625, 2485.817626953125, 642.0865478515625, 12055.0107421875, 196.25001525878906, 1420.164794921875, 7693.16162109375, 158.13328552246094, 1146.4512939453125, 1138.8109130859375, 31686.1796875, 1089.727783203125, 815.788818359375, 467.54986572265625, 1166.560302734375, 6481.65185546875, 6401.77880859375, 8971.103515625, 14903.7060546875, 2955.8955078125, 4694.92138671875, 9709.134765625, 3422.077880859375, 11389.0810546875, 18026.8125, 7022.2314453125, 20114.318359375, 843.9859619140625, 476.65765380859375, 201.5755157470703, 186.78656005859375, 136.51718139648438, 100.39330291748047, 97.01372528076172, 83.22093963623047, 67.57991027832031, 67.51737976074219, 66.96668243408203, 63.32188415527344, 61.91687774658203, 61.298866271972656, 59.200374603271484, 57.82724380493164, 57.79087448120117, 57.285682678222656, 56.74353790283203, 56.31451416015625, 55.482749938964844, 55.18385314941406, 54.337074279785156, 54.04322814941406, 51.16558074951172, 49.928707122802734, 48.43083953857422, 47.9686164855957, 47.29218673706055, 47.12681198120117, 1489.0570068359375, 956.0935668945312, 489.7054138183594, 1725.7926025390625, 177.33355712890625, 104.32868194580078, 178.8172607421875, 90.55113220214844, 541.2792358398438, 2288.448974609375, 128.19085693359375, 3044.537109375, 6407.1630859375, 3667.948974609375, 2100.63427734375, 5023.93896484375, 1263.948486328125, 258.5137023925781, 646.5458984375, 770.5213623046875, 31686.1796875, 943.145751953125, 624.26708984375, 955.4161376953125, 22073.13671875, 3384.521484375, 113.05716705322266, 96.5394515991211, 92.13436126708984, 91.32383728027344, 89.47976684570312, 87.30805969238281, 85.24162292480469, 84.26543426513672, 82.59473419189453, 68.72357940673828, 74.06755065917969, 65.87173461914062, 61.327781677246094, 121.88084411621094, 59.855648040771484, 58.81392288208008, 57.73256301879883, 56.02448654174805, 55.059932708740234, 53.53155517578125, 52.84176254272461, 53.58489990234375, 52.289283752441406, 51.73043441772461, 50.98179626464844, 50.95348358154297, 50.056705474853516, 49.19869613647461, 48.65525436401367, 47.47412872314453, 78.84700012207031, 84.7356185913086, 130.37802124023438, 104.26297760009766, 76.45796203613281, 110.6623306274414, 359.6108703613281, 85.098876953125, 316.2623596191406, 228.65533447265625, 228.65533447265625, 133.9940643310547, 133.55096435546875, 100.46227264404297, 128.79989624023438, 89.3445053100586, 82.38565826416016, 79.68592834472656, 77.5370101928711, 73.2529296875, 71.53894805908203, 61.602046966552734, 61.55127716064453, 59.350425720214844, 51.711334228515625, 51.421878814697266, 50.904075622558594, 46.217308044433594, 45.8056526184082, 43.62409973144531, 41.226905822753906, 40.97450256347656, 40.26740646362305, 38.466766357421875, 36.81891632080078, 36.276092529296875, 36.239837646484375, 35.635581970214844, 90.75421142578125, 67.3231201171875, 119.07173919677734, 96.79261779785156, 2935.5517578125, 85.03563690185547, 84.24280548095703, 111.35558319091797, 1414.6552734375, 11692.4365234375, 149.20785522460938, 2885.903564453125, 10334.0087890625, 327.40948486328125, 20114.318359375, 8569.736328125, 14903.7060546875, 258.5870361328125, 158.09286499023438, 151.1797637939453, 122.29548645019531, 112.21548461914062, 105.14179229736328, 100.94964599609375, 71.96268463134766, 69.43299865722656, 68.34970092773438, 65.45177459716797, 63.638919830322266, 61.99734878540039, 61.49039840698242, 58.824981689453125, 54.46690368652344, 52.79842758178711, 50.519927978515625, 50.48152542114258, 49.7437858581543, 49.50570297241211, 49.24343490600586, 48.7606086730957, 47.50398254394531, 47.21246337890625, 46.74073791503906, 46.58383560180664, 46.12252426147461, 45.37425231933594, 43.57060623168945, 62.504608154296875, 124.5680923461914, 156.10787963867188, 56.98016357421875, 327.40948486328125, 224.508544921875, 88.79866027832031, 99.78337097167969, 129.03399658203125, 67.47306823730469, 86.61526489257812, 133.9524383544922, 14903.7060546875, 2548.636474609375, 383.8393859863281], \"loglift\": [30.0, 29.0, 28.0, 27.0, 26.0, 25.0, 24.0, 23.0, 22.0, 21.0, 20.0, 19.0, 18.0, 17.0, 16.0, 15.0, 14.0, 13.0, 12.0, 11.0, 10.0, 9.0, 8.0, 7.0, 6.0, 5.0, 4.0, 3.0, 2.0, 1.0, 1.1886999607086182, 1.188599944114685, 1.188599944114685, 1.1885000467300415, 1.1885000467300415, 1.1884000301361084, 1.1884000301361084, 1.1883000135421753, 1.1883000135421753, 1.1883000135421753, 1.1881999969482422, 1.1881999969482422, 1.1881999969482422, 1.1881999969482422, 1.1881999969482422, 1.188099980354309, 1.188099980354309, 1.188099980354309, 1.188099980354309, 1.188099980354309, 1.188099980354309, 1.188099980354309, 1.188099980354309, 1.188099980354309, 1.188099980354309, 1.187999963760376, 1.187999963760376, 1.187999963760376, 1.187999963760376, 1.1878999471664429, 1.186900019645691, 1.1864999532699585, 1.186400055885315, 1.1742000579833984, 1.180799961090088, 1.1690000295639038, 1.1849000453948975, 1.1818000078201294, 1.1627000570297241, 1.1826000213623047, 1.187000036239624, 1.1801999807357788, 1.1855000257492065, 1.1842000484466553, 1.152899980545044, 1.1822999715805054, 1.1735999584197998, 1.1799999475479126, 1.1577999591827393, 1.1638000011444092, 1.1371999979019165, 1.1704000234603882, 1.1687999963760376, 1.1136000156402588, 1.1676000356674194, 1.1138999462127686, 0.9970999956130981, 1.0377000570297241, 1.128000020980835, 1.0370999574661255, 0.9692000150680542, 1.0161999464035034, 0.6955000162124634, 1.1225999593734741, 0.7519999742507935, 0.7117999792098999, 0.8313999772071838, 0.7876999974250793, 0.9509000182151794, 0.7681000232696533, 0.6830999851226807, 0.9010000228881836, 0.6399999856948853, 0.2547999918460846, 0.78329998254776, 0.12129999697208405, 0.7390000224113464, 0.210099995136261, 0.3292999863624573, 0.21320000290870667, 1.4108999967575073, 1.4108999967575073, 1.4107999801635742, 1.4106999635696411, 1.410599946975708, 1.410599946975708, 1.4105000495910645, 1.4105000495910645, 1.4105000495910645, 1.4104000329971313, 1.4104000329971313, 1.4104000329971313, 1.4103000164031982, 1.4103000164031982, 1.4103000164031982, 1.4101999998092651, 1.4101999998092651, 1.4101999998092651, 1.4101999998092651, 1.410099983215332, 1.410099983215332, 1.410099983215332, 1.410099983215332, 1.410099983215332, 1.409999966621399, 1.409999966621399, 1.409999966621399, 1.409999966621399, 1.409999966621399, 1.4098999500274658, 1.40910005569458, 1.404099941253662, 1.4097000360488892, 1.4009000062942505, 1.333400011062622, 1.3897000551223755, 1.3911000490188599, 1.4006999731063843, 1.3854999542236328, 1.336400032043457, 1.347599983215332, 1.2529000043869019, 1.2761000394821167, 1.3032000064849854, 1.273900032043457, 1.2924000024795532, 1.1986000537872314, 1.273900032043457, 1.1318999528884888, 1.2314000129699707, 1.01010000705719, 1.1288000345230103, 1.0369999408721924, 1.0400999784469604, 0.9575999975204468, 0.8748999834060669, 1.228600025177002, 1.2308000326156616, 0.8478000164031982, 0.8526999950408936, 0.8364999890327454, 1.1506999731063843, 1.18340003490448, 0.664900004863739, 0.6448000073432922, 0.8073999881744385, 0.795799970626831, 0.8806999921798706, 0.6227999925613403, 0.6389999985694885, 0.4334000051021576, 0.5543000102043152, 0.4896000027656555, 0.635699987411499, 0.3944999873638153, 0.5964000225067139, 0.46140000224113464, 0.5457000136375427, 0.7720000147819519, 0.07660000026226044, 0.35010001063346863, -0.5601999759674072, 0.09549999982118607, -0.09830000251531601, -0.6093999743461609, 1.6349999904632568, 1.6349999904632568, 1.6349999904632568, 1.6348999738693237, 1.6348999738693237, 1.6348999738693237, 1.6347999572753906, 1.6346999406814575, 1.6346999406814575, 1.6346999406814575, 1.634600043296814, 1.634600043296814, 1.634600043296814, 1.6345000267028809, 1.6344000101089478, 1.6344000101089478, 1.6344000101089478, 1.6344000101089478, 1.6344000101089478, 1.6344000101089478, 1.6344000101089478, 1.6344000101089478, 1.6342999935150146, 1.6342999935150146, 1.6342999935150146, 1.6341999769210815, 1.6341999769210815, 1.6341999769210815, 1.6340999603271484, 1.6340999603271484, 1.6335999965667725, 1.6338000297546387, 1.617799997329712, 1.6287000179290771, 1.6294000148773193, 1.6313999891281128, 1.5223000049591064, 1.5268000364303589, 1.5300999879837036, 1.555400013923645, 1.601099967956543, 1.6069999933242798, 1.6047999858856201, 1.3674999475479126, 1.5061999559402466, 1.3732000589370728, 1.1672999858856201, 1.4256999492645264, 1.273900032043457, 1.5331000089645386, 1.1805000305175781, 1.4851000308990479, 1.3762999773025513, 1.1521999835968018, 1.3092999458312988, 0.916700005531311, 1.2760000228881836, 1.4467999935150146, 1.1124000549316406, 1.1851999759674072, 1.437999963760376, 1.1841000318527222, 1.1162999868392944, 1.3996000289916992, 0.944599986076355, 0.22439999878406525, 0.6876000165939331, 0.6439999938011169, 0.6450999975204468, 1.0860999822616577, 0.6852999925613403, 0.05480000004172325, -0.6464999914169312, 0.4645000100135803, 0.5817999839782715, 0.650600016117096, -0.5342000126838684, -0.25839999318122864, 0.11289999634027481, -0.06069999933242798, 2.1131999492645264, 2.113100051879883, 2.113100051879883, 2.11299991607666, 2.11299991607666, 2.11299991607666, 2.1129000186920166, 2.1129000186920166, 2.1129000186920166, 2.1129000186920166, 2.1129000186920166, 2.1129000186920166, 2.112799882888794, 2.112799882888794, 2.112799882888794, 2.112799882888794, 2.112799882888794, 2.112799882888794, 2.1126999855041504, 2.1126999855041504, 2.1126999855041504, 2.1126999855041504, 2.1126999855041504, 2.112600088119507, 2.112600088119507, 2.112600088119507, 2.112600088119507, 2.112600088119507, 2.112600088119507, 2.112600088119507, 2.111599922180176, 2.1110000610351562, 2.107599973678589, 2.0922999382019043, 2.111999988555908, 2.1070001125335693, 2.0941998958587646, 2.1080000400543213, 2.0678000450134277, 1.9874999523162842, 2.0985000133514404, 2.0230000019073486, 2.0657999515533447, 2.0160999298095703, 1.7057000398635864, 1.9594999551773071, 2.0685999393463135, 1.899999976158142, 1.3746000528335571, 1.8009999990463257, 1.8282999992370605, 1.6385999917984009, 1.663699984550476, 1.9557000398635864, 1.7538000345230103, 1.7684999704360962, 1.5124000310897827, 1.5742000341415405, 1.50409996509552, 1.4048999547958374, 1.8518999814987183, 0.38580000400543213, 1.5448999404907227, 1.7829999923706055, 1.4573999643325806, 1.3615000247955322, 1.4763000011444092, 0.7874000072479248, 0.8751999735832214, 1.6866999864578247, 1.1937999725341797, 1.0851000547409058, 1.0002000331878662, 0.39629998803138733, -0.14579999446868896, 0.5097000002861023, 0.4246000051498413, 1.1908999681472778, 0.6869000196456909, 1.0154999494552612, 0.28279998898506165, -0.21739999949932098, 0.40369999408721924, -0.5105999708175659, -0.6018000245094299, -0.8048999905586243, -0.25369998812675476, -0.2953000068664551, -0.27630001306533813, -1.6064000129699707, -0.5054000020027161, -0.5782999992370605, -0.2092999964952469, -0.7957000136375427, 2.762500047683716, 2.762399911880493, 2.762200117111206, 2.7620999813079834, 2.7620999813079834, 2.7620999813079834, 2.7620999813079834, 2.76200008392334, 2.761899948120117, 2.761899948120117, 2.7618000507354736, 2.7618000507354736, 2.761699914932251, 2.7616000175476074, 2.7616000175476074, 2.7614998817443848, 2.7614998817443848, 2.761399984359741, 2.7613000869750977, 2.7613000869750977, 2.7613000869750977, 2.761199951171875, 2.761199951171875, 2.761199951171875, 2.7611000537872314, 2.760999917984009, 2.760999917984009, 2.760999917984009, 2.760999917984009, 2.760999917984009, 2.7595999240875244, 2.756700038909912, 2.7607998847961426, 2.757499933242798, 2.740999937057495, 2.6835999488830566, 2.6923999786376953, 2.637500047683716, 2.7399001121520996, 2.689500093460083, 2.6960999965667725, 2.6637001037597656, 2.5905001163482666, 2.6054999828338623, 2.249300003051758, 2.296799898147583, 2.429500102996826, 2.1008999347686768, 1.8222999572753906, 2.3301000595092773, 2.236799955368042, 1.1710000038146973, 2.080399990081787, 1.6223000288009644, 1.5327999591827393, 1.128999948501587, 1.3926000595092773, 1.1318999528884888, 1.1202000379562378, 0.8600000143051147, 0.9006999731063843, 1.2311999797821045, 1.2620999813079834, 0.3386000096797943, 0.9950000047683716, 0.24660000205039978, -0.0681999996304512, -0.06539999693632126, -0.1014999970793724, 0.031599998474121094, 0.030700000002980232, -0.4300999939441681, 0.19210000336170197, 3.313499927520752, 3.3134000301361084, 3.3132998943328857, 3.3132998943328857, 3.3132998943328857, 3.3131000995635986, 3.3131000995635986, 3.3129000663757324, 3.3129000663757324, 3.3129000663757324, 3.3129000663757324, 3.3127999305725098, 3.3127999305725098, 3.312700033187866, 3.312700033187866, 3.312700033187866, 3.312700033187866, 3.3125998973846436, 3.3125998973846436, 3.3125998973846436, 3.3125, 3.3125, 3.3124001026153564, 3.3124001026153564, 3.3124001026153564, 3.3124001026153564, 3.312299966812134, 3.312299966812134, 3.312299966812134, 3.312299966812134, 3.3106000423431396, 3.308799982070923, 3.302500009536743, 3.2527999877929688, 3.2218000888824463, 2.921600103378296, 2.8269999027252197, 3.1426000595092773, 3.2070000171661377, 2.5838000774383545, 3.148200035095215, 2.0931999683380127, 2.328399896621704, 1.634600043296814, 2.702399969100952, 2.223299980163574, 2.625999927520752, 1.7164000272750854, 2.927500009536743, 2.1630001068115234, 1.4493000507354736, 2.9748001098632812, 2.114300012588501, 1.976099967956543, 0.2554999887943268, 1.9785000085830688, 2.0996999740600586, 2.360599994659424, 1.7877000570297241, 0.6193000078201294, 0.5379999876022339, 0.2879999876022339, -0.10279999673366547, 0.9837999939918518, 0.5950000286102295, 0.03359999880194664, 0.7986999750137329, -0.12359999865293503, -0.6258000135421753, 0.04650000110268593, -1.0357999801635742, 4.228799819946289, 4.228700160980225, 4.228400230407715, 4.228400230407715, 4.2281999588012695, 4.228000164031982, 4.22790002822876, 4.227700233459473, 4.227499961853027, 4.227499961853027, 4.227499961853027, 4.227399826049805, 4.22730016708374, 4.22730016708374, 4.22730016708374, 4.227200031280518, 4.227200031280518, 4.227200031280518, 4.227200031280518, 4.227200031280518, 4.227200031280518, 4.227099895477295, 4.227099895477295, 4.227099895477295, 4.2270002365112305, 4.2270002365112305, 4.226900100708008, 4.226900100708008, 4.226799964904785, 4.226799964904785, 4.225500106811523, 4.220399856567383, 4.225100040435791, 4.190100193023682, 4.160200119018555, 4.061200141906738, 3.8994998931884766, 4.0854997634887695, 3.4691998958587646, 2.6993000507354736, 3.865600109100342, 2.35260009765625, 1.8832999467849731, 2.099600076675415, 2.3782999515533447, 1.8437000513076782, 2.477400064468384, 3.375200033187866, 2.7385001182556152, 2.552799940109253, -0.511900007724762, 2.163599967956543, 2.412400007247925, 1.9859999418258667, -1.0959999561309814, 0.7171000242233276, 4.857500076293945, 4.8572998046875, 4.8572998046875, 4.8572998046875, 4.8572001457214355, 4.8572001457214355, 4.8572001457214355, 4.8572001457214355, 4.857100009918213, 4.856900215148926, 4.856900215148926, 4.856800079345703, 4.8566999435424805, 4.8566999435424805, 4.8566999435424805, 4.8566999435424805, 4.856599807739258, 4.856599807739258, 4.856599807739258, 4.856500148773193, 4.856500148773193, 4.856500148773193, 4.856500148773193, 4.856400012969971, 4.856400012969971, 4.856400012969971, 4.856400012969971, 4.856299877166748, 4.856299877166748, 4.856299877166748, 4.853499889373779, 4.7519001960754395, 4.645400047302246, 4.679500102996826, 4.662700176239014, 4.452899932861328, 3.268899917602539, 4.41379976272583, 4.878799915313721, 4.878600120544434, 4.878600120544434, 4.878300189971924, 4.878300189971924, 4.8780999183654785, 4.877999782562256, 4.877999782562256, 4.877900123596191, 4.877799987792969, 4.877799987792969, 4.877699851989746, 4.877699851989746, 4.877500057220459, 4.877500057220459, 4.877399921417236, 4.877200126647949, 4.877200126647949, 4.877099990844727, 4.8769001960754395, 4.8769001960754395, 4.876800060272217, 4.876699924468994, 4.876699924468994, 4.8765997886657715, 4.876500129699707, 4.876399993896484, 4.876299858093262, 4.876299858093262, 4.876299858093262, 4.866300106048584, 4.809800148010254, 4.692399978637695, 4.603099822998047, 3.1658999919891357, 4.558599948883057, 4.527100086212158, 4.388000011444092, 2.684299945831299, 0.9498000144958496, 4.000500202178955, 1.7172000408172607, 0.4912000000476837, 3.302500009536743, -0.3896999955177307, 0.34929999709129333, -0.2401999980211258, 5.041399955749512, 5.041299819946289, 5.041299819946289, 5.041200160980225, 5.041100025177002, 5.040999889373779, 5.040999889373779, 5.040599822998047, 5.040500164031982, 5.040500164031982, 5.04040002822876, 5.04040002822876, 5.04040002822876, 5.04040002822876, 5.040299892425537, 5.040200233459473, 5.04010009765625, 5.039999961853027, 5.039999961853027, 5.039999961853027, 5.039999961853027, 5.039999961853027, 5.039899826049805, 5.039899826049805, 5.039899826049805, 5.039899826049805, 5.03980016708374, 5.03980016708374, 5.03980016708374, 5.039700031280518, 5.038899898529053, 4.940400123596191, 4.9054999351501465, 5.01200008392334, 4.665900230407715, 4.730599880218506, 4.8358001708984375, 4.795599937438965, 4.694300174713135, 4.89769983291626, 4.780700206756592, 4.511099815368652, 1.688099980354309, 2.7114999294281006, 3.819999933242798], \"logprob\": [30.0, 29.0, 28.0, 27.0, 26.0, 25.0, 24.0, 23.0, 22.0, 21.0, 20.0, 19.0, 18.0, 17.0, 16.0, 15.0, 14.0, 13.0, 12.0, 11.0, 10.0, 9.0, 8.0, 7.0, 6.0, 5.0, 4.0, 3.0, 2.0, 1.0, -6.381400108337402, -6.728300094604492, -6.966599941253662, -6.2170000076293945, -7.2652997970581055, -7.504799842834473, -7.480000019073486, -6.995200157165527, -7.656199932098389, -7.705900192260742, -7.796199798583984, -7.846499919891357, -7.777900218963623, -7.8125, -7.92609977722168, -7.947700023651123, -7.607699871063232, -7.918300151824951, -7.920899868011475, -7.999599933624268, -7.649099826812744, -7.289299964904785, -6.2581000328063965, -7.994800090789795, -8.062000274658203, -8.07040023803711, -7.975399971008301, -7.339399814605713, -4.553999900817871, -8.230799674987793, -4.156400203704834, -4.7230000495910645, -5.057199954986572, -4.462100028991699, -5.388800144195557, -4.384099960327148, -6.043600082397461, -5.7993998527526855, -3.947999954223633, -6.0441999435424805, -6.4868998527526855, -5.825399875640869, -6.628600120544434, -6.734000205993652, -3.8838999271392822, -6.898499965667725, -6.112199783325195, -6.755199909210205, -4.958899974822998, -5.776199817657471, -4.633900165557861, -6.265999794006348, -6.203800201416016, -3.6863999366760254, -6.265900135040283, -4.6894001960754395, -3.1675000190734863, -4.1753997802734375, -5.75540018081665, -4.817699909210205, -4.350800037384033, -5.1828999519348145, -3.1075000762939453, -5.990900039672852, -4.017499923706055, -3.8454999923706055, -4.478400230407715, -4.277200222015381, -5.0777997970581055, -4.432300090789795, -4.2403998374938965, -5.058300018310547, -4.345799922943115, -3.694999933242798, -5.046599864959717, -4.136199951171875, -4.995200157165527, -4.709199905395508, -4.8850998878479, -4.9517998695373535, -6.247300148010254, -6.35230016708374, -6.095699787139893, -6.8632001876831055, -7.1880998611450195, -7.434199810028076, -7.551499843597412, -7.667900085449219, -7.661799907684326, -7.7256999015808105, -7.762599945068359, -7.840000152587891, -7.881700038909912, -7.921899795532227, -7.197999954223633, -8.015299797058105, -8.07960033416748, -8.084099769592285, -8.098999977111816, -8.125300407409668, -8.14430046081543, -8.171299934387207, -8.16189956665039, -8.194299697875977, -8.215900421142578, -8.241800308227539, -8.254400253295898, -8.22130012512207, -8.289600372314453, -8.351200103759766, -6.907800197601318, -6.776199817657471, -8.208499908447266, -7.791500091552734, -4.9822998046875, -7.368199825286865, -7.473599910736084, -7.7846999168396, -7.3703999519348145, -6.060500144958496, -6.665599822998047, -5.030399799346924, -5.5218000411987305, -6.409999847412109, -6.242400169372559, -6.653800010681152, -5.624000072479248, -6.448299884796143, -5.203000068664551, -6.144899845123291, -4.476500034332275, -5.4421000480651855, -4.810500144958496, -4.90880012512207, -4.500199794769287, -4.026400089263916, -6.46150016784668, -6.528800010681152, -4.554500102996826, -4.773499965667725, -4.787600040435791, -6.1666998863220215, -6.328400135040283, -4.489500045776367, -4.5696001052856445, -5.1066999435424805, -5.098999977111816, -5.355599880218506, -4.700200080871582, -4.92579984664917, -4.485899925231934, -4.835700035095215, -4.833899974822998, -5.160099983215332, -4.770500183105469, -5.116099834442139, -4.940100193023682, -5.13640022277832, -5.434500217437744, -4.749599933624268, -5.023200035095215, -4.510000228881836, -4.969399929046631, -5.084099769592285, -5.166800022125244, -6.662099838256836, -6.789899826049805, -6.813199996948242, -6.933499813079834, -6.934199810028076, -6.987599849700928, -7.129799842834473, -6.52269983291626, -7.425899982452393, -5.859300136566162, -7.512199878692627, -7.583399772644043, -7.636600017547607, -7.6707000732421875, -7.770400047302246, -7.786200046539307, -7.787499904632568, -6.681300163269043, -7.8225998878479, -7.811500072479248, -7.836699962615967, -7.841300010681152, -7.5630998611450195, -7.968599796295166, -7.975900173187256, -8.016599655151367, -8.056599617004395, -7.224100112915039, -8.085100173950195, -7.524700164794922, -5.208499908447266, -5.781199932098389, -5.249599933624268, -6.878399848937988, -6.999199867248535, -7.253499984741211, -2.8447000980377197, -3.562299966812134, -4.9232001304626465, -5.667900085449219, -6.860099792480469, -7.062099933624268, -7.188399791717529, -3.851099967956543, -5.775599956512451, -4.465799808502197, -3.0901999473571777, -5.426499843597412, -4.161200046539307, -6.56689977645874, -4.521999835968018, -6.354800224304199, -5.811600208282471, -4.724100112915039, -5.515699863433838, -3.9094998836517334, -5.549900054931641, -6.23859977722168, -5.03849983215332, -5.4095001220703125, -6.254899978637695, -5.492400169372559, -5.332399845123291, -6.156700134277344, -5.049099922180176, -3.725399971008301, -4.685699939727783, -4.679500102996826, -4.919600009918213, -5.684000015258789, -5.301199913024902, -4.846499919891357, -4.4496002197265625, -5.21750020980835, -5.338600158691406, -5.389100074768066, -5.0914998054504395, -5.18179988861084, -5.373700141906738, -5.383600234985352, -7.208000183105469, -7.2891998291015625, -7.291600227355957, -7.378300189971924, -7.3780999183654785, -7.466000080108643, -7.485899925231934, -7.50600004196167, -7.514999866485596, -7.527500152587891, -7.52810001373291, -7.430200099945068, -7.3308000564575195, -7.586900234222412, -7.591899871826172, -7.604300022125244, -7.615499973297119, -7.626699924468994, -7.662300109863281, -7.527400016784668, -7.678100109100342, -7.715700149536133, -7.723299980163574, -7.746200084686279, -7.747099876403809, -7.7778000831604, -7.786799907684326, -7.796199798583984, -7.803100109100342, -7.809599876403809, -7.229300022125244, -7.21560001373291, -7.175899982452393, -6.72790002822876, -7.724999904632568, -7.4807000160217285, -7.1697998046875, -7.63670015335083, -6.937900066375732, -5.796500205993652, -7.498899936676025, -6.508600234985352, -7.079599857330322, -6.650300025939941, -4.4369001388549805, -6.454800128936768, -7.330999851226807, -6.629000186920166, -4.5625, -6.293799877166748, -6.42110013961792, -5.726600170135498, -5.942500114440918, -6.988100051879883, -6.367300033569336, -6.42549991607666, -5.6641998291015625, -5.911799907684326, -5.772900104522705, -5.5278000831604, -6.714200019836426, -3.41729998588562, -6.093100070953369, -6.606800079345703, -5.961400032043457, -5.835100173950195, -6.077499866485596, -5.012800216674805, -5.1570000648498535, -6.503799915313721, -5.755099773406982, -5.612199783325195, -5.544099807739258, -4.923799991607666, -4.310400009155273, -5.257599830627441, -5.220099925994873, -5.938000202178955, -5.538899898529053, -5.84630012512207, -5.532599925994873, -5.540900230407715, -5.802800178527832, -5.429999828338623, -5.427999973297119, -5.362199783325195, -5.655200004577637, -5.668600082397461, -5.678699970245361, -5.556300163269043, -5.7058000564575195, -5.743299961090088, -5.783599853515625, -5.781599998474121, -4.723199844360352, -5.480999946594238, -5.960700035095215, -6.142000198364258, -6.176000118255615, -6.178500175476074, -6.2480998039245605, -6.419899940490723, -6.541399955749512, -6.467199802398682, -6.595699787139893, -6.661499977111816, -6.721499919891357, -6.811200141906738, -6.873899936676025, -6.914599895477295, -6.941400051116943, -7.014500141143799, -7.093299865722656, -7.106299877166748, -7.109099864959717, -7.140999794006348, -7.149799823760986, -7.194399833679199, -7.23960018157959, -7.277100086212158, -7.29010009765625, -7.292399883270264, -7.3018999099731445, -7.327300071716309, -4.282700061798096, -6.567500114440918, -7.250899791717529, -7.001999855041504, -6.609300136566162, -4.924099922180176, -5.177599906921387, -3.9916999340057373, -6.601399898529053, -5.782100200653076, -6.13670015335083, -5.76800012588501, -5.4822001457214355, -6.05620002746582, -3.8963000774383545, -4.2164998054504395, -5.780099868774414, -4.890699863433838, -4.247700214385986, -5.697500228881836, -5.504799842834473, -3.730299949645996, -5.621200084686279, -5.054200172424316, -4.954500198364258, -4.497200012207031, -4.843699932098389, -4.5706000328063965, -4.561800003051758, -4.462900161743164, -4.664100170135498, -5.028600215911865, -5.167600154876709, -4.750500202178955, -5.155900001525879, -4.918399810791016, -4.894499778747559, -4.9847002029418945, -5.025000095367432, -5.122799873352051, -5.292900085449219, -5.415999889373779, -5.432000160217285, -5.980299949645996, -6.151100158691406, -6.216800212860107, -6.175099849700928, -6.228499889373779, -6.451900005340576, -6.470600128173828, -6.6092000007629395, -6.614699840545654, -6.615900039672852, -6.61959981918335, -6.654200077056885, -6.672699928283691, -6.705699920654297, -6.708899974822998, -6.70989990234375, -6.734300136566162, -6.793600082397461, -6.7972002029418945, -6.812399864196777, -6.823299884796143, -6.82480001449585, -6.878799915313721, -6.89139986038208, -6.906400203704834, -6.563000202178955, -6.936399936676025, -6.9380998611450195, -6.96560001373291, -6.970799922943115, -4.937099933624268, -6.265699863433838, -6.280300140380859, -5.924499988555908, -6.13640022277832, -4.078800201416016, -4.552000045776367, -6.057700157165527, -6.40910005569458, -4.195899963378906, -6.293799877166748, -3.341900110244751, -4.059500217437744, -2.315200090408325, -5.139599800109863, -4.125, -5.075900077819824, -3.053100109100342, -5.959799766540527, -4.745100021362305, -3.7692999839782715, -6.128399848937988, -5.007999897003174, -5.1528000831604, -3.547499895095825, -5.194499969482422, -5.3628997802734375, -5.658599853515625, -5.317200183868408, -4.770599842071533, -4.8643999099731445, -4.776899814605713, -4.660099983215332, -5.191299915313721, -5.117400169372559, -4.952199935913086, -5.230000019073486, -4.949900150299072, -4.9928998947143555, -5.263400077819824, -5.293300151824951, -3.199700117111206, -3.771199941635132, -4.6321001052856445, -4.7083001136779785, -5.021999835968018, -5.329599857330322, -5.363900184631348, -5.517399787902832, -5.725900173187256, -5.726799964904785, -5.735000133514404, -5.791100025177002, -5.813600063323975, -5.823599815368652, -5.858500003814697, -5.881999969482422, -5.882599830627441, -5.89139986038208, -5.900899887084961, -5.908599853515625, -5.923500061035156, -5.928899765014648, -5.944399833679199, -5.94980001449585, -6.0046000480651855, -6.029099941253662, -6.059700012207031, -6.069300174713135, -6.083499908447266, -6.086999893188477, -2.635200023651123, -3.083400011062622, -3.74780011177063, -2.523099899291992, -4.828499794006348, -5.457900047302246, -5.0808000564575195, -5.575300216674805, -4.403600215911865, -3.731800079345703, -5.4475998878479, -3.7929999828338623, -3.518199920654297, -3.8596999645233154, -4.138400077819824, -3.8010001182556152, -4.547299861907959, -5.236499786376953, -4.956600189208984, -4.966800212860107, -4.315000057220459, -5.153800010681152, -5.317699909210205, -5.318600177764893, -5.2606000900268555, -5.3225998878479, -4.581299781799316, -4.7393999099731445, -4.786200046539307, -4.795000076293945, -4.815400123596191, -4.840000152587891, -4.863999843597412, -4.875500202178955, -4.895599842071533, -5.079699993133545, -5.004799842834473, -5.122099876403809, -5.193699836730957, -4.506899833679199, -5.218100070953369, -5.235599994659424, -5.254199981689453, -5.284299850463867, -5.301700115203857, -5.329899787902832, -5.342899799346924, -5.328999996185303, -5.353400230407715, -5.364200115203857, -5.378799915313721, -5.37939977645874, -5.397200107574463, -5.4145002365112305, -5.425600051879883, -5.450200080871582, -4.945700168609619, -4.975200176239014, -4.6508002281188965, -4.8403000831604, -5.167300224304199, -5.007299900054932, -5.012700080871582, -5.309100151062012, -3.5313000679016113, -3.855799913406372, -3.855799913406372, -4.390500068664551, -4.393899917602539, -4.678800106048584, -4.4303998947143555, -4.796199798583984, -4.877399921417236, -4.910799980163574, -4.9380998611450195, -4.994999885559082, -5.018700122833252, -5.168499946594238, -5.169300079345703, -5.2058000564575195, -5.343800067901611, -5.3495001792907715, -5.359600067138672, -5.456399917602539, -5.465400218963623, -5.5142998695373535, -5.570899963378906, -5.577099800109863, -5.5945000648498535, -5.640399932861328, -5.684299945831299, -5.69920015335083, -5.700200080871582, -5.7170000076293945, -4.792200088500977, -5.14739990234375, -4.694499969482422, -4.991000175476074, -3.016200065612793, -5.164999961853027, -5.205900192260742, -5.065999984741211, -4.227799892425537, -3.8501999378204346, -5.160900115966797, -4.481900215148926, -4.432300090789795, -5.072999954223633, -4.647200107574463, -4.76140022277832, -4.797500133514404, -3.569999933242798, -4.06220006942749, -4.106900215148926, -4.3190999031066895, -4.405200004577637, -4.470399856567383, -4.511099815368652, -4.849899768829346, -4.885799884796143, -4.901500225067139, -4.944900035858154, -4.9730000495910645, -4.999199867248535, -5.007400035858154, -5.051799774169922, -5.128900051116943, -5.160099983215332, -5.2042999267578125, -5.205100059509277, -5.219799995422363, -5.224599838256836, -5.229899883270264, -5.239799976348877, -5.265999794006348, -5.272200107574463, -5.282199859619141, -5.285600185394287, -5.295599937438965, -5.3119001388549805, -5.35260009765625, -4.992599964141846, -4.401400089263916, -4.210599899291992, -5.111999988555908, -3.7095999717712402, -4.022200107574463, -4.8445000648498535, -4.768099784851074, -4.612299919128418, -5.057199954986572, -4.924499988555908, -4.7581000328063965, -2.8691999912261963, -3.6119000911712646, -4.396500110626221]}, \"token.table\": {\"Topic\": [3, 10, 4, 3, 4, 5, 4, 7, 2, 3, 4, 5, 6, 7, 1, 2, 3, 4, 5, 6, 1, 2, 3, 4, 5, 6, 7, 8, 9, 10, 1, 6, 9, 10, 4, 2, 3, 6, 1, 2, 3, 4, 5, 6, 7, 4, 5, 8, 1, 2, 3, 4, 5, 6, 10, 3, 1, 2, 3, 4, 5, 6, 10, 1, 9, 1, 2, 3, 4, 5, 6, 8, 1, 2, 3, 4, 5, 8, 1, 2, 3, 4, 5, 6, 8, 2, 3, 5, 6, 2, 3, 5, 6, 4, 2, 3, 4, 5, 7, 9, 4, 2, 5, 1, 2, 3, 4, 5, 6, 1, 2, 3, 4, 6, 1, 2, 3, 4, 6, 5, 5, 1, 2, 3, 4, 5, 6, 4, 1, 2, 3, 4, 5, 7, 9, 7, 4, 2, 3, 4, 5, 6, 7, 3, 4, 5, 9, 10, 1, 5, 9, 10, 1, 2, 3, 4, 5, 6, 7, 10, 1, 2, 3, 4, 5, 6, 7, 1, 2, 3, 4, 5, 6, 8, 9, 1, 6, 8, 2, 3, 4, 5, 3, 4, 10, 2, 5, 2, 2, 3, 5, 3, 1, 2, 4, 5, 8, 5, 5, 5, 9, 6, 9, 2, 7, 2, 3, 4, 6, 1, 1, 2, 3, 4, 5, 6, 2, 3, 6, 3, 5, 7, 10, 1, 2, 3, 4, 5, 6, 7, 9, 9, 10, 1, 1, 4, 6, 1, 1, 2, 3, 4, 5, 7, 5, 4, 2, 3, 4, 5, 7, 7, 2, 5, 5, 2, 10, 2, 3, 4, 10, 4, 5, 5, 10, 6, 1, 1, 2, 3, 4, 5, 6, 7, 1, 4, 6, 7, 6, 4, 6, 10, 1, 2, 3, 4, 5, 6, 6, 1, 2, 3, 4, 5, 6, 6, 4, 9, 1, 2, 3, 4, 5, 10, 6, 1, 2, 3, 4, 5, 6, 7, 9, 4, 4, 6, 1, 2, 4, 8, 5, 7, 10, 1, 2, 3, 4, 5, 6, 7, 8, 9, 2, 4, 3, 4, 7, 2, 3, 4, 5, 7, 4, 8, 2, 2, 8, 2, 3, 5, 2, 4, 5, 7, 3, 8, 9, 3, 2, 1, 2, 4, 5, 7, 3, 3, 8, 1, 2, 3, 4, 5, 6, 9, 10, 10, 2, 7, 6, 1, 2, 3, 4, 5, 6, 7, 8, 9, 10, 9, 3, 2, 4, 5, 2, 1, 6, 9, 1, 6, 10, 4, 5, 1, 3, 2, 4, 6, 7, 7, 2, 2, 2, 5, 1, 3, 5, 1, 2, 3, 4, 5, 6, 7, 1, 2, 3, 4, 5, 6, 7, 9, 1, 2, 3, 4, 5, 6, 7, 8, 9, 2, 9, 4, 8, 1, 3, 4, 6, 1, 4, 6, 8, 2, 5, 7, 1, 2, 3, 4, 5, 6, 9, 10, 1, 6, 8, 2, 2, 6, 2, 3, 4, 5, 6, 10, 6, 8, 1, 1, 2, 3, 4, 5, 6, 7, 1, 2, 3, 4, 5, 6, 7, 9, 9, 1, 4, 7, 1, 5, 7, 3, 2, 1, 2, 3, 4, 5, 6, 1, 2, 3, 6, 2, 9, 6, 10, 1, 2, 3, 4, 5, 6, 7, 9, 10, 4, 2, 1, 2, 3, 4, 5, 6, 7, 8, 7, 1, 2, 3, 4, 5, 6, 8, 1, 10, 1, 2, 3, 4, 6, 9, 9, 3, 3, 3, 2, 4, 5, 5, 1, 2, 3, 4, 4, 7, 1, 2, 1, 5, 2, 3, 9, 1, 2, 3, 4, 5, 6, 7, 8, 9, 8, 2, 4, 5, 7, 3, 5, 9, 1, 2, 3, 4, 5, 6, 7, 8, 9, 10, 6, 1, 4, 7, 1, 2, 3, 4, 5, 6, 9, 1, 1, 1, 4, 1, 2, 3, 4, 5, 6, 7, 9, 8, 3, 10, 1, 2, 3, 4, 5, 6, 8, 10, 1, 4, 5, 7, 8, 1, 5, 7, 1, 2, 3, 4, 5, 6, 7, 9, 1, 2, 3, 4, 5, 6, 9, 10, 2, 3, 6, 9, 10, 8, 1, 6, 1, 3, 5, 6, 9, 3, 1, 2, 3, 4, 5, 6, 7, 9, 2, 2, 3, 4, 5, 1, 3, 4, 5, 6, 7, 8, 9, 10, 2, 3, 4, 5, 6, 8, 1, 2, 3, 4, 5, 6, 10, 8, 1, 2, 3, 4, 5, 6, 8, 9, 2, 5, 4, 1, 2, 3, 4, 5, 4, 1, 2, 3, 4, 5, 6, 8, 9, 7, 3, 5, 7, 5, 2, 9, 1, 2, 4, 1, 2, 4, 6, 10, 4, 1, 2, 3, 4, 5, 6, 8, 5, 6, 8, 8, 4, 9, 7, 1, 5, 6, 7, 9, 9, 1, 2, 3, 4, 6, 9, 1, 6, 1, 6, 7, 6, 9, 10, 10, 1, 2, 3, 4, 6, 1, 2, 3, 4, 5, 6, 7, 10, 4, 1, 2, 3, 4, 6, 1, 9, 10, 2, 3, 4, 5, 7, 9, 1, 2, 3, 4, 5, 6, 2, 3, 4, 5, 6, 7, 1, 2, 3, 4, 5, 6, 7, 3, 9, 10, 1, 2, 3, 4, 5, 6, 7, 9, 6, 1, 2, 3, 4, 5, 6, 6, 1, 6, 6, 6, 1, 2, 3, 4, 5, 7, 9, 1, 2, 3, 4, 5, 6, 7, 8, 9, 4, 3, 6, 1, 2, 3, 4, 5, 6, 9, 10, 2, 9, 1, 2, 3, 4, 5, 6, 7, 9, 3, 4, 8, 3, 5, 2, 5, 7, 7, 3, 4, 9, 1, 2, 3, 4, 5, 7, 9, 1, 2, 3, 4, 5, 6, 7, 8, 2, 8, 2, 3, 4, 5, 7, 1, 2, 3, 4, 5, 6, 3, 1, 2, 3, 4, 5, 6, 7, 8, 3, 6, 8, 10, 3, 6, 2, 3, 4, 5, 6, 8, 7, 10, 7, 2, 3, 4, 5, 1, 4, 5, 7, 1, 2, 3, 4, 5, 6, 7, 8, 9, 10, 10, 5, 4, 9, 1, 2, 3, 4, 5, 6, 7, 8, 3, 6, 1, 2, 3, 4, 5, 6, 9, 8, 3, 5, 1, 2, 3, 4, 6, 9, 10, 6, 6, 10, 5, 10, 3, 6, 1, 2, 3, 4, 5, 6, 7, 9, 1, 2, 3, 4, 5, 6, 9, 10, 4, 8, 3, 1, 2, 3, 4, 6, 9, 7, 4, 1, 2, 3, 4, 5, 6, 7, 1, 4, 9, 1, 2, 2, 3, 4, 5, 8, 2, 3, 5, 5, 3, 3, 6, 9, 7, 7, 9, 6, 4, 10, 1, 2, 3, 4, 5, 6, 7, 8, 9, 10, 6, 2, 3, 4, 5, 1, 2, 3, 4, 5, 6, 7, 9, 9, 1, 2, 3, 4, 5, 8, 2, 3, 4, 6, 1, 2, 3, 4, 6, 6, 2, 3, 2, 3, 4, 5, 6, 2, 3, 4, 5, 6, 8, 1, 2, 3, 4, 5, 6, 1, 3, 4, 5, 10, 2, 3, 4, 1, 2, 3, 4, 6, 8, 9, 1, 2, 3, 4, 6, 2, 3, 4, 5, 3, 8, 1, 2, 3, 4, 5, 6, 1, 3, 4, 5, 1, 2, 3, 4, 5, 6, 9, 4, 7, 1, 2, 3, 4, 5, 6, 6, 8, 2, 4, 5, 2, 8, 9, 7, 2, 3, 4, 5, 1, 2, 3, 4, 5, 6, 9, 1, 2, 3, 4, 5, 6, 7, 2, 3, 2, 7, 1, 6, 7, 1, 1, 4, 9, 6, 2, 3, 1, 2, 3, 4, 5, 6, 10, 1, 2, 4, 5, 7, 2, 7, 5, 3, 4, 10, 1, 2, 3, 4, 5, 6, 1, 3, 5, 6, 3, 10, 1, 2, 6, 8, 2, 7, 2, 3, 4, 5, 9, 3, 6, 2, 3, 6, 1, 2, 3, 4, 5, 6, 8, 8, 1, 4, 5, 7, 9, 1, 2, 3, 4, 5, 7, 2, 3, 4, 5, 6, 3, 5, 2, 3, 1, 2, 4, 6, 7, 1, 2, 3, 4, 6, 10, 1, 2, 3, 4, 5, 7, 5, 4, 5, 4, 9, 2, 1, 1, 2, 3, 4, 5, 8, 1, 2, 3, 4, 6, 9, 6, 1, 2, 3, 4, 6, 8, 1, 2, 4, 5, 7, 4, 1, 2, 3, 4, 5, 6, 1, 2, 3, 4, 5, 6, 8, 5, 8, 10, 5, 1, 2, 3, 4, 5, 6, 8, 9, 10, 2, 3, 4, 5, 8, 1, 2, 3, 4, 5, 6, 7, 9, 5, 5, 6, 9, 10, 5, 2, 4, 2, 4, 5, 7, 8, 10, 2, 1, 2, 5, 2, 4, 5, 7, 1, 2, 4, 5, 6, 2, 7, 1, 7, 1, 2, 3, 4, 5, 6, 7, 9, 10, 2, 3, 4, 5, 6, 5, 1, 2, 3, 4, 5, 6, 8, 1, 2, 3, 4, 5, 6, 10, 1, 2, 3, 4, 5, 6, 7, 8, 9, 6, 1, 2, 3, 4, 6, 10, 1, 2, 3, 4, 5, 6, 10, 1, 2, 2, 2, 2, 1, 2, 3, 4, 5, 6, 7, 8, 9, 10, 1, 7, 1, 2, 3, 4, 5, 6, 7, 9, 9, 6, 1, 2, 3, 4, 5, 6, 7, 5, 10, 1, 2, 3, 4, 6, 7, 1, 6, 1, 2, 3, 4, 5, 6, 5, 1, 2, 3, 4, 5, 6, 7, 3, 1, 2, 6, 10, 3, 2, 3, 4, 4, 3, 4, 2, 3, 6, 9, 4, 1, 2, 3, 4, 5, 6, 8, 9, 9, 9, 9, 9, 2, 3, 4, 5, 6, 8, 3, 3, 6, 6, 2, 3, 6, 3, 2, 3, 4, 5, 2, 5, 2, 3, 5, 2, 5, 8, 10, 1, 2, 3, 4, 5, 6, 7, 8, 9, 10, 10, 6, 8, 6, 8, 10, 1, 1, 2, 3, 4, 5, 6, 7, 9, 1, 10, 10, 1, 2, 3, 4, 5, 6, 7, 8, 9, 10, 9, 1, 2, 3, 4, 6, 8, 3, 6, 5, 1, 2, 3, 4, 5, 6, 7, 8, 9, 8], \"Freq\": [0.9998030662536621, 0.99758380651474, 0.9955012798309326, 0.009529699571430683, 0.9767941832542419, 0.009529699571430683, 0.9974402785301208, 0.997309148311615, 0.178315669298172, 0.13868996500968933, 0.6368416547775269, 0.03254968672990799, 0.011321629397571087, 0.9937965869903564, 0.006423622369766235, 0.16884951293468475, 0.19179101288318634, 0.3331107199192047, 0.03762407600879669, 0.26336851716041565, 0.6461213827133179, 0.036250486969947815, 0.10004138946533203, 0.014765644446015358, 0.0002488591708242893, 0.20232251286506653, 8.295305451611057e-05, 0.00016590610903222114, 8.295305451611057e-05, 0.99488365650177, 0.9961726665496826, 0.001939966226927936, 0.001939966226927936, 0.9893907308578491, 0.997265636920929, 0.07664932310581207, 0.07664932310581207, 0.843142569065094, 0.3462861478328705, 0.5629099607467651, 0.012088817544281483, 0.0009749046876095235, 0.07643252611160278, 0.0011698856251314282, 0.0001949809375219047, 0.9953908324241638, 0.9982126355171204, 0.9995629191398621, 0.014050528407096863, 0.4208959639072418, 0.3101447522640228, 0.055168986320495605, 0.19360801577568054, 0.006198762450367212, 0.9869038462638855, 1.0001639127731323, 0.7881176471710205, 0.10987476259469986, 0.010812144726514816, 0.007305502891540527, 0.002337760990485549, 0.0809449702501297, 0.0008766603423282504, 0.9997592568397522, 1.0064600706100464, 0.03216502070426941, 0.7538676857948303, 0.16333800554275513, 0.02362118847668171, 0.023118609562516212, 0.0030154709238559008, 1.0046323537826538, 0.005844051484018564, 0.22061294317245483, 0.1986977458000183, 0.5654119849205017, 0.005844051484018564, 0.002922025742009282, 0.0009098990121856332, 0.06889235228300095, 0.765095055103302, 0.005979336332529783, 0.0025997112970799208, 0.15494279563426971, 0.0016898124013096094, 0.13715867698192596, 0.8109673261642456, 0.0013316377298906446, 0.05060223117470741, 0.0023188460618257523, 0.9020311832427979, 0.06724654138088226, 0.027826154604554176, 1.0001674890518188, 0.3752191364765167, 0.01882370188832283, 0.5822798609733582, 0.01882370188832283, 0.0037647404242306948, 0.0012549135135486722, 0.9955201148986816, 0.9805480241775513, 0.022386940196156502, 0.02668122760951519, 0.6697497963905334, 0.21820825338363647, 0.026001449674367905, 0.0494537390768528, 0.010026703588664532, 0.07174581289291382, 0.8085947036743164, 0.04847690090537071, 0.007109945174306631, 0.06398950517177582, 0.9755231738090515, 0.000726917409338057, 0.01671910099685192, 0.0021807521115988493, 0.005088421981781721, 0.9985882639884949, 1.0020983219146729, 0.0018374675419181585, 0.4621230959892273, 0.37153592705726624, 0.00881984457373619, 0.1554497629404068, 0.0003674935142043978, 0.9935883283615112, 0.0008404456311836839, 0.46924880146980286, 0.3868851363658905, 0.062473125755786896, 0.07620040327310562, 0.003922079689800739, 0.00028014855342917144, 0.991104006767273, 0.9920476675033569, 0.3036109209060669, 0.01779404655098915, 0.6216795444488525, 0.015569791197776794, 0.03002745471894741, 0.012233407236635685, 0.09773693978786469, 0.006108558736741543, 0.0030542793683707714, 0.2076909840106964, 0.6872128248214722, 0.010021709837019444, 0.20043419301509857, 0.010021709837019444, 0.7816933989524841, 0.5650079846382141, 0.22207953035831451, 0.016087032854557037, 0.0863206684589386, 0.0035312999971210957, 0.0003923666663467884, 0.009416799992322922, 0.09730693697929382, 0.05075453966856003, 0.49385878443717957, 0.03307599201798439, 0.3575628697872162, 0.05018426477909088, 0.002281102817505598, 0.011975790373980999, 0.9742423295974731, 0.003967450000345707, 0.001400276436470449, 0.004784278105944395, 0.0007001382182352245, 0.003850760171189904, 0.00035006910911761224, 0.010735453106462955, 0.9930981397628784, 0.0068176076747477055, 0.9994943737983704, 0.03676583245396614, 0.8287631273269653, 0.03829773887991905, 0.09497839212417603, 0.9928797483444214, 0.006967577151954174, 1.0055468082427979, 0.06272543966770172, 0.9360566139221191, 0.9958732724189758, 0.8347962498664856, 0.11878523975610733, 0.04619425907731056, 1.0005443096160889, 0.015905974432826042, 0.8887463212013245, 0.07157688587903976, 0.023858962580561638, 1.0031638145446777, 0.9995390772819519, 1.003678560256958, 0.9991530776023865, 1.0049182176589966, 1.0029927492141724, 1.0042428970336914, 0.06202999874949455, 0.936089038848877, 0.0012385316658765078, 0.47807320952415466, 0.03901374712586403, 0.4817888140678406, 0.9974404573440552, 0.003539938712492585, 0.006166344974189997, 0.8972031474113464, 0.0027405975852161646, 0.08861266076564789, 0.0017128735780715942, 0.0006591389537788928, 0.9985955357551575, 0.0013182779075577855, 0.9989252686500549, 0.0033578297588974237, 0.9966039061546326, 0.9994125962257385, 0.8255283236503601, 0.030761374160647392, 0.022697271779179573, 0.10438027232885361, 0.004439786076545715, 0.005980119574815035, 0.004847521428018808, 0.0013138141948729753, 0.9944961667060852, 1.0051506757736206, 1.0004851818084717, 0.9992486834526062, 0.0002193740219809115, 0.000438748043961823, 0.9984211921691895, 0.061707593500614166, 0.25143542885780334, 0.04697145149111748, 0.5480002760887146, 0.06815465539693832, 0.02302522212266922, 1.004969596862793, 1.0036169290542603, 0.012117855250835419, 0.7903534173965454, 0.15887854993343353, 0.03769999369978905, 0.9971449375152588, 0.9944150447845459, 0.007887346670031548, 0.9938056468963623, 0.9987689852714539, 0.017549967393279076, 0.965248167514801, 0.8326298594474792, 0.08772625774145126, 0.07541380077600479, 0.004617171362042427, 1.0039952993392944, 0.9986361265182495, 0.9998798370361328, 1.0004987716674805, 1.0074461698532104, 0.997946560382843, 0.42129403352737427, 0.1329559087753296, 0.0016018784372135997, 0.27071747183799744, 0.008009391836822033, 0.0032037568744271994, 0.1633916050195694, 0.9976674914360046, 0.0014490450266748667, 0.00036226125666871667, 0.0007245225133374333, 0.9927200078964233, 0.9803370833396912, 0.007426796015352011, 0.014853592030704021, 0.5961666703224182, 0.17377373576164246, 0.01865234412252903, 0.16031572222709656, 0.005430429242551327, 0.04556838423013687, 1.0033060312271118, 0.23458465933799744, 0.5278154611587524, 0.003141758730635047, 0.18082568049430847, 0.05201356112957001, 0.0017454215558245778, 0.9946237206459045, 0.9847180843353271, 0.01036545354872942, 0.026051122695207596, 0.13972875475883484, 0.026051122695207596, 0.6986437439918518, 0.1018362045288086, 0.009473135694861412, 0.999075174331665, 0.16101935505867004, 0.4546343982219696, 0.18338315188884735, 0.04847894608974457, 0.14918819069862366, 0.0010099780047312379, 0.001731390948407352, 0.0005771302967332304, 1.003975510597229, 0.9987310171127319, 0.9950360059738159, 0.10783131420612335, 0.03774096071720123, 0.8518673777580261, 1.0003570318222046, 0.004084087908267975, 0.9965174794197083, 0.9986514449119568, 0.05736519768834114, 0.041547589004039764, 0.6346024870872498, 0.03311153128743172, 0.19571655988693237, 0.0364859513938427, 0.00021090146037749946, 0.0006327044102363288, 0.00021090146037749946, 0.9993761777877808, 1.001017451286316, 0.04085429757833481, 0.9069653749465942, 0.04902515560388565, 0.12654756009578705, 0.08346753567457199, 0.7512078285217285, 0.0376950167119503, 1.0006542205810547, 0.9956749677658081, 0.010264690965414047, 0.9990954399108887, 0.9988662600517273, 0.9964715838432312, 0.9375664591789246, 0.010630005039274693, 0.051024023443460464, 0.009237376041710377, 0.014779802411794662, 0.5080556869506836, 0.46741124987602234, 0.26114988327026367, 0.0356113500893116, 0.7003565430641174, 1.0003515481948853, 1.0004019737243652, 0.05407435819506645, 0.770824670791626, 0.021205630153417587, 0.027567319571971893, 0.12723378837108612, 0.9952626824378967, 1.0003644227981567, 1.0070854425430298, 0.3546181619167328, 0.3001139461994171, 0.10083283483982086, 0.010560194961726665, 0.033383842557668686, 0.01975778490304947, 0.1802046298980713, 0.0003406514588277787, 0.9914277791976929, 0.9886072874069214, 0.006913337390869856, 0.9961917996406555, 0.603057324886322, 0.1503772735595703, 0.15047404170036316, 0.010354162193834782, 0.05699627473950386, 0.013934573158621788, 0.001257982337847352, 0.0003870714863296598, 0.012386287562549114, 0.0005806072149425745, 1.0102262496948242, 0.9973477125167847, 0.8718178272247314, 0.02845696173608303, 0.09959936887025833, 0.9996702671051025, 0.9940526485443115, 0.002274719998240471, 0.004549439996480942, 0.9815899729728699, 0.013135632500052452, 0.0047765932977199554, 0.1464008241891861, 0.8540048003196716, 1.0008074045181274, 0.9960603713989258, 0.10717536509037018, 0.7687060832977295, 0.11826247721910477, 0.003695702413097024, 1.001342535018921, 0.9993215203285217, 1.0001039505004883, 1.0020637512207031, 1.0000855922698975, 0.9998177886009216, 0.07512044161558151, 0.924123227596283, 0.042010288685560226, 0.39801499247550964, 0.3711630702018738, 0.09715781360864639, 0.06510873138904572, 0.02627447620034218, 0.00028873051633127034, 0.6377719044685364, 0.11231750249862671, 0.15998713672161102, 0.055941082537174225, 0.025249671190977097, 0.00261203502304852, 0.0010883478680625558, 0.005006400402635336, 0.36943119764328003, 0.25981974601745605, 0.18674543499946594, 0.06191017106175423, 0.020975030958652496, 0.0970940962433815, 0.003044762648642063, 0.0006766138831153512, 0.9878657460212708, 1.0025731325149536, 0.9933592081069946, 0.996188759803772, 1.000977635383606, 0.9980699419975281, 0.000441754178609699, 0.0007362569449469447, 0.0007362569449469447, 0.9997215270996094, 0.9930860996246338, 0.99410480260849, 0.9946552515029907, 0.981432318687439, 0.019927559420466423, 1.0036187171936035, 0.3651122450828552, 0.18446233868598938, 0.1293289214372635, 0.28974369168281555, 0.023754291236400604, 0.000586525711696595, 0.0008797885966487229, 0.0061585200019180775, 0.9978652000427246, 0.0015142111806198955, 0.9927993416786194, 1.0011686086654663, 0.15085138380527496, 0.8429930210113525, 0.25792038440704346, 0.343893826007843, 0.02865782007575035, 0.0677366629242897, 0.005210512783378363, 0.29439395666122437, 0.09441129863262177, 0.896907389163971, 0.9996904730796814, 0.0253671333193779, 0.34480512142181396, 0.09395234286785126, 0.47164076566696167, 0.057310931384563446, 0.0037580938078463078, 0.004697617143392563, 0.7500104308128357, 0.006270534358918667, 0.003544215112924576, 0.08424326777458191, 0.025082137435674667, 0.005997902248054743, 0.11886752396821976, 0.005997902248054743, 1.0015074014663696, 0.4841110408306122, 0.28922927379608154, 0.22581537067890167, 0.999254047870636, 0.008367381989955902, 0.9915347695350647, 1.0010212659835815, 0.9959554672241211, 0.41810330748558044, 0.4245831370353699, 0.03209058567881584, 0.04767303168773651, 0.010182589292526245, 0.0675753653049469, 0.9787636399269104, 0.0011907099978998303, 0.0011907099978998303, 0.01786065101623535, 0.23762142658233643, 0.7541897296905518, 1.0001130104064941, 0.995499849319458, 0.0857398733496666, 0.7565749883651733, 0.008335820399224758, 0.06589268147945404, 0.04842714965343475, 0.02222885563969612, 0.007938876748085022, 0.0043663824908435345, 0.00039694385486654937, 0.9924407601356506, 0.9984086751937866, 0.37582963705062866, 0.3762151002883911, 0.11024336516857147, 0.07246766239404678, 0.05916907638311386, 0.004721962381154299, 0.0013491320423781872, 0.00019273314683232456, 1.0029875040054321, 0.0861404687166214, 0.5406144857406616, 0.20244288444519043, 0.07182632386684418, 0.0695258378982544, 0.029650725424289703, 0.9968500137329102, 0.9986199736595154, 0.9950565099716187, 0.859260082244873, 0.007858337834477425, 0.10977115482091904, 0.0002455730573274195, 0.022101573646068573, 0.000491146114654839, 0.9940956234931946, 0.9983729720115662, 0.9983958005905151, 0.9998700618743896, 0.9975224733352661, 0.999977707862854, 0.9920260906219482, 0.9996094703674316, 0.1845562756061554, 0.08305032551288605, 0.0023069535382092, 0.7313042879104614, 0.9938978552818298, 1.0045197010040283, 1.0022974014282227, 0.998769998550415, 0.15795163810253143, 0.8416565656661987, 0.004637733101844788, 0.9692862033843994, 0.027826398611068726, 0.23733775317668915, 0.4741879105567932, 0.14189067482948303, 0.05424514412879944, 0.06509417295455933, 0.021576158702373505, 0.005241665989160538, 0.00012189920380478725, 0.00012189920380478725, 1.0024117231369019, 0.34040749073028564, 0.11604800820350647, 0.11604800820350647, 0.42550936341285706, 0.569675087928772, 0.01340411975979805, 0.41552773118019104, 0.6206510066986084, 0.13258446753025055, 0.11426687985658646, 0.054013412445783615, 0.0038916494231671095, 0.03281063213944435, 0.0006038766587153077, 0.0002683896163944155, 0.005971669219434261, 0.03495774790644646, 0.9956900477409363, 0.9979633688926697, 1.0027693510055542, 1.0014278888702393, 0.9275226593017578, 0.005730200093239546, 0.025914188474416733, 0.003506540320813656, 0.0006842029979452491, 0.016934024170041084, 0.019670836627483368, 1.0004923343658447, 1.0008883476257324, 0.9995822906494141, 1.0042811632156372, 0.2997196614742279, 0.489872008562088, 0.009189518168568611, 0.04877513274550438, 0.020499693229794502, 0.0021206580568104982, 0.018379036337137222, 0.11168798804283142, 0.9964539408683777, 0.9998117685317993, 1.000518560409546, 0.47690585255622864, 0.22973328828811646, 0.010928608477115631, 0.2653093934059143, 0.0006975707365199924, 0.015346555970609188, 0.00023252358369063586, 0.0006975707365199924, 0.46997225284576416, 0.0007654271321371198, 0.5158978700637817, 0.0007654271321371198, 0.012246834114193916, 0.03362436965107918, 0.9280325770378113, 0.036986805498600006, 0.4234151244163513, 0.4647081196308136, 0.02692459337413311, 0.0317140631377697, 0.034173522144556046, 0.009190605953335762, 0.008155045099556446, 0.0016827870858833194, 0.8598098158836365, 0.02986258640885353, 0.0906219631433487, 0.0025855053681880236, 0.00012927527131978422, 0.015254481695592403, 0.00038782579940743744, 0.0012927526840940118, 0.018971338868141174, 0.2719224989414215, 0.7145870327949524, 0.9910436272621155, 1.005673885345459, 1.0029945373535156, 0.9976287484169006, 0.002075150841847062, 0.9982998967170715, 0.008398298174142838, 0.008398298174142838, 0.1595676690340042, 0.8314315676689148, 0.9957442283630371, 0.37261250615119934, 0.18735291063785553, 0.03558658808469772, 0.25643277168273926, 0.028259936720132828, 0.01046664360910654, 0.10571309924125671, 0.003139992943033576, 0.9972240924835205, 0.20119762420654297, 0.7721890807151794, 0.00558882299810648, 0.02142382226884365, 0.06437760591506958, 0.015437486581504345, 0.165213942527771, 0.5984489321708679, 0.0016422857297584414, 0.15306103229522705, 0.0009853714145720005, 0.0006569143151864409, 0.00032845715759322047, 0.0013402977492660284, 0.9002333283424377, 0.0013402977492660284, 0.03172038123011589, 0.06522782146930695, 0.00044676591642200947, 0.0062265414744615555, 0.14721323549747467, 0.5950794816017151, 0.15166075527668, 0.0013342589372768998, 0.09695614874362946, 0.000889505899976939, 0.9989114999771118, 0.5207508206367493, 0.008526913821697235, 0.03288952633738518, 0.03502125293016434, 0.390410840511322, 0.010354110039770603, 0.0003045326448045671, 0.0015226631658151746, 1.0005576610565186, 1.003071904182434, 1.0048142671585083, 0.014303554780781269, 0.8725168108940125, 0.08899989724159241, 0.017482122406363487, 0.007946419529616833, 1.0013744831085205, 0.10340577363967896, 0.147722527384758, 0.17055237293243408, 0.5291152596473694, 0.03223036974668503, 0.0053717284463346004, 0.0026858642231673002, 0.009400525130331516, 0.9938216805458069, 0.04846537113189697, 0.9046869277954102, 0.04523434862494469, 0.99534010887146, 0.99648118019104, 0.992466390132904, 0.985120415687561, 0.009245133958756924, 0.0051361857913434505, 0.1447056382894516, 0.16755390167236328, 0.6524447202682495, 0.03554173558950424, 0.9897084832191467, 0.9974715113639832, 0.29256001114845276, 0.29861053824424744, 0.12741665542125702, 0.23988497257232666, 0.01067737303674221, 0.028828905895352364, 0.002135474467650056, 0.9928570985794067, 0.993209183216095, 0.9946382641792297, 0.9944121241569519, 0.9965595006942749, 1.0015536546707153, 0.9923371076583862, 0.01560173649340868, 0.2808312475681305, 0.00780086824670434, 0.694277286529541, 1.0018844604492188, 0.9965471625328064, 0.9497483372688293, 0.03049132600426674, 0.006324126850813627, 0.0072275735437870026, 0.005646541714668274, 0.00022586167324334383, 0.9911403059959412, 0.007866193540394306, 0.998873770236969, 0.8976795673370361, 0.10560936480760574, 0.3861503601074219, 0.6106563806533813, 0.99376380443573, 0.9930976033210754, 0.9694552421569824, 0.005424864590167999, 0.02042301930487156, 0.0006382193532772362, 0.004148426000028849, 0.5627666115760803, 0.08172349631786346, 0.0019574491307139397, 0.3283620774745941, 0.007829796522855759, 0.0068510714918375015, 0.004893622361123562, 0.005872346926480532, 1.0003951787948608, 0.9647970199584961, 0.00682792766019702, 0.017232388257980347, 0.004010052420198917, 0.00715306680649519, 0.9990049600601196, 0.41059350967407227, 0.5897615551948547, 0.04564477130770683, 0.054097507148981094, 0.8807750344276428, 0.018596017733216286, 0.0016905470984056592, 0.993381917476654, 0.016195302829146385, 0.11900027096271515, 0.3316516578197479, 0.19716021418571472, 0.019011877477169037, 0.31616050004959106, 0.052671320736408234, 0.003098312998190522, 0.7188085913658142, 0.13632577657699585, 0.08055613934993744, 0.00929493922740221, 0.01749441772699356, 0.3479131758213043, 0.5011304020881653, 0.07759620994329453, 0.03583534061908722, 0.019187426194548607, 0.0008465041173622012, 1.000834584236145, 0.9917957186698914, 0.9874669909477234, 0.2853460907936096, 0.201883465051651, 0.0008739543845877051, 0.20144648849964142, 0.07909286767244339, 0.006117680575698614, 0.216740682721138, 0.008302566595375538, 0.9948151111602783, 0.6695943474769592, 0.2683058977127075, 0.007245485670864582, 0.0051275743171572685, 0.0012261590454727411, 0.04848901927471161, 1.0082144737243652, 0.9912570714950562, 0.008538627997040749, 1.0013319253921509, 1.0038658380508423, 0.24009716510772705, 0.2258211225271225, 0.007786935195326805, 0.042828142642974854, 0.2738405466079712, 0.18688644468784332, 0.022062983363866806, 0.043528251349925995, 0.15695282816886902, 0.26912176609039307, 0.11886560916900635, 0.035575974732637405, 0.3729199171066284, 0.0008370817522518337, 0.0008370817522518337, 0.00125562259927392, 0.9989347457885742, 0.49681776762008667, 0.5030474662780762, 0.10737651586532593, 0.690123438835144, 0.11843791604042053, 0.05449762940406799, 0.025899862870573997, 0.00269790249876678, 0.0002697902382351458, 0.0005395804764702916, 1.0011099576950073, 1.000622272491455, 0.8413309454917908, 0.021830251440405846, 0.01801862008869648, 0.0027720953803509474, 0.0003465119225438684, 0.06306517124176025, 0.010395357385277748, 0.04227445647120476, 0.26205846667289734, 0.07229199260473251, 0.6687008738517761, 0.9977188110351562, 1.000976800918579, 0.9740522503852844, 0.022340647876262665, 1.0011427402496338, 0.996211588382721, 0.029707476496696472, 0.029707476496696472, 0.9357855319976807, 0.44081923365592957, 0.15995168685913086, 0.0023802334908396006, 0.12091585993766785, 0.09520933777093887, 0.15709540247917175, 0.02380233444273472, 0.388149619102478, 0.2067881077528, 0.13613362610340118, 0.20093774795532227, 0.025201598182320595, 0.04027755558490753, 0.0018001141725108027, 0.0009000570862554014, 0.16304925084114075, 0.8344284892082214, 0.8734545111656189, 0.025856776162981987, 0.007567836903035641, 0.09270600229501724, 0.9998584985733032, 0.19778302311897278, 0.027506249025464058, 0.10511316359043121, 0.6647343635559082, 0.001637276727706194, 0.0026196427643299103, 1.00054931640625, 0.009801028296351433, 0.8538203239440918, 0.014324579387903214, 0.07690037041902542, 0.04372766241431236, 0.001130887889303267, 0.9912990927696228, 0.9959613680839539, 0.999683141708374, 0.9945446848869324, 0.9988671541213989, 0.9980797171592712, 0.010215089656412601, 0.9908636808395386, 0.26659053564071655, 0.6376557350158691, 0.0025732675567269325, 0.003087921068072319, 0.08903505653142929, 0.0005146535113453865, 0.9960823655128479, 0.9920247793197632, 1.000016689300537, 0.39569342136383057, 0.31063783168792725, 0.0009245173423551023, 0.2921474575996399, 0.0017383317463099957, 0.010429990477859974, 0.026074975728988647, 0.9618768692016602, 0.275739461183548, 0.4604918360710144, 0.09909024834632874, 0.0942283421754837, 0.01967913843691349, 0.0460723340511322, 0.003009750507771969, 0.0006945577915757895, 0.0004630385374184698, 0.0004630385374184698, 1.0049095153808594, 1.0039499998092651, 0.01101877260953188, 0.9916895031929016, 0.08780339360237122, 0.2633223831653595, 0.4874844551086426, 0.06611596047878265, 0.059003882110118866, 0.032136041671037674, 0.004038956016302109, 0.00017560679407324642, 0.08976303786039352, 0.9139509201049805, 0.13899365067481995, 0.4437306821346283, 0.3487953841686249, 0.04720539227128029, 0.015997381880879402, 0.0049827913753688335, 0.00026225217152386904, 0.9985416531562805, 0.28201422095298767, 0.7166783213615417, 0.6666490435600281, 0.06803029775619507, 0.20888176560401917, 0.0002395433111814782, 0.05006455257534981, 0.0009581732447259128, 0.005269953049719334, 1.0023123025894165, 0.2672504186630249, 0.7304844260215759, 0.2944960296154022, 0.7052404880523682, 0.9963468313217163, 0.005083402153104544, 0.12947434186935425, 0.15531902015209198, 0.6167595386505127, 0.03362318128347397, 0.04993293434381485, 0.00401470810174942, 0.008280335925519466, 0.0025091925635933876, 0.05131245404481888, 0.01897173933684826, 0.8931695222854614, 0.012703299522399902, 0.001997025217860937, 0.019470997154712677, 0.002163443947210908, 0.0001664187730057165, 0.3525311052799225, 0.6463069915771484, 1.001222848892212, 0.028099484741687775, 0.06937060505151749, 0.24323616921901703, 0.39690521359443665, 0.2625545561313629, 0.9961440563201904, 1.0007182359695435, 0.9954804182052612, 0.16868546605110168, 0.36817437410354614, 0.020535621792078018, 0.39824438095092773, 0.027869772166013718, 0.001466830144636333, 0.015401716344058514, 0.9802818298339844, 0.00672193244099617, 0.01344386488199234, 0.9970596432685852, 0.9999102354049683, 0.1280934065580368, 0.8210324048995972, 0.021606117486953735, 0.027779292315244675, 0.9971654415130615, 0.37196269631385803, 0.0004744422039948404, 0.6276870369911194, 0.9980974197387695, 0.9985524415969849, 0.152877077460289, 0.12935753166675568, 0.729106068611145, 0.9966152906417847, 0.8613917827606201, 0.13252180814743042, 0.9927869439125061, 0.9972705245018005, 0.9917518496513367, 0.6106447577476501, 0.05270436406135559, 0.10209498554468155, 0.17761686444282532, 0.0007574280025437474, 0.046928975731134415, 0.008741981349885464, 0.00022091649589128792, 9.467850031796843e-05, 0.00018935700063593686, 0.9980537295341492, 0.2205013632774353, 0.6984705328941345, 0.043451741337776184, 0.0382634736597538, 0.08745697140693665, 0.41423875093460083, 0.3734649121761322, 0.07534299790859222, 0.0038410157430917025, 0.004431941080838442, 0.02984173782169819, 0.011523046530783176, 0.9923891425132751, 0.0021567735821008682, 0.008627094328403473, 0.03882192447781563, 0.2695966958999634, 0.6491888761520386, 0.030194830149412155, 0.24455805122852325, 0.03821219503879547, 0.7081993818283081, 0.010189918801188469, 0.9918133020401001, 0.0010038596810773015, 0.0030115789268165827, 0.0005019298405386508, 0.0035135087091475725, 1.005009651184082, 0.003934136591851711, 0.9953365325927734, 0.006760437041521072, 0.9829675555229187, 0.008112524636089802, 0.0006760436808690429, 0.0013520873617380857, 0.05720922723412514, 0.859926164150238, 0.055421438068151474, 0.017877882346510887, 0.008938941173255444, 1.004022240638733, 0.8029118180274963, 0.0021579782478511333, 0.014242657460272312, 0.17954379320144653, 0.0011509218020364642, 0.00014386522525455803, 0.9995276927947998, 1.0014351606369019, 0.024288175627589226, 0.9796230792999268, 1.0000427961349487, 0.05091264843940735, 0.405264675617218, 0.543747067451477, 0.15065708756446838, 0.016532281413674355, 0.32451269030570984, 0.4773029685020447, 0.027464918792247772, 0.0026664971373975277, 0.0002666497020982206, 0.005735714454203844, 0.011471428908407688, 0.022942857816815376, 0.9521286487579346, 0.9999743700027466, 0.9275265336036682, 0.014923075214028358, 0.005739644635468721, 0.051656801253557205, 1.000028371810913, 0.9890846014022827, 0.3769870400428772, 0.3618336319923401, 0.09239878505468369, 0.06775911152362823, 0.08081813901662827, 0.020204534754157066, 0.10760925710201263, 0.0010654381476342678, 0.009588943794369698, 0.882182776927948, 0.9278927445411682, 0.0039653535932302475, 0.03288910910487175, 0.03358887881040573, 0.0006997683085501194, 0.0006997683085501194, 0.0002332560979994014, 0.9968252778053284, 0.9973451495170593, 0.4337007701396942, 0.023092221468687057, 0.03103017248213291, 0.49215295910835266, 0.007937951013445854, 0.012267742305994034, 0.1831071525812149, 0.8239821791648865, 0.04617191106081009, 0.9498221278190613, 0.006595987360924482, 1.0002864599227905, 1.0009129047393799, 0.9958745241165161, 0.9950129985809326, 0.8355432748794556, 0.06185044348239899, 0.04498213902115822, 0.05847678333520889, 0.6994927525520325, 0.2005060613155365, 0.05696194991469383, 0.002278478117659688, 0.00042721463250927627, 0.03802210092544556, 0.0019936682656407356, 0.2097436487674713, 0.050419144332408905, 0.3489004969596863, 0.33343860507011414, 0.05445267632603645, 0.002689021173864603, 0.0006722552934661508, 0.0011689318343997002, 0.9982677698135376, 0.9967617392539978, 1.000497579574585, 0.9976847767829895, 0.2796150743961334, 0.721406877040863, 1.0006463527679443, 0.9956629872322083, 0.0038666524924337864, 0.9952981472015381, 0.9981710910797119, 0.033276598900556564, 0.9650213718414307, 0.14197495579719543, 0.16661523282527924, 0.127894788980484, 0.5186192393302917, 0.04106713458895683, 0.0011733467690646648, 0.0023466935381293297, 0.046415772289037704, 0.03927488252520561, 0.9140336513519287, 0.978897750377655, 0.024071255698800087, 0.1533614695072174, 0.8434880971908569, 0.998635470867157, 1.0006505250930786, 0.0963328555226326, 0.9071344137191772, 0.005283204838633537, 0.1515619307756424, 0.5927095413208008, 0.07660646736621857, 0.17071355879306793, 0.002971802605316043, 0.07161806523799896, 0.8788559436798096, 0.0030693456064909697, 0.047063298523426056, 0.1333865523338318, 0.8596022129058838, 0.007537877652794123, 0.9924871921539307, 0.19175010919570923, 0.8053504824638367, 1.0034319162368774, 0.9914188981056213, 0.21827726066112518, 0.7694091796875, 0.011844501830637455, 0.0004834490828216076, 1.0055822134017944, 0.9974319338798523, 0.9983037710189819, 0.005095541011542082, 0.3159235417842865, 0.6777069568634033, 0.37532922625541687, 0.19912965595722198, 0.07562904059886932, 0.009252488613128662, 0.0004022821376565844, 0.3359055817127228, 0.003620539093390107, 0.9990879893302917, 0.569643497467041, 0.002373514464125037, 0.24605433642864227, 0.17326655983924866, 0.007911714725196362, 0.006114146672189236, 0.5883967280387878, 0.13523054122924805, 0.015824850648641586, 0.2542765736579895, 0.9966683387756348, 0.00453562755137682, 0.7218127250671387, 0.028509659692645073, 0.1257016807794571, 0.11922221630811691, 0.9995658993721008, 0.9936081767082214, 0.02867773361504078, 0.9709461331367493, 0.05398228392004967, 0.08573657274246216, 0.8573657274246216, 0.0031754286028444767, 0.0031754286028444767, 0.11512425541877747, 0.5693730115890503, 0.15979933738708496, 0.09153705835342407, 0.062326427549123764, 0.0017182724550366402, 0.06152896210551262, 0.3316454589366913, 0.36655551195144653, 0.012654893100261688, 0.22298793494701385, 0.004800131544470787, 0.9967777729034424, 0.997794508934021, 1.0014845132827759, 0.9961273670196533, 0.9930741190910339, 1.0028852224349976, 0.9969870448112488, 0.02502705156803131, 0.04727331921458244, 0.6228955388069153, 0.05839645490050316, 0.044492535293102264, 0.20299720764160156, 0.941122829914093, 0.03228669613599777, 0.008243411779403687, 0.012365116737782955, 0.0020608529448509216, 0.002747803693637252, 0.9960546493530273, 0.0023167149629443884, 0.10347993671894073, 0.16989243030548096, 0.048651013523340225, 0.6749362945556641, 0.0007722383597865701, 0.3613522946834564, 0.03726951777935028, 0.0016204138519242406, 0.5914510488510132, 0.008102069608867168, 0.9952071905136108, 0.11531267315149307, 0.06010979786515236, 0.5771767497062683, 0.18094275891780853, 0.06563008576631546, 0.9998590350151062, 0.023550935089588165, 0.3332021236419678, 0.1639842838048935, 0.13519981503486633, 0.03837930038571358, 0.30092862248420715, 0.004361284431070089, 1.0013678073883057, 0.9900128841400146, 0.9897849559783936, 0.9975813031196594, 0.34383466839790344, 0.0042258454486727715, 0.6262205839157104, 0.006811068393290043, 0.00019886331574525684, 0.012926115654408932, 0.00029829496634192765, 0.00517044635489583, 0.00034801079891622066, 0.1851840317249298, 0.00712246261537075, 0.808399498462677, 0.9941897392272949, 1.0019471645355225, 0.05191921442747116, 0.32256191968917847, 0.31667038798332214, 0.05412854254245758, 0.21614594757556915, 0.015833519399166107, 0.022093283012509346, 0.0007364427438005805, 0.9971323013305664, 0.9929620623588562, 1.0035810470581055, 0.12811653316020966, 0.8711923956871033, 0.9963714480400085, 1.0017879009246826, 0.9944544434547424, 0.3627661168575287, 0.12766876816749573, 0.5060042142868042, 0.0031138721387833357, 0.9944676160812378, 0.9977298378944397, 0.9950239658355713, 0.06633108854293823, 0.0018425302114337683, 0.9323202967643738, 0.0008051921613514423, 0.0016103843227028847, 0.9968279004096985, 0.9949166774749756, 0.015575471334159374, 0.9251829981803894, 0.027257073670625687, 0.03115094266831875, 0.00038938678335398436, 0.9949085712432861, 0.9951244592666626, 0.9977457523345947, 0.9967638254165649, 0.2598552703857422, 0.44281890988349915, 0.2080972045660019, 0.018104668706655502, 0.004685914609581232, 0.06602879613637924, 0.00021299610671121627, 0.00021299610671121627, 1.0038177967071533, 0.5849876403808594, 0.20584826171398163, 0.005489286966621876, 0.20357683300971985, 9.464287722948939e-05, 0.9906195402145386, 0.022274864837527275, 0.5721123218536377, 0.13306301832199097, 0.07014628499746323, 0.1951981633901596, 0.007229561451822519, 0.9892576932907104, 0.260857492685318, 0.5467323064804077, 0.10632353276014328, 0.03596237301826477, 0.008339100517332554, 0.04143490642309189, 0.0002605968911666423, 0.09213036298751831, 0.6353362798690796, 0.15569700300693512, 0.07050119340419769, 0.016841033473610878, 0.02509644255042076, 0.0036323799286037683, 0.00016510816931258887, 0.0006604326772503555, 0.9949328303337097, 0.9804340600967407, 0.002179549541324377, 0.0038142118137329817, 0.0018162913620471954, 0.011442635208368301, 0.000363258266588673, 0.016287198290228844, 0.3883211314678192, 0.24859409034252167, 0.12001094222068787, 0.004286104813218117, 0.21687690913677216, 0.005143326241523027, 1.0001825094223022, 1.000281572341919, 0.9963627457618713, 1.000397801399231, 0.9993193745613098, 0.3929665684700012, 0.13928531110286713, 0.2439228892326355, 0.024231476709246635, 0.012060916051268578, 0.18643252551555634, 0.00010964469402097166, 0.0008771575521677732, 3.654823012766428e-05, 7.309646025532857e-05, 0.9988386034965515, 0.9992001056671143, 0.36147043108940125, 0.38691070675849915, 0.013734627515077591, 0.09364519268274307, 0.044637538492679596, 0.003589732339605689, 0.09583024680614471, 0.00031215063063427806, 1.0015074014663696, 0.9911985397338867, 0.3771940767765045, 0.29279813170433044, 0.000995235051959753, 0.1847156137228012, 0.043790340423583984, 0.008559021167457104, 0.09215876460075378, 0.18018290400505066, 0.8108230233192444, 0.9355500936508179, 0.009511137381196022, 0.0008646489004604518, 0.04323244467377663, 0.00432324456050992, 0.006917191203683615, 0.9965713024139404, 0.003484515007585287, 0.03876316547393799, 0.6879852414131165, 0.21234413981437683, 0.036325231194496155, 0.02121003530919552, 0.0034131091088056564, 0.9968185424804688, 0.025753851979970932, 0.7957940101623535, 0.060521550476551056, 0.10172770917415619, 0.0012876925757154822, 0.003863077610731125, 0.011589232832193375, 1.000178337097168, 0.9935401678085327, 0.004841813817620277, 0.0009683627285994589, 0.9973434805870056, 0.9949645400047302, 0.02412581630051136, 0.9235362410545349, 0.05307679623365402, 0.9971334934234619, 0.04252468794584274, 0.9525530338287354, 0.045106664299964905, 0.3405553102493286, 0.6145783066749573, 1.0086168050765991, 0.9962253570556641, 0.1162264496088028, 0.3460999131202698, 0.38767439126968384, 0.08982513844966888, 0.019573383033275604, 0.037781182676553726, 0.0003034633118659258, 0.0024277064949274063, 1.000044345855713, 0.9953985214233398, 0.9991704225540161, 0.9953188896179199, 0.0046805450692772865, 0.696755588054657, 0.0006455924012698233, 0.002743767574429512, 0.2948743402957916, 0.00032279620063491166, 0.9993638396263123, 0.4568280577659607, 0.5428192019462585, 0.9991003274917603, 0.0021388093009591103, 0.6116994619369507, 0.38498568534851074, 1.0022854804992676, 0.8977829217910767, 0.08032795041799545, 0.006300230976194143, 0.014175520278513432, 0.9886012077331543, 0.006865286268293858, 0.04356367141008377, 0.6366997957229614, 0.3194669187068939, 0.9966338872909546, 0.002880444750189781, 0.9900702238082886, 0.9988109469413757, 0.6566331386566162, 0.189305379986763, 0.0398268923163414, 0.0728883147239685, 0.025657709687948227, 0.014041532762348652, 0.0008935520309023559, 0.0003829508787021041, 0.00012765028805006295, 0.0003829508787021041, 0.9919268488883972, 0.9397117495536804, 0.054476041346788406, 0.9989600777626038, 0.2309061735868454, 0.7735357284545898, 0.9960895776748657, 0.9855486750602722, 0.0005921582342125475, 0.003158177249133587, 0.00019738607807084918, 0.00019738607807084918, 0.007105899043381214, 0.00019738607807084918, 0.002960791112855077, 0.9987152218818665, 1.0029752254486084, 0.9904613494873047, 0.3483739197254181, 0.31016039848327637, 0.17585648596286774, 0.09794538468122482, 0.051755230873823166, 0.011872167699038982, 0.0024115340784192085, 0.000556507904548198, 0.0009275131160393357, 0.0001855026202974841, 1.0039414167404175, 0.06741940975189209, 0.10296782106161118, 0.43393582105636597, 0.08948394656181335, 0.2966454029083252, 0.011032266542315483, 0.002687827916815877, 0.997184157371521, 1.0013151168823242, 0.5777033567428589, 0.22102896869182587, 0.06272443383932114, 0.054484773427248, 0.041095320135354996, 0.03759346157312393, 0.0009269621223211288, 0.0012359494576230645, 0.0031928694806993008, 1.0052109956741333], \"Term\": [\"able_diagnose\", \"accomodating\", \"acid_reflux\", \"action\", \"action\", \"action\", \"air\", \"alive_today\", \"allow\", \"allow\", \"allow\", \"allow\", \"allow\", \"almost_kill\", \"although\", \"although\", \"although\", \"although\", \"although\", \"although\", \"always\", \"always\", \"always\", \"always\", \"always\", \"always\", \"always\", \"always\", \"always\", \"always_willing_listen\", \"amazing\", \"amazing\", \"amazing\", \"america\", \"among\", \"amount_time\", \"amount_time\", \"amount_time\", \"amp\", \"amp\", \"amp\", \"amp\", \"amp\", \"amp\", \"amp\", \"amy\", \"anderson\", \"angiogram\", \"another\", \"another\", \"another\", \"another\", \"another\", \"another\", \"answer_email\", \"answer_phone\", \"answer_question\", \"answer_question\", \"answer_question\", \"answer_question\", \"answer_question\", \"answer_question\", \"answer_question\", \"answers_question\", \"anyone_look\", \"anything\", \"anything\", \"anything\", \"anything\", \"anything\", \"anything\", \"app\", \"appear\", \"appear\", \"appear\", \"appear\", \"appear\", \"appear\", \"appointment\", \"appointment\", \"appointment\", \"appointment\", \"appointment\", \"appointment\", \"appointment\", \"appt\", \"appt\", \"appt\", \"appt\", \"arrive\", \"arrive\", \"arrive\", \"arrive\", \"arrogance\", \"arrogant\", \"arrogant\", \"arrogant\", \"arrogant\", \"arrogant\", \"arrogant\", \"arrogant_rude\", \"arthritis\", \"arthritis\", \"ask\", \"ask\", \"ask\", \"ask\", \"ask\", \"ask\", \"ask_question\", \"ask_question\", \"ask_question\", \"ask_question\", \"ask_question\", \"attentive\", \"attentive\", \"attentive\", \"attentive\", \"attentive\", \"august\", \"aunt\", \"back\", \"back\", \"back\", \"back\", \"back\", \"back\", \"background\", \"bad\", \"bad\", \"bad\", \"bad\", \"bad\", \"bad\", \"bad\", \"bad_part\", \"balance\", \"become\", \"become\", \"become\", \"become\", \"become\", \"become\", \"bed_side_manner\", \"bed_side_manner\", \"bed_side_manner\", \"bed_side_manner\", \"bed_side_manner\", \"bedside\", \"bedside\", \"bedside\", \"bedside\", \"bedside_manner\", \"bedside_manner\", \"bedside_manner\", \"bedside_manner\", \"bedside_manner\", \"bedside_manner\", \"bedside_manner\", \"bedside_manner\", \"believe\", \"believe\", \"believe\", \"believe\", \"believe\", \"believe\", \"believe\", \"best\", \"best\", \"best\", \"best\", \"best\", \"best\", \"best\", \"best\", \"best_ever\", \"best_ever\", \"best_internist\", \"bill\", \"bill\", \"bill\", \"bill\", \"billing\", \"billing\", \"billing_department\", \"biopsy\", \"biopsy\", \"blood_sugar\", \"blood_test\", \"blood_test\", \"blood_test\", \"blood_test_result\", \"body\", \"body\", \"body\", \"body\", \"boston\", \"brain\", \"breast\", \"breathing\", \"brilliant_diagnostician\", \"bring_book\", \"brooklyn\", \"brother\", \"brother\", \"busy\", \"busy\", \"busy\", \"busy\", \"ca_enough_good\", \"call\", \"call\", \"call\", \"call\", \"call\", \"call\", \"call_back\", \"call_back\", \"call_back\", \"cancel_appointment\", \"cancer\", \"cancer\", \"cardiology\", \"care\", \"care\", \"care\", \"care\", \"care\", \"care\", \"care\", \"care\", \"care_deeply_patient\", \"cared\", \"cares\", \"caring\", \"caring\", \"caring\", \"caring_compassionate\", \"case\", \"case\", \"case\", \"case\", \"case\", \"case\", \"cat_scan\", \"chang\", \"charge\", \"charge\", \"charge\", \"charge\", \"chemo\", \"chemotherapy\", \"chest\", \"chest\", \"chest_pain\", \"christian\", \"christian\", \"cold\", \"cold\", \"cold\", \"cold\", \"cold_uncaring\", \"colon\", \"colonoscopy\", \"combination\", \"comforting\", \"compasionate\", \"compassion\", \"compassion\", \"compassion\", \"compassion\", \"compassion\", \"compassion\", \"compassion\", \"compassionate\", \"compassionate\", \"compassionate\", \"compassionate\", \"complicated\", \"comprehensive\", \"comprehensive\", \"comprehensive\", \"concern\", \"concern\", \"concern\", \"concern\", \"concern\", \"concern\", \"concern_address\", \"condition\", \"condition\", \"condition\", \"condition\", \"condition\", \"condition\", \"conscientious\", \"consistent\", \"consistent\", \"consult\", \"consult\", \"consult\", \"consult\", \"consult\", \"consult\", \"cool\", \"could\", \"could\", \"could\", \"could\", \"could\", \"could\", \"could\", \"could\", \"county\", \"course_treatment\", \"crisis\", \"critical\", \"critical\", \"critical\", \"ct\", \"dad\", \"dad\", \"davis\", \"day\", \"day\", \"day\", \"day\", \"day\", \"day\", \"day\", \"day\", \"day\", \"depression\", \"depth\", \"deserve\", \"deserve\", \"deserve\", \"despite\", \"despite\", \"despite\", \"despite\", \"determination\", \"devote\", \"devote\", \"diabetes\", \"diabetic\", \"dialysis\", \"didnt\", \"didnt\", \"didnt\", \"die\", \"die\", \"die\", \"die\", \"diligent\", \"diligent\", \"diligent\", \"dirty\", \"discount\", \"disease\", \"disease\", \"disease\", \"disease\", \"disease\", \"disorganize\", \"disorganized\", \"disposition\", \"doc\", \"doc\", \"doc\", \"doc\", \"doc\", \"doc\", \"doc\", \"doc\", \"docter\", \"dose\", \"dose\", \"downside\", \"dr\", \"dr\", \"dr\", \"dr\", \"dr\", \"dr\", \"dr\", \"dr\", \"dr\", \"dr\", \"dr_shah\", \"dread\", \"drug\", \"drug\", \"drug\", \"ear\", \"earth\", \"earth\", \"earth\", \"easy_talk\", \"easy_talk\", \"easy_talk\", \"eat\", \"eat\", \"empathetic\", \"employee\", \"encourage\", \"encourage\", \"encourage\", \"encourage\", \"encouraging\", \"endo\", \"endocrinologist\", \"endocrinology\", \"endoscopy\", \"entire_family\", \"er\", \"er\", \"even\", \"even\", \"even\", \"even\", \"even\", \"even\", \"even\", \"ever\", \"ever\", \"ever\", \"ever\", \"ever\", \"ever\", \"ever\", \"ever\", \"every\", \"every\", \"every\", \"every\", \"every\", \"every\", \"every\", \"every\", \"every_step_way\", \"everyday\", \"everywhere\", \"examining_room\", \"excellant\", \"excellent\", \"excellent\", \"excellent\", \"excellent\", \"excellent_bedside_manner\", \"excellent_listener\", \"exceptional_physician\", \"excessive\", \"exercise\", \"exercise\", \"exhibit\", \"experience\", \"experience\", \"experience\", \"experience\", \"experience\", \"experience\", \"experience\", \"experience\", \"explain_everything\", \"explain_everything\", \"explain_everything_detail\", \"explain_situation\", \"explain_thing_well\", \"explain_thing_well\", \"explanation\", \"explanation\", \"explanation\", \"explanation\", \"explanation\", \"explanation\", \"extremely_competent\", \"extremely_competent\", \"extremely_knowledgeable\", \"fact\", \"fact\", \"fact\", \"fact\", \"fact\", \"fact\", \"fact\", \"family\", \"family\", \"family\", \"family\", \"family\", \"family\", \"family\", \"family\", \"family_friend_felt\", \"family_member\", \"family_member\", \"family_member\", \"fantastic\", \"father\", \"father\", \"fax\", \"feedback\", \"feel\", \"feel\", \"feel\", \"feel\", \"feel\", \"feel\", \"feel_comfortable\", \"feel_comfortable\", \"feel_comfortable\", \"feel_comfortable\", \"feel_important\", \"feel_important\", \"feel_rushed\", \"feel_stupid\", \"felt\", \"felt\", \"felt\", \"felt\", \"felt\", \"felt\", \"felt\", \"felt\", \"felt\", \"fever\", \"fibromyalgia\", \"find\", \"find\", \"find\", \"find\", \"find\", \"find\", \"find\", \"find\", \"firm\", \"first\", \"first\", \"first\", \"first\", \"first\", \"first\", \"five_minute\", \"fortunate\", \"frank\", \"friendly\", \"friendly\", \"friendly\", \"friendly\", \"friendly\", \"friendly\", \"friendly_efficient\", \"front_desk\", \"front_desk_staff\", \"front_office\", \"frustrated\", \"gain\", \"gallbladder\", \"gastro\", \"general\", \"general\", \"general\", \"general\", \"general_practitioner\", \"genius\", \"genuinely_care_patient\", \"getting\", \"gi\", \"gi\", \"girl\", \"girl\", \"girl\", \"give\", \"give\", \"give\", \"give\", \"give\", \"give\", \"give\", \"give\", \"give\", \"give_full_attention\", \"god\", \"god\", \"god\", \"god\", \"going\", \"going\", \"going\", \"good\", \"good\", \"good\", \"good\", \"good\", \"good\", \"good\", \"good\", \"good\", \"good\", \"good_amount_time\", \"good_sense_humor\", \"grandfather\", \"gray\", \"great\", \"great\", \"great\", \"great\", \"great\", \"great\", \"great\", \"great_bedside_manner\", \"great_listener\", \"great_personality\", \"guidance\", \"guy\", \"guy\", \"guy\", \"guy\", \"guy\", \"guy\", \"guy\", \"guy\", \"hall\", \"hang\", \"harris\", \"health\", \"health\", \"health\", \"health\", \"health\", \"health\", \"health\", \"health\", \"heart\", \"heart\", \"heart\", \"heart\", \"heart\", \"heart_attack\", \"heart_attack\", \"heart_attack\", \"help\", \"help\", \"help\", \"help\", \"help\", \"help\", \"help\", \"help\", \"helpful\", \"helpful\", \"helpful\", \"helpful\", \"helpful\", \"helpful\", \"helpful\", \"helpful\", \"helpfull\", \"helpfull\", \"helpfull\", \"highly_reccomend\", \"highly_reccommend\", \"highly_recomend\", \"highly_recommend\", \"highly_recommend\", \"highly_recommend_anyone\", \"highly_recommended\", \"highly_recommended\", \"highly_recommended\", \"highly_recommended\", \"hire\", \"hope\", \"hope\", \"hope\", \"hope\", \"hope\", \"hope\", \"hope\", \"hope\", \"hormone\", \"horrible\", \"horrible\", \"horrible\", \"horrible\", \"hospital\", \"hospital\", \"hospital\", \"hospital\", \"hospital\", \"hospital\", \"hospital\", \"hospital\", \"hospital\", \"hour\", \"hour\", \"hour\", \"hour\", \"hour\", \"hour\", \"however\", \"however\", \"however\", \"however\", \"however\", \"however\", \"however\", \"hug\", \"husband\", \"husband\", \"husband\", \"husband\", \"husband\", \"husband\", \"husband\", \"husband\", \"hypothyroidism\", \"ibs\", \"icu\", \"idea\", \"idea\", \"idea\", \"idea\", \"idea\", \"inappropriate\", \"include\", \"include\", \"include\", \"include\", \"include\", \"include\", \"include\", \"include\", \"incompetence\", \"infection\", \"infection\", \"infection\", \"instruct\", \"insulin\", \"insurance_blue_cross_blue\", \"intelligent\", \"intelligent\", \"intelligent\", \"interest\", \"interest\", \"interest\", \"interest\", \"intervention\", \"investigate\", \"issue\", \"issue\", \"issue\", \"issue\", \"issue\", \"issue\", \"issue\", \"iv\", \"john\", \"johnson\", \"jones\", \"judgemental\", \"kaiser\", \"keep_alive\", \"kidney\", \"kidney\", \"kidney\", \"kidney\", \"kidney_disease\", \"kim\", \"kind\", \"kind\", \"kind\", \"kind\", \"kind\", \"kind\", \"kind_caring\", \"kind_caring\", \"kind_compassionate\", \"kind_gentle\", \"kind_gentle\", \"kind_understanding\", \"kind_understanding\", \"king\", \"knowledable\", \"knowledgable\", \"knowledgable\", \"knowledgable\", \"knowledgable\", \"knowledgable\", \"knowledge\", \"knowledge\", \"knowledge\", \"knowledge\", \"knowledge\", \"knowledge\", \"knowledge\", \"knowledge\", \"knowledge_base\", \"knowledgeable\", \"knowledgeable\", \"knowledgeable\", \"knowledgeable\", \"knowledgeable\", \"knowlegeable\", \"knows\", \"knows\", \"lack\", \"lack\", \"lack\", \"lack\", \"lack\", \"lake\", \"late\", \"late\", \"late\", \"late\", \"late\", \"late\", \"lead\", \"lead\", \"lead\", \"lead\", \"lead\", \"lead\", \"leave\", \"leave\", \"leave\", \"leave\", \"leave\", \"leave\", \"leave\", \"leave_message\", \"lee\", \"leukemia\", \"life\", \"life\", \"life\", \"life\", \"life\", \"life\", \"life\", \"life\", \"life_saver\", \"listen\", \"listen\", \"listen\", \"listen\", \"listen\", \"listen\", \"listen_concern_answer_question\", \"listens\", \"listens\", \"little_late\", \"little_long\", \"live\", \"live\", \"live\", \"live\", \"live\", \"live\", \"live\", \"long\", \"long\", \"long\", \"long\", \"long\", \"long\", \"long\", \"long\", \"long\", \"long_term\", \"long_wait\", \"long_wait\", \"look\", \"look\", \"look\", \"look\", \"look\", \"look\", \"look\", \"look\", \"lose_weight\", \"louis\", \"love\", \"love\", \"love\", \"love\", \"love\", \"love\", \"love\", \"love\", \"lovely\", \"lovely\", \"lovely\", \"lunch\", \"lung\", \"lupus\", \"lupus\", \"lyme\", \"lyme_disease\", \"makes_feel\", \"makes_feel\", \"makes_feel\", \"man\", \"man\", \"man\", \"man\", \"man\", \"man\", \"man\", \"many\", \"many\", \"many\", \"many\", \"many\", \"many\", \"many\", \"many\", \"mayo_clinic\", \"mayo_clinic\", \"med\", \"med\", \"med\", \"med\", \"medicaid\", \"medical\", \"medical\", \"medical\", \"medical\", \"medical\", \"medical\", \"medical_assistant\", \"medication\", \"medication\", \"medication\", \"medication\", \"medication\", \"medication\", \"mediocre\", \"memorial_hospital\", \"message\", \"message_leave\", \"michael\", \"miller\", \"mind_wait\", \"mind_wait\", \"minute\", \"minute\", \"minute\", \"minute\", \"minute\", \"minute\", \"minute_late\", \"modern\", \"mom\", \"month\", \"month\", \"month\", \"month\", \"mother\", \"mother\", \"mother\", \"mother\", \"much\", \"much\", \"much\", \"much\", \"much\", \"much\", \"much\", \"much\", \"much\", \"much\", \"much_appreciate\", \"needle\", \"nephrologist\", \"nephrologist\", \"never\", \"never\", \"never\", \"never\", \"never\", \"never\", \"never\", \"never\", \"never_wait_long\", \"never_wait_long\", \"new\", \"new\", \"new\", \"new\", \"new\", \"new\", \"new\", \"new_york\", \"next_day\", \"next_day\", \"nice\", \"nice\", \"nice\", \"nice\", \"nice\", \"nice\", \"nice\", \"nice_man\", \"nice_person\", \"nice_person\", \"normally\", \"normally\", \"np\", \"np\", \"nurse\", \"nurse\", \"nurse\", \"nurse\", \"nurse\", \"nurse\", \"nurse\", \"nurse\", \"office\", \"office\", \"office\", \"office\", \"office\", \"office\", \"office\", \"office\", \"office_clean\", \"office_clean\", \"office_manager\", \"often\", \"often\", \"often\", \"often\", \"often\", \"old_school\", \"oncologist\", \"oncology\", \"opinion\", \"opinion\", \"opinion\", \"opinion\", \"opinion\", \"opinion\", \"opinion\", \"outstanding\", \"outstanding\", \"outstanding\", \"outstanding_physician\", \"overweight\", \"pa\", \"pa\", \"pa\", \"pa\", \"pacemaker\", \"pain\", \"pain\", \"pain\", \"pain_management\", \"paperwork\", \"park\", \"park\", \"park\", \"pass_away\", \"passionate\", \"passionate\", \"past_appointment\", \"patel\", \"patent\", \"patient\", \"patient\", \"patient\", \"patient\", \"patient\", \"patient\", \"patient\", \"patient\", \"patient\", \"patient\", \"paul\", \"pay\", \"pay\", \"pay\", \"pay\", \"people\", \"people\", \"people\", \"people\", \"people\", \"people\", \"people\", \"people\", \"people_ever_meet\", \"perform\", \"perform\", \"perform\", \"perform\", \"perform\", \"perform\", \"perhaps\", \"perhaps\", \"perhaps\", \"perhaps\", \"personable\", \"personable\", \"personable\", \"personable\", \"personable\", \"personal_attention\", \"pharmacy\", \"pharmacy\", \"phone\", \"phone\", \"phone\", \"phone\", \"phone\", \"phone_call\", \"phone_call\", \"phone_call\", \"phone_call\", \"phone_call\", \"phone_number\", \"physician\", \"physician\", \"physician\", \"physician\", \"physician\", \"physician\", \"pleasure\", \"pm\", \"pneumonia\", \"pneumonia\", \"pompous\", \"poor\", \"poor\", \"poor\", \"practice\", \"practice\", \"practice\", \"practice\", \"practice\", \"practice\", \"practice\", \"practice_medicine\", \"practice_medicine\", \"practice_medicine\", \"practice_medicine\", \"prepare_wait\", \"prescribe\", \"prescribe\", \"prescribe\", \"prescribe\", \"prescription_refill\", \"primary_care_doc\", \"problem\", \"problem\", \"problem\", \"problem\", \"problem\", \"problem\", \"procedure\", \"procedure\", \"procedure\", \"procedure\", \"professional\", \"professional\", \"professional\", \"professional\", \"professional\", \"professional\", \"professional\", \"professionally\", \"proud\", \"provide\", \"provide\", \"provide\", \"provide\", \"provide\", \"provide\", \"pursue\", \"pursue\", \"quality_life\", \"quality_life\", \"quality_life\", \"ra\", \"rapport\", \"rate_visit_outstanding\", \"ray\", \"read\", \"read\", \"read\", \"read\", \"really\", \"really\", \"really\", \"really\", \"really\", \"really\", \"really\", \"receive\", \"receive\", \"receive\", \"receive\", \"receive\", \"receive\", \"receive\", \"receptionist\", \"receptionist\", \"recomend\", \"recomend_anyone\", \"recommend_everyone\", \"recommend_family_friend\", \"recommend_family_friend\", \"recommend_friend_family\", \"recommend_highly\", \"recommend_highly\", \"red\", \"reddy\", \"refill\", \"refill\", \"regard\", \"regard\", \"regard\", \"regard\", \"regard\", \"regard\", \"regard\", \"relationship\", \"relationship\", \"relationship\", \"release\", \"release\", \"remission\", \"remission\", \"remove\", \"reschedule\", \"resident\", \"resident\", \"result\", \"result\", \"result\", \"result\", \"result\", \"result\", \"return_call\", \"return_call\", \"return_call\", \"return_call\", \"return_call_promptly\", \"return_call_promptly\", \"rheumatologist\", \"rheumatologist\", \"root_problem\", \"root_problem\", \"rough\", \"round\", \"rude\", \"rude\", \"rude\", \"rude\", \"rude_abrupt\", \"rude_unprofessional\", \"run_behind\", \"run_late\", \"run_late\", \"run_late\", \"rush\", \"rush\", \"rush\", \"rush\", \"rush\", \"rush\", \"rush\", \"save_husband_life\", \"save_life\", \"save_life\", \"save_life\", \"save_life\", \"save_life\", \"saw\", \"saw\", \"saw\", \"saw\", \"saw\", \"scale\", \"schedule\", \"schedule\", \"schedule\", \"schedule\", \"schedule\", \"schedule_appointment\", \"scope\", \"secretary\", \"secretary\", \"seek\", \"seek\", \"seek\", \"seek\", \"seek\", \"seem\", \"seem\", \"seem\", \"seem\", \"seem\", \"seem\", \"send\", \"send\", \"send\", \"send\", \"send\", \"send\", \"send_home\", \"set_appointment\", \"severe_pain\", \"shah\", \"shield\", \"show_concern\", \"simply_best\", \"small\", \"small\", \"small\", \"small\", \"small\", \"small\", \"smart\", \"smart\", \"smart\", \"smart\", \"smart\", \"smart\", \"solid\", \"sometimes\", \"sometimes\", \"sometimes\", \"sometimes\", \"sometimes\", \"sometimes\", \"son\", \"son\", \"son\", \"son\", \"son\", \"source\", \"speak\", \"speak\", \"speak\", \"speak\", \"speak\", \"speciality\", \"spend\", \"spend\", \"spend\", \"spend\", \"spend\", \"spend\", \"spend\", \"spend_enough\", \"spend_plenty_time\", \"spent_lot_time\", \"spine\", \"staff\", \"staff\", \"staff\", \"staff\", \"staff\", \"staff\", \"staff\", \"staff\", \"staff\", \"standard\", \"standard\", \"standard\", \"stent\", \"steroid\", \"still\", \"still\", \"still\", \"still\", \"still\", \"still\", \"still\", \"still\", \"stomach\", \"stomach_pain\", \"stomach_problem\", \"straight_forward\", \"straight_forward\", \"stress_test\", \"stupid\", \"style\", \"suffer\", \"suffer\", \"suffer\", \"suffer\", \"suggest_anyone\", \"superb\", \"supplement\", \"surgeon\", \"surgeon\", \"surgeon\", \"surgery\", \"surgery\", \"surgery\", \"surgical\", \"symptom\", \"symptom\", \"symptom\", \"symptom\", \"symptom\", \"syndrome\", \"table\", \"takes_time_listen\", \"talented\", \"talk\", \"talk\", \"talk\", \"talk\", \"talk\", \"talk\", \"talk\", \"talk\", \"teh\", \"tell\", \"tell\", \"tell\", \"tell\", \"tell\", \"tell_nothing_wrong\", \"test\", \"test\", \"test\", \"test\", \"test\", \"test\", \"thank_much\", \"thing\", \"thing\", \"thing\", \"thing\", \"thing\", \"thing\", \"thing\", \"think\", \"think\", \"think\", \"think\", \"think\", \"think\", \"think\", \"think\", \"think\", \"thomas\", \"thorough\", \"thorough\", \"thorough\", \"thorough\", \"thorough\", \"thorough\", \"though\", \"though\", \"though\", \"though\", \"though\", \"though\", \"though\", \"thoughtful\", \"thyroid\", \"thyroid_cancer\", \"thyroid_issue\", \"thyroid_problem\", \"time\", \"time\", \"time\", \"time\", \"time\", \"time\", \"time\", \"time\", \"time\", \"time\", \"took_time\", \"transplant\", \"treat\", \"treat\", \"treat\", \"treat\", \"treat\", \"treat\", \"treat\", \"treat\", \"treat_absolutely_recommend\", \"treat_whole_person\", \"treatment\", \"treatment\", \"treatment\", \"treatment\", \"treatment\", \"treatment\", \"treatment\", \"truely\", \"truely\", \"truly\", \"truly\", \"truly\", \"truly\", \"truly\", \"truly\", \"truly_care\", \"truly_care\", \"try\", \"try\", \"try\", \"try\", \"try\", \"try\", \"tumor\", \"type\", \"type\", \"type\", \"type\", \"type\", \"type\", \"type\", \"unacceptable\", \"understanding\", \"understanding\", \"understanding\", \"undivided_attention\", \"unorganized\", \"unprofessional\", \"unprofessional\", \"unprofessional\", \"upbeat\", \"us\", \"us\", \"usually\", \"usually\", \"usually\", \"versus\", \"view\", \"visit\", \"visit\", \"visit\", \"visit\", \"visit\", \"visit\", \"visit\", \"visit\", \"visit_amazing_success_overall\", \"visit_big_rate\", \"visit_felt\", \"visit_outstanding\", \"wait\", \"wait\", \"wait\", \"wait\", \"wait\", \"wait\", \"wait_hour\", \"wait_long\", \"wait_long\", \"wait_worth\", \"waiting_room\", \"waiting_room\", \"waiting_room\", \"waiting_time\", \"waste_time\", \"waste_time\", \"waste_time\", \"waste_time\", \"waste_time_money\", \"waste_time_money\", \"week\", \"week\", \"week\", \"weight\", \"weight\", \"weiss\", \"welcome\", \"well\", \"well\", \"well\", \"well\", \"well\", \"well\", \"well\", \"well\", \"well\", \"well\", \"well_educate\", \"well_worth\", \"well_worth\", \"well_worth_wait\", \"wellness\", \"wellness\", \"willing_answer_question\", \"wonderful\", \"wonderful\", \"wonderful\", \"wonderful\", \"wonderful\", \"wonderful\", \"wonderful\", \"wonderful\", \"wonderful_bedside_manner\", \"wonderful_human\", \"wonderfully\", \"work\", \"work\", \"work\", \"work\", \"work\", \"work\", \"work\", \"work\", \"work\", \"work\", \"works\", \"worth\", \"worth\", \"worth\", \"worth\", \"worth\", \"worth\", \"worth_wait\", \"worth_wait\", \"xray\", \"year\", \"year\", \"year\", \"year\", \"year\", \"year\", \"year\", \"year\", \"year\", \"yearly_physical\"]}, \"R\": 30, \"lambda.step\": 0.01, \"plot.opts\": {\"xlab\": \"PC1\", \"ylab\": \"PC2\"}, \"topic.order\": [6, 10, 7, 8, 5, 4, 9, 3, 2, 1]};\n",
       "\n",
       "function LDAvis_load_lib(url, callback){\n",
       "  var s = document.createElement('script');\n",
       "  s.src = url;\n",
       "  s.async = true;\n",
       "  s.onreadystatechange = s.onload = callback;\n",
       "  s.onerror = function(){console.warn(\"failed to load library \" + url);};\n",
       "  document.getElementsByTagName(\"head\")[0].appendChild(s);\n",
       "}\n",
       "\n",
       "if(typeof(LDAvis) !== \"undefined\"){\n",
       "   // already loaded: just create the visualization\n",
       "   !function(LDAvis){\n",
       "       new LDAvis(\"#\" + \"ldavis_el275945536208600470441868\", ldavis_el275945536208600470441868_data);\n",
       "   }(LDAvis);\n",
       "}else if(typeof define === \"function\" && define.amd){\n",
       "   // require.js is available: use it to load d3/LDAvis\n",
       "   require.config({paths: {d3: \"https://cdnjs.cloudflare.com/ajax/libs/d3/3.5.5/d3.min\"}});\n",
       "   require([\"d3\"], function(d3){\n",
       "      window.d3 = d3;\n",
       "      LDAvis_load_lib(\"https://cdn.rawgit.com/bmabey/pyLDAvis/files/ldavis.v1.0.0.js\", function(){\n",
       "        new LDAvis(\"#\" + \"ldavis_el275945536208600470441868\", ldavis_el275945536208600470441868_data);\n",
       "      });\n",
       "    });\n",
       "}else{\n",
       "    // require.js not available: dynamically load d3 & LDAvis\n",
       "    LDAvis_load_lib(\"https://cdnjs.cloudflare.com/ajax/libs/d3/3.5.5/d3.min.js\", function(){\n",
       "         LDAvis_load_lib(\"https://cdn.rawgit.com/bmabey/pyLDAvis/files/ldavis.v1.0.0.js\", function(){\n",
       "                 new LDAvis(\"#\" + \"ldavis_el275945536208600470441868\", ldavis_el275945536208600470441868_data);\n",
       "            })\n",
       "         });\n",
       "}\n",
       "</script>"
      ],
      "text/plain": [
       "PreparedData(topic_coordinates=              x         y  topics  cluster       Freq\n",
       "topic                                                \n",
       "5     -0.109332 -0.035453       1        1  30.458778\n",
       "9     -0.198615  0.039784       2        1  24.387812\n",
       "6     -0.188025  0.085399       3        1  19.489544\n",
       "7     -0.146259  0.000097       4        1  12.075790\n",
       "4     -0.142125 -0.000556       5        1   6.312495\n",
       "3     -0.122130  0.095136       6        1   3.635943\n",
       "8      0.091178 -0.288772       7        1   1.456787\n",
       "2      0.313109  0.286646       8        1   0.776349\n",
       "1      0.185508 -0.197755       9        1   0.760399\n",
       "0      0.316692  0.015473      10        1   0.646112, topic_info=      Category          Freq                  Term         Total  loglift  \\\n",
       "218    Default  27361.000000                  time  27361.000000  30.0000   \n",
       "93     Default  14903.000000                  good  14903.000000  29.0000   \n",
       "94     Default  11692.000000                 great  11692.000000  28.0000   \n",
       "252    Default  12055.000000                always  12055.000000  27.0000   \n",
       "148    Default  18026.000000                office  18026.000000  26.0000   \n",
       "150    Default  31686.000000               patient  31686.000000  25.0000   \n",
       "208    Default  20114.000000                 staff  20114.000000  24.0000   \n",
       "346    Default   6195.000000                  wait   6195.000000  23.0000   \n",
       "257    Default   8569.000000                  best   8569.000000  22.0000   \n",
       "221    Default   6407.000000                 treat   6407.000000  21.0000   \n",
       "12     Default   7693.000000           appointment   7693.000000  20.0000   \n",
       "42     Default  22073.000000                  care  22073.000000  19.0000   \n",
       "214    Default  10566.000000                  tell  10566.000000  18.0000   \n",
       "270    Default   2935.000000                   doc   2935.000000  17.0000   \n",
       "40     Default   8757.000000                  call   8757.000000  16.0000   \n",
       "224    Default   5023.000000             treatment   5023.000000  15.0000   \n",
       "29     Default   2548.000000        bedside_manner   2548.000000  14.0000   \n",
       "535    Default   3667.000000                family   3667.000000  13.0000   \n",
       "70     Default  10334.000000                    dr  10334.000000  12.0000   \n",
       "404    Default   9226.000000         knowledgeable   9226.000000  11.0000   \n",
       "276    Default   6791.000000             excellent   6791.000000  10.0000   \n",
       "290    Default   3044.000000              hospital   3044.000000   9.0000   \n",
       "1113   Default   1725.000000                mother   1725.000000   8.0000   \n",
       "406    Default   2885.000000                  love   2885.000000   7.0000   \n",
       "602    Default   1489.000000                cancer   1489.000000   6.0000   \n",
       "296    Default   8971.000000                listen   8971.000000   5.0000   \n",
       "126    Default   2288.000000                  life   2288.000000   4.0000   \n",
       "501    Default   5066.000000             wonderful   5066.000000   3.0000   \n",
       "466    Default   5505.000000              thorough   5505.000000   2.0000   \n",
       "44     Default   4558.000000                caring   4558.000000   1.0000   \n",
       "...        ...           ...                   ...           ...      ...   \n",
       "1155   Topic10     54.368931                docter     54.466904   5.0402   \n",
       "8323   Topic10     52.700455                   teh     52.798428   5.0401   \n",
       "8759   Topic10     50.421955          intervention     50.519928   5.0400   \n",
       "1325   Topic10     50.383549           wonderfully     50.481525   5.0400   \n",
       "5272   Topic10     49.645813                 cared     49.743786   5.0400   \n",
       "3832   Topic10     49.407730        spent_lot_time     49.505703   5.0400   \n",
       "11088  Topic10     49.145462                 frank     49.243435   5.0400   \n",
       "7931   Topic10     48.662636       much_appreciate     48.760609   5.0399   \n",
       "9370   Topic10     47.406010               america     47.503983   5.0399   \n",
       "2464   Topic10     47.114475           feel_stupid     47.212463   5.0399   \n",
       "9473   Topic10     46.642754    billing_department     46.740738   5.0399   \n",
       "3168   Topic10     46.485863              leukemia     46.583836   5.0398   \n",
       "5884   Topic10     46.024551   undivided_attention     46.122524   5.0398   \n",
       "4097   Topic10     45.276279                patent     45.374252   5.0398   \n",
       "5568   Topic10     43.472633          answer_email     43.570606   5.0397   \n",
       "7594   Topic10     62.311897          well_educate     62.504608   5.0389   \n",
       "3511   Topic10    112.542885              resident    124.568092   4.9404   \n",
       "1306   Topic10    136.199402      straight_forward    156.107880   4.9055   \n",
       "2391   Topic10     55.297081             christian     56.980164   5.0120   \n",
       "28     Topic10    224.792053       bed_side_manner    327.409485   4.6659   \n",
       "1867   Topic10    164.435257           nice_person    224.508545   4.7306   \n",
       "7508   Topic10     72.254120                truely     88.798660   4.8358   \n",
       "1170   Topic10     77.993599               bedside     99.783371   4.7956   \n",
       "4696   Topic10     91.145981              normally    129.033997   4.6943   \n",
       "7987   Topic10     58.409763  return_call_promptly     67.473068   4.8977   \n",
       "9792   Topic10     66.701820              wellness     86.615265   4.7807   \n",
       "4104   Topic10     78.778549                 knows    133.952438   4.5111   \n",
       "93     Topic10    520.900513                  good  14903.706055   1.6881   \n",
       "29     Topic10    247.848114        bedside_manner   2548.636475   2.7115   \n",
       "2839   Topic10    113.095337           explanation    383.839386   3.8200   \n",
       "\n",
       "       logprob  \n",
       "218    30.0000  \n",
       "93     29.0000  \n",
       "94     28.0000  \n",
       "252    27.0000  \n",
       "148    26.0000  \n",
       "150    25.0000  \n",
       "208    24.0000  \n",
       "346    23.0000  \n",
       "257    22.0000  \n",
       "221    21.0000  \n",
       "12     20.0000  \n",
       "42     19.0000  \n",
       "214    18.0000  \n",
       "270    17.0000  \n",
       "40     16.0000  \n",
       "224    15.0000  \n",
       "29     14.0000  \n",
       "535    13.0000  \n",
       "70     12.0000  \n",
       "404    11.0000  \n",
       "276    10.0000  \n",
       "290     9.0000  \n",
       "1113    8.0000  \n",
       "406     7.0000  \n",
       "602     6.0000  \n",
       "296     5.0000  \n",
       "126     4.0000  \n",
       "501     3.0000  \n",
       "466     2.0000  \n",
       "44      1.0000  \n",
       "...        ...  \n",
       "1155   -5.1289  \n",
       "8323   -5.1601  \n",
       "8759   -5.2043  \n",
       "1325   -5.2051  \n",
       "5272   -5.2198  \n",
       "3832   -5.2246  \n",
       "11088  -5.2299  \n",
       "7931   -5.2398  \n",
       "9370   -5.2660  \n",
       "2464   -5.2722  \n",
       "9473   -5.2822  \n",
       "3168   -5.2856  \n",
       "5884   -5.2956  \n",
       "4097   -5.3119  \n",
       "5568   -5.3526  \n",
       "7594   -4.9926  \n",
       "3511   -4.4014  \n",
       "1306   -4.2106  \n",
       "2391   -5.1120  \n",
       "28     -3.7096  \n",
       "1867   -4.0222  \n",
       "7508   -4.8445  \n",
       "1170   -4.7681  \n",
       "4696   -4.6123  \n",
       "7987   -5.0572  \n",
       "9792   -4.9245  \n",
       "4104   -4.7581  \n",
       "93     -2.8692  \n",
       "29     -3.6119  \n",
       "2839   -4.3965  \n",
       "\n",
       "[699 rows x 6 columns], token_table=       Topic      Freq                   Term\n",
       "term                                         \n",
       "8945       3  0.999803          able_diagnose\n",
       "6719      10  0.997584           accomodating\n",
       "8512       4  0.995501            acid_reflux\n",
       "1428       3  0.009530                 action\n",
       "1428       4  0.976794                 action\n",
       "1428       5  0.009530                 action\n",
       "10858      4  0.997440                    air\n",
       "7180       7  0.997309            alive_today\n",
       "4          2  0.178316                  allow\n",
       "4          3  0.138690                  allow\n",
       "4          4  0.636842                  allow\n",
       "4          5  0.032550                  allow\n",
       "4          6  0.011322                  allow\n",
       "6311       7  0.993797            almost_kill\n",
       "5          1  0.006424               although\n",
       "5          2  0.168850               although\n",
       "5          3  0.191791               although\n",
       "5          4  0.333111               although\n",
       "5          5  0.037624               although\n",
       "5          6  0.263369               although\n",
       "252        1  0.646121                 always\n",
       "252        2  0.036250                 always\n",
       "252        3  0.100041                 always\n",
       "252        4  0.014766                 always\n",
       "252        5  0.000249                 always\n",
       "252        6  0.202323                 always\n",
       "252        7  0.000083                 always\n",
       "252        8  0.000166                 always\n",
       "252        9  0.000083                 always\n",
       "5913      10  0.994884  always_willing_listen\n",
       "...      ...       ...                    ...\n",
       "450        1  0.348374                   work\n",
       "450        2  0.310160                   work\n",
       "450        3  0.175856                   work\n",
       "450        4  0.097945                   work\n",
       "450        5  0.051755                   work\n",
       "450        6  0.011872                   work\n",
       "450        7  0.002412                   work\n",
       "450        8  0.000557                   work\n",
       "450        9  0.000928                   work\n",
       "450       10  0.000186                   work\n",
       "8134       9  1.003941                  works\n",
       "452        1  0.067419                  worth\n",
       "452        2  0.102968                  worth\n",
       "452        3  0.433936                  worth\n",
       "452        4  0.089484                  worth\n",
       "452        6  0.296645                  worth\n",
       "452        8  0.011032                  worth\n",
       "2965       3  0.002688             worth_wait\n",
       "2965       6  0.997184             worth_wait\n",
       "3039       5  1.001315                   xray\n",
       "350        1  0.577703                   year\n",
       "350        2  0.221029                   year\n",
       "350        3  0.062724                   year\n",
       "350        4  0.054485                   year\n",
       "350        5  0.041095                   year\n",
       "350        6  0.037593                   year\n",
       "350        7  0.000927                   year\n",
       "350        8  0.001236                   year\n",
       "350        9  0.003193                   year\n",
       "9264       8  1.005211        yearly_physical\n",
       "\n",
       "[1637 rows x 3 columns], R=30, lambda_step=0.01, plot_opts={'xlab': 'PC1', 'ylab': 'PC2'}, topic_order=[6, 10, 7, 8, 5, 4, 9, 3, 2, 1])"
      ]
     },
     "execution_count": 304,
     "metadata": {},
     "output_type": "execute_result"
    }
   ],
   "source": [
    "# Visualize the topics\n",
    "pyLDAvis.enable_notebook()\n",
    "vis = pyLDAvis.gensim.prepare(lda_model, corpus, dictionary_lda)\n",
    "vis"
   ]
  },
  {
   "cell_type": "code",
   "execution_count": null,
   "metadata": {},
   "outputs": [],
   "source": []
  }
 ],
 "metadata": {
  "kernelspec": {
   "display_name": "Python 3",
   "language": "python",
   "name": "python3"
  },
  "language_info": {
   "codemirror_mode": {
    "name": "ipython",
    "version": 3
   },
   "file_extension": ".py",
   "mimetype": "text/x-python",
   "name": "python",
   "nbconvert_exporter": "python",
   "pygments_lexer": "ipython3",
   "version": "3.7.3"
  }
 },
 "nbformat": 4,
 "nbformat_minor": 2
}
